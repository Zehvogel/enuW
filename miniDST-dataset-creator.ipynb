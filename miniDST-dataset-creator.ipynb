{
 "cells": [
  {
   "cell_type": "code",
   "execution_count": 1,
   "metadata": {},
   "outputs": [
    {
     "name": "stdout",
     "output_type": "stream",
     "text": [
      "OBJ: TStyle\tildStyle\tILD Style : 0 at: 0x53994c0\n"
     ]
    }
   ],
   "source": [
    "import json\n",
    "import ROOT\n",
    "from analysis_framework import Dataset, ILDMC2020Dataset"
   ]
  },
  {
   "cell_type": "code",
   "execution_count": 2,
   "metadata": {},
   "outputs": [],
   "source": [
    "ROOT.EnableImplicitMT(12)"
   ]
  },
  {
   "cell_type": "code",
   "execution_count": 3,
   "metadata": {},
   "outputs": [],
   "source": [
    "input_prefix = \"data/locations/miniDSTs\"\n",
    "output_prefix = \"data/datasets/miniDSTs\"\n",
    "input_files = [\n",
    "    \"processed-test.txt\",\n",
    "    \"processed-no-exc-higgs.txt\",\n",
    "    \"processed-no-exc-higgs-reduced.txt\",\n",
    "    \"processed-no-exc-higgs-reduced500.txt\"\n",
    "    ]\n",
    "genmeta = \"data/ILD-genmeta/genmetaByID.json\""
   ]
  },
  {
   "cell_type": "code",
   "execution_count": 4,
   "metadata": {},
   "outputs": [],
   "source": [
    "datasets = []\n",
    "for input_file in input_files:\n",
    "    dataset = ILDMC2020Dataset(f\"{input_prefix}/{input_file}\", genmeta)\n",
    "    output_name = input_file.split(\".\")[0] + \".json\"\n",
    "    output_path = f\"{output_prefix}/{output_name}\"\n",
    "    json_data = dataset.to_json(indent=2)\n",
    "    with open(output_path, \"w\") as output_file:\n",
    "        output_file.write(json_data)"
   ]
  },
  {
   "cell_type": "code",
   "execution_count": 5,
   "metadata": {},
   "outputs": [],
   "source": [
    "# print(dataset.to_json(indent=2))"
   ]
  }
 ],
 "metadata": {
  "kernelspec": {
   "display_name": "Python 3",
   "language": "python",
   "name": "python3"
  },
  "language_info": {
   "codemirror_mode": {
    "name": "ipython",
    "version": 3
   },
   "file_extension": ".py",
   "mimetype": "text/x-python",
   "name": "python",
   "nbconvert_exporter": "python",
   "pygments_lexer": "ipython3",
   "version": "3.11.9"
  }
 },
 "nbformat": 4,
 "nbformat_minor": 2
}

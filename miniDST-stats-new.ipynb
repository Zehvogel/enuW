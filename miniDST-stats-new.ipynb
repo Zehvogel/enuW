{
 "cells": [
  {
   "cell_type": "code",
   "execution_count": 1,
   "metadata": {},
   "outputs": [
    {
     "name": "stdout",
     "output_type": "stream",
     "text": [
      "OBJ: TStyle\tildStyle\tILD Style : 0 at: 0x7645bf0\n"
     ]
    }
   ],
   "source": [
    "import json\n",
    "from collections import defaultdict\n",
    "import ROOT"
   ]
  },
  {
   "cell_type": "code",
   "execution_count": 2,
   "metadata": {},
   "outputs": [],
   "source": [
    "ROOT.EnableImplicitMT(12)"
   ]
  },
  {
   "cell_type": "code",
   "execution_count": 3,
   "metadata": {},
   "outputs": [],
   "source": [
    "def process_path(path: str) -> str:\n",
    "    dir, _, fname = path.rpartition(\"/\")\n",
    "    # the mc-2020 filenames follow a certain fixed naming scheme, example:\n",
    "    # rv02-02.sv02-02.mILD_l5_o1_v02.E250-SetA.I500102.P4f_sze_sl.eL.pR.n024.d_dstm_15180_122_mini-DST.edm4hep.root\n",
    "    # <reco v>.<sim v>.<det model>.<machine setting>.<process id>.<process name>.<e pol>.<p pol>.<... other stuff\n",
    "    parts = fname.split(\".\")\n",
    "    process_name = parts[5].lstrip(\"P\")\n",
    "    e_pol = parts[6]\n",
    "    p_pol = parts[7]\n",
    "    return process_name, e_pol, p_pol\n",
    "\n",
    "\n",
    "def process_id(path: str) -> str:\n",
    "    dir, _, fname = path.rpartition(\"/\")\n",
    "    # the mc-2020 filenames follow a certain fixed naming scheme, example:\n",
    "    # rv02-02.sv02-02.mILD_l5_o1_v02.E250-SetA.I500102.P4f_sze_sl.eL.pR.n024.d_dstm_15180_122_mini-DST.edm4hep.root\n",
    "    # <reco v>.<sim v>.<det model>.<machine setting>.<process id>.<process name>.<e pol>.<p pol>.<... other stuff\n",
    "    parts = fname.split(\".\")\n",
    "    return parts[4].lstrip(\"I\")"
   ]
  },
  {
   "cell_type": "code",
   "execution_count": 4,
   "metadata": {},
   "outputs": [],
   "source": [
    "from collections import namedtuple\n",
    "Stats = namedtuple(\"Stats\", [\"int_lumi\", \"n_events\"])\n",
    "\n",
    "# Petroff 10 color scheme backport\n",
    "kP10 = [\n",
    "ROOT.TColor( 63./255., 144./255., 218./255.),# \"kP10Blue\"),\n",
    "ROOT.TColor(       1., 169./255.,  14./255.),# \"kP10Yellow\"),\n",
    "ROOT.TColor(189./255.,  31./255.,   1./255.),# \"kP10Red\"),\n",
    "ROOT.TColor(131./255.,  45./255., 182./255.),# \"kP10Violet\"),\n",
    "ROOT.TColor(169./255., 107./255.,  89./255.),# \"kP10Brown\"),\n",
    "ROOT.TColor(231./255.,  99./255.,        0.),# \"kP10Orange\"),\n",
    "ROOT.TColor(185./255., 172./255., 112./255.),# \"kP10Green\"),\n",
    "ROOT.TColor(113./255., 117./255., 129./255.),# \"kP10Ash\"),\n",
    "ROOT.TColor(148./255., 164./255., 162./255.),# \"kP10Gray\"),\n",
    "ROOT.TColor(146./255., 218./255., 221./255.),# \"kP10Cyan\")\n",
    "]\n",
    "\n",
    "class Dataset:\n",
    "    \"\"\"Initialise a dataset from a list of file paths in ILD mc-2020 production notation\"\"\"\n",
    "    # we want to have something like {\"process\": {\"pol: [path1, path2]\"}}\n",
    "    _dataset = defaultdict(lambda: defaultdict(list))\n",
    "\n",
    "    # TODO use better typed input\n",
    "    def __init__(self, input_path: str):\n",
    "        with open(input_path) as file:\n",
    "            for line in file:\n",
    "                path = line.strip()\n",
    "                self.add_file(path)\n",
    "\n",
    "\n",
    "    def get_dataset(self):\n",
    "        # convert back to regular dict\n",
    "        return dict(self._dataset)\n",
    "\n",
    "    # you probably do not want to call this yourself\n",
    "    # I will probably put in stuff soon that assumes to only be called once the Dataset is complete\n",
    "    # but no explicit checks...\n",
    "    def add_file(self, path: str):\n",
    "        process_name, e_pol, p_pol = process_path(path)\n",
    "        self._dataset[process_name][e_pol + p_pol].append(path)\n",
    "\n",
    "    def get_files(self, process_name: str, pol: str) -> list[str]:\n",
    "        # use the getter to not have a defaultdict anymore and just let the dict throw\n",
    "        return self.get_dataset()[process_name][pol]\n",
    "\n",
    "    def get_keys(self):\n",
    "        return [(process_name, pol) for process_name in self._dataset.keys() for pol in self._dataset[process_name].keys()]\n",
    "\n",
    "    def get_merged_keys(self):\n",
    "        return [f\"{process_name}_{pol}\" for process_name in self._dataset.keys() for pol in self._dataset[process_name].keys()]\n",
    "\n",
    "class Analysis:\n",
    "    \"\"\"Holds a Dataset, all the data frames and possibly also all the histograms\"\"\"\n",
    "\n",
    "    # _df: dict[str, ROOT.RDataFrame]\n",
    "    _df = {}\n",
    "    _stats: dict[str, Stats] = {}\n",
    "    _counts = {}\n",
    "    _histograms = {}\n",
    "    _weights = {}\n",
    "    _stacks = {}\n",
    "    _canvases = {}\n",
    "    # need a place to \"park\" them somewhere as the THStacks do not take ownership :(\n",
    "    _scaled_histograms = {}\n",
    "    _legends = {}\n",
    "    _xsecs = {}\n",
    "    _k2id = {}\n",
    "\n",
    "    def __init__(self, dataset: Dataset):\n",
    "        self._dataset = dataset\n",
    "        for process, pol in dataset.get_keys():\n",
    "            files = dataset.get_files(process, pol)\n",
    "            df = ROOT.RDataFrame(\"events\", files)\n",
    "            k = f\"{process}_{pol}\"\n",
    "            self._df[k] = df\n",
    "            # need process id to get genmeta like xsec\n",
    "            id = process_id(files[0])\n",
    "            self._k2id[k] = id\n",
    "\n",
    "    def Define(self, *args):\n",
    "        for k, df in self._df.items():\n",
    "            self._df[k] = df.Define(*args)\n",
    "\n",
    "\n",
    "    def populate_cross_sections(self, path: str):\n",
    "        \"\"\"Populates cross sections from ILD genmetaByID.json\"\"\"\n",
    "        with open(path) as file:\n",
    "            meta = json.load(file)\n",
    "            for k, id in self._k2id.items():\n",
    "                process_meta = meta[id]\n",
    "                xsec = float(process_meta[\"cross_section_in_fb\"])\n",
    "                self._xsecs[k] = xsec\n",
    "\n",
    "\n",
    "    def init_parameters(self, params: list[tuple[str, str, str]]):\n",
    "        \"\"\"Inits the podio generic parameters supplied as a list of (name, c++ typename, alternative value)\"\"\"\n",
    "        ROOT.gInterpreter.Declare(\"#include <podio/GenericParameters.h>\")\n",
    "        self.Define(\"Parameters\", \"podio::GenericParameters par; par.loadFrom(GPDoubleKeys, GPDoubleValues); par.loadFrom(GPFloatKeys, GPFloatValues); par.loadFrom(GPIntKeys, GPIntValues); par.loadFrom(GPStringKeys, GPStringValues); return par;\")\n",
    "        for p_name, p_type, p_alt in params:\n",
    "            self.Define(f\"params_{p_name.replace('.', '_')}\", f\"Parameters.get<{p_type}>(\\\"{p_name}\\\").value_or({p_alt})\")\n",
    "\n",
    "\n",
    "    def book_statistics(self):\n",
    "        # loop over all df, maybe also wrap this in the future\n",
    "        for k, df in self._df.items():\n",
    "            count = df.Count()\n",
    "            # FIXME: refactor\n",
    "            # self._stats[k] = Stats(int_lumi=0, n_events=count)\n",
    "            self._counts[k] = count\n",
    "\n",
    "\n",
    "    def print_stats(self):\n",
    "        # for k, stats in self._stats.items():\n",
    "            # n_events = stats.n_events.GetValue()\n",
    "        for k, count in self._counts.items():\n",
    "            xsec = self._xsecs[k]\n",
    "            lumi = count.GetValue() / xsec\n",
    "            print(f\"process: {k} events: {count.GetValue()} int lumi: {lumi}\")\n",
    "\n",
    "\n",
    "    def get_keys(self):\n",
    "        return self._dataset.get_merged_keys()\n",
    "\n",
    "\n",
    "    def book_histogram_1D(self, name: str, column: str, config: tuple):\n",
    "        histograms = {}\n",
    "        for k, df in self._df.items():\n",
    "            histograms[k] = df.Histo1D(config, column)\n",
    "        self._histograms[name] = histograms\n",
    "\n",
    "\n",
    "    def _calculate_lumi_weight(self, k: str, int_lumi: float):\n",
    "        # return int_lumi / (self._stats[k].n_events.GetValue() / self._xsecs[k])\n",
    "        return int_lumi / (self._counts[k].GetValue() / self._xsecs[k])\n",
    "\n",
    "\n",
    "    def _calculate_pol_weight(self, k: str, e_pol: float, p_pol: float):\n",
    "        process_e_pol = -1.0 if \"eL\" in k else 1.0 if \"eR\" in k else 0.0\n",
    "        process_p_pol = -1.0 if \"pL\" in k else 1.0 if \"pR\" in k else 0.0\n",
    "\n",
    "        return 0.25 * (1.0 + e_pol * process_e_pol) * (1.0 + p_pol * process_p_pol)\n",
    "\n",
    "\n",
    "    def _calculate_weight(self, k: str, int_lumi: float, e_pol: float, p_pol: float):\n",
    "        lumi_weight = self._calculate_lumi_weight(k, int_lumi)\n",
    "        pol_weight = self._calculate_pol_weight(k, e_pol, p_pol)\n",
    "        return lumi_weight * pol_weight\n",
    "\n",
    "\n",
    "    def get_weights(self, int_lumi: float, e_pol: float, p_pol: float):\n",
    "            return {k: self._calculate_weight(k, int_lumi, e_pol, p_pol) for k in self._df}\n",
    "\n",
    "\n",
    "    def get_top_n(self, n: int, int_lumi: float, e_pol: float, p_pol: float):\n",
    "        \"\"\"Get the keys of the 10 processes with the current (after cuts) highest count * weight. Triggers event loop\"\"\"\n",
    "        return self.get_sorted_keys(int_lumi, e_pol, p_pol)[:n]\n",
    "\n",
    "\n",
    "    def get_sorted_keys(self, int_lumi: float, e_pol: float, p_pol: float):\n",
    "        \"\"\"Get the keys of the processes sorted by the current (after cuts) highest count * weight. Triggers event loop\"\"\"\n",
    "        # FIXME: this recounts every time but we only need to recount if there actually was a filter\n",
    "        # No clue yet how much this slows anything or if root nicely caches the result for us anyway...\n",
    "        booked_counts = [(key, df.Count()) for key, df in self._df.items()]\n",
    "        weighted_counts = [(key, count.GetValue() * self._calculate_weight(key, int_lumi, e_pol, p_pol)) for key, count in booked_counts]\n",
    "        from operator import itemgetter\n",
    "        weighted_counts.sort(key=itemgetter(1), reverse=True)\n",
    "        return [key for key, _ in weighted_counts]\n",
    "\n",
    "\n",
    "    def run(self):\n",
    "        \"\"\"Execute all booked computations\"\"\"\n",
    "        objects = list(self._counts.values())\n",
    "        # unpacking the histograms is more involved\n",
    "        for process in self._histograms.values():\n",
    "            objects += process.values()\n",
    "        ROOT.RDF.RunGraphs(objects)\n",
    "\n",
    "\n",
    "    def draw_histogram(self, name: str, int_lumi: float = 5000, e_pol: float = 0.0, p_pol: float = 0.0):\n",
    "        histograms = self._histograms[name]\n",
    "        stack = ROOT.THStack()\n",
    "        params = (name, int_lumi, e_pol, p_pol)\n",
    "        self._scaled_histograms[params] = {}\n",
    "        legend = ROOT.TLegend(0.6, 0.7, 1., 1,)\n",
    "        for i, k in enumerate(self.get_sorted_keys(int_lumi, e_pol, p_pol)):\n",
    "            h = histograms[k].Clone()\n",
    "            weight = self._calculate_weight(k, int_lumi, e_pol, p_pol)\n",
    "            h.Scale(weight)\n",
    "            if i < 9:\n",
    "                h.SetFillColor(kP10[i].GetNumber())\n",
    "                # TODO: parse k to nice process name\n",
    "                legend.AddEntry(h, k, \"f\")\n",
    "            else:\n",
    "                h.SetFillColor(kP10[9].GetNumber())\n",
    "            stack.Add(h)\n",
    "            # store h so that it does not get deleted\n",
    "            self._scaled_histograms[params][k] = h\n",
    "        # use the smallest (last) to attach as other to legend\n",
    "        h_other = self._scaled_histograms[params][k]\n",
    "        legend.AddEntry(h_other, \"other\", \"f\")\n",
    "        legend.SetNColumns(2)\n",
    "        self._legends[params] = legend\n",
    "        self._stacks[params] = stack\n",
    "        canvas = ROOT.TCanvas()\n",
    "        self._canvases[params] = canvas\n",
    "        stack.SetTitle(f\";{name}\")\n",
    "        stack.Draw(\"hist\")\n",
    "        legend.Draw()\n",
    "        canvas.Draw()\n",
    "\n",
    "\n",
    "    def add_filter(self, expression: str, name: str):\n",
    "        for k, df in self._df.items():\n",
    "            self._df[k] = df.Filter(expression, name)\n",
    "\n",
    "    # TODO: Add a method to store selected histograms to a root file\n",
    "    # TODO: Add a method to snapshot parts of the data frames?\n",
    "\n",
    "\n",
    "\n"
   ]
  },
  {
   "cell_type": "code",
   "execution_count": 5,
   "metadata": {},
   "outputs": [
    {
     "name": "stdout",
     "output_type": "stream",
     "text": [
      "[('6f_llxyyx', 'eLpR'), ('4f_sw_l', 'eLpR'), ('aa_2f_z_l', 'eWpB'), ('aa_2f_z_l', 'eBpW'), ('aa_4f_zz_sl', 'eBpB'), ('4f_zz_h', 'eLpR'), ('4f_zz_h', 'eRpL'), ('4f_zz_sl', 'eLpR'), ('e1e1h', 'eLpR'), ('e1e1h', 'eRpR'), ('e1e1h', 'eLpL'), ('4f_sw_sl', 'eLpR'), ('4f_sw_sl', 'eRpL'), ('n1n1h', 'eLpR'), ('n1n1h', 'eRpL'), ('4f_zz_l', 'eLpR'), ('4f_sze_sl', 'eRpL'), ('4f_sze_sl', 'eLpR'), ('qqh', 'eLpR'), ('qqh', 'eRpL'), ('e2e2h', 'eLpR'), ('6f_vvyyyy', 'eRpL'), ('4f_sznu_l', 'eLpR'), ('ae_3f_z_l', 'eBpL'), ('2f_z_h', 'eLpR'), ('n23n23h', 'eRpL'), ('aa_2f_z_h', 'eBpW'), ('aa_2f_z_h', 'eWpB'), ('6f_llyyyy', 'eRpL'), ('4f_sznu_sl', 'eLpR')]\n"
     ]
    }
   ],
   "source": [
    "# dataset = Dataset(\"data/locations/miniDSTs/processed-no-higgs.txt\")\n",
    "# dataset = Dataset(\"data/locations/miniDSTs/processed-no-exc-higgs.txt\")\n",
    "# dataset = Dataset(\"data/locations/miniDSTs/processed-no-exc-higgs-reduced.txt\")\n",
    "# dataset = Dataset(\"data/locations/miniDSTs/processed-no-exc-higgs-reduced500.txt\")\n",
    "dataset = Dataset(\"data/locations/miniDSTs/processed-test.txt\")\n",
    "\n",
    "print(dataset.get_keys())\n",
    "\n",
    "# print(json.dumps(dataset.get_dataset(), indent=2))\n",
    "\n",
    "# print(dataset.get_files(\"4f_sw_sl\", \"eLpR\"))"
   ]
  },
  {
   "cell_type": "code",
   "execution_count": 6,
   "metadata": {},
   "outputs": [],
   "source": [
    "ROOT.gInterpreter.Declare(\"#include <podio/ObjectID.h>\")\n",
    "analysis = Analysis(dataset)\n",
    "\n",
    "analysis.init_parameters([\n",
    "    (\"WWCategorisation.RecoCatBasic\", \"int\", \"8\"),\n",
    "    (\"WWCategorisation.RecoCatAdvanced\", \"int\", \"8\"),\n",
    "])\n",
    "analysis.populate_cross_sections(\"data/ILD-genmeta/genmetaByID.json\")\n",
    "analysis.book_statistics()"
   ]
  },
  {
   "cell_type": "code",
   "execution_count": 7,
   "metadata": {},
   "outputs": [],
   "source": [
    "analysis.Define(\"n_isomuons\", \"IsolatedMuons_objIdx.size()\")\n",
    "analysis.Define(\"n_isoelectrons\", \"IsolatedElectrons_objIdx.size()\")\n",
    "analysis.Define(\"RecoCatBasic\", \"params_WWCategorisation_RecoCatBasic\")\n",
    "analysis.Define(\"RecoCatAdvanced\", \"params_WWCategorisation_RecoCatAdvanced\")\n",
    "analysis.Define(\"n_charged_PFOs\", \"Sum(abs(PandoraPFOs.charge) == 1.)\")"
   ]
  },
  {
   "cell_type": "code",
   "execution_count": 8,
   "metadata": {},
   "outputs": [],
   "source": [
    "analysis.book_histogram_1D(\"RecoCatBasic\", \"RecoCatBasic\", (\"\", \";RecoCatBasic\", 8, 0., 8.))\n",
    "analysis.book_histogram_1D(\"RecoCatAdvanced\", \"RecoCatAdvanced\", (\"\", \";RecoCatAdvanced\", 8, 0., 8.))\n",
    "\n",
    "analysis.add_filter(\"RecoCatAdvanced == 2\", \"RecoCatAdvanced == 2\")\n",
    "\n",
    "analysis.book_histogram_1D(\"n_isomuons\", \"n_isomuons\", (\"\", \";n_isomuons\", 5, 0., 5.))\n",
    "analysis.book_histogram_1D(\"n_isoelectrons\", \"n_isoelectrons\", (\"\", \";n_isoelectrons\", 5, 0., 5.))\n",
    "analysis.book_histogram_1D(\"n_charged_PFOs\", \"n_charged_PFOs\", (\"\", \";n_charged_PFOs\", 50, 0., 50.))"
   ]
  },
  {
   "cell_type": "code",
   "execution_count": 9,
   "metadata": {},
   "outputs": [
    {
     "name": "stdout",
     "output_type": "stream",
     "text": [
      "OBJ: TStyle\tildStyle\tILD Style : 0 at: 0x164b99e0\n"
     ]
    }
   ],
   "source": [
    "analysis.run()"
   ]
  },
  {
   "cell_type": "code",
   "execution_count": 10,
   "metadata": {},
   "outputs": [
    {
     "name": "stdout",
     "output_type": "stream",
     "text": [
      "process: 6f_llxyyx_eLpR events: 9200 int lumi: 7762.739626068832\n",
      "process: 4f_sw_l_eLpR events: 97200 int lumi: 28.40469667568321\n",
      "process: aa_2f_z_l_eWpB events: 54000 int lumi: 0.026430418533753445\n",
      "process: aa_2f_z_l_eBpW events: 54000 int lumi: 0.02640799287786213\n",
      "process: aa_4f_zz_sl_eBpB events: 600 int lumi: 1217.579915593951\n",
      "process: 4f_zz_h_eLpR events: 47000 int lumi: 33.45052880304044\n",
      "process: 4f_zz_h_eRpL events: 18800 int lumi: 30.98680888249403\n",
      "process: 4f_zz_sl_eLpR events: 46800 int lumi: 55.84195838034409\n",
      "process: e1e1h_eLpR events: 17600 int lumi: 995.9544443646549\n",
      "process: e1e1h_eRpR events: 9200 int lumi: 14755.757568292214\n",
      "process: e1e1h_eLpL events: 9200 int lumi: 14755.757568292214\n",
      "process: 4f_sw_sl_eLpR events: 84800 int lumi: 8.261873325216952\n",
      "process: 4f_sw_sl_eRpL events: 10200 int lumi: 117.65228464761451\n",
      "process: n1n1h_eLpR events: 18200 int lumi: 301.5696934520868\n",
      "process: n1n1h_eRpL events: 9800 int lumi: 456.5740962686482\n",
      "process: 4f_zz_l_eLpR events: 41000 int lumi: 460.89486898107833\n",
      "process: 4f_sze_sl_eRpL events: 37600 int lumi: 30.83492025195738\n",
      "process: 4f_sze_sl_eLpR events: 55200 int lumi: 38.78284263903755\n",
      "process: qqh_eLpR events: 6000 int lumi: 17.491169801565302\n",
      "process: qqh_eRpL events: 6000 int lumi: 27.33657681817281\n",
      "process: e2e2h_eLpR events: 36600 int lumi: 2156.663959051669\n",
      "process: 6f_vvyyyy_eRpL events: 9200 int lumi: 1840996.2735433907\n",
      "process: 4f_sznu_l_eLpR events: 34000 int lumi: 174.24608077002827\n",
      "process: ae_3f_z_l_eBpL events: 46000 int lumi: 0.8934024981464375\n",
      "process: 2f_z_h_eLpR events: 15200 int lumi: 0.11878198761807184\n",
      "process: n23n23h_eRpL events: 9800 int lumi: 228.28988790407428\n",
      "process: aa_2f_z_h_eBpW events: 31500 int lumi: 0.34868902997966295\n",
      "process: aa_2f_z_h_eWpB events: 28500 int lumi: 0.31624591553142617\n",
      "process: 6f_llyyyy_eRpL events: 8800 int lumi: 504545.93016338977\n",
      "process: 4f_sznu_sl_eLpR events: 15200 int lumi: 33.48978350088801\n"
     ]
    }
   ],
   "source": [
    "analysis.print_stats()"
   ]
  },
  {
   "cell_type": "code",
   "execution_count": 11,
   "metadata": {},
   "outputs": [
    {
     "data": {
      "image/png": "[encoded data removed]",
      "text/plain": [
       "<IPython.core.display.Image object>"
      ]
     },
     "metadata": {},
     "output_type": "display_data"
    },
    {
     "data": {
      "image/png": "[encoded data removed]",
      "text/plain": [
       "<IPython.core.display.Image object>"
      ]
     },
     "metadata": {},
     "output_type": "display_data"
    },
    {
     "data": {
      "image/png": "[encoded data removed]",
      "text/plain": [
       "<IPython.core.display.Image object>"
      ]
     },
     "metadata": {},
     "output_type": "display_data"
    },
    {
     "data": {
      "image/png": "[encoded data removed]",
      "text/plain": [
       "<IPython.core.display.Image object>"
      ]
     },
     "metadata": {},
     "output_type": "display_data"
    },
    {
     "data": {
      "image/png": "[encoded data removed]",
      "text/plain": [
       "<IPython.core.display.Image object>"
      ]
     },
     "metadata": {},
     "output_type": "display_data"
    }
   ],
   "source": [
    "# unfortunately the jsroot plots break all the time, maybe it is just too much for them\n",
    "# %jsroot on\n",
    "# 0 - hadronic (both W decay hadronically)\n",
    "# 1 - invisible semileptonic (one W decays hadronically, but the lepton is not within detector acceptance/detected)\n",
    "# 2 - semileptonic electron\n",
    "# 3 - semileptonic muon\n",
    "# 4 - semileptonic tauon\n",
    "# 5 - leptonic (both W decay leptonically)\n",
    "# 6 - other, 7- broken?\n",
    "analysis.draw_histogram(\"RecoCatBasic\")\n",
    "analysis.draw_histogram(\"RecoCatAdvanced\")\n",
    "analysis.draw_histogram(\"n_isomuons\")\n",
    "analysis.draw_histogram(\"n_isoelectrons\")\n",
    "analysis.draw_histogram(\"n_charged_PFOs\")"
   ]
  },
  {
   "cell_type": "code",
   "execution_count": 12,
   "metadata": {},
   "outputs": [
    {
     "name": "stdout",
     "output_type": "stream",
     "text": [
      "3421.9693\n",
      "500118\n",
      "0\n"
     ]
    }
   ],
   "source": [
    "print(analysis._xsecs[\"4f_sw_l_eLpR\"])\n",
    "print(analysis._k2id[\"4f_sw_l_eLpR\"])\n",
    "n = 0\n",
    "for stat in analysis._stats.values():\n",
    "    n += stat.n_events.GetValue()\n",
    "print(n)"
   ]
  },
  {
   "cell_type": "code",
   "execution_count": 13,
   "metadata": {},
   "outputs": [
    {
     "name": "stdout",
     "output_type": "stream",
     "text": [
      "[<cppyy.gbl.ROOT.RDF.RResultPtr<TH1D> object at 0x1abba2a0>, <cppyy.gbl.ROOT.RDF.RResultPtr<TH1D> object at 0x1add4ae0>, <cppyy.gbl.ROOT.RDF.RResultPtr<TH1D> object at 0x12b0a6e0>, <cppyy.gbl.ROOT.RDF.RResultPtr<TH1D> object at 0x1a98f3d0>]\n"
     ]
    }
   ],
   "source": [
    "import ROOT\n",
    "# RDataFrame = ROOT.RDF.Experimental.Distributed.Dask.RDataFrame\n",
    "RDataFrame = ROOT.RDataFrame\n",
    "# RunGraphs = ROOT.RDF.Experimental.Distributed.RunGraphs\n",
    "RunGraphs = ROOT.RDF.RunGraphs\n",
    "\n",
    "# Create 3 different dataframes and book an histogram on each one\n",
    "histoproxies = [\n",
    "   RDataFrame(100)\n",
    "         .Define(\"x\", \"rdfentry_\")\n",
    "         .Histo1D((\"name\", \"title\", 10, 0, 100), \"x\")\n",
    "   for _ in range(4)\n",
    "]\n",
    "\n",
    "# Execute the 3 computation graphs\n",
    "RunGraphs(histoproxies)\n",
    "# Retrieve all the histograms in one go\n",
    "histos = [histoproxy.GetValue() for histoproxy in histoproxies]\n",
    "print(histoproxies)\n"
   ]
  },
  {
   "cell_type": "code",
   "execution_count": null,
   "metadata": {},
   "outputs": [],
   "source": []
  }
 ],
 "metadata": {
  "kernelspec": {
   "display_name": "Python 3",
   "language": "python",
   "name": "python3"
  },
  "language_info": {
   "codemirror_mode": {
    "name": "ipython",
    "version": 3
   },
   "file_extension": ".py",
   "mimetype": "text/x-python",
   "name": "python",
   "nbconvert_exporter": "python",
   "pygments_lexer": "ipython3",
   "version": "3.11.9"
  }
 },
 "nbformat": 4,
 "nbformat_minor": 2
}

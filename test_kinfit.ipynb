{
 "cells": [
  {
   "cell_type": "code",
   "execution_count": 1,
   "metadata": {},
   "outputs": [
    {
     "name": "stdout",
     "output_type": "stream",
     "text": [
      "OBJ: TStyle\tildStyle\tILD Style : 0 at: 0x4e1e750\n"
     ]
    }
   ],
   "source": [
    "import ROOT"
   ]
  },
  {
   "cell_type": "code",
   "execution_count": 2,
   "metadata": {},
   "outputs": [
    {
     "data": {
      "text/plain": [
       "True"
      ]
     },
     "execution_count": 2,
     "metadata": {},
     "output_type": "execute_result"
    }
   ],
   "source": [
    "ROOT.gInterpreter.Declare(\"#define MARLIN_USE_ROOT\")\n",
    "ROOT.gInterpreter.Declare(\"#include <JetFitObject.h>\")\n",
    "ROOT.gInterpreter.Declare(\"#include <MomentumConstraint.h>\")\n",
    "ROOT.gInterpreter.Declare(\"#include <MassConstraint.h>\")\n",
    "ROOT.gInterpreter.Declare(\"#include <OPALFitterGSL.h>\")"
   ]
  },
  {
   "cell_type": "code",
   "execution_count": 3,
   "metadata": {},
   "outputs": [
    {
     "data": {
      "text/plain": [
       "True"
      ]
     },
     "execution_count": 3,
     "metadata": {},
     "output_type": "execute_result"
    }
   ],
   "source": [
    "ROOT.gInterpreter.Declare(\"R__ADD_LIBRARY_PATH(/cvmfs/sw-nightlies.hsf.org/key4hep/releases/2024-08-20/x86_64-almalinux9-gcc11.4.1-opt/marlinkinfit/0fb147401f1761282f28452704ff89a61bc331e5_develop-nycl3j/lib)\")\n",
    "ROOT.gInterpreter.Declare(\"R__LOAD_LIBRARY(libMarlinKinfit.so)\")\n",
    "# ROOT.gSystem.Load(\"libMarlinKinfit.so\")"
   ]
  },
  {
   "cell_type": "code",
   "execution_count": 4,
   "metadata": {},
   "outputs": [],
   "source": [
    "#                        E, theta, phi, dE, dtheta, dphi, mass\n",
    "jet1 = ROOT.JetFitObject(44., 1.2, 0.087, 5.0, 0.2, 0.2, 0.)\n",
    "jet2 = ROOT.JetFitObject(46., 1.8, 3.120, 5.0, 0.2, 0.2, 0.)"
   ]
  },
  {
   "cell_type": "code",
   "execution_count": 5,
   "metadata": {},
   "outputs": [],
   "source": [
    "pxconstraint = ROOT.MomentumConstraint(0, 1, 0, 0, 0)"
   ]
  },
  {
   "cell_type": "code",
   "execution_count": 6,
   "metadata": {},
   "outputs": [],
   "source": [
    "pxconstraint.addToFOList(jet1)\n",
    "pxconstraint.addToFOList(jet2)"
   ]
  },
  {
   "cell_type": "code",
   "execution_count": 7,
   "metadata": {},
   "outputs": [],
   "source": [
    "pyconstraint = ROOT.MomentumConstraint(0, 0, 1, 0, 0)\n",
    "pyconstraint.addToFOList(jet1)\n",
    "pyconstraint.addToFOList(jet2)"
   ]
  },
  {
   "cell_type": "code",
   "execution_count": 8,
   "metadata": {},
   "outputs": [],
   "source": [
    "mconstraint = ROOT.MassConstraint(90)"
   ]
  },
  {
   "cell_type": "code",
   "execution_count": 9,
   "metadata": {},
   "outputs": [],
   "source": [
    "mconstraint.addToFOList(jet1)\n",
    "mconstraint.addToFOList(jet2)"
   ]
  },
  {
   "cell_type": "code",
   "execution_count": 10,
   "metadata": {},
   "outputs": [],
   "source": [
    "fitter = ROOT.OPALFitterGSL()"
   ]
  },
  {
   "cell_type": "code",
   "execution_count": 11,
   "metadata": {},
   "outputs": [],
   "source": [
    "fitter.addFitObject(jet1)\n",
    "fitter.addFitObject(jet2)\n",
    "fitter.addConstraint(pxconstraint)\n",
    "fitter.addConstraint(pyconstraint)\n",
    "fitter.addConstraint(mconstraint)"
   ]
  },
  {
   "cell_type": "code",
   "execution_count": 12,
   "metadata": {},
   "outputs": [
    {
     "data": {
      "text/plain": [
       "True"
      ]
     },
     "execution_count": 12,
     "metadata": {},
     "output_type": "execute_result"
    }
   ],
   "source": [
    "fitter.initialize()"
   ]
  },
  {
   "cell_type": "code",
   "execution_count": 13,
   "metadata": {},
   "outputs": [
    {
     "name": "stdout",
     "output_type": "stream",
     "text": [
      "pre fit:\n",
      "jet1: (44.0, 40.85461636655596, 3.56334648686647, 15.94374119697364)\n",
      "jet2: (46.0, -44.78654829136628, 0.9672107457235297, -10.451296355882008)\n"
     ]
    }
   ],
   "source": [
    "print(\"pre fit:\")\n",
    "print(f\"jet1: {jet1.getE(), jet1.getPx(), jet1.getPy(), jet1.getPz()}\")\n",
    "print(f\"jet2: {jet2.getE(), jet2.getPx(), jet2.getPy(), jet2.getPz()}\")"
   ]
  },
  {
   "cell_type": "code",
   "execution_count": 14,
   "metadata": {},
   "outputs": [],
   "source": [
    "prob = fitter.fit()"
   ]
  },
  {
   "cell_type": "code",
   "execution_count": 15,
   "metadata": {},
   "outputs": [
    {
     "name": "stdout",
     "output_type": "stream",
     "text": [
      "0.9428327570862864\n"
     ]
    }
   ],
   "source": [
    "print(prob)"
   ]
  },
  {
   "cell_type": "code",
   "execution_count": 16,
   "metadata": {},
   "outputs": [
    {
     "name": "stdout",
     "output_type": "stream",
     "text": [
      "post fit:\n",
      "jet1: (45.54748003949936, 43.02353077142555, 1.4075272583511498, 14.885147124761325)\n",
      "jet2: (44.52136196189337, -43.0235309246025, -1.4075272675454509, -11.364256452263593)\n"
     ]
    }
   ],
   "source": [
    "print(\"post fit:\")\n",
    "print(f\"jet1: {jet1.getE(), jet1.getPx(), jet1.getPy(), jet1.getPz()}\")\n",
    "print(f\"jet2: {jet2.getE(), jet2.getPx(), jet2.getPy(), jet2.getPz()}\")"
   ]
  }
 ],
 "metadata": {
  "kernelspec": {
   "display_name": "Python 3",
   "language": "python",
   "name": "python3"
  },
  "language_info": {
   "codemirror_mode": {
    "name": "ipython",
    "version": 3
   },
   "file_extension": ".py",
   "mimetype": "text/x-python",
   "name": "python",
   "nbconvert_exporter": "python",
   "pygments_lexer": "ipython3",
   "version": "3.10.14"
  }
 },
 "nbformat": 4,
 "nbformat_minor": 2
}

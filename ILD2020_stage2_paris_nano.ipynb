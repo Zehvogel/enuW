{
 "cells": [
  {
   "cell_type": "code",
   "execution_count": 1,
   "metadata": {},
   "outputs": [
    {
     "name": "stdout",
     "output_type": "stream",
     "text": [
      "OBJ: TStyle\tildStyle\tILD Style : 0 at: 0x81c7020\n"
     ]
    }
   ],
   "source": [
    "import ROOT"
   ]
  },
  {
   "cell_type": "code",
   "execution_count": 2,
   "metadata": {},
   "outputs": [],
   "source": [
    "%jsroot on"
   ]
  },
  {
   "cell_type": "code",
   "execution_count": 3,
   "metadata": {},
   "outputs": [],
   "source": [
    "ROOT.EnableImplicitMT(6)\n",
    "ROOT.TH1.SetDefaultSumw2()"
   ]
  },
  {
   "cell_type": "code",
   "execution_count": 4,
   "metadata": {},
   "outputs": [],
   "source": [
    "ROOT.ildStyle.SetOptStat(0)\n",
    "ROOT.ildStyle.SetPalette(ROOT.kBird)\n",
    "ROOT.ildStyle.SetNumberContours(256)"
   ]
  },
  {
   "cell_type": "code",
   "execution_count": 5,
   "metadata": {},
   "outputs": [
    {
     "data": {
      "text/plain": [
       "True"
      ]
     },
     "execution_count": 5,
     "metadata": {},
     "output_type": "execute_result"
    }
   ],
   "source": [
    "ROOT.gInterpreter.Declare(\"#include <WWTools.h>\")\n",
    "ROOT.gInterpreter.Declare(\"#include <podio/GenericParameters.h>\")"
   ]
  },
  {
   "cell_type": "code",
   "execution_count": 6,
   "metadata": {},
   "outputs": [],
   "source": [
    "%%cpp\n",
    "using namespace ROOT::VecOps;"
   ]
  },
  {
   "cell_type": "code",
   "execution_count": 7,
   "metadata": {},
   "outputs": [],
   "source": [
    "tree = ROOT.TTree()\n",
    "tree.AddFriend(\"events\", \"data/paris/nano/all.root\")\n",
    "tree.AddFriend(\"events\", \"data/paris/nano/all_params.root\")\n",
    "\n",
    "df = ROOT.RDataFrame(tree)\n",
    "\n",
    "n_bins = 10\n",
    "x_angle = 0.014 # rad"
   ]
  },
  {
   "cell_type": "code",
   "execution_count": 8,
   "metadata": {},
   "outputs": [
    {
     "data": {
      "text/plain": [
       "Dataframe from TTree (in-memory)\n",
       "with friends\n",
       "  events data/paris/nano/all.root\n",
       "  events data/paris/nano/all_params.root\n",
       "\n",
       "Property                Value\n",
       "--------                -----\n",
       "Columns in total          104\n",
       "Columns from defines        0\n",
       "Event loops run             0\n",
       "Processing slots            6\n",
       "\n",
       "Column                                          Type                                                            Origin\n",
       "------                                          ----                                                            ------\n",
       "events.Parameters                               podio::GenericParameters                                        Dataset\n",
       "events.Parameters._doubleMap                    map<string,vector<double> >                                     Dataset\n",
       "events.Parameters._doubleMap.first              ROOT::VecOps::RVec<string>                                      Dataset\n",
       "events.Parameters._doubleMap.second             ROOT::VecOps::RVec<vector<double>>                              Dataset\n",
       "events.Parameters._floatMap                     map<string,vector<float> >                                      Dataset\n",
       "events.Parameters._floatMap.first               ROOT::VecOps::RVec<string>                                      Dataset\n",
       "events.Parameters._floatMap.second              ROOT::VecOps::RVec<vector<float>>                               Dataset\n",
       "events.Parameters._intMap                       map<string,vector<int> >                                        Dataset\n",
       "events.Parameters._intMap.first                 ROOT::VecOps::RVec<string>                                      Dataset\n",
       "events.Parameters._intMap.second                ROOT::VecOps::RVec<vector<int>>                                 Dataset\n",
       "events.Parameters._stringMap                    map<string,vector<string> >                                     Dataset\n",
       "events.Parameters._stringMap.first              ROOT::VecOps::RVec<string>                                      Dataset\n",
       "events.Parameters._stringMap.second             ROOT::VecOps::RVec<vector<string>>                              Dataset\n",
       "events._doubleMap                               map<string,vector<double> >                                     Dataset\n",
       "events._doubleMap.first                         ROOT::VecOps::RVec<string>                                      Dataset\n",
       "events._doubleMap.second                        ROOT::VecOps::RVec<vector<double>>                              Dataset\n",
       "events._floatMap                                map<string,vector<float> >                                      Dataset\n",
       "events._floatMap.first                          ROOT::VecOps::RVec<string>                                      Dataset\n",
       "events._floatMap.second                         ROOT::VecOps::RVec<vector<float>>                               Dataset\n",
       "events._intMap                                  map<string,vector<int> >                                        Dataset\n",
       "events._intMap.first                            ROOT::VecOps::RVec<string>                                      Dataset\n",
       "events._intMap.second                           ROOT::VecOps::RVec<vector<int>>                                 Dataset\n",
       "events._stringMap                               map<string,vector<string> >                                     Dataset\n",
       "events._stringMap.first                         ROOT::VecOps::RVec<string>                                      Dataset\n",
       "events._stringMap.second                        ROOT::VecOps::RVec<vector<string>>                              Dataset\n",
       "events.e_charge                                 Float_t                                                         Dataset\n",
       "events.e_lvec                                   ROOT::Math::LorentzVector<ROOT::Math::PxPyPzE4D<double> >       Dataset\n",
       "events.e_lvec.fCoordinates                      ROOT::Math::PxPyPzE4D<double>                                   Dataset\n",
       "events.e_lvec.fCoordinates.fT                   Double_t                                                        Dataset\n",
       "events.e_lvec.fCoordinates.fX                   Double_t                                                        Dataset\n",
       "events.e_lvec.fCoordinates.fY                   Double_t                                                        Dataset\n",
       "events.e_lvec.fCoordinates.fZ                   Double_t                                                        Dataset\n",
       "events.e_mc_charge                              Float_t                                                         Dataset\n",
       "events.e_mc_sum_lvec                            ROOT::Math::LorentzVector<ROOT::Math::PxPyPzE4D<double> >       Dataset\n",
       "events.e_mc_sum_lvec.fCoordinates               ROOT::Math::PxPyPzE4D<double>                                   Dataset\n",
       "events.e_mc_sum_lvec.fCoordinates.fT            Double_t                                                        Dataset\n",
       "events.e_mc_sum_lvec.fCoordinates.fX            Double_t                                                        Dataset\n",
       "events.e_mc_sum_lvec.fCoordinates.fY            Double_t                                                        Dataset\n",
       "events.e_mc_sum_lvec.fCoordinates.fZ            Double_t                                                        Dataset\n",
       "events.fCoordinates                             ROOT::Math::PxPyPzE4D<double>                                   Dataset\n",
       "events.fCoordinates.fT                          Double_t                                                        Dataset\n",
       "events.fCoordinates.fX                          Double_t                                                        Dataset\n",
       "events.fCoordinates.fY                          Double_t                                                        Dataset\n",
       "events.fCoordinates.fZ                          Double_t                                                        Dataset\n",
       "events.had_mc_acc_sum_lvec                      ROOT::Math::LorentzVector<ROOT::Math::PxPyPzE4D<double> >       Dataset\n",
       "events.had_mc_acc_sum_lvec.fCoordinates         ROOT::Math::PxPyPzE4D<double>                                   Dataset\n",
       "events.had_mc_acc_sum_lvec.fCoordinates.fT      Double_t                                                        Dataset\n",
       "events.had_mc_acc_sum_lvec.fCoordinates.fX      Double_t                                                        Dataset\n",
       "events.had_mc_acc_sum_lvec.fCoordinates.fY      Double_t                                                        Dataset\n",
       "events.had_mc_acc_sum_lvec.fCoordinates.fZ      Double_t                                                        Dataset\n",
       "events.had_sum_lvec                             ROOT::Math::LorentzVector<ROOT::Math::PxPyPzE4D<double> >       Dataset\n",
       "events.had_sum_lvec.fCoordinates                ROOT::Math::PxPyPzE4D<double>                                   Dataset\n",
       "events.had_sum_lvec.fCoordinates.fT             Double_t                                                        Dataset\n",
       "events.had_sum_lvec.fCoordinates.fX             Double_t                                                        Dataset\n",
       "events.had_sum_lvec.fCoordinates.fY             Double_t                                                        Dataset\n",
       "events.had_sum_lvec.fCoordinates.fZ             Double_t                                                        Dataset\n",
       "events.isr1_lvec                                ROOT::Math::LorentzVector<ROOT::Math::PxPyPzE4D<double> >       Dataset\n",
       "events.isr1_lvec.fCoordinates                   ROOT::Math::PxPyPzE4D<double>                                   Dataset\n",
       "events.isr1_lvec.fCoordinates.fT                Double_t                                                        Dataset\n",
       "events.isr1_lvec.fCoordinates.fX                Double_t                                                        Dataset\n",
       "events.isr1_lvec.fCoordinates.fY                Double_t                                                        Dataset\n",
       "events.isr1_lvec.fCoordinates.fZ                Double_t                                                        Dataset\n",
       "events.isr1_mc_sum_lvec                         ROOT::Math::LorentzVector<ROOT::Math::PxPyPzE4D<double> >       Dataset\n",
       "events.isr1_mc_sum_lvec.fCoordinates            ROOT::Math::PxPyPzE4D<double>                                   Dataset\n",
       "events.isr1_mc_sum_lvec.fCoordinates.fT         Double_t                                                        Dataset\n",
       "events.isr1_mc_sum_lvec.fCoordinates.fX         Double_t                                                        Dataset\n",
       "events.isr1_mc_sum_lvec.fCoordinates.fY         Double_t                                                        Dataset\n",
       "events.isr1_mc_sum_lvec.fCoordinates.fZ         Double_t                                                        Dataset\n",
       "events.isr2_lvec                                ROOT::Math::LorentzVector<ROOT::Math::PxPyPzE4D<double> >       Dataset\n",
       "events.isr2_lvec.fCoordinates                   ROOT::Math::PxPyPzE4D<double>                                   Dataset\n",
       "events.isr2_lvec.fCoordinates.fT                Double_t                                                        Dataset\n",
       "events.isr2_lvec.fCoordinates.fX                Double_t                                                        Dataset\n",
       "events.isr2_lvec.fCoordinates.fY                Double_t                                                        Dataset\n",
       "events.isr2_lvec.fCoordinates.fZ                Double_t                                                        Dataset\n",
       "events.isr2_mc_sum_lvec                         ROOT::Math::LorentzVector<ROOT::Math::PxPyPzE4D<double> >       Dataset\n",
       "events.isr2_mc_sum_lvec.fCoordinates            ROOT::Math::PxPyPzE4D<double>                                   Dataset\n",
       "events.isr2_mc_sum_lvec.fCoordinates.fT         Double_t                                                        Dataset\n",
       "events.isr2_mc_sum_lvec.fCoordinates.fX         Double_t                                                        Dataset\n",
       "events.isr2_mc_sum_lvec.fCoordinates.fY         Double_t                                                        Dataset\n",
       "events.isr2_mc_sum_lvec.fCoordinates.fZ         Double_t                                                        Dataset\n",
       "events.nu_lvec                                  ROOT::Math::LorentzVector<ROOT::Math::PxPyPzE4D<double> >       Dataset\n",
       "events.nu_lvec.fCoordinates                     ROOT::Math::PxPyPzE4D<double>                                   Dataset\n",
       "events.nu_lvec.fCoordinates.fT                  Double_t                                                        Dataset\n",
       "events.nu_lvec.fCoordinates.fX                  Double_t                                                        Dataset\n",
       "events.nu_lvec.fCoordinates.fY                  Double_t                                                        Dataset\n",
       "events.nu_lvec.fCoordinates.fZ                  Double_t                                                        Dataset\n",
       "events.nu_mc_sum_lvec                           ROOT::Math::LorentzVector<ROOT::Math::PxPyPzE4D<double> >       Dataset\n",
       "events.nu_mc_sum_lvec.fCoordinates              ROOT::Math::PxPyPzE4D<double>                                   Dataset\n",
       "events.nu_mc_sum_lvec.fCoordinates.fT           Double_t                                                        Dataset\n",
       "events.nu_mc_sum_lvec.fCoordinates.fX           Double_t                                                        Dataset\n",
       "events.nu_mc_sum_lvec.fCoordinates.fY           Double_t                                                        Dataset\n",
       "events.nu_mc_sum_lvec.fCoordinates.fZ           Double_t                                                        Dataset\n",
       "events.ovl_lvec                                 ROOT::Math::LorentzVector<ROOT::Math::PxPyPzE4D<double> >       Dataset\n",
       "events.ovl_lvec.fCoordinates                    ROOT::Math::PxPyPzE4D<double>                                   Dataset\n",
       "events.ovl_lvec.fCoordinates.fT                 Double_t                                                        Dataset\n",
       "events.ovl_lvec.fCoordinates.fX                 Double_t                                                        Dataset\n",
       "events.ovl_lvec.fCoordinates.fY                 Double_t                                                        Dataset\n",
       "events.ovl_lvec.fCoordinates.fZ                 Double_t                                                        Dataset\n",
       "events.ovl_mc_sum_lvec                          ROOT::Math::LorentzVector<ROOT::Math::PxPyPzE4D<double> >       Dataset\n",
       "events.ovl_mc_sum_lvec.fCoordinates             ROOT::Math::PxPyPzE4D<double>                                   Dataset\n",
       "events.ovl_mc_sum_lvec.fCoordinates.fT          Double_t                                                        Dataset\n",
       "events.ovl_mc_sum_lvec.fCoordinates.fX          Double_t                                                        Dataset\n",
       "events.ovl_mc_sum_lvec.fCoordinates.fY          Double_t                                                        Dataset\n",
       "events.ovl_mc_sum_lvec.fCoordinates.fZ          Double_t                                                        Dataset"
      ]
     },
     "execution_count": 8,
     "metadata": {},
     "output_type": "execute_result"
    }
   ],
   "source": [
    "df.Describe()"
   ]
  },
  {
   "cell_type": "code",
   "execution_count": 9,
   "metadata": {},
   "outputs": [],
   "source": [
    "# df = df.Vary(\"nu_lvec\", \"ROOT::Math::PxPyPzMVector tmp(E_miss_lvec); return RVec<ROOT::Math::PxPyPzMVector>{tmp};\", [\"recoable_nu\"], \"nu_variation\")\n",
    "# df = df.Vary((\"nu_lvec\", \"l_lvec\", \"hadronic_lvec\"), \"\"\"\n",
    "#               ROOT::Math::PxPyPzMVector e_miss(E_miss_lvec);\n",
    "#               auto boost = collision_lvec.BoostToCM();\n",
    "#               return RVec<RVec<ROOT::Math::PxPyPzMVector>>{\n",
    "#                 {nu_lvec, e_miss, e_miss, ROOT::Math::VectorUtil::boost(nu_lvec, boost), ROOT::Math::VectorUtil::boost(e_miss, boost)},\n",
    "#                 {l_lvec + FSR_lvec, l_lvec, l_lvec + FSR_lvec, ROOT::Math::VectorUtil::boost(l_lvec, boost), ROOT::Math::VectorUtil::boost(l_lvec + FSR_lvec, boost)},\n",
    "#                 {hadronic_lvec, hadronic_lvec, hadronic_lvec, ROOT::Math::VectorUtil::boost(hadronic_lvec, boost), ROOT::Math::VectorUtil::boost(hadronic_lvec, boost)}\n",
    "#               };\n",
    "# \"\"\", [\"FSR\", \"emiss\", \"FSR_emiss\", \"boosted\", \"boosted_FSR_emiss\"], \"initial_lvecs\")\n",
    "# # FIXME needs to be commented out when not using rescanned file\n",
    "# df = df.Vary(\"weight\", \"weight * alt_weight\", [\"g1z_up\"], \"aTGC\")"
   ]
  },
  {
   "cell_type": "code",
   "execution_count": 10,
   "metadata": {},
   "outputs": [],
   "source": [
    "# unboost crossing angle (as a variation?)\n",
    "# reconstruct neutrino: missing E, w/o ovl, w/ overlay\n",
    "# ISR? crossing angle, sqrt(s)\n",
    "# build MC and reconstructed W, reconstructed W will vary\n",
    "df = df.Define(\"sqrt_s_E\", \"Parameters.get<float>(\\\"Energy\\\").value()\")\n",
    "# XXX: ignoring the electron mass here\n",
    "df = df.Define(\"sqrt_s_lvec\", f\"ROOT::Math::PxPyPzEVector(sqrt_s_E * sin({x_angle}/2), 0, sqrt_s_E * cos({x_angle}/2), sqrt_s_E)\")\n",
    "df = df.Define(\"visible_lvec\", \"e_lvec + isr1_lvec + isr2_lvec + ovl_lvec + had_sum_lvec\")\n",
    "# TODO: add 3 variations: no removal, naive removal (Andre), cheated removal\n",
    "# Andre's cut: log_10 Pt > 0.2 sin theta + something\n",
    "df = df.Define(\"identified_ovl_lvec\", \"ROOT::Math::PxPyPzEVector()\")\n",
    "# TODO variations: none, fitted/reconstructed, cheated ISR goes here\n",
    "df = df.Define(\"identified_isr_lvec\", \"ROOT::Math::PxPyPzEVector()\")\n",
    "df = df.Define(\"visible_corrected_lvec\", \"visible_lvec - identified_ovl_lvec - identified_isr_lvec\")\n",
    "\n",
    "df = df.Define(\"missing_E_lvec\", \"sqrt_s_lvec - visible_corrected_lvec\")\n",
    "df = df.Define(\"reco_nu_lvec\", \"missing_E_lvec\")\n",
    "\n",
    "df = df.Define(\"W_lep_lvec\", \"e_lvec + reco_nu_lvec\")\n",
    "df = df.Define(\"W_had_lvec\", \"visible_corrected_lvec\")"
   ]
  }
 ],
 "metadata": {
  "kernelspec": {
   "display_name": "Python 3",
   "language": "python",
   "name": "python3"
  },
  "language_info": {
   "codemirror_mode": {
    "name": "ipython",
    "version": 3
   },
   "file_extension": ".py",
   "mimetype": "text/x-python",
   "name": "python",
   "nbconvert_exporter": "python",
   "pygments_lexer": "ipython3",
   "version": "3.11.9"
  }
 },
 "nbformat": 4,
 "nbformat_minor": 2
}

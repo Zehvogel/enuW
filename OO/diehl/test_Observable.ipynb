{
 "cells": [
  {
   "cell_type": "code",
   "execution_count": 1,
   "metadata": {},
   "outputs": [],
   "source": [
    "import ROOT\n",
    "from ctypes import c_double"
   ]
  },
  {
   "cell_type": "code",
   "execution_count": 2,
   "metadata": {},
   "outputs": [
    {
     "data": {
      "text/plain": [
       "0"
      ]
     },
     "execution_count": 2,
     "metadata": {},
     "output_type": "execute_result"
    }
   ],
   "source": [
    "ROOT.gSystem.Load(\"libObservable.so\")"
   ]
  },
  {
   "cell_type": "code",
   "execution_count": 3,
   "metadata": {},
   "outputs": [],
   "source": [
    "%%cpp\n",
    "\n",
    "extern \"C\"\n",
    "{\n",
    "    double observ_(double& co, double& co1, double& co2, double& ph1, double& ph2);\n",
    "    void init_();\n",
    "\n",
    "    extern struct {double Pi;} pi_;\n",
    "    extern struct {double mw; double mz; double z; double be; double ga; double xi;} energy_;\n",
    "    extern struct {int order; int formf; bool CPodd; bool absorptive; bool photon; bool Zbasis;} mode_;\n",
    "}\n",
    "\n",
    "double mw() {return energy_.mw;}\n",
    "void set_mw(double mw) {energy_.mw = mw;}\n",
    "\n",
    "double observ(double co, double co1, double co2, double ph1, double ph2, int formf, bool photon)\n",
    "{\n",
    "    mode_.formf = formf;\n",
    "    mode_.photon = photon;\n",
    "    return observ_(co, co1, co2, ph1, ph2);\n",
    "}\n",
    "\n",
    "mode_.absorptive = false;\n",
    "mode_.Zbasis = true;"
   ]
  },
  {
   "cell_type": "code",
   "execution_count": 4,
   "metadata": {},
   "outputs": [],
   "source": [
    "ROOT.init_()"
   ]
  },
  {
   "cell_type": "code",
   "execution_count": 5,
   "metadata": {},
   "outputs": [
    {
     "data": {
      "text/plain": [
       "80.22"
      ]
     },
     "execution_count": 5,
     "metadata": {},
     "output_type": "execute_result"
    }
   ],
   "source": [
    "ROOT.mw()"
   ]
  },
  {
   "cell_type": "code",
   "execution_count": 6,
   "metadata": {},
   "outputs": [
    {
     "data": {
      "text/plain": [
       "80.36"
      ]
     },
     "execution_count": 6,
     "metadata": {},
     "output_type": "execute_result"
    }
   ],
   "source": [
    "ROOT.set_mw(80.36)\n",
    "ROOT.mw()"
   ]
  },
  {
   "cell_type": "code",
   "execution_count": 9,
   "metadata": {},
   "outputs": [
    {
     "data": {
      "text/plain": [
       "-0.00787591737098548"
      ]
     },
     "execution_count": 9,
     "metadata": {},
     "output_type": "execute_result"
    }
   ],
   "source": [
    "ROOT.observ(0.554, -0.235, 0.997, 3.04, -6.95, 3, True)"
   ]
  },
  {
   "cell_type": "code",
   "execution_count": null,
   "metadata": {},
   "outputs": [],
   "source": []
  }
 ],
 "metadata": {
  "kernelspec": {
   "display_name": "Python 3",
   "language": "python",
   "name": "python3"
  },
  "language_info": {
   "codemirror_mode": {
    "name": "ipython",
    "version": 3
   },
   "file_extension": ".py",
   "mimetype": "text/x-python",
   "name": "python",
   "nbconvert_exporter": "python",
   "pygments_lexer": "ipython3",
   "version": "3.11.9"
  }
 },
 "nbformat": 4,
 "nbformat_minor": 2
}

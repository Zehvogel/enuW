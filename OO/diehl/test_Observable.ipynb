{
 "cells": [
  {
   "cell_type": "code",
   "execution_count": 1,
   "metadata": {},
   "outputs": [],
   "source": [
    "import ROOT\n",
    "from ctypes import c_double"
   ]
  },
  {
   "cell_type": "code",
   "execution_count": 2,
   "metadata": {},
   "outputs": [
    {
     "data": {
      "text/plain": [
       "0"
      ]
     },
     "execution_count": 2,
     "metadata": {},
     "output_type": "execute_result"
    }
   ],
   "source": [
    "ROOT.gSystem.Load(\"libObservable.so\")"
   ]
  },
  {
   "cell_type": "code",
   "execution_count": 3,
   "metadata": {},
   "outputs": [
    {
     "data": {
      "text/plain": [
       "True"
      ]
     },
     "execution_count": 3,
     "metadata": {},
     "output_type": "execute_result"
    }
   ],
   "source": [
    "ROOT.gInterpreter.Declare(\"#include \\\"OOTools.h\\\"\")"
   ]
  },
  {
   "cell_type": "code",
   "execution_count": 4,
   "metadata": {},
   "outputs": [],
   "source": [
    "ROOT.OOTools.init(250, 80.36, 91.19)"
   ]
  },
  {
   "cell_type": "code",
   "execution_count": 5,
   "metadata": {},
   "outputs": [
    {
     "name": "stdout",
     "output_type": "stream",
     "text": [
      "80.36 91.19\n"
     ]
    }
   ],
   "source": [
    "print(ROOT.OOTools.mw(), ROOT.OOTools.mz())"
   ]
  },
  {
   "cell_type": "code",
   "execution_count": 6,
   "metadata": {},
   "outputs": [
    {
     "data": {
      "text/plain": [
       "-0.017589612877329096"
      ]
     },
     "execution_count": 6,
     "metadata": {},
     "output_type": "execute_result"
    }
   ],
   "source": [
    "ROOT.OOTools.observ(0.554, -0.235, 0.997, 3.04, -6.95, 3, True)"
   ]
  },
  {
   "cell_type": "code",
   "execution_count": 7,
   "metadata": {},
   "outputs": [
    {
     "name": "stdout",
     "output_type": "stream",
     "text": [
      "0.004336762388245169\n",
      "0.004538428934594271\n",
      "-0.017589612877329096\n",
      "-0.00014088125328506863\n",
      "-0.013734388402531097\n",
      "0.0007885558125570193\n",
      "0.006187117506406576\n",
      "0.004336762388245169\n",
      "0.004538428934594271\n",
      "-0.017589612877329096\n",
      "-0.00014088125328506863\n",
      "-0.013734388402531097\n",
      "0.0007885558125570193\n",
      "0.006187117506406576\n"
     ]
    }
   ],
   "source": [
    "print(ROOT.OOTools.fg1(0.554, -0.235, 0.997, 3.04, -6.95))\n",
    "print(ROOT.OOTools.fg2(0.554, -0.235, 0.997, 3.04, -6.95))\n",
    "print(ROOT.OOTools.fg3(0.554, -0.235, 0.997, 3.04, -6.95))\n",
    "print(ROOT.OOTools.fg4(0.554, -0.235, 0.997, 3.04, -6.95))\n",
    "print(ROOT.OOTools.fg5(0.554, -0.235, 0.997, 3.04, -6.95))\n",
    "print(ROOT.OOTools.fg6(0.554, -0.235, 0.997, 3.04, -6.95))\n",
    "print(ROOT.OOTools.fg7(0.554, -0.235, 0.997, 3.04, -6.95))\n",
    "\n",
    "print(ROOT.OOTools.fz1(0.554, -0.235, 0.997, 3.04, -6.95))\n",
    "print(ROOT.OOTools.fz2(0.554, -0.235, 0.997, 3.04, -6.95))\n",
    "print(ROOT.OOTools.fz3(0.554, -0.235, 0.997, 3.04, -6.95))\n",
    "print(ROOT.OOTools.fz4(0.554, -0.235, 0.997, 3.04, -6.95))\n",
    "print(ROOT.OOTools.fz5(0.554, -0.235, 0.997, 3.04, -6.95))\n",
    "print(ROOT.OOTools.fz6(0.554, -0.235, 0.997, 3.04, -6.95))\n",
    "print(ROOT.OOTools.fz7(0.554, -0.235, 0.997, 3.04, -6.95))"
   ]
  },
  {
   "cell_type": "code",
   "execution_count": null,
   "metadata": {},
   "outputs": [],
   "source": []
  }
 ],
 "metadata": {
  "kernelspec": {
   "display_name": "Python 3",
   "language": "python",
   "name": "python3"
  },
  "language_info": {
   "codemirror_mode": {
    "name": "ipython",
    "version": 3
   },
   "file_extension": ".py",
   "mimetype": "text/x-python",
   "name": "python",
   "nbconvert_exporter": "python",
   "pygments_lexer": "ipython3",
   "version": "3.11.9"
  }
 },
 "nbformat": 4,
 "nbformat_minor": 2
}

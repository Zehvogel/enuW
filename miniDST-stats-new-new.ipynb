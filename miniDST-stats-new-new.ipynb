{
 "cells": [
  {
   "cell_type": "code",
   "execution_count": 1,
   "metadata": {},
   "outputs": [
    {
     "name": "stdout",
     "output_type": "stream",
     "text": [
      "OBJ: TStyle\tildStyle\tILD Style : 0 at: 0x623ee70\n"
     ]
    }
   ],
   "source": [
    "import json\n",
    "import ROOT\n",
    "from analysis_framework import Analysis, ILDMC2020Dataset"
   ]
  },
  {
   "cell_type": "code",
   "execution_count": 2,
   "metadata": {},
   "outputs": [],
   "source": [
    "ROOT.EnableImplicitMT(12)"
   ]
  },
  {
   "cell_type": "code",
   "execution_count": 3,
   "metadata": {},
   "outputs": [
    {
     "ename": "KeyError",
     "evalue": "'6f_llxyyx_eLpR'",
     "output_type": "error",
     "traceback": [
      "\u001b[0;31m---------------------------------------------------------------------------\u001b[0m",
      "\u001b[0;31mKeyError\u001b[0m                                  Traceback (most recent call last)",
      "Cell \u001b[0;32mIn[3], line 5\u001b[0m\n\u001b[1;32m      1\u001b[0m \u001b[38;5;66;03m# dataset = Dataset(\"data/locations/miniDSTs/processed-no-higgs.txt\")\u001b[39;00m\n\u001b[1;32m      2\u001b[0m \u001b[38;5;66;03m# dataset = Dataset(\"data/locations/miniDSTs/processed-no-exc-higgs.txt\")\u001b[39;00m\n\u001b[1;32m      3\u001b[0m \u001b[38;5;66;03m# dataset = Dataset(\"data/locations/miniDSTs/processed-no-exc-higgs-reduced.txt\")\u001b[39;00m\n\u001b[1;32m      4\u001b[0m \u001b[38;5;66;03m# dataset = Dataset(\"data/locations/miniDSTs/processed-no-exc-higgs-reduced500.txt\")\u001b[39;00m\n\u001b[0;32m----> 5\u001b[0m dataset \u001b[38;5;241m=\u001b[39m \u001b[43mILDMC2020Dataset\u001b[49m\u001b[43m(\u001b[49m\u001b[38;5;124;43m\"\u001b[39;49m\u001b[38;5;124;43mdata/locations/miniDSTs/processed-test.txt\u001b[39;49m\u001b[38;5;124;43m\"\u001b[39;49m\u001b[43m,\u001b[49m\u001b[43m \u001b[49m\u001b[38;5;124;43m\"\u001b[39;49m\u001b[38;5;124;43mdata/ILD-genmeta/genmetaByID.json\u001b[39;49m\u001b[38;5;124;43m\"\u001b[39;49m\u001b[43m)\u001b[49m\n",
      "File \u001b[0;32m~/work/enuW/analysis_framework/ILDMC2020Dataset.py:22\u001b[0m, in \u001b[0;36mILDMC2020Dataset.__init__\u001b[0;34m(self, files, genmeta)\u001b[0m\n\u001b[1;32m     20\u001b[0m \u001b[38;5;28;01mif\u001b[39;00m \u001b[38;5;28misinstance\u001b[39m(files, \u001b[38;5;28mstr\u001b[39m):\n\u001b[1;32m     21\u001b[0m     \u001b[38;5;28;01mwith\u001b[39;00m \u001b[38;5;28mopen\u001b[39m(files) \u001b[38;5;28;01mas\u001b[39;00m file:\n\u001b[0;32m---> 22\u001b[0m         \u001b[43mprocess_lines\u001b[49m\u001b[43m(\u001b[49m\u001b[43mfile\u001b[49m\u001b[43m)\u001b[49m\n\u001b[1;32m     23\u001b[0m \u001b[38;5;28;01melif\u001b[39;00m \u001b[38;5;28misinstance\u001b[39m(files, \u001b[38;5;28mlist\u001b[39m):\n\u001b[1;32m     24\u001b[0m     process_lines(files)\n",
      "File \u001b[0;32m~/work/enuW/analysis_framework/ILDMC2020Dataset.py:19\u001b[0m, in \u001b[0;36mILDMC2020Dataset.__init__.<locals>.process_lines\u001b[0;34m(content)\u001b[0m\n\u001b[1;32m     17\u001b[0m \u001b[38;5;28;01mfor\u001b[39;00m line \u001b[38;5;129;01min\u001b[39;00m content:\n\u001b[1;32m     18\u001b[0m     path \u001b[38;5;241m=\u001b[39m line\u001b[38;5;241m.\u001b[39mstrip()\n\u001b[0;32m---> 19\u001b[0m     \u001b[38;5;28;43mself\u001b[39;49m\u001b[38;5;241;43m.\u001b[39;49m\u001b[43m_add_file\u001b[49m\u001b[43m(\u001b[49m\u001b[43mpath\u001b[49m\u001b[43m)\u001b[49m\n",
      "File \u001b[0;32m~/work/enuW/analysis_framework/ILDMC2020Dataset.py:65\u001b[0m, in \u001b[0;36mILDMC2020Dataset._add_file\u001b[0;34m(self, path)\u001b[0m\n\u001b[1;32m     63\u001b[0m \u001b[38;5;28;01mdef\u001b[39;00m \u001b[38;5;21m_add_file\u001b[39m(\u001b[38;5;28mself\u001b[39m, path):\n\u001b[1;32m     64\u001b[0m     \u001b[38;5;66;03m# does all the heavy lifting\u001b[39;00m\n\u001b[0;32m---> 65\u001b[0m     \u001b[38;5;28;43msuper\u001b[39;49m\u001b[43m(\u001b[49m\u001b[43m)\u001b[49m\u001b[38;5;241;43m.\u001b[39;49m\u001b[43m_add_file\u001b[49m\u001b[43m(\u001b[49m\u001b[43mpath\u001b[49m\u001b[43m)\u001b[49m\n\u001b[1;32m     66\u001b[0m     \u001b[38;5;66;03m# still need to add our events to the count\u001b[39;00m\n\u001b[1;32m     67\u001b[0m     \u001b[38;5;28;01mwith\u001b[39;00m ROOT\u001b[38;5;241m.\u001b[39mTFile(path) \u001b[38;5;28;01mas\u001b[39;00m file:\n",
      "File \u001b[0;32m~/work/enuW/analysis_framework/Dataset.py:41\u001b[0m, in \u001b[0;36mDataset._add_file\u001b[0;34m(self, path)\u001b[0m\n\u001b[1;32m     39\u001b[0m process_name \u001b[38;5;241m=\u001b[39m \u001b[38;5;28mself\u001b[39m\u001b[38;5;241m.\u001b[39m_parse_path(path)\n\u001b[1;32m     40\u001b[0m \u001b[38;5;28;01mif\u001b[39;00m process_name \u001b[38;5;129;01mnot\u001b[39;00m \u001b[38;5;129;01min\u001b[39;00m \u001b[38;5;28mself\u001b[39m\u001b[38;5;241m.\u001b[39m_dataset:\n\u001b[0;32m---> 41\u001b[0m     \u001b[38;5;28;43mself\u001b[39;49m\u001b[38;5;241;43m.\u001b[39;49m\u001b[43m_add_process\u001b[49m\u001b[43m(\u001b[49m\u001b[43mprocess_name\u001b[49m\u001b[43m)\u001b[49m\n\u001b[1;32m     42\u001b[0m \u001b[38;5;28mself\u001b[39m\u001b[38;5;241m.\u001b[39m_dataset[process_name]\u001b[38;5;241m.\u001b[39mfiles\u001b[38;5;241m.\u001b[39mappend(path)\n",
      "File \u001b[0;32m~/work/enuW/analysis_framework/Dataset.py:32\u001b[0m, in \u001b[0;36mDataset._add_process\u001b[0;34m(self, process_name)\u001b[0m\n\u001b[1;32m     31\u001b[0m \u001b[38;5;28;01mdef\u001b[39;00m \u001b[38;5;21m_add_process\u001b[39m(\u001b[38;5;28mself\u001b[39m, process_name: \u001b[38;5;28mstr\u001b[39m):\n\u001b[0;32m---> 32\u001b[0m     meta \u001b[38;5;241m=\u001b[39m \u001b[38;5;28;43mself\u001b[39;49m\u001b[38;5;241;43m.\u001b[39;49m\u001b[43m_get_meta_for_process\u001b[49m\u001b[43m(\u001b[49m\u001b[43mprocess_name\u001b[49m\u001b[43m)\u001b[49m\n\u001b[1;32m     33\u001b[0m     entry \u001b[38;5;241m=\u001b[39m \u001b[38;5;28mself\u001b[39m\u001b[38;5;241m.\u001b[39mSample()\n\u001b[1;32m     34\u001b[0m     entry\u001b[38;5;241m.\u001b[39mmetadata \u001b[38;5;241m=\u001b[39m meta\n",
      "File \u001b[0;32m~/work/enuW/analysis_framework/ILDMC2020Dataset.py:51\u001b[0m, in \u001b[0;36mILDMC2020Dataset._get_meta_for_process\u001b[0;34m(self, process_name)\u001b[0m\n\u001b[1;32m     50\u001b[0m \u001b[38;5;28;01mdef\u001b[39;00m \u001b[38;5;21m_get_meta_for_process\u001b[39m(\u001b[38;5;28mself\u001b[39m, process_name):\n\u001b[0;32m---> 51\u001b[0m     \u001b[38;5;28mid\u001b[39m \u001b[38;5;241m=\u001b[39m \u001b[38;5;28;43mself\u001b[39;49m\u001b[38;5;241;43m.\u001b[39;49m\u001b[43m_name2id\u001b[49m\u001b[43m[\u001b[49m\u001b[43mprocess_name\u001b[49m\u001b[43m]\u001b[49m\n\u001b[1;32m     52\u001b[0m     meta \u001b[38;5;241m=\u001b[39m \u001b[38;5;28mself\u001b[39m\u001b[38;5;241m.\u001b[39m_meta_dict[\u001b[38;5;28mid\u001b[39m]\n\u001b[1;32m     53\u001b[0m     \u001b[38;5;66;03m# now decide what parts we actually want\u001b[39;00m\n",
      "\u001b[0;31mKeyError\u001b[0m: '6f_llxyyx_eLpR'"
     ]
    }
   ],
   "source": [
    "# dataset = Dataset(\"data/locations/miniDSTs/processed-no-higgs.txt\")\n",
    "# dataset = Dataset(\"data/locations/miniDSTs/processed-no-exc-higgs.txt\")\n",
    "# dataset = Dataset(\"data/locations/miniDSTs/processed-no-exc-higgs-reduced.txt\")\n",
    "# dataset = Dataset(\"data/locations/miniDSTs/processed-no-exc-higgs-reduced500.txt\")\n",
    "dataset = ILDMC2020Dataset(\"data/locations/miniDSTs/processed-test.txt\", \"data/ILD-genmeta/genmetaByID.json\")"
   ]
  },
  {
   "cell_type": "code",
   "execution_count": null,
   "metadata": {},
   "outputs": [],
   "source": [
    "analysis = Analysis(dataset)\n",
    "\n",
    "analysis.init_parameters([\n",
    "    (\"WWCategorisation.RecoCatBasic\", \"int\", \"8\"),\n",
    "    (\"WWCategorisation.RecoCatAdvanced\", \"int\", \"8\"),\n",
    "    (\"WWCategorisation.missE\", \"float\", \"-42\"),\n",
    "    (\"WWCategorisation.misspT\", \"float\", \"-42\"),\n",
    "    (\"WWCategorisation.mInv\", \"float\", \"-42\"),\n",
    "])"
   ]
  },
  {
   "cell_type": "code",
   "execution_count": null,
   "metadata": {},
   "outputs": [],
   "source": [
    "# signal cut goes here:\n",
    "# In this case, we want to require the charged lepton in the final state to be inside of the detector acceptance\n",
    "# just take the first gen status 1 particle with a fitting pdg value and cut on theta\n",
    "lep_pdg = 11\n",
    "# CLD 150 mrad\n",
    "# ILD ~84 mrad (IDR: 4.8 deg)\n",
    "acceptance_theta = 0.084\n",
    "signal_cut = f\"\"\"\n",
    "std::invoke([](auto& genStat, auto& pdg, auto& px, auto& py, auto& pz, auto& m) -> bool {{\n",
    "auto lepton_mask = genStat == 1 && abs(pdg) == {lep_pdg};\n",
    "// abuse ArgMax to get the first set position\n",
    "auto lepton_idx = ArgMax(lepton_mask);\n",
    "auto lepton_lvec = ROOT::Math::PxPyPzMVector(px[lepton_idx], py[lepton_idx],\n",
    "                                             pz[lepton_idx], m[lepton_idx]);\n",
    "double lepton_theta = lepton_lvec.Theta();\n",
    "return abs(cos(lepton_theta)) < cos({acceptance_theta});\n",
    "}}, MCParticlesSkimmed.generatorStatus, MCParticlesSkimmed.PDG, MCParticlesSkimmed.momentum.x, MCParticlesSkimmed.momentum.y, MCParticlesSkimmed.momentum.z, MCParticlesSkimmed.mass)\n",
    "\"\"\""
   ]
  },
  {
   "cell_type": "code",
   "execution_count": null,
   "metadata": {},
   "outputs": [
    {
     "name": "stdout",
     "output_type": "stream",
     "text": [
      "True\n"
     ]
    }
   ],
   "source": [
    "analysis.set_categories({\n",
    "    # TODO: actually implement the cut, but I might notice when refactoring the cut-flow...\n",
    "    # \"4f_sw_sl_signal\": {\"pattern\": \"4f_sw_sl\", \"cut\": \"1 == 1\"},\n",
    "    \"4f_sw_sl_signal\": {\"pattern\": \"4f_sw_sl\", \"cut\": signal_cut},\n",
    "    \"4f_sl_bkg\": {\"pattern\": r\"4f\\w+sl\", \"cut\": None }, # inverse signal cut will be applied automatically\n",
    "    \"4f_not_sl\": {\"pattern\": r\"4f\\w+_(?:h|l)\", \"cut\": None },\n",
    "    # separate out aa_4f? super low lumi anyway\n",
    "    \"aa2f\": {\"pattern\": \"aa_2f\", \"cut\": None},\n",
    "    # 2f but not aa_2f\n",
    "    \"2f\": {\"pattern\": \"(?<!aa_)2f\", \"cut\": None},\n",
    "    \"3f\": {\"pattern\": \"ea_3f|ae_3f\", \"cut\": None},\n",
    "    \"5f\": {\"pattern\": \"ea_5f|ae_5f\", \"cut\": None},\n",
    "    \"6f\": {\"pattern\": \"6f\", \"cut\": None},\n",
    "    # need to filter out anything ending in _h and 2f_z_eehiq\n",
    "    \"higgs\": {\"pattern\": \"[^_e]h\", \"cut\": None},\n",
    "})\n",
    "# check if we missed any processes\n",
    "print(analysis.is_complete_categorisation())"
   ]
  },
  {
   "cell_type": "code",
   "execution_count": null,
   "metadata": {},
   "outputs": [
    {
     "name": "stdout",
     "output_type": "stream",
     "text": [
      "{\n",
      "  \"4f_sw_sl_signal\": [\n",
      "    \"4f_sw_sl_eLpL_signal\",\n",
      "    \"4f_sw_sl_eRpR_signal\",\n",
      "    \"4f_sw_sl_eLpR_signal\",\n",
      "    \"4f_sw_sl_eRpL_signal\"\n",
      "  ],\n",
      "  \"4f_sl_bkg\": [\n",
      "    \"4f_sze_sl_eLpR\",\n",
      "    \"4f_sze_sl_eRpL\",\n",
      "    \"4f_sze_sl_eLpL\",\n",
      "    \"4f_zz_sl_eLpR\",\n",
      "    \"4f_zz_sl_eRpL\",\n",
      "    \"4f_zznu_sl_eLpR\",\n",
      "    \"4f_zznu_sl_eRpL\",\n",
      "    \"aa_4f_zz_sl_eBpB\",\n",
      "    \"4f_ww_sl_eRpL\",\n",
      "    \"aa_4f_ww_sl_eBpB\",\n",
      "    \"4f_sznu_sl_eRpL\",\n",
      "    \"4f_sw_sl_eLpL_bkg\",\n",
      "    \"4f_sw_sl_eRpR_bkg\",\n",
      "    \"4f_sw_sl_eLpR_bkg\",\n",
      "    \"4f_sw_sl_eRpL_bkg\"\n",
      "  ],\n",
      "  \"4f_not_sl\": [\n",
      "    \"4f_zzorww_h_eLpR\",\n",
      "    \"4f_zzorww_h_eRpL\",\n",
      "    \"4f_zz_h_eLpR\",\n",
      "    \"4f_zz_h_eRpL\",\n",
      "    \"4f_ww_h_eLpR\",\n",
      "    \"4f_ww_h_eRpL\",\n",
      "    \"4f_sznu_l_eLpR\",\n",
      "    \"4f_sznu_l_eRpL\",\n",
      "    \"4f_szeorsw_l_eRpL\",\n",
      "    \"4f_szeorsw_l_eLpR\",\n",
      "    \"4f_szeorsw_l_eRpR\",\n",
      "    \"4f_zznu_l_eLpR\",\n",
      "    \"4f_zznu_l_eRpL\",\n",
      "    \"4f_zz_l_eRpL\",\n",
      "    \"4f_zz_l_eLpR\",\n",
      "    \"4f_ww_l_eLpR\",\n",
      "    \"4f_sze_l_eLpR\",\n",
      "    \"4f_sze_l_eRpL\",\n",
      "    \"4f_sze_l_eLpL\",\n",
      "    \"4f_sze_l_eRpR\",\n",
      "    \"aa_4f_zzorww_l_eBpB\",\n",
      "    \"4f_sw_l_eLpL\",\n",
      "    \"4f_sw_l_eLpR\",\n",
      "    \"aa_4f_zz_l_eBpB\"\n",
      "  ],\n",
      "  \"aa2f\": [\n",
      "    \"aa_2f_z_h_eBpW\",\n",
      "    \"aa_2f_z_h_eWpB\",\n",
      "    \"aa_2f_z_h_eWpW\",\n",
      "    \"aa_2f_z_h_eBpB\",\n",
      "    \"aa_2f_z_l_eBpW\",\n",
      "    \"aa_2f_z_l_eWpB\",\n",
      "    \"aa_2f_z_l_eBpB\",\n",
      "    \"aa_2f_z_l_eWpW\"\n",
      "  ],\n",
      "  \"2f\": [\n",
      "    \"2f_z_l_eRpL\",\n",
      "    \"2f_z_l_eLpR\",\n",
      "    \"2f_z_eehiq_eLpR\",\n",
      "    \"2f_z_eehiq_eLpL\",\n",
      "    \"2f_z_eehiq_eRpL\",\n",
      "    \"2f_z_eehiq_eRpR\",\n",
      "    \"2f_z_h_eLpR\",\n",
      "    \"2f_z_h_eRpL\"\n",
      "  ],\n",
      "  \"3f\": [\n",
      "    \"ae_3f_w_l_eBpR\",\n",
      "    \"ea_3f_w_h_eLpB\",\n",
      "    \"ea_3f_w_l_eLpB\",\n",
      "    \"ea_3f_z_nu_eLpB\",\n",
      "    \"ea_3f_z_nu_eRpB\",\n",
      "    \"ae_3f_z_l_eBpL\",\n",
      "    \"ea_3f_z_l_eRpB\",\n",
      "    \"ea_3f_z_h_eRpB\",\n",
      "    \"ea_3f_z_h_eLpB\"\n",
      "  ],\n",
      "  \"5f\": [\n",
      "    \"ae_5f_zz_sl_eWpR\",\n",
      "    \"ea_5f_zz_sl_eLpW\",\n",
      "    \"ae_5f_ww_sl_eWpL\",\n",
      "    \"ae_5f_zznu_sl_eWpL\",\n",
      "    \"ea_5f_zz_l_eRpW\",\n",
      "    \"ea_5f_zznu_l_eRpW\",\n",
      "    \"ea_5f_zz_h_eRpW\",\n",
      "    \"ae_5f_zzorww_h_eWpL\"\n",
      "  ],\n",
      "  \"6f\": [\n",
      "    \"6f_vvxyyx_eRpL\",\n",
      "    \"6f_eexxxx_eLpR\",\n",
      "    \"6f_vvxxxx_eRpL\",\n",
      "    \"6f_eexyyx_eLpR\",\n",
      "    \"6f_eeyyyy_eRpL\"\n",
      "  ],\n",
      "  \"higgs\": [\n",
      "    \"n23n23h_eLpR\",\n",
      "    \"n23n23h_eRpL\",\n",
      "    \"e1e1h_eLpR\",\n",
      "    \"e1e1h_eLpL\",\n",
      "    \"e1e1h_eRpR\",\n",
      "    \"e1e1h_eRpL\",\n",
      "    \"e2e2h_eRpL\",\n",
      "    \"e2e2h_eLpR\",\n",
      "    \"qqh_eRpL\",\n",
      "    \"qqh_eLpR\",\n",
      "    \"e3e3h_eLpR\",\n",
      "    \"e3e3h_eRpL\",\n",
      "    \"n1n1h_eLpR\",\n",
      "    \"n1n1h_eRpL\"\n",
      "  ]\n",
      "}\n"
     ]
    }
   ],
   "source": [
    "print(json.dumps(analysis._categories, indent=2))"
   ]
  },
  {
   "cell_type": "code",
   "execution_count": null,
   "metadata": {},
   "outputs": [],
   "source": [
    "# needed for the .size() calls... alternative would probably be to .Alias the @size columns\n",
    "ROOT.gInterpreter.Declare(\"#include <podio/ObjectID.h>\")\n",
    "ROOT.gInterpreter.Declare(\"#include <edm4hep/ReconstructedParticleData.h>\")\n",
    "analysis.Define(\"n_isomuons\", \"IsolatedMuons_objIdx.size()\")\n",
    "analysis.Define(\"n_isoelectrons\", \"IsolatedElectrons_objIdx.size()\")\n",
    "analysis.Define(\"RecoCatBasic\", \"params_WWCategorisation_RecoCatBasic\")\n",
    "analysis.Define(\"RecoCatAdvanced\", \"params_WWCategorisation_RecoCatAdvanced\")\n",
    "analysis.Define(\"n_charged_PFOs\", \"Sum(abs(PandoraPFOs.charge) == 1.)\")\n",
    "analysis.Define(\"n_R2jets\", \"Refined2Jets.size()\")\n",
    "make_lvec = lambda coll_name: f\"ROOT::VecOps::Construct<ROOT::Math::PxPyPzEVector>({coll_name}.momentum.x, {coll_name}.momentum.y, {coll_name}.momentum.z, {coll_name}.energy)\"\n",
    "analysis.Define(\"R2jet_lvecs\", make_lvec(\"Refined2Jets\"))\n",
    "analysis.Define(\"M_jj\", \"ROOT::VecOps::Sum(R2jet_lvecs, ROOT::Math::PxPyPzEVector()).mass()\")\n",
    "analysis.Define(\"PVertex_ndf\", \"PrimaryVertex.ndf\")\n",
    "analysis.Define(\"PVertex_chi2\", \"PrimaryVertex.chi2\")\n",
    "analysis.Define(\"PVertex_chi2ndf\", \"PVertex_chi2 / PVertex_ndf\")"
   ]
  },
  {
   "cell_type": "code",
   "execution_count": null,
   "metadata": {},
   "outputs": [],
   "source": [
    "analysis.book_histogram_1D(\"RecoCatBasic\", \"RecoCatBasic\", (\"\", \";RecoCatBasic\", 8, 0., 8.))\n",
    "analysis.book_histogram_1D(\"RecoCatAdvanced\", \"RecoCatAdvanced\", (\"\", \";RecoCatAdvanced\", 8, 0., 8.))\n",
    "\n",
    "analysis.add_filter(\"RecoCatAdvanced == 2\", \"RecoCatAdvanced == 2\")"
   ]
  },
  {
   "cell_type": "code",
   "execution_count": null,
   "metadata": {},
   "outputs": [],
   "source": [
    "\n",
    "analysis.book_histogram_1D(\"n_isoelectrons\", \"n_isoelectrons\", (\"\", \";n_isoelectrons\", 5, 0., 5.))\n",
    "analysis.book_histogram_1D(\"n_charged_PFOs\", \"n_charged_PFOs\", (\"\", \";n_charged_PFOs\", 50, 0., 50.))\n",
    "\n",
    "analysis.add_filter(\"n_charged_PFOs >= 10\", \"n_charged_PFOs geq 10\")\n",
    "analysis.add_filter(\"n_isoelectrons == 1\", \"1 iso electron\")\n",
    "\n",
    "analysis.book_histogram_1D(\"misspT\", \"params_WWCategorisation_misspT\", (\"\", \";misspT\", 100, 0., 100.))\n",
    "\n",
    "analysis.add_filter(\"params_WWCategorisation_misspT >= 10\", \"misspT geq 10\")\n",
    "\n",
    "analysis.book_histogram_1D(\"PVertex_ndf\", \"PVertex_ndf\", (\"\", \";PVertex_ndf\", 50, 1., 101.))\n",
    "\n",
    "analysis.book_histogram_1D(\"missE\", \"params_WWCategorisation_missE\", (\"\", \";missE\", 300, -50., 250.))\n",
    "analysis.book_histogram_1D(\"mInv\", \"params_WWCategorisation_mInv\", (\"\", \";mInv\", 100, 40., 140.))\n",
    "analysis.book_histogram_1D(\"M_jj\", \"M_jj\", (\"\", \";M_jj\", 100, 32., 132.))\n",
    "analysis.book_histogram_1D(\"n_isomuons\", \"n_isomuons\", (\"\", \";n_isomuons\", 5, 0., 5.))\n",
    "analysis.book_histogram_1D(\"PVertex_chi2\", \"PVertex_chi2\", (\"\", \";PVertex_chi2\", 75, 0., 150.))\n",
    "analysis.book_histogram_1D(\"PVertex_chi2ndf\", \"PVertex_chi2ndf\", (\"\", \";PVertex_chi2/ndf\", 20, 0., 10.))"
   ]
  },
  {
   "cell_type": "code",
   "execution_count": null,
   "metadata": {},
   "outputs": [],
   "source": [
    "analysis.book_reports()"
   ]
  },
  {
   "cell_type": "code",
   "execution_count": null,
   "metadata": {},
   "outputs": [],
   "source": [
    "# analysis.book_snapshots(\"events\", \"data/snapshots\", [\"PandoraPFOs\"])\n",
    "# analysis.book_snapshots(\"events\", \"root://eosuser.cern.ch//eos/user/l/lreichen/snapshot-test/reduced\", [\"PandoraPFOs\"])\n",
    "# analysis.book_snapshots(\"events\", \"root://eosuser.cern.ch//eos/user/l/lreichen/snapshot-test/reduced500\", [\"PandoraPFOs\"])\n",
    "# Have also no dict for these RVecs thanks to root having forgotten it...\n",
    "# analysis.book_snapshots(\"events\", \"root://eosuser.cern.ch//eos/user/l/lreichen/snapshot-test-full/full-zstd-9\", column_list=r\"^(?!R2jet_lvecs)\\w+$\", no_rvec=True)"
   ]
  },
  {
   "cell_type": "code",
   "execution_count": null,
   "metadata": {},
   "outputs": [
    {
     "name": "stdout",
     "output_type": "stream",
     "text": [
      "CPU times: user 6min 43s, sys: 1min 5s, total: 7min 49s\n",
      "Wall time: 5min 26s\n",
      "OBJ: TStyle\tildStyle\tILD Style : 0 at: 0x26a1cbb0\n"
     ]
    }
   ],
   "source": [
    "%%time\n",
    "analysis.run()"
   ]
  },
  {
   "cell_type": "code",
   "execution_count": null,
   "metadata": {},
   "outputs": [
    {
     "name": "stdout",
     "output_type": "stream",
     "text": [
      "       4f_sw_sl_signal             4f_sl_bkg             4f_not_sl                  aa2f                    2f                    3f                    5f                    6f                 higgs\n",
      "        13143286 (2e+04)         8121644 (9e+03)        73686097 (1e+05)      7613111686 (1e+07)      1272531834 (2e+06)       140022808 (4e+05)           31964 (3e+02)             948 (9e+00)         1050064 (1e+03) All\n",
      "        10940484 (2e+04)         1550440 (4e+03)         1213754 (1e+04)          275799 (6e+04)        42894777 (4e+05)         1027338 (3e+04)            1479 (6e+01)              31 (2e+00)           45061 (2e+02) RecoCatAdvanced == 2\n",
      "        10913065 (2e+04)         1539888 (4e+03)          748308 (1e+04)          259125 (6e+04)        27187986 (3e+05)          884465 (3e+04)            1422 (6e+01)              31 (2e+00)           44982 (2e+02) n_charged_PFOs geq 10\n",
      "        10886001 (2e+04)          865380 (3e+03)          552381 (9e+03)          253838 (6e+04)        23355371 (3e+05)          807208 (2e+04)            1192 (5e+01)               6 (7e-01)           19392 (2e+02) 1 iso electron\n",
      "        10458247 (2e+04)           56208 (7e+02)           82805 (3e+03)           11388 (1e+04)         1697496 (8e+04)           13765 (4e+03)             606 (4e+01)               1 (2e-01)           16417 (2e+02) misspT geq 10\n",
      "            0.80           7e-03           1e-03           1e-06           1e-03           1e-04            0.02           8e-04            0.02 efficiency\n"
     ]
    }
   ],
   "source": [
    "analysis.print_reports()"
   ]
  },
  {
   "cell_type": "code",
   "execution_count": null,
   "metadata": {},
   "outputs": [
    {
     "name": "stdout",
     "output_type": "stream",
     "text": [
      "Error in callback <bound method CaptureDrawnPrimitives._post_execute of <JupyROOT.helpers.utils.CaptureDrawnPrimitives object at 0x7f11c1f22190>> (for post_execute), with arguments args (),kwargs {}:\n"
     ]
    },
    {
     "ename": "AttributeError",
     "evalue": "<class cppyy.gbl.TWebCanvas at 0x3555ea50> has no attribute 'CreateCanvasJSON'. Full details:\n  type object 'TWebCanvas' has no attribute 'CreateCanvasJSON'\n  'TWebCanvas::CreateCanvasJSON' is not a known C++ class\n  'CreateCanvasJSON' is not a known C++ template\n  'CreateCanvasJSON' is not a known C++ enum",
     "output_type": "error",
     "traceback": [
      "\u001b[0;31m---------------------------------------------------------------------------\u001b[0m",
      "\u001b[0;31mAttributeError\u001b[0m                            Traceback (most recent call last)",
      "File \u001b[0;32m/cvmfs/sw.hsf.org/key4hep/releases/2024-10-03/x86_64-almalinux9-gcc14.2.0-opt/root/6.32.04-vms5ij/lib/JupyROOT/helpers/utils.py:471\u001b[0m, in \u001b[0;36mCaptureDrawnPrimitives._post_execute\u001b[0;34m(self)\u001b[0m\n\u001b[1;32m    470\u001b[0m \u001b[38;5;28;01mdef\u001b[39;00m \u001b[38;5;21m_post_execute\u001b[39m(\u001b[38;5;28mself\u001b[39m):\n\u001b[0;32m--> 471\u001b[0m     \u001b[43mNotebookDraw\u001b[49m\u001b[43m(\u001b[49m\u001b[43m)\u001b[49m\n",
      "File \u001b[0;32m/cvmfs/sw.hsf.org/key4hep/releases/2024-10-03/x86_64-almalinux9-gcc14.2.0-opt/root/6.32.04-vms5ij/lib/JupyROOT/helpers/utils.py:460\u001b[0m, in \u001b[0;36mNotebookDraw\u001b[0;34m()\u001b[0m\n\u001b[1;32m    458\u001b[0m \u001b[38;5;28;01mdef\u001b[39;00m \u001b[38;5;21mNotebookDraw\u001b[39m():\n\u001b[1;32m    459\u001b[0m     DrawGeometry()\n\u001b[0;32m--> 460\u001b[0m     \u001b[43mDrawCanvases\u001b[49m\u001b[43m(\u001b[49m\u001b[43m)\u001b[49m\n\u001b[1;32m    461\u001b[0m     DrawRCanvases()\n",
      "File \u001b[0;32m/cvmfs/sw.hsf.org/key4hep/releases/2024-10-03/x86_64-almalinux9-gcc14.2.0-opt/root/6.32.04-vms5ij/lib/JupyROOT/helpers/utils.py:451\u001b[0m, in \u001b[0;36mDrawCanvases\u001b[0;34m()\u001b[0m\n\u001b[1;32m    449\u001b[0m drawers \u001b[38;5;241m=\u001b[39m GetCanvasDrawers()\n\u001b[1;32m    450\u001b[0m \u001b[38;5;28;01mfor\u001b[39;00m drawer \u001b[38;5;129;01min\u001b[39;00m drawers:\n\u001b[0;32m--> 451\u001b[0m     \u001b[43mdrawer\u001b[49m\u001b[38;5;241;43m.\u001b[39;49m\u001b[43mDraw\u001b[49m\u001b[43m(\u001b[49m\u001b[43m)\u001b[49m\n",
      "File \u001b[0;32m/cvmfs/sw.hsf.org/key4hep/releases/2024-10-03/x86_64-almalinux9-gcc14.2.0-opt/root/6.32.04-vms5ij/lib/JupyROOT/helpers/utils.py:647\u001b[0m, in \u001b[0;36mNotebookDrawer.Draw\u001b[0;34m(self)\u001b[0m\n\u001b[1;32m    646\u001b[0m \u001b[38;5;28;01mdef\u001b[39;00m \u001b[38;5;21mDraw\u001b[39m(\u001b[38;5;28mself\u001b[39m):\n\u001b[0;32m--> 647\u001b[0m     \u001b[38;5;28;43mself\u001b[39;49m\u001b[38;5;241;43m.\u001b[39;49m\u001b[43m_display\u001b[49m\u001b[43m(\u001b[49m\u001b[43m)\u001b[49m\n\u001b[1;32m    648\u001b[0m     \u001b[38;5;28;01mreturn\u001b[39;00m \u001b[38;5;241m0\u001b[39m\n",
      "File \u001b[0;32m/cvmfs/sw.hsf.org/key4hep/releases/2024-10-03/x86_64-almalinux9-gcc14.2.0-opt/root/6.32.04-vms5ij/lib/JupyROOT/helpers/utils.py:633\u001b[0m, in \u001b[0;36mNotebookDrawer._display\u001b[0;34m(self)\u001b[0m\n\u001b[1;32m    631\u001b[0m \u001b[38;5;28;01melse\u001b[39;00m:\n\u001b[1;32m    632\u001b[0m   \u001b[38;5;28;01mif\u001b[39;00m \u001b[38;5;28mself\u001b[39m\u001b[38;5;241m.\u001b[39m_canJsDisplay():\n\u001b[0;32m--> 633\u001b[0m      \u001b[38;5;28;43mself\u001b[39;49m\u001b[38;5;241;43m.\u001b[39;49m\u001b[43m_jsDisplay\u001b[49m\u001b[43m(\u001b[49m\u001b[43m)\u001b[49m\n\u001b[1;32m    634\u001b[0m   \u001b[38;5;28;01melse\u001b[39;00m:\n\u001b[1;32m    635\u001b[0m      \u001b[38;5;28mself\u001b[39m\u001b[38;5;241m.\u001b[39m_pngDisplay()\n",
      "File \u001b[0;32m/cvmfs/sw.hsf.org/key4hep/releases/2024-10-03/x86_64-almalinux9-gcc14.2.0-opt/root/6.32.04-vms5ij/lib/JupyROOT/helpers/utils.py:597\u001b[0m, in \u001b[0;36mNotebookDrawer._jsDisplay\u001b[0;34m(self)\u001b[0m\n\u001b[1;32m    595\u001b[0m name \u001b[38;5;241m=\u001b[39m \u001b[38;5;28mself\u001b[39m\u001b[38;5;241m.\u001b[39m_getDrawId()\n\u001b[1;32m    596\u001b[0m updated \u001b[38;5;241m=\u001b[39m \u001b[38;5;28mself\u001b[39m\u001b[38;5;241m.\u001b[39m_getUpdated()\n\u001b[0;32m--> 597\u001b[0m jsdiv \u001b[38;5;241m=\u001b[39m \u001b[38;5;28;43mself\u001b[39;49m\u001b[38;5;241;43m.\u001b[39;49m\u001b[43m_getJsDiv\u001b[49m\u001b[43m(\u001b[49m\u001b[43m)\u001b[49m\n\u001b[1;32m    598\u001b[0m \u001b[38;5;28;01mif\u001b[39;00m name \u001b[38;5;129;01mand\u001b[39;00m (name \u001b[38;5;129;01min\u001b[39;00m _canvasHandles) \u001b[38;5;129;01mand\u001b[39;00m updated:\n\u001b[1;32m    599\u001b[0m     _canvasHandles[name]\u001b[38;5;241m.\u001b[39mupdate(jsdiv)\n",
      "File \u001b[0;32m/cvmfs/sw.hsf.org/key4hep/releases/2024-10-03/x86_64-almalinux9-gcc14.2.0-opt/root/6.32.04-vms5ij/lib/JupyROOT/helpers/utils.py:576\u001b[0m, in \u001b[0;36mNotebookDrawer._getJsDiv\u001b[0;34m(self)\u001b[0m\n\u001b[1;32m    575\u001b[0m \u001b[38;5;28;01mdef\u001b[39;00m \u001b[38;5;21m_getJsDiv\u001b[39m(\u001b[38;5;28mself\u001b[39m):\n\u001b[0;32m--> 576\u001b[0m     \u001b[38;5;28;01mreturn\u001b[39;00m display\u001b[38;5;241m.\u001b[39mHTML(\u001b[38;5;28;43mself\u001b[39;49m\u001b[38;5;241;43m.\u001b[39;49m\u001b[43m_getJsCode\u001b[49m\u001b[43m(\u001b[49m\u001b[43m)\u001b[49m)\n",
      "File \u001b[0;32m/cvmfs/sw.hsf.org/key4hep/releases/2024-10-03/x86_64-almalinux9-gcc14.2.0-opt/root/6.32.04-vms5ij/lib/JupyROOT/helpers/utils.py:550\u001b[0m, in \u001b[0;36mNotebookDrawer._getJsCode\u001b[0;34m(self)\u001b[0m\n\u001b[1;32m    548\u001b[0m     json \u001b[38;5;241m=\u001b[39m \u001b[38;5;28mself\u001b[39m\u001b[38;5;241m.\u001b[39mdrawableObject\u001b[38;5;241m.\u001b[39mCreateJSON()\n\u001b[1;32m    549\u001b[0m \u001b[38;5;28;01melse\u001b[39;00m:\n\u001b[0;32m--> 550\u001b[0m     json \u001b[38;5;241m=\u001b[39m \u001b[43mproduceCanvasJson\u001b[49m\u001b[43m(\u001b[49m\u001b[38;5;28;43mself\u001b[39;49m\u001b[38;5;241;43m.\u001b[39;49m\u001b[43mdrawableObject\u001b[49m\u001b[43m)\u001b[49m\u001b[38;5;241m.\u001b[39mData()\n\u001b[1;32m    552\u001b[0m divId \u001b[38;5;241m=\u001b[39m \u001b[38;5;28mself\u001b[39m\u001b[38;5;241m.\u001b[39m_getUniqueDivId()\n\u001b[1;32m    554\u001b[0m width \u001b[38;5;241m=\u001b[39m _jsCanvasWidth\n",
      "File \u001b[0;32m/cvmfs/sw.hsf.org/key4hep/releases/2024-10-03/x86_64-almalinux9-gcc14.2.0-opt/root/6.32.04-vms5ij/lib/JupyROOT/helpers/utils.py:302\u001b[0m, in \u001b[0;36mproduceCanvasJson\u001b[0;34m(canvas)\u001b[0m\n\u001b[1;32m    299\u001b[0m     canvas\u001b[38;5;241m.\u001b[39mDraw()\n\u001b[1;32m    301\u001b[0m \u001b[38;5;28;01mif\u001b[39;00m TWebCanvasAvailable():\n\u001b[0;32m--> 302\u001b[0m     \u001b[38;5;28;01mreturn\u001b[39;00m \u001b[43mROOT\u001b[49m\u001b[38;5;241;43m.\u001b[39;49m\u001b[43mTWebCanvas\u001b[49m\u001b[38;5;241;43m.\u001b[39;49m\u001b[43mCreateCanvasJSON\u001b[49m(canvas, \u001b[38;5;241m3\u001b[39m)\n\u001b[1;32m    304\u001b[0m \u001b[38;5;66;03m# Add extra primitives to canvas with custom colors, palette, gStyle\u001b[39;00m\n\u001b[1;32m    306\u001b[0m prim \u001b[38;5;241m=\u001b[39m canvas\u001b[38;5;241m.\u001b[39mGetListOfPrimitives()\n",
      "\u001b[0;31mAttributeError\u001b[0m: <class cppyy.gbl.TWebCanvas at 0x3555ea50> has no attribute 'CreateCanvasJSON'. Full details:\n  type object 'TWebCanvas' has no attribute 'CreateCanvasJSON'\n  'TWebCanvas::CreateCanvasJSON' is not a known C++ class\n  'CreateCanvasJSON' is not a known C++ template\n  'CreateCanvasJSON' is not a known C++ enum"
     ]
    }
   ],
   "source": [
    "# unfortunately the jsroot plots break all the time, maybe it is just too much for them\n",
    "# %jsroot on\n",
    "# 0 - hadronic (both W decay hadronically)\n",
    "# 1 - invisible semileptonic (one W decays hadronically, but the lepton is not within detector acceptance/detected)\n",
    "# 2 - semileptonic electron\n",
    "# 3 - semileptonic muon\n",
    "# 4 - semileptonic tauon\n",
    "# 5 - leptonic (both W decay leptonically)\n",
    "# 6 - other, 7- broken?\n",
    "analysis.draw_histogram(\"RecoCatBasic\")\n",
    "analysis.draw_histogram(\"RecoCatAdvanced\")\n",
    "analysis.draw_histogram(\"n_charged_PFOs\")\n",
    "analysis.draw_histogram(\"n_isoelectrons\")"
   ]
  },
  {
   "cell_type": "code",
   "execution_count": null,
   "metadata": {},
   "outputs": [
    {
     "name": "stdout",
     "output_type": "stream",
     "text": [
      "Error in callback <bound method CaptureDrawnPrimitives._post_execute of <JupyROOT.helpers.utils.CaptureDrawnPrimitives object at 0x7f11c1f22190>> (for post_execute), with arguments args (),kwargs {}:\n"
     ]
    },
    {
     "ename": "AttributeError",
     "evalue": "<class cppyy.gbl.TWebCanvas at 0x356057c0> has no attribute 'CreateCanvasJSON'. Full details:\n  type object 'TWebCanvas' has no attribute 'CreateCanvasJSON'\n  'TWebCanvas::CreateCanvasJSON' is not a known C++ class\n  'CreateCanvasJSON' is not a known C++ template\n  'CreateCanvasJSON' is not a known C++ enum",
     "output_type": "error",
     "traceback": [
      "\u001b[0;31m---------------------------------------------------------------------------\u001b[0m",
      "\u001b[0;31mAttributeError\u001b[0m                            Traceback (most recent call last)",
      "File \u001b[0;32m/cvmfs/sw.hsf.org/key4hep/releases/2024-10-03/x86_64-almalinux9-gcc14.2.0-opt/root/6.32.04-vms5ij/lib/JupyROOT/helpers/utils.py:471\u001b[0m, in \u001b[0;36mCaptureDrawnPrimitives._post_execute\u001b[0;34m(self)\u001b[0m\n\u001b[1;32m    470\u001b[0m \u001b[38;5;28;01mdef\u001b[39;00m \u001b[38;5;21m_post_execute\u001b[39m(\u001b[38;5;28mself\u001b[39m):\n\u001b[0;32m--> 471\u001b[0m     \u001b[43mNotebookDraw\u001b[49m\u001b[43m(\u001b[49m\u001b[43m)\u001b[49m\n",
      "File \u001b[0;32m/cvmfs/sw.hsf.org/key4hep/releases/2024-10-03/x86_64-almalinux9-gcc14.2.0-opt/root/6.32.04-vms5ij/lib/JupyROOT/helpers/utils.py:460\u001b[0m, in \u001b[0;36mNotebookDraw\u001b[0;34m()\u001b[0m\n\u001b[1;32m    458\u001b[0m \u001b[38;5;28;01mdef\u001b[39;00m \u001b[38;5;21mNotebookDraw\u001b[39m():\n\u001b[1;32m    459\u001b[0m     DrawGeometry()\n\u001b[0;32m--> 460\u001b[0m     \u001b[43mDrawCanvases\u001b[49m\u001b[43m(\u001b[49m\u001b[43m)\u001b[49m\n\u001b[1;32m    461\u001b[0m     DrawRCanvases()\n",
      "File \u001b[0;32m/cvmfs/sw.hsf.org/key4hep/releases/2024-10-03/x86_64-almalinux9-gcc14.2.0-opt/root/6.32.04-vms5ij/lib/JupyROOT/helpers/utils.py:451\u001b[0m, in \u001b[0;36mDrawCanvases\u001b[0;34m()\u001b[0m\n\u001b[1;32m    449\u001b[0m drawers \u001b[38;5;241m=\u001b[39m GetCanvasDrawers()\n\u001b[1;32m    450\u001b[0m \u001b[38;5;28;01mfor\u001b[39;00m drawer \u001b[38;5;129;01min\u001b[39;00m drawers:\n\u001b[0;32m--> 451\u001b[0m     \u001b[43mdrawer\u001b[49m\u001b[38;5;241;43m.\u001b[39;49m\u001b[43mDraw\u001b[49m\u001b[43m(\u001b[49m\u001b[43m)\u001b[49m\n",
      "File \u001b[0;32m/cvmfs/sw.hsf.org/key4hep/releases/2024-10-03/x86_64-almalinux9-gcc14.2.0-opt/root/6.32.04-vms5ij/lib/JupyROOT/helpers/utils.py:647\u001b[0m, in \u001b[0;36mNotebookDrawer.Draw\u001b[0;34m(self)\u001b[0m\n\u001b[1;32m    646\u001b[0m \u001b[38;5;28;01mdef\u001b[39;00m \u001b[38;5;21mDraw\u001b[39m(\u001b[38;5;28mself\u001b[39m):\n\u001b[0;32m--> 647\u001b[0m     \u001b[38;5;28;43mself\u001b[39;49m\u001b[38;5;241;43m.\u001b[39;49m\u001b[43m_display\u001b[49m\u001b[43m(\u001b[49m\u001b[43m)\u001b[49m\n\u001b[1;32m    648\u001b[0m     \u001b[38;5;28;01mreturn\u001b[39;00m \u001b[38;5;241m0\u001b[39m\n",
      "File \u001b[0;32m/cvmfs/sw.hsf.org/key4hep/releases/2024-10-03/x86_64-almalinux9-gcc14.2.0-opt/root/6.32.04-vms5ij/lib/JupyROOT/helpers/utils.py:633\u001b[0m, in \u001b[0;36mNotebookDrawer._display\u001b[0;34m(self)\u001b[0m\n\u001b[1;32m    631\u001b[0m \u001b[38;5;28;01melse\u001b[39;00m:\n\u001b[1;32m    632\u001b[0m   \u001b[38;5;28;01mif\u001b[39;00m \u001b[38;5;28mself\u001b[39m\u001b[38;5;241m.\u001b[39m_canJsDisplay():\n\u001b[0;32m--> 633\u001b[0m      \u001b[38;5;28;43mself\u001b[39;49m\u001b[38;5;241;43m.\u001b[39;49m\u001b[43m_jsDisplay\u001b[49m\u001b[43m(\u001b[49m\u001b[43m)\u001b[49m\n\u001b[1;32m    634\u001b[0m   \u001b[38;5;28;01melse\u001b[39;00m:\n\u001b[1;32m    635\u001b[0m      \u001b[38;5;28mself\u001b[39m\u001b[38;5;241m.\u001b[39m_pngDisplay()\n",
      "File \u001b[0;32m/cvmfs/sw.hsf.org/key4hep/releases/2024-10-03/x86_64-almalinux9-gcc14.2.0-opt/root/6.32.04-vms5ij/lib/JupyROOT/helpers/utils.py:597\u001b[0m, in \u001b[0;36mNotebookDrawer._jsDisplay\u001b[0;34m(self)\u001b[0m\n\u001b[1;32m    595\u001b[0m name \u001b[38;5;241m=\u001b[39m \u001b[38;5;28mself\u001b[39m\u001b[38;5;241m.\u001b[39m_getDrawId()\n\u001b[1;32m    596\u001b[0m updated \u001b[38;5;241m=\u001b[39m \u001b[38;5;28mself\u001b[39m\u001b[38;5;241m.\u001b[39m_getUpdated()\n\u001b[0;32m--> 597\u001b[0m jsdiv \u001b[38;5;241m=\u001b[39m \u001b[38;5;28;43mself\u001b[39;49m\u001b[38;5;241;43m.\u001b[39;49m\u001b[43m_getJsDiv\u001b[49m\u001b[43m(\u001b[49m\u001b[43m)\u001b[49m\n\u001b[1;32m    598\u001b[0m \u001b[38;5;28;01mif\u001b[39;00m name \u001b[38;5;129;01mand\u001b[39;00m (name \u001b[38;5;129;01min\u001b[39;00m _canvasHandles) \u001b[38;5;129;01mand\u001b[39;00m updated:\n\u001b[1;32m    599\u001b[0m     _canvasHandles[name]\u001b[38;5;241m.\u001b[39mupdate(jsdiv)\n",
      "File \u001b[0;32m/cvmfs/sw.hsf.org/key4hep/releases/2024-10-03/x86_64-almalinux9-gcc14.2.0-opt/root/6.32.04-vms5ij/lib/JupyROOT/helpers/utils.py:576\u001b[0m, in \u001b[0;36mNotebookDrawer._getJsDiv\u001b[0;34m(self)\u001b[0m\n\u001b[1;32m    575\u001b[0m \u001b[38;5;28;01mdef\u001b[39;00m \u001b[38;5;21m_getJsDiv\u001b[39m(\u001b[38;5;28mself\u001b[39m):\n\u001b[0;32m--> 576\u001b[0m     \u001b[38;5;28;01mreturn\u001b[39;00m display\u001b[38;5;241m.\u001b[39mHTML(\u001b[38;5;28;43mself\u001b[39;49m\u001b[38;5;241;43m.\u001b[39;49m\u001b[43m_getJsCode\u001b[49m\u001b[43m(\u001b[49m\u001b[43m)\u001b[49m)\n",
      "File \u001b[0;32m/cvmfs/sw.hsf.org/key4hep/releases/2024-10-03/x86_64-almalinux9-gcc14.2.0-opt/root/6.32.04-vms5ij/lib/JupyROOT/helpers/utils.py:550\u001b[0m, in \u001b[0;36mNotebookDrawer._getJsCode\u001b[0;34m(self)\u001b[0m\n\u001b[1;32m    548\u001b[0m     json \u001b[38;5;241m=\u001b[39m \u001b[38;5;28mself\u001b[39m\u001b[38;5;241m.\u001b[39mdrawableObject\u001b[38;5;241m.\u001b[39mCreateJSON()\n\u001b[1;32m    549\u001b[0m \u001b[38;5;28;01melse\u001b[39;00m:\n\u001b[0;32m--> 550\u001b[0m     json \u001b[38;5;241m=\u001b[39m \u001b[43mproduceCanvasJson\u001b[49m\u001b[43m(\u001b[49m\u001b[38;5;28;43mself\u001b[39;49m\u001b[38;5;241;43m.\u001b[39;49m\u001b[43mdrawableObject\u001b[49m\u001b[43m)\u001b[49m\u001b[38;5;241m.\u001b[39mData()\n\u001b[1;32m    552\u001b[0m divId \u001b[38;5;241m=\u001b[39m \u001b[38;5;28mself\u001b[39m\u001b[38;5;241m.\u001b[39m_getUniqueDivId()\n\u001b[1;32m    554\u001b[0m width \u001b[38;5;241m=\u001b[39m _jsCanvasWidth\n",
      "File \u001b[0;32m/cvmfs/sw.hsf.org/key4hep/releases/2024-10-03/x86_64-almalinux9-gcc14.2.0-opt/root/6.32.04-vms5ij/lib/JupyROOT/helpers/utils.py:302\u001b[0m, in \u001b[0;36mproduceCanvasJson\u001b[0;34m(canvas)\u001b[0m\n\u001b[1;32m    299\u001b[0m     canvas\u001b[38;5;241m.\u001b[39mDraw()\n\u001b[1;32m    301\u001b[0m \u001b[38;5;28;01mif\u001b[39;00m TWebCanvasAvailable():\n\u001b[0;32m--> 302\u001b[0m     \u001b[38;5;28;01mreturn\u001b[39;00m \u001b[43mROOT\u001b[49m\u001b[38;5;241;43m.\u001b[39;49m\u001b[43mTWebCanvas\u001b[49m\u001b[38;5;241;43m.\u001b[39;49m\u001b[43mCreateCanvasJSON\u001b[49m(canvas, \u001b[38;5;241m3\u001b[39m)\n\u001b[1;32m    304\u001b[0m \u001b[38;5;66;03m# Add extra primitives to canvas with custom colors, palette, gStyle\u001b[39;00m\n\u001b[1;32m    306\u001b[0m prim \u001b[38;5;241m=\u001b[39m canvas\u001b[38;5;241m.\u001b[39mGetListOfPrimitives()\n",
      "\u001b[0;31mAttributeError\u001b[0m: <class cppyy.gbl.TWebCanvas at 0x356057c0> has no attribute 'CreateCanvasJSON'. Full details:\n  type object 'TWebCanvas' has no attribute 'CreateCanvasJSON'\n  'TWebCanvas::CreateCanvasJSON' is not a known C++ class\n  'CreateCanvasJSON' is not a known C++ template\n  'CreateCanvasJSON' is not a known C++ enum"
     ]
    }
   ],
   "source": [
    "analysis.draw_histogram(\"misspT\")"
   ]
  },
  {
   "cell_type": "code",
   "execution_count": null,
   "metadata": {},
   "outputs": [
    {
     "name": "stdout",
     "output_type": "stream",
     "text": [
      "Error in callback <bound method CaptureDrawnPrimitives._post_execute of <JupyROOT.helpers.utils.CaptureDrawnPrimitives object at 0x7f11c1f22190>> (for post_execute), with arguments args (),kwargs {}:\n"
     ]
    },
    {
     "ename": "AttributeError",
     "evalue": "<class cppyy.gbl.TWebCanvas at 0x3551f7d0> has no attribute 'CreateCanvasJSON'. Full details:\n  type object 'TWebCanvas' has no attribute 'CreateCanvasJSON'\n  'TWebCanvas::CreateCanvasJSON' is not a known C++ class\n  'CreateCanvasJSON' is not a known C++ template\n  'CreateCanvasJSON' is not a known C++ enum",
     "output_type": "error",
     "traceback": [
      "\u001b[0;31m---------------------------------------------------------------------------\u001b[0m",
      "\u001b[0;31mAttributeError\u001b[0m                            Traceback (most recent call last)",
      "File \u001b[0;32m/cvmfs/sw.hsf.org/key4hep/releases/2024-10-03/x86_64-almalinux9-gcc14.2.0-opt/root/6.32.04-vms5ij/lib/JupyROOT/helpers/utils.py:471\u001b[0m, in \u001b[0;36mCaptureDrawnPrimitives._post_execute\u001b[0;34m(self)\u001b[0m\n\u001b[1;32m    470\u001b[0m \u001b[38;5;28;01mdef\u001b[39;00m \u001b[38;5;21m_post_execute\u001b[39m(\u001b[38;5;28mself\u001b[39m):\n\u001b[0;32m--> 471\u001b[0m     \u001b[43mNotebookDraw\u001b[49m\u001b[43m(\u001b[49m\u001b[43m)\u001b[49m\n",
      "File \u001b[0;32m/cvmfs/sw.hsf.org/key4hep/releases/2024-10-03/x86_64-almalinux9-gcc14.2.0-opt/root/6.32.04-vms5ij/lib/JupyROOT/helpers/utils.py:460\u001b[0m, in \u001b[0;36mNotebookDraw\u001b[0;34m()\u001b[0m\n\u001b[1;32m    458\u001b[0m \u001b[38;5;28;01mdef\u001b[39;00m \u001b[38;5;21mNotebookDraw\u001b[39m():\n\u001b[1;32m    459\u001b[0m     DrawGeometry()\n\u001b[0;32m--> 460\u001b[0m     \u001b[43mDrawCanvases\u001b[49m\u001b[43m(\u001b[49m\u001b[43m)\u001b[49m\n\u001b[1;32m    461\u001b[0m     DrawRCanvases()\n",
      "File \u001b[0;32m/cvmfs/sw.hsf.org/key4hep/releases/2024-10-03/x86_64-almalinux9-gcc14.2.0-opt/root/6.32.04-vms5ij/lib/JupyROOT/helpers/utils.py:451\u001b[0m, in \u001b[0;36mDrawCanvases\u001b[0;34m()\u001b[0m\n\u001b[1;32m    449\u001b[0m drawers \u001b[38;5;241m=\u001b[39m GetCanvasDrawers()\n\u001b[1;32m    450\u001b[0m \u001b[38;5;28;01mfor\u001b[39;00m drawer \u001b[38;5;129;01min\u001b[39;00m drawers:\n\u001b[0;32m--> 451\u001b[0m     \u001b[43mdrawer\u001b[49m\u001b[38;5;241;43m.\u001b[39;49m\u001b[43mDraw\u001b[49m\u001b[43m(\u001b[49m\u001b[43m)\u001b[49m\n",
      "File \u001b[0;32m/cvmfs/sw.hsf.org/key4hep/releases/2024-10-03/x86_64-almalinux9-gcc14.2.0-opt/root/6.32.04-vms5ij/lib/JupyROOT/helpers/utils.py:647\u001b[0m, in \u001b[0;36mNotebookDrawer.Draw\u001b[0;34m(self)\u001b[0m\n\u001b[1;32m    646\u001b[0m \u001b[38;5;28;01mdef\u001b[39;00m \u001b[38;5;21mDraw\u001b[39m(\u001b[38;5;28mself\u001b[39m):\n\u001b[0;32m--> 647\u001b[0m     \u001b[38;5;28;43mself\u001b[39;49m\u001b[38;5;241;43m.\u001b[39;49m\u001b[43m_display\u001b[49m\u001b[43m(\u001b[49m\u001b[43m)\u001b[49m\n\u001b[1;32m    648\u001b[0m     \u001b[38;5;28;01mreturn\u001b[39;00m \u001b[38;5;241m0\u001b[39m\n",
      "File \u001b[0;32m/cvmfs/sw.hsf.org/key4hep/releases/2024-10-03/x86_64-almalinux9-gcc14.2.0-opt/root/6.32.04-vms5ij/lib/JupyROOT/helpers/utils.py:633\u001b[0m, in \u001b[0;36mNotebookDrawer._display\u001b[0;34m(self)\u001b[0m\n\u001b[1;32m    631\u001b[0m \u001b[38;5;28;01melse\u001b[39;00m:\n\u001b[1;32m    632\u001b[0m   \u001b[38;5;28;01mif\u001b[39;00m \u001b[38;5;28mself\u001b[39m\u001b[38;5;241m.\u001b[39m_canJsDisplay():\n\u001b[0;32m--> 633\u001b[0m      \u001b[38;5;28;43mself\u001b[39;49m\u001b[38;5;241;43m.\u001b[39;49m\u001b[43m_jsDisplay\u001b[49m\u001b[43m(\u001b[49m\u001b[43m)\u001b[49m\n\u001b[1;32m    634\u001b[0m   \u001b[38;5;28;01melse\u001b[39;00m:\n\u001b[1;32m    635\u001b[0m      \u001b[38;5;28mself\u001b[39m\u001b[38;5;241m.\u001b[39m_pngDisplay()\n",
      "File \u001b[0;32m/cvmfs/sw.hsf.org/key4hep/releases/2024-10-03/x86_64-almalinux9-gcc14.2.0-opt/root/6.32.04-vms5ij/lib/JupyROOT/helpers/utils.py:597\u001b[0m, in \u001b[0;36mNotebookDrawer._jsDisplay\u001b[0;34m(self)\u001b[0m\n\u001b[1;32m    595\u001b[0m name \u001b[38;5;241m=\u001b[39m \u001b[38;5;28mself\u001b[39m\u001b[38;5;241m.\u001b[39m_getDrawId()\n\u001b[1;32m    596\u001b[0m updated \u001b[38;5;241m=\u001b[39m \u001b[38;5;28mself\u001b[39m\u001b[38;5;241m.\u001b[39m_getUpdated()\n\u001b[0;32m--> 597\u001b[0m jsdiv \u001b[38;5;241m=\u001b[39m \u001b[38;5;28;43mself\u001b[39;49m\u001b[38;5;241;43m.\u001b[39;49m\u001b[43m_getJsDiv\u001b[49m\u001b[43m(\u001b[49m\u001b[43m)\u001b[49m\n\u001b[1;32m    598\u001b[0m \u001b[38;5;28;01mif\u001b[39;00m name \u001b[38;5;129;01mand\u001b[39;00m (name \u001b[38;5;129;01min\u001b[39;00m _canvasHandles) \u001b[38;5;129;01mand\u001b[39;00m updated:\n\u001b[1;32m    599\u001b[0m     _canvasHandles[name]\u001b[38;5;241m.\u001b[39mupdate(jsdiv)\n",
      "File \u001b[0;32m/cvmfs/sw.hsf.org/key4hep/releases/2024-10-03/x86_64-almalinux9-gcc14.2.0-opt/root/6.32.04-vms5ij/lib/JupyROOT/helpers/utils.py:576\u001b[0m, in \u001b[0;36mNotebookDrawer._getJsDiv\u001b[0;34m(self)\u001b[0m\n\u001b[1;32m    575\u001b[0m \u001b[38;5;28;01mdef\u001b[39;00m \u001b[38;5;21m_getJsDiv\u001b[39m(\u001b[38;5;28mself\u001b[39m):\n\u001b[0;32m--> 576\u001b[0m     \u001b[38;5;28;01mreturn\u001b[39;00m display\u001b[38;5;241m.\u001b[39mHTML(\u001b[38;5;28;43mself\u001b[39;49m\u001b[38;5;241;43m.\u001b[39;49m\u001b[43m_getJsCode\u001b[49m\u001b[43m(\u001b[49m\u001b[43m)\u001b[49m)\n",
      "File \u001b[0;32m/cvmfs/sw.hsf.org/key4hep/releases/2024-10-03/x86_64-almalinux9-gcc14.2.0-opt/root/6.32.04-vms5ij/lib/JupyROOT/helpers/utils.py:550\u001b[0m, in \u001b[0;36mNotebookDrawer._getJsCode\u001b[0;34m(self)\u001b[0m\n\u001b[1;32m    548\u001b[0m     json \u001b[38;5;241m=\u001b[39m \u001b[38;5;28mself\u001b[39m\u001b[38;5;241m.\u001b[39mdrawableObject\u001b[38;5;241m.\u001b[39mCreateJSON()\n\u001b[1;32m    549\u001b[0m \u001b[38;5;28;01melse\u001b[39;00m:\n\u001b[0;32m--> 550\u001b[0m     json \u001b[38;5;241m=\u001b[39m \u001b[43mproduceCanvasJson\u001b[49m\u001b[43m(\u001b[49m\u001b[38;5;28;43mself\u001b[39;49m\u001b[38;5;241;43m.\u001b[39;49m\u001b[43mdrawableObject\u001b[49m\u001b[43m)\u001b[49m\u001b[38;5;241m.\u001b[39mData()\n\u001b[1;32m    552\u001b[0m divId \u001b[38;5;241m=\u001b[39m \u001b[38;5;28mself\u001b[39m\u001b[38;5;241m.\u001b[39m_getUniqueDivId()\n\u001b[1;32m    554\u001b[0m width \u001b[38;5;241m=\u001b[39m _jsCanvasWidth\n",
      "File \u001b[0;32m/cvmfs/sw.hsf.org/key4hep/releases/2024-10-03/x86_64-almalinux9-gcc14.2.0-opt/root/6.32.04-vms5ij/lib/JupyROOT/helpers/utils.py:302\u001b[0m, in \u001b[0;36mproduceCanvasJson\u001b[0;34m(canvas)\u001b[0m\n\u001b[1;32m    299\u001b[0m     canvas\u001b[38;5;241m.\u001b[39mDraw()\n\u001b[1;32m    301\u001b[0m \u001b[38;5;28;01mif\u001b[39;00m TWebCanvasAvailable():\n\u001b[0;32m--> 302\u001b[0m     \u001b[38;5;28;01mreturn\u001b[39;00m \u001b[43mROOT\u001b[49m\u001b[38;5;241;43m.\u001b[39;49m\u001b[43mTWebCanvas\u001b[49m\u001b[38;5;241;43m.\u001b[39;49m\u001b[43mCreateCanvasJSON\u001b[49m(canvas, \u001b[38;5;241m3\u001b[39m)\n\u001b[1;32m    304\u001b[0m \u001b[38;5;66;03m# Add extra primitives to canvas with custom colors, palette, gStyle\u001b[39;00m\n\u001b[1;32m    306\u001b[0m prim \u001b[38;5;241m=\u001b[39m canvas\u001b[38;5;241m.\u001b[39mGetListOfPrimitives()\n",
      "\u001b[0;31mAttributeError\u001b[0m: <class cppyy.gbl.TWebCanvas at 0x3551f7d0> has no attribute 'CreateCanvasJSON'. Full details:\n  type object 'TWebCanvas' has no attribute 'CreateCanvasJSON'\n  'TWebCanvas::CreateCanvasJSON' is not a known C++ class\n  'CreateCanvasJSON' is not a known C++ template\n  'CreateCanvasJSON' is not a known C++ enum"
     ]
    }
   ],
   "source": [
    "analysis.draw_histogram(\"PVertex_ndf\")\n",
    "\n",
    "analysis.draw_histogram(\"missE\")\n",
    "analysis.draw_histogram(\"mInv\")\n",
    "analysis.draw_histogram(\"M_jj\")\n",
    "analysis.draw_histogram(\"n_isomuons\")"
   ]
  },
  {
   "cell_type": "code",
   "execution_count": null,
   "metadata": {},
   "outputs": [
    {
     "name": "stdout",
     "output_type": "stream",
     "text": [
      "Error in callback <bound method CaptureDrawnPrimitives._post_execute of <JupyROOT.helpers.utils.CaptureDrawnPrimitives object at 0x7f11c1f22190>> (for post_execute), with arguments args (),kwargs {}:\n"
     ]
    },
    {
     "ename": "AttributeError",
     "evalue": "<class cppyy.gbl.TWebCanvas at 0x34226b50> has no attribute 'CreateCanvasJSON'. Full details:\n  type object 'TWebCanvas' has no attribute 'CreateCanvasJSON'\n  'TWebCanvas::CreateCanvasJSON' is not a known C++ class\n  'CreateCanvasJSON' is not a known C++ template\n  'CreateCanvasJSON' is not a known C++ enum",
     "output_type": "error",
     "traceback": [
      "\u001b[0;31m---------------------------------------------------------------------------\u001b[0m",
      "\u001b[0;31mAttributeError\u001b[0m                            Traceback (most recent call last)",
      "File \u001b[0;32m/cvmfs/sw.hsf.org/key4hep/releases/2024-10-03/x86_64-almalinux9-gcc14.2.0-opt/root/6.32.04-vms5ij/lib/JupyROOT/helpers/utils.py:471\u001b[0m, in \u001b[0;36mCaptureDrawnPrimitives._post_execute\u001b[0;34m(self)\u001b[0m\n\u001b[1;32m    470\u001b[0m \u001b[38;5;28;01mdef\u001b[39;00m \u001b[38;5;21m_post_execute\u001b[39m(\u001b[38;5;28mself\u001b[39m):\n\u001b[0;32m--> 471\u001b[0m     \u001b[43mNotebookDraw\u001b[49m\u001b[43m(\u001b[49m\u001b[43m)\u001b[49m\n",
      "File \u001b[0;32m/cvmfs/sw.hsf.org/key4hep/releases/2024-10-03/x86_64-almalinux9-gcc14.2.0-opt/root/6.32.04-vms5ij/lib/JupyROOT/helpers/utils.py:460\u001b[0m, in \u001b[0;36mNotebookDraw\u001b[0;34m()\u001b[0m\n\u001b[1;32m    458\u001b[0m \u001b[38;5;28;01mdef\u001b[39;00m \u001b[38;5;21mNotebookDraw\u001b[39m():\n\u001b[1;32m    459\u001b[0m     DrawGeometry()\n\u001b[0;32m--> 460\u001b[0m     \u001b[43mDrawCanvases\u001b[49m\u001b[43m(\u001b[49m\u001b[43m)\u001b[49m\n\u001b[1;32m    461\u001b[0m     DrawRCanvases()\n",
      "File \u001b[0;32m/cvmfs/sw.hsf.org/key4hep/releases/2024-10-03/x86_64-almalinux9-gcc14.2.0-opt/root/6.32.04-vms5ij/lib/JupyROOT/helpers/utils.py:451\u001b[0m, in \u001b[0;36mDrawCanvases\u001b[0;34m()\u001b[0m\n\u001b[1;32m    449\u001b[0m drawers \u001b[38;5;241m=\u001b[39m GetCanvasDrawers()\n\u001b[1;32m    450\u001b[0m \u001b[38;5;28;01mfor\u001b[39;00m drawer \u001b[38;5;129;01min\u001b[39;00m drawers:\n\u001b[0;32m--> 451\u001b[0m     \u001b[43mdrawer\u001b[49m\u001b[38;5;241;43m.\u001b[39;49m\u001b[43mDraw\u001b[49m\u001b[43m(\u001b[49m\u001b[43m)\u001b[49m\n",
      "File \u001b[0;32m/cvmfs/sw.hsf.org/key4hep/releases/2024-10-03/x86_64-almalinux9-gcc14.2.0-opt/root/6.32.04-vms5ij/lib/JupyROOT/helpers/utils.py:647\u001b[0m, in \u001b[0;36mNotebookDrawer.Draw\u001b[0;34m(self)\u001b[0m\n\u001b[1;32m    646\u001b[0m \u001b[38;5;28;01mdef\u001b[39;00m \u001b[38;5;21mDraw\u001b[39m(\u001b[38;5;28mself\u001b[39m):\n\u001b[0;32m--> 647\u001b[0m     \u001b[38;5;28;43mself\u001b[39;49m\u001b[38;5;241;43m.\u001b[39;49m\u001b[43m_display\u001b[49m\u001b[43m(\u001b[49m\u001b[43m)\u001b[49m\n\u001b[1;32m    648\u001b[0m     \u001b[38;5;28;01mreturn\u001b[39;00m \u001b[38;5;241m0\u001b[39m\n",
      "File \u001b[0;32m/cvmfs/sw.hsf.org/key4hep/releases/2024-10-03/x86_64-almalinux9-gcc14.2.0-opt/root/6.32.04-vms5ij/lib/JupyROOT/helpers/utils.py:633\u001b[0m, in \u001b[0;36mNotebookDrawer._display\u001b[0;34m(self)\u001b[0m\n\u001b[1;32m    631\u001b[0m \u001b[38;5;28;01melse\u001b[39;00m:\n\u001b[1;32m    632\u001b[0m   \u001b[38;5;28;01mif\u001b[39;00m \u001b[38;5;28mself\u001b[39m\u001b[38;5;241m.\u001b[39m_canJsDisplay():\n\u001b[0;32m--> 633\u001b[0m      \u001b[38;5;28;43mself\u001b[39;49m\u001b[38;5;241;43m.\u001b[39;49m\u001b[43m_jsDisplay\u001b[49m\u001b[43m(\u001b[49m\u001b[43m)\u001b[49m\n\u001b[1;32m    634\u001b[0m   \u001b[38;5;28;01melse\u001b[39;00m:\n\u001b[1;32m    635\u001b[0m      \u001b[38;5;28mself\u001b[39m\u001b[38;5;241m.\u001b[39m_pngDisplay()\n",
      "File \u001b[0;32m/cvmfs/sw.hsf.org/key4hep/releases/2024-10-03/x86_64-almalinux9-gcc14.2.0-opt/root/6.32.04-vms5ij/lib/JupyROOT/helpers/utils.py:597\u001b[0m, in \u001b[0;36mNotebookDrawer._jsDisplay\u001b[0;34m(self)\u001b[0m\n\u001b[1;32m    595\u001b[0m name \u001b[38;5;241m=\u001b[39m \u001b[38;5;28mself\u001b[39m\u001b[38;5;241m.\u001b[39m_getDrawId()\n\u001b[1;32m    596\u001b[0m updated \u001b[38;5;241m=\u001b[39m \u001b[38;5;28mself\u001b[39m\u001b[38;5;241m.\u001b[39m_getUpdated()\n\u001b[0;32m--> 597\u001b[0m jsdiv \u001b[38;5;241m=\u001b[39m \u001b[38;5;28;43mself\u001b[39;49m\u001b[38;5;241;43m.\u001b[39;49m\u001b[43m_getJsDiv\u001b[49m\u001b[43m(\u001b[49m\u001b[43m)\u001b[49m\n\u001b[1;32m    598\u001b[0m \u001b[38;5;28;01mif\u001b[39;00m name \u001b[38;5;129;01mand\u001b[39;00m (name \u001b[38;5;129;01min\u001b[39;00m _canvasHandles) \u001b[38;5;129;01mand\u001b[39;00m updated:\n\u001b[1;32m    599\u001b[0m     _canvasHandles[name]\u001b[38;5;241m.\u001b[39mupdate(jsdiv)\n",
      "File \u001b[0;32m/cvmfs/sw.hsf.org/key4hep/releases/2024-10-03/x86_64-almalinux9-gcc14.2.0-opt/root/6.32.04-vms5ij/lib/JupyROOT/helpers/utils.py:576\u001b[0m, in \u001b[0;36mNotebookDrawer._getJsDiv\u001b[0;34m(self)\u001b[0m\n\u001b[1;32m    575\u001b[0m \u001b[38;5;28;01mdef\u001b[39;00m \u001b[38;5;21m_getJsDiv\u001b[39m(\u001b[38;5;28mself\u001b[39m):\n\u001b[0;32m--> 576\u001b[0m     \u001b[38;5;28;01mreturn\u001b[39;00m display\u001b[38;5;241m.\u001b[39mHTML(\u001b[38;5;28;43mself\u001b[39;49m\u001b[38;5;241;43m.\u001b[39;49m\u001b[43m_getJsCode\u001b[49m\u001b[43m(\u001b[49m\u001b[43m)\u001b[49m)\n",
      "File \u001b[0;32m/cvmfs/sw.hsf.org/key4hep/releases/2024-10-03/x86_64-almalinux9-gcc14.2.0-opt/root/6.32.04-vms5ij/lib/JupyROOT/helpers/utils.py:550\u001b[0m, in \u001b[0;36mNotebookDrawer._getJsCode\u001b[0;34m(self)\u001b[0m\n\u001b[1;32m    548\u001b[0m     json \u001b[38;5;241m=\u001b[39m \u001b[38;5;28mself\u001b[39m\u001b[38;5;241m.\u001b[39mdrawableObject\u001b[38;5;241m.\u001b[39mCreateJSON()\n\u001b[1;32m    549\u001b[0m \u001b[38;5;28;01melse\u001b[39;00m:\n\u001b[0;32m--> 550\u001b[0m     json \u001b[38;5;241m=\u001b[39m \u001b[43mproduceCanvasJson\u001b[49m\u001b[43m(\u001b[49m\u001b[38;5;28;43mself\u001b[39;49m\u001b[38;5;241;43m.\u001b[39;49m\u001b[43mdrawableObject\u001b[49m\u001b[43m)\u001b[49m\u001b[38;5;241m.\u001b[39mData()\n\u001b[1;32m    552\u001b[0m divId \u001b[38;5;241m=\u001b[39m \u001b[38;5;28mself\u001b[39m\u001b[38;5;241m.\u001b[39m_getUniqueDivId()\n\u001b[1;32m    554\u001b[0m width \u001b[38;5;241m=\u001b[39m _jsCanvasWidth\n",
      "File \u001b[0;32m/cvmfs/sw.hsf.org/key4hep/releases/2024-10-03/x86_64-almalinux9-gcc14.2.0-opt/root/6.32.04-vms5ij/lib/JupyROOT/helpers/utils.py:302\u001b[0m, in \u001b[0;36mproduceCanvasJson\u001b[0;34m(canvas)\u001b[0m\n\u001b[1;32m    299\u001b[0m     canvas\u001b[38;5;241m.\u001b[39mDraw()\n\u001b[1;32m    301\u001b[0m \u001b[38;5;28;01mif\u001b[39;00m TWebCanvasAvailable():\n\u001b[0;32m--> 302\u001b[0m     \u001b[38;5;28;01mreturn\u001b[39;00m \u001b[43mROOT\u001b[49m\u001b[38;5;241;43m.\u001b[39;49m\u001b[43mTWebCanvas\u001b[49m\u001b[38;5;241;43m.\u001b[39;49m\u001b[43mCreateCanvasJSON\u001b[49m(canvas, \u001b[38;5;241m3\u001b[39m)\n\u001b[1;32m    304\u001b[0m \u001b[38;5;66;03m# Add extra primitives to canvas with custom colors, palette, gStyle\u001b[39;00m\n\u001b[1;32m    306\u001b[0m prim \u001b[38;5;241m=\u001b[39m canvas\u001b[38;5;241m.\u001b[39mGetListOfPrimitives()\n",
      "\u001b[0;31mAttributeError\u001b[0m: <class cppyy.gbl.TWebCanvas at 0x34226b50> has no attribute 'CreateCanvasJSON'. Full details:\n  type object 'TWebCanvas' has no attribute 'CreateCanvasJSON'\n  'TWebCanvas::CreateCanvasJSON' is not a known C++ class\n  'CreateCanvasJSON' is not a known C++ template\n  'CreateCanvasJSON' is not a known C++ enum"
     ]
    }
   ],
   "source": [
    "analysis.draw_histogram(\"PVertex_chi2\")\n",
    "analysis.draw_histogram(\"PVertex_chi2ndf\")"
   ]
  },
  {
   "cell_type": "code",
   "execution_count": null,
   "metadata": {},
   "outputs": [
    {
     "name": "stdout",
     "output_type": "stream",
     "text": [
      "Error in callback <bound method CaptureDrawnPrimitives._post_execute of <JupyROOT.helpers.utils.CaptureDrawnPrimitives object at 0x7f11c1f22190>> (for post_execute), with arguments args (),kwargs {}:\n"
     ]
    },
    {
     "ename": "AttributeError",
     "evalue": "<class cppyy.gbl.TWebCanvas at 0x357a1700> has no attribute 'CreateCanvasJSON'. Full details:\n  type object 'TWebCanvas' has no attribute 'CreateCanvasJSON'\n  'TWebCanvas::CreateCanvasJSON' is not a known C++ class\n  'CreateCanvasJSON' is not a known C++ template\n  'CreateCanvasJSON' is not a known C++ enum",
     "output_type": "error",
     "traceback": [
      "\u001b[0;31m---------------------------------------------------------------------------\u001b[0m",
      "\u001b[0;31mAttributeError\u001b[0m                            Traceback (most recent call last)",
      "File \u001b[0;32m/cvmfs/sw.hsf.org/key4hep/releases/2024-10-03/x86_64-almalinux9-gcc14.2.0-opt/root/6.32.04-vms5ij/lib/JupyROOT/helpers/utils.py:471\u001b[0m, in \u001b[0;36mCaptureDrawnPrimitives._post_execute\u001b[0;34m(self)\u001b[0m\n\u001b[1;32m    470\u001b[0m \u001b[38;5;28;01mdef\u001b[39;00m \u001b[38;5;21m_post_execute\u001b[39m(\u001b[38;5;28mself\u001b[39m):\n\u001b[0;32m--> 471\u001b[0m     \u001b[43mNotebookDraw\u001b[49m\u001b[43m(\u001b[49m\u001b[43m)\u001b[49m\n",
      "File \u001b[0;32m/cvmfs/sw.hsf.org/key4hep/releases/2024-10-03/x86_64-almalinux9-gcc14.2.0-opt/root/6.32.04-vms5ij/lib/JupyROOT/helpers/utils.py:460\u001b[0m, in \u001b[0;36mNotebookDraw\u001b[0;34m()\u001b[0m\n\u001b[1;32m    458\u001b[0m \u001b[38;5;28;01mdef\u001b[39;00m \u001b[38;5;21mNotebookDraw\u001b[39m():\n\u001b[1;32m    459\u001b[0m     DrawGeometry()\n\u001b[0;32m--> 460\u001b[0m     \u001b[43mDrawCanvases\u001b[49m\u001b[43m(\u001b[49m\u001b[43m)\u001b[49m\n\u001b[1;32m    461\u001b[0m     DrawRCanvases()\n",
      "File \u001b[0;32m/cvmfs/sw.hsf.org/key4hep/releases/2024-10-03/x86_64-almalinux9-gcc14.2.0-opt/root/6.32.04-vms5ij/lib/JupyROOT/helpers/utils.py:451\u001b[0m, in \u001b[0;36mDrawCanvases\u001b[0;34m()\u001b[0m\n\u001b[1;32m    449\u001b[0m drawers \u001b[38;5;241m=\u001b[39m GetCanvasDrawers()\n\u001b[1;32m    450\u001b[0m \u001b[38;5;28;01mfor\u001b[39;00m drawer \u001b[38;5;129;01min\u001b[39;00m drawers:\n\u001b[0;32m--> 451\u001b[0m     \u001b[43mdrawer\u001b[49m\u001b[38;5;241;43m.\u001b[39;49m\u001b[43mDraw\u001b[49m\u001b[43m(\u001b[49m\u001b[43m)\u001b[49m\n",
      "File \u001b[0;32m/cvmfs/sw.hsf.org/key4hep/releases/2024-10-03/x86_64-almalinux9-gcc14.2.0-opt/root/6.32.04-vms5ij/lib/JupyROOT/helpers/utils.py:647\u001b[0m, in \u001b[0;36mNotebookDrawer.Draw\u001b[0;34m(self)\u001b[0m\n\u001b[1;32m    646\u001b[0m \u001b[38;5;28;01mdef\u001b[39;00m \u001b[38;5;21mDraw\u001b[39m(\u001b[38;5;28mself\u001b[39m):\n\u001b[0;32m--> 647\u001b[0m     \u001b[38;5;28;43mself\u001b[39;49m\u001b[38;5;241;43m.\u001b[39;49m\u001b[43m_display\u001b[49m\u001b[43m(\u001b[49m\u001b[43m)\u001b[49m\n\u001b[1;32m    648\u001b[0m     \u001b[38;5;28;01mreturn\u001b[39;00m \u001b[38;5;241m0\u001b[39m\n",
      "File \u001b[0;32m/cvmfs/sw.hsf.org/key4hep/releases/2024-10-03/x86_64-almalinux9-gcc14.2.0-opt/root/6.32.04-vms5ij/lib/JupyROOT/helpers/utils.py:633\u001b[0m, in \u001b[0;36mNotebookDrawer._display\u001b[0;34m(self)\u001b[0m\n\u001b[1;32m    631\u001b[0m \u001b[38;5;28;01melse\u001b[39;00m:\n\u001b[1;32m    632\u001b[0m   \u001b[38;5;28;01mif\u001b[39;00m \u001b[38;5;28mself\u001b[39m\u001b[38;5;241m.\u001b[39m_canJsDisplay():\n\u001b[0;32m--> 633\u001b[0m      \u001b[38;5;28;43mself\u001b[39;49m\u001b[38;5;241;43m.\u001b[39;49m\u001b[43m_jsDisplay\u001b[49m\u001b[43m(\u001b[49m\u001b[43m)\u001b[49m\n\u001b[1;32m    634\u001b[0m   \u001b[38;5;28;01melse\u001b[39;00m:\n\u001b[1;32m    635\u001b[0m      \u001b[38;5;28mself\u001b[39m\u001b[38;5;241m.\u001b[39m_pngDisplay()\n",
      "File \u001b[0;32m/cvmfs/sw.hsf.org/key4hep/releases/2024-10-03/x86_64-almalinux9-gcc14.2.0-opt/root/6.32.04-vms5ij/lib/JupyROOT/helpers/utils.py:597\u001b[0m, in \u001b[0;36mNotebookDrawer._jsDisplay\u001b[0;34m(self)\u001b[0m\n\u001b[1;32m    595\u001b[0m name \u001b[38;5;241m=\u001b[39m \u001b[38;5;28mself\u001b[39m\u001b[38;5;241m.\u001b[39m_getDrawId()\n\u001b[1;32m    596\u001b[0m updated \u001b[38;5;241m=\u001b[39m \u001b[38;5;28mself\u001b[39m\u001b[38;5;241m.\u001b[39m_getUpdated()\n\u001b[0;32m--> 597\u001b[0m jsdiv \u001b[38;5;241m=\u001b[39m \u001b[38;5;28;43mself\u001b[39;49m\u001b[38;5;241;43m.\u001b[39;49m\u001b[43m_getJsDiv\u001b[49m\u001b[43m(\u001b[49m\u001b[43m)\u001b[49m\n\u001b[1;32m    598\u001b[0m \u001b[38;5;28;01mif\u001b[39;00m name \u001b[38;5;129;01mand\u001b[39;00m (name \u001b[38;5;129;01min\u001b[39;00m _canvasHandles) \u001b[38;5;129;01mand\u001b[39;00m updated:\n\u001b[1;32m    599\u001b[0m     _canvasHandles[name]\u001b[38;5;241m.\u001b[39mupdate(jsdiv)\n",
      "File \u001b[0;32m/cvmfs/sw.hsf.org/key4hep/releases/2024-10-03/x86_64-almalinux9-gcc14.2.0-opt/root/6.32.04-vms5ij/lib/JupyROOT/helpers/utils.py:576\u001b[0m, in \u001b[0;36mNotebookDrawer._getJsDiv\u001b[0;34m(self)\u001b[0m\n\u001b[1;32m    575\u001b[0m \u001b[38;5;28;01mdef\u001b[39;00m \u001b[38;5;21m_getJsDiv\u001b[39m(\u001b[38;5;28mself\u001b[39m):\n\u001b[0;32m--> 576\u001b[0m     \u001b[38;5;28;01mreturn\u001b[39;00m display\u001b[38;5;241m.\u001b[39mHTML(\u001b[38;5;28;43mself\u001b[39;49m\u001b[38;5;241;43m.\u001b[39;49m\u001b[43m_getJsCode\u001b[49m\u001b[43m(\u001b[49m\u001b[43m)\u001b[49m)\n",
      "File \u001b[0;32m/cvmfs/sw.hsf.org/key4hep/releases/2024-10-03/x86_64-almalinux9-gcc14.2.0-opt/root/6.32.04-vms5ij/lib/JupyROOT/helpers/utils.py:550\u001b[0m, in \u001b[0;36mNotebookDrawer._getJsCode\u001b[0;34m(self)\u001b[0m\n\u001b[1;32m    548\u001b[0m     json \u001b[38;5;241m=\u001b[39m \u001b[38;5;28mself\u001b[39m\u001b[38;5;241m.\u001b[39mdrawableObject\u001b[38;5;241m.\u001b[39mCreateJSON()\n\u001b[1;32m    549\u001b[0m \u001b[38;5;28;01melse\u001b[39;00m:\n\u001b[0;32m--> 550\u001b[0m     json \u001b[38;5;241m=\u001b[39m \u001b[43mproduceCanvasJson\u001b[49m\u001b[43m(\u001b[49m\u001b[38;5;28;43mself\u001b[39;49m\u001b[38;5;241;43m.\u001b[39;49m\u001b[43mdrawableObject\u001b[49m\u001b[43m)\u001b[49m\u001b[38;5;241m.\u001b[39mData()\n\u001b[1;32m    552\u001b[0m divId \u001b[38;5;241m=\u001b[39m \u001b[38;5;28mself\u001b[39m\u001b[38;5;241m.\u001b[39m_getUniqueDivId()\n\u001b[1;32m    554\u001b[0m width \u001b[38;5;241m=\u001b[39m _jsCanvasWidth\n",
      "File \u001b[0;32m/cvmfs/sw.hsf.org/key4hep/releases/2024-10-03/x86_64-almalinux9-gcc14.2.0-opt/root/6.32.04-vms5ij/lib/JupyROOT/helpers/utils.py:302\u001b[0m, in \u001b[0;36mproduceCanvasJson\u001b[0;34m(canvas)\u001b[0m\n\u001b[1;32m    299\u001b[0m     canvas\u001b[38;5;241m.\u001b[39mDraw()\n\u001b[1;32m    301\u001b[0m \u001b[38;5;28;01mif\u001b[39;00m TWebCanvasAvailable():\n\u001b[0;32m--> 302\u001b[0m     \u001b[38;5;28;01mreturn\u001b[39;00m \u001b[43mROOT\u001b[49m\u001b[38;5;241;43m.\u001b[39;49m\u001b[43mTWebCanvas\u001b[49m\u001b[38;5;241;43m.\u001b[39;49m\u001b[43mCreateCanvasJSON\u001b[49m(canvas, \u001b[38;5;241m3\u001b[39m)\n\u001b[1;32m    304\u001b[0m \u001b[38;5;66;03m# Add extra primitives to canvas with custom colors, palette, gStyle\u001b[39;00m\n\u001b[1;32m    306\u001b[0m prim \u001b[38;5;241m=\u001b[39m canvas\u001b[38;5;241m.\u001b[39mGetListOfPrimitives()\n",
      "\u001b[0;31mAttributeError\u001b[0m: <class cppyy.gbl.TWebCanvas at 0x357a1700> has no attribute 'CreateCanvasJSON'. Full details:\n  type object 'TWebCanvas' has no attribute 'CreateCanvasJSON'\n  'TWebCanvas::CreateCanvasJSON' is not a known C++ class\n  'CreateCanvasJSON' is not a known C++ template\n  'CreateCanvasJSON' is not a known C++ enum"
     ]
    }
   ],
   "source": [
    "# TODO: plot the 5 (10?) differential cross sections down here"
   ]
  }
 ],
 "metadata": {
  "kernelspec": {
   "display_name": "Python 3",
   "language": "python",
   "name": "python3"
  },
  "language_info": {
   "codemirror_mode": {
    "name": "ipython",
    "version": 3
   },
   "file_extension": ".py",
   "mimetype": "text/x-python",
   "name": "python",
   "nbconvert_exporter": "python",
   "pygments_lexer": "ipython3",
   "version": "3.11.9"
  }
 },
 "nbformat": 4,
 "nbformat_minor": 2
}

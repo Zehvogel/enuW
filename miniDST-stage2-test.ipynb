{
 "cells": [
  {
   "cell_type": "code",
   "execution_count": 1,
   "metadata": {},
   "outputs": [
    {
     "name": "stdout",
     "output_type": "stream",
     "text": [
      "OBJ: TStyle\tildStyle\tILD Style : 0 at: 0x7615d90\n"
     ]
    }
   ],
   "source": [
    "import json\n",
    "import ROOT\n",
    "from analysis_framework import Dataset\n",
    "from WWAnalysis import WWAnalysis\n",
    "import os"
   ]
  },
  {
   "cell_type": "code",
   "execution_count": 2,
   "metadata": {},
   "outputs": [],
   "source": [
    "# ROOT.EnableImplicitMT(12)"
   ]
  },
  {
   "cell_type": "code",
   "execution_count": 3,
   "metadata": {},
   "outputs": [],
   "source": [
    "# CLD\n",
    "# x_angle = 0.030 # rad\n",
    "# ILD\n",
    "x_angle = 0.014 # rad\n",
    "# use same masses as in whizard!\n",
    "mW = 80.419\n",
    "mZ = 91.1882"
   ]
  },
  {
   "cell_type": "code",
   "execution_count": 4,
   "metadata": {},
   "outputs": [],
   "source": [
    "\n",
    "ROOT.gSystem.Load(\"OO/diehl/libObservable.so\")\n",
    "ROOT.gInterpreter.Declare(\"#include \\\"OO/diehl/OOTools.h\\\"\")\n",
    "ROOT.OOTools.init(250, mW, mZ)"
   ]
  },
  {
   "cell_type": "code",
   "execution_count": 5,
   "metadata": {},
   "outputs": [],
   "source": [
    "# dataset = Dataset.from_json(\"data/datasets/snapshots/full.json\")\n",
    "# dataset = Dataset.from_json(\"checked-test.json\")\n",
    "# dataset = Dataset.from_json(\"checked-full.json\")\n",
    "dataset = Dataset.from_json(\"checked-full-local.json\")"
   ]
  },
  {
   "cell_type": "code",
   "execution_count": 6,
   "metadata": {},
   "outputs": [
    {
     "name": "stderr",
     "output_type": "stream",
     "text": [
      "Warning in <TClass::Init>: no dictionary for class edm4hep::Vector2i is available\n"
     ]
    }
   ],
   "source": [
    "analysis = WWAnalysis(dataset)\n",
    "ROOT.gInterpreter.Declare(\"#include <podio/GenericParameters.h>\")\n",
    "analysis.Define(\"params_Energy\", \"Parameters.get<float>(\\\"Energy\\\").value_or(-1.0)\")"
   ]
  },
  {
   "cell_type": "code",
   "execution_count": 7,
   "metadata": {},
   "outputs": [],
   "source": [
    "# signal cut goes here:\n",
    "# In this case, we want to require the charged lepton in the final state to be inside of the detector acceptance\n",
    "# just take the first gen status 1 particle with a fitting pdg value and cut on theta\n",
    "lep_pdg = 11\n",
    "# CLD 150 mrad\n",
    "# ILD ~84 mrad (IDR: 4.8 deg)\n",
    "acceptance_theta = 0.084\n",
    "signal_cut = f\"\"\"\n",
    "std::invoke([](auto& genStat, auto& pdg, auto& px, auto& py, auto& pz, auto& m) -> bool {{\n",
    "auto lepton_mask = genStat == 1 && abs(pdg) == {lep_pdg};\n",
    "// abuse ArgMax to get the first set position\n",
    "auto lepton_idx = ArgMax(lepton_mask);\n",
    "auto lepton_lvec = ROOT::Math::PxPyPzMVector(px[lepton_idx], py[lepton_idx],\n",
    "                                             pz[lepton_idx], m[lepton_idx]);\n",
    "double lepton_theta = lepton_lvec.Theta();\n",
    "return abs(cos(lepton_theta)) < cos({acceptance_theta});\n",
    "}}, MCParticlesSkimmed.generatorStatus, MCParticlesSkimmed.PDG, MCParticlesSkimmed.momentum.x, MCParticlesSkimmed.momentum.y, MCParticlesSkimmed.momentum.z, MCParticlesSkimmed.mass)\n",
    "\"\"\""
   ]
  },
  {
   "cell_type": "code",
   "execution_count": 8,
   "metadata": {},
   "outputs": [
    {
     "name": "stdout",
     "output_type": "stream",
     "text": [
      "True\n"
     ]
    }
   ],
   "source": [
    "analysis.set_categories({\n",
    "    # TODO: actually implement the cut, but I might notice when refactoring the cut-flow...\n",
    "    # \"4f_sw_sl_signal\": {\"pattern\": \"4f_sw_sl\", \"cut\": \"1 == 1\"},\n",
    "    # TODO: in principle I would not need to define them like this again if I would use the information from the pre-selection but did not manage that on first try :(\n",
    "    \"4f_sw_sl_signal\": {\"pattern\": \"4f_sw_sl\", \"cut\": signal_cut},\n",
    "    \"4f_sl_bkg\": {\"pattern\": r\"4f\\w+sl\", \"cut\": None }, # inverse signal cut will be applied automatically\n",
    "    \"4f_not_sl\": {\"pattern\": r\"4f\\w+_(?:h|l)\", \"cut\": None },\n",
    "    # separate out aa_4f? super low lumi anyway\n",
    "    \"aa2f\": {\"pattern\": \"aa_2f\", \"cut\": None},\n",
    "    # 2f but not aa_2f\n",
    "    \"2f\": {\"pattern\": \"(?<!aa_)2f\", \"cut\": None},\n",
    "    \"3f\": {\"pattern\": \"ea_3f|ae_3f\", \"cut\": None},\n",
    "    \"5f\": {\"pattern\": \"ea_5f|ae_5f\", \"cut\": None},\n",
    "    \"6f\": {\"pattern\": \"6f\", \"cut\": None},\n",
    "    # need to filter out anything ending in _h and 2f_z_eehiq\n",
    "    \"higgs\": {\"pattern\": \"[^_e]h\", \"cut\": None},\n",
    "})\n",
    "# check if we missed any processes\n",
    "print(analysis.is_complete_categorisation())"
   ]
  },
  {
   "cell_type": "code",
   "execution_count": 9,
   "metadata": {},
   "outputs": [
    {
     "name": "stdout",
     "output_type": "stream",
     "text": [
      "{\n",
      "  \"4f_sw_sl_signal\": [\n",
      "    \"4f_sw_sl_eLpL_signal_signal\",\n",
      "    \"4f_sw_sl_eLpR_signal_signal\",\n",
      "    \"4f_sw_sl_eRpR_signal_signal\",\n",
      "    \"4f_sw_sl_eRpL_signal_signal\",\n",
      "    \"4f_sw_sl_eLpL_bkg_signal\",\n",
      "    \"4f_sw_sl_eLpR_bkg_signal\",\n",
      "    \"4f_sw_sl_eRpR_bkg_signal\",\n",
      "    \"4f_sw_sl_eRpL_bkg_signal\"\n",
      "  ],\n",
      "  \"4f_sl_bkg\": [\n",
      "    \"4f_zz_sl_eLpR\",\n",
      "    \"4f_zz_sl_eRpL\",\n",
      "    \"4f_zznu_sl_eLpR\",\n",
      "    \"4f_zznu_sl_eRpL\",\n",
      "    \"4f_sze_sl_eLpL\",\n",
      "    \"4f_sze_sl_eLpR\",\n",
      "    \"4f_sze_sl_eRpR\",\n",
      "    \"4f_sze_sl_eRpL\",\n",
      "    \"4f_sznu_sl_eLpR\",\n",
      "    \"4f_sznu_sl_eRpL\",\n",
      "    \"4f_ww_sl_eLpR\",\n",
      "    \"4f_ww_sl_eRpL\",\n",
      "    \"4f_sw_sl_eLpL_signal_bkg\",\n",
      "    \"4f_sw_sl_eLpR_signal_bkg\",\n",
      "    \"4f_sw_sl_eRpR_signal_bkg\",\n",
      "    \"4f_sw_sl_eRpL_signal_bkg\",\n",
      "    \"4f_sw_sl_eLpL_bkg_bkg\",\n",
      "    \"4f_sw_sl_eLpR_bkg_bkg\",\n",
      "    \"4f_sw_sl_eRpR_bkg_bkg\",\n",
      "    \"4f_sw_sl_eRpL_bkg_bkg\"\n",
      "  ],\n",
      "  \"4f_not_sl\": [\n",
      "    \"4f_zz_h_eLpR\",\n",
      "    \"4f_zz_h_eRpL\",\n",
      "    \"4f_zz_l_eLpR\",\n",
      "    \"4f_zz_l_eRpL\",\n",
      "    \"4f_zzorww_h_eLpR\",\n",
      "    \"4f_zzorww_l_eLpR\",\n",
      "    \"4f_zzorww_l_eRpL\",\n",
      "    \"4f_zznu_l_eLpR\",\n",
      "    \"4f_zznu_l_eRpL\",\n",
      "    \"4f_sznu_l_eLpR\",\n",
      "    \"4f_sznu_l_eRpL\",\n",
      "    \"4f_sze_l_eLpL\",\n",
      "    \"4f_sze_l_eLpR\",\n",
      "    \"4f_sze_l_eRpR\",\n",
      "    \"4f_sze_l_eRpL\",\n",
      "    \"4f_szeorsw_l_eLpL\",\n",
      "    \"4f_szeorsw_l_eLpR\",\n",
      "    \"4f_szeorsw_l_eRpR\",\n",
      "    \"4f_szeorsw_l_eRpL\",\n",
      "    \"4f_sw_l_eLpL\",\n",
      "    \"4f_sw_l_eLpR\",\n",
      "    \"4f_sw_l_eRpR\",\n",
      "    \"4f_sw_l_eRpL\",\n",
      "    \"4f_ww_h_eRpL\",\n",
      "    \"4f_ww_l_eLpR\"\n",
      "  ],\n",
      "  \"aa2f\": [\n",
      "    \"aa_2f_z_l_eWpW\"\n",
      "  ],\n",
      "  \"2f\": [\n",
      "    \"2f_z_eehiq_eLpL\",\n",
      "    \"2f_z_eehiq_eLpR\",\n",
      "    \"2f_z_eehiq_eRpR\",\n",
      "    \"2f_z_eehiq_eRpL\",\n",
      "    \"2f_z_h_eLpR\",\n",
      "    \"2f_z_h_eRpL\",\n",
      "    \"2f_z_l_eLpR\",\n",
      "    \"2f_z_l_eRpL\"\n",
      "  ],\n",
      "  \"3f\": [\n",
      "    \"ea_3f_z_l_eLpB\",\n",
      "    \"ea_3f_z_l_eRpB\",\n",
      "    \"ea_3f_z_nu_eLpB\",\n",
      "    \"ea_3f_z_nu_eRpB\",\n",
      "    \"ea_3f_z_h_eLpB\",\n",
      "    \"ea_3f_z_h_eRpB\",\n",
      "    \"ea_3f_w_h_eLpB\",\n",
      "    \"ae_3f_z_l_eBpL\",\n",
      "    \"ae_3f_z_l_eBpR\",\n",
      "    \"ae_3f_z_nu_eBpL\",\n",
      "    \"ae_3f_z_nu_eBpR\",\n",
      "    \"ae_3f_z_h_eBpL\",\n",
      "    \"ae_3f_z_h_eBpR\",\n",
      "    \"ae_3f_w_h_eBpR\"\n",
      "  ],\n",
      "  \"5f\": [\n",
      "    \"ea_5f_zz_sl_eLpW\",\n",
      "    \"ea_5f_zz_sl_eRpW\",\n",
      "    \"ea_5f_zznu_sl_eLpW\",\n",
      "    \"ea_5f_zznu_sl_eRpW\",\n",
      "    \"ea_5f_ww_sl_eLpW\",\n",
      "    \"ea_5f_ww_sl_eRpW\",\n",
      "    \"ea_5f_zz_l_eRpW\",\n",
      "    \"ea_5f_zznu_l_eLpW\",\n",
      "    \"ea_5f_ww_l_eLpW\",\n",
      "    \"ea_5f_ww_l_eRpW\",\n",
      "    \"ea_5f_zzorww_l_eLpW\",\n",
      "    \"ea_5f_zzorww_l_eRpW\",\n",
      "    \"ae_5f_zz_sl_eWpL\",\n",
      "    \"ae_5f_zz_sl_eWpR\",\n",
      "    \"ae_5f_zznu_sl_eWpL\",\n",
      "    \"ae_5f_zznu_sl_eWpR\",\n",
      "    \"ae_5f_ww_sl_eWpL\",\n",
      "    \"ae_5f_ww_sl_eWpR\",\n",
      "    \"ae_5f_zz_l_eWpL\",\n",
      "    \"ae_5f_zz_l_eWpR\",\n",
      "    \"ae_5f_zznu_l_eWpL\",\n",
      "    \"ae_5f_ww_l_eWpL\",\n",
      "    \"ae_5f_ww_l_eWpR\",\n",
      "    \"ae_5f_zzorww_l_eWpL\",\n",
      "    \"ae_5f_zzorww_l_eWpR\"\n",
      "  ],\n",
      "  \"6f\": [\n",
      "    \"6f_llxyyx_eLpR\",\n",
      "    \"6f_llxyyx_eRpL\",\n",
      "    \"6f_eexyyx_eLpR\",\n",
      "    \"6f_eexyyx_eRpL\",\n",
      "    \"6f_vvxyyx_eLpR\",\n",
      "    \"6f_vvxyyx_eRpL\",\n",
      "    \"6f_llxxxx_eLpR\",\n",
      "    \"6f_llxxxx_eRpL\",\n",
      "    \"6f_eexxxx_eLpR\",\n",
      "    \"6f_vvxxxx_eLpR\",\n",
      "    \"6f_vvxxxx_eRpL\",\n",
      "    \"6f_llyyyy_eLpR\",\n",
      "    \"6f_llyyyy_eRpL\",\n",
      "    \"6f_eeyyyy_eLpR\",\n",
      "    \"6f_eeyyyy_eRpL\",\n",
      "    \"6f_vvyyyy_eLpR\",\n",
      "    \"6f_vvyyyy_eRpL\"\n",
      "  ],\n",
      "  \"higgs\": [\n",
      "    \"e1e1h_eLpR\",\n",
      "    \"e1e1h_eRpL\",\n",
      "    \"e2e2h_eLpR\",\n",
      "    \"e2e2h_eRpL\",\n",
      "    \"e3e3h_eLpR\",\n",
      "    \"e3e3h_eRpL\",\n",
      "    \"n1n1h_eLpR\",\n",
      "    \"n1n1h_eRpL\",\n",
      "    \"n23n23h_eLpR\",\n",
      "    \"n23n23h_eRpL\",\n",
      "    \"qqh_eLpR\",\n",
      "    \"qqh_eRpL\",\n",
      "    \"e1e1h_eLpL\",\n",
      "    \"e1e1h_eRpR\"\n",
      "  ]\n",
      "}\n"
     ]
    }
   ],
   "source": [
    "print(json.dumps(analysis._categories, indent=2))"
   ]
  },
  {
   "cell_type": "code",
   "execution_count": 10,
   "metadata": {},
   "outputs": [],
   "source": [
    "# needed for the .size() calls... alternative would probably be to .Alias the @size columns\n",
    "ROOT.gInterpreter.Declare(\"#include <podio/ObjectID.h>\")\n",
    "ROOT.gInterpreter.Declare(\"#include <edm4hep/ReconstructedParticleData.h>\")\n",
    "make_lvec = lambda coll_name: f\"ROOT::VecOps::Construct<ROOT::Math::PxPyPzEVector>({coll_name}.momentum.x, {coll_name}.momentum.y, {coll_name}.momentum.z, {coll_name}.energy)\"\n",
    "analysis.Define(\"R2jet_lvecs\", make_lvec(\"Refined2Jets\"))\n",
    "# analysis.Define(\"n_neutral_PFOs\", \"Sum(abs(PandoraPFOs.charge) == 0.)\")\n",
    "# analysis.Define(\"charged_fraction\", \"n_charged_PFOs / static_cast<double>(n_charged_PFOs + n_neutral_PFOs)\")"
   ]
  },
  {
   "cell_type": "code",
   "execution_count": 11,
   "metadata": {},
   "outputs": [],
   "source": [
    "signal_category = [\"4f_sw_sl_signal\"]\n",
    "analysis.define_truth_objects(signal_category)\n",
    "analysis.define_reco_objects(x_angle)\n",
    "analysis.remove_x_angle(x_angle)\n",
    "analysis.define_hagiwara_angles()\n",
    "analysis.define_OO()"
   ]
  },
  {
   "cell_type": "code",
   "execution_count": 12,
   "metadata": {},
   "outputs": [],
   "source": [
    "# filter on missing energy > 0\n",
    "analysis.Define(\"nu_E\", \"ub_nu_lvec.energy()\")\n",
    "analysis.Define(\"M_Wlep\", \"ub_leptonic_W_lvec.M()\")\n",
    "analysis.Define(\"M_Whad\", \"ub_hadronic_W_lvec.M()\")\n",
    "analysis.add_filter(\"M_Wlep > 0.\", \"Wlep real\")"
   ]
  },
  {
   "cell_type": "code",
   "execution_count": 13,
   "metadata": {},
   "outputs": [],
   "source": [
    "n_OO_bins = 75\n",
    "oo_min = -1.5\n",
    "oo_max = 2.0\n",
    "analysis.book_histogram_1D(\"O_1\", \"O_1\", (\"\", \";O_1\", n_OO_bins, oo_min, oo_max))\n",
    "analysis.book_histogram_1D(\"O_2\", \"O_2\", (\"\", \";O_2\", n_OO_bins, oo_min, oo_max))\n",
    "analysis.book_histogram_1D(\"O_3\", \"O_3\", (\"\", \";O_3\", n_OO_bins, oo_min, oo_max))\n",
    "analysis.book_histogram_1D(\"true_O_1\", \"true_O_1\", (\"\", \";true_O_1\", n_OO_bins, oo_min, oo_max), signal_category)\n",
    "analysis.book_histogram_1D(\"true_O_2\", \"true_O_2\", (\"\", \";true_O_2\", n_OO_bins, oo_min, oo_max), signal_category)\n",
    "analysis.book_histogram_1D(\"true_O_3\", \"true_O_3\", (\"\", \";true_O_3\", n_OO_bins, oo_min, oo_max), signal_category)\n",
    "analysis.book_histogram_1D(\"nu_E\", \"nu_E\", (\"\", \";nu_E\", 300, -50., 250.))\n",
    "analysis.book_histogram_1D(\"M_Wlep\", \"M_Wlep\", (\"\", \";M_Wlep\", 300, -100., 200.))\n",
    "analysis.book_histogram_1D(\"M_Whad\", \"M_Whad\", (\"\", \";M_Whad\", 160, 40., 200.))"
   ]
  },
  {
   "cell_type": "code",
   "execution_count": 14,
   "metadata": {},
   "outputs": [],
   "source": [
    "analysis.book_reports()"
   ]
  },
  {
   "cell_type": "code",
   "execution_count": 15,
   "metadata": {},
   "outputs": [],
   "source": [
    "analysis.book_OO_matrix()"
   ]
  },
  {
   "cell_type": "code",
   "execution_count": 16,
   "metadata": {},
   "outputs": [
    {
     "name": "stdout",
     "output_type": "stream",
     "text": [
      "CPU times: user 3min 8s, sys: 10.2 s, total: 3min 18s\n",
      "Wall time: 3min 49s\n",
      "OBJ: TStyle\tildStyle\tILD Style : 0 at: 0x371214f0\n"
     ]
    }
   ],
   "source": [
    "%%time\n",
    "analysis.run()"
   ]
  },
  {
   "cell_type": "code",
   "execution_count": 17,
   "metadata": {},
   "outputs": [
    {
     "name": "stdout",
     "output_type": "stream",
     "text": [
      "       4f_sw_sl_signal             4f_sl_bkg             4f_not_sl                  aa2f                    2f                    3f                    5f                    6f                 higgs\n",
      "        10449566 (1e+04)          641387 (1e+04)           87163 (1e+03)            4270 (4e+03)         1691836 (4e+04)           20318 (3e+03)            4307 (1e+02)               2 (3e-01)           16373 (9e+01) All\n",
      "        10000121 (1e+04)          606268 (1e+04)           64530 (1e+03)               0 (0e+00)          716007 (2e+04)           13992 (2e+03)            4261 (1e+02)               2 (3e-01)           16222 (9e+01) Wlep real\n",
      "            0.96            0.95            0.74           0e+00            0.42            0.69            0.99            0.95            0.99 efficiency\n"
     ]
    }
   ],
   "source": [
    "analysis.print_reports()"
   ]
  },
  {
   "cell_type": "code",
   "execution_count": 18,
   "metadata": {},
   "outputs": [
    {
     "name": "stdout",
     "output_type": "stream",
     "text": [
      "[[ 116.10979948 -348.4311616  -177.2705693 ]\n",
      " [-348.4311616  1356.82784909  661.62559583]\n",
      " [-177.2705693   661.62559583  537.94804291]]\n",
      "[[ 0.03790571  0.00910179  0.00129676]\n",
      " [ 0.00910179  0.0040268  -0.00195327]\n",
      " [ 0.00129676 -0.00195327  0.00468858]]\n",
      "[[805.53276937 729.20207041 811.81484847]\n",
      " [729.20207041 716.15590281 765.04750191]\n",
      " [811.81484847 765.04750191 853.17538523]]\n"
     ]
    }
   ],
   "source": [
    "import numpy as np\n",
    "c = analysis.get_OO_matrix_normalized()\n",
    "print(c)\n",
    "print(np.linalg.inv(c))\n",
    "true_c = np.asarray([[ 0.14414038, -0.47782525, -0.2183633 ],\n",
    " [-0.47782525,  1.89459843,  0.86481636],\n",
    " [-0.2183633,   0.86481636,  0.63052457]])\n",
    "\n",
    "print(c / true_c)\n"
   ]
  },
  {
   "cell_type": "code",
   "execution_count": 19,
   "metadata": {},
   "outputs": [
    {
     "data": {
      "image/png": "[encoded data removed]",
      "text/plain": [
       "<IPython.core.display.Image object>"
      ]
     },
     "metadata": {},
     "output_type": "display_data"
    },
    {
     "data": {
      "image/png": "[encoded data removed]",
      "text/plain": [
       "<IPython.core.display.Image object>"
      ]
     },
     "metadata": {},
     "output_type": "display_data"
    },
    {
     "data": {
      "image/png": "[encoded data removed]",
      "text/plain": [
       "<IPython.core.display.Image object>"
      ]
     },
     "metadata": {},
     "output_type": "display_data"
    }
   ],
   "source": [
    "\n",
    "for i in range(1, 4):\n",
    "    analysis.draw_histogram(f\"O_{i}\")\n",
    "    # o_stack, _, c = analysis.draw_histogram(f\"O_{i}\")\n",
    "    # c.SetRightMargin(0.05)\n",
    "    # c.SaveAs(f\"plots/OO/O_{i}_stack.pdf\")"
   ]
  },
  {
   "cell_type": "code",
   "execution_count": 20,
   "metadata": {},
   "outputs": [],
   "source": [
    "# ratios = []\n",
    "# c_ratios = []\n",
    "# l_ratios = []\n",
    "\n",
    "# for i in range(1, 4):\n",
    "#     o_stack,*_ = analysis.draw_histogram(f\"O_{i}\", categories=signal_category)\n",
    "#     true_o_stack,*_ = analysis.draw_histogram(f\"true_O_{i}\", categories=signal_category)\n",
    "#     # there is only one signal hist in the stack\n",
    "#     o_hist = o_stack.GetHists()[0].Clone()\n",
    "#     true_o_hist = true_o_stack.GetHists()[0].Clone()\n",
    "#     o_hist.SetFillColor(0)\n",
    "#     o_hist.SetLineColor(ROOT.kRed)\n",
    "#     true_o_hist.SetFillColor(0)\n",
    "#     true_o_hist.SetLineColor(ROOT.kBlack)\n",
    "#     ratio = ROOT.TRatioPlot(o_hist, true_o_hist, \"pois\")\n",
    "#     ratio.SetH2DrawOpt(\"hist\")\n",
    "#     c = ROOT.TCanvas()\n",
    "#     ratio.SetRightMargin(0.05)\n",
    "#     ratio.SetLeftMargin(0.14)\n",
    "#     ratio.SetLowBottomMargin(0.375)\n",
    "#     ratio.SetSeparationMargin(0.)\n",
    "#     ratio.Draw()\n",
    "#     ratio.SetSplitFraction(0.4)\n",
    "#     ratio.GetUpperRefYaxis().SetTitle(\"events\")\n",
    "#     ratio.GetLowerRefYaxis().SetTitle(\"Reco / Gen\")\n",
    "#     legend = ROOT.TLegend(0.8, 0.8, 1., 1,)\n",
    "#     legend.AddEntry(o_hist, \"Reco\", \"l\")\n",
    "#     legend.AddEntry(true_o_hist, \"Gen\", \"l\")\n",
    "#     legend.Draw()\n",
    "#     c.SaveAs(f\"plots/OO/reco_gen_ratio_{i}.png\")\n",
    "#     c.Draw()\n",
    "#     ratios.append(ratio)\n",
    "#     c_ratios.append(c)\n",
    "#     l_ratios.append(legend)"
   ]
  },
  {
   "cell_type": "code",
   "execution_count": 21,
   "metadata": {},
   "outputs": [
    {
     "data": {
      "text/plain": [
       "(<cppyy.gbl.THStack object at 0x5a436ad0>,\n",
       " <cppyy.gbl.TLegend object at 0x5a47dd60>,\n",
       " <cppyy.gbl.TCanvas object at 0x5a1b4870>)"
      ]
     },
     "execution_count": 21,
     "metadata": {},
     "output_type": "execute_result"
    },
    {
     "data": {
      "image/png": "[encoded data removed]",
      "text/plain": [
       "<IPython.core.display.Image object>"
      ]
     },
     "metadata": {},
     "output_type": "display_data"
    },
    {
     "data": {
      "image/png": "[encoded data removed]",
      "text/plain": [
       "<IPython.core.display.Image object>"
      ]
     },
     "metadata": {},
     "output_type": "display_data"
    },
    {
     "data": {
      "image/png": "[encoded data removed]",
      "text/plain": [
       "<IPython.core.display.Image object>"
      ]
     },
     "metadata": {},
     "output_type": "display_data"
    }
   ],
   "source": [
    "analysis.draw_histogram(\"nu_E\")\n",
    "analysis.draw_histogram(\"M_Wlep\")\n",
    "analysis.draw_histogram(\"M_Whad\")"
   ]
  },
  {
   "cell_type": "code",
   "execution_count": 22,
   "metadata": {},
   "outputs": [
    {
     "name": "stdout",
     "output_type": "stream",
     "text": [
      "dict_keys([('O_1', 5000, 0.0, 0.0), ('O_2', 5000, 0.0, 0.0), ('O_3', 5000, 0.0, 0.0), ('nu_E', 5000, 0.0, 0.0), ('M_Wlep', 5000, 0.0, 0.0), ('M_Whad', 5000, 0.0, 0.0)])\n"
     ]
    }
   ],
   "source": [
    "print(analysis._scaled_histograms.keys())"
   ]
  },
  {
   "cell_type": "code",
   "execution_count": 23,
   "metadata": {},
   "outputs": [],
   "source": [
    "analysis.store_histograms([\"O_1\", \"O_2\", \"O_3\"], \"histograms/miniDST/full\")"
   ]
  },
  {
   "cell_type": "code",
   "execution_count": 24,
   "metadata": {},
   "outputs": [],
   "source": [
    "\n",
    "analysis.store_raw_histograms([\"O_1\", \"O_2\", \"O_3\"], \"histograms/miniDST/full\")"
   ]
  }
 ],
 "metadata": {
  "kernelspec": {
   "display_name": "Python 3",
   "language": "python",
   "name": "python3"
  },
  "language_info": {
   "codemirror_mode": {
    "name": "ipython",
    "version": 3
   },
   "file_extension": ".py",
   "mimetype": "text/x-python",
   "name": "python",
   "nbconvert_exporter": "python",
   "pygments_lexer": "ipython3",
   "version": "3.11.9"
  }
 },
 "nbformat": 4,
 "nbformat_minor": 2
}

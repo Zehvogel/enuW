{
 "cells": [
  {
   "cell_type": "code",
   "execution_count": 1,
   "metadata": {},
   "outputs": [
    {
     "name": "stdout",
     "output_type": "stream",
     "text": [
      "OBJ: TStyle\tildStyle\tILD Style : 0 at: 0x745bad0\n",
      "Welcome to JupyROOT 6.28/10\n"
     ]
    }
   ],
   "source": [
    "import ROOT\n",
    "import edm4hep\n",
    "from podio import root_io\n",
    "from math import sqrt"
   ]
  },
  {
   "cell_type": "code",
   "execution_count": 2,
   "metadata": {},
   "outputs": [],
   "source": [
    "%jsroot on"
   ]
  },
  {
   "cell_type": "code",
   "execution_count": 3,
   "metadata": {},
   "outputs": [
    {
     "data": {
      "text/plain": [
       "True"
      ]
     },
     "execution_count": 3,
     "metadata": {},
     "output_type": "execute_result"
    }
   ],
   "source": [
    "ROOT.gInterpreter.Declare(\"#include <marlinutil/HelixClass_double.h>\")\n",
    "# ROOT.gInterpreter.Declare(\"#include <marlinutil/GeometryUtil.h>\")"
   ]
  },
  {
   "cell_type": "code",
   "execution_count": 4,
   "metadata": {},
   "outputs": [],
   "source": [
    "ROOT.ildStyle.SetOptStat(0)"
   ]
  },
  {
   "cell_type": "code",
   "execution_count": 5,
   "metadata": {},
   "outputs": [
    {
     "name": "stdout",
     "output_type": "stream",
     "text": [
      "2\n"
     ]
    }
   ],
   "source": [
    "# Meh would require dd4hep\n",
    "# Bz = ROOT.MarlinUtil.getBzAtOrigin()\n",
    "Bz = 2\n",
    "print(Bz)"
   ]
  },
  {
   "cell_type": "code",
   "execution_count": 6,
   "metadata": {},
   "outputs": [],
   "source": [
    "# reader = root_io.Reader(\"E250-SetA.P4f_sw_sl.Gwhizard-2_8_5.eL.pR.I500106.0.10.REC_edm4hep.root\")\n",
    "# reader = root_io.Reader(\"E250-SetA.P4f_sw_sl.Gwhizard-2_8_5.eL.pR.I500106.0.1000.REC_edm4hep.root\")\n",
    "reader = root_io.Reader(\"rv02-02.sv02-02.mILD_l5_o1_v02.E250-SetA.I500106.P4f_sw_sl.eL.pR.n000.d_dstm_15176_0.edm4hep.root\")"
   ]
  },
  {
   "cell_type": "code",
   "execution_count": 7,
   "metadata": {},
   "outputs": [],
   "source": [
    "events = reader.get(\"events\")\n"
   ]
  },
  {
   "cell_type": "code",
   "execution_count": 8,
   "metadata": {},
   "outputs": [],
   "source": [
    "# TODO: define beam_cone, lumi cal clearance whatever already up here and make a custom binning with one bin each in the dead parts\n",
    "# caveat: for the underlay distribution this is not nice\n",
    "\n",
    "beam_cone = 0.11 / ROOT.Math.Pi()\n",
    "\n",
    "h_e_theta = ROOT.TH1D(\"h_e_theta\", \";#theta [#pi rad]\", 30, 0, 1)\n",
    "h_total_theta = ROOT.TH1D(\"h_total_theta\", \";#theta [#pi rad]\", 30, 0, 1)\n",
    "h_pass_theta = ROOT.TH1D(\"h_pass_theta\", \";#theta [#pi rad]\", 30, 0, 1)\n",
    "h_total_pt = ROOT.TH1D(\"h_total_pt\", \";p_{T} [GeV]\", 62, 0, 124)\n",
    "h_pass_pt = ROOT.TH1D(\"h_pass_pt\", \";#p_{T} [GeV]\", 62, 0, 124)"
   ]
  },
  {
   "cell_type": "code",
   "execution_count": 9,
   "metadata": {},
   "outputs": [
    {
     "name": "stdout",
     "output_type": "stream",
     "text": [
      "track reco eff: 0.9801\n",
      "track reco eff only in acceptance: 1.0031729785056296\n"
     ]
    }
   ],
   "source": [
    "all = 0\n",
    "found = 0\n",
    "all_acc = 0\n",
    "for event in events:\n",
    "    if all >= 10000:\n",
    "        break\n",
    "    all += 1\n",
    "    mcparticles = event.get(\"MCParticlesSkimmed\")\n",
    "    # search first genStat 1 electron\n",
    "    for mcp in mcparticles:\n",
    "        if (abs(mcp.getPDG()) == 11 and mcp.getGeneratorStatus() == 1):\n",
    "            break\n",
    "    mom = mcp.getMomentum()\n",
    "    mom_v = ROOT.TVector3(mom.x, mom.y, mom.z)\n",
    "    # if (abs(mom_v.CosTheta()) >= 0.99):\n",
    "    #     pass\n",
    "    h_total_theta.Fill(mom_v.Theta() / ROOT.Math.Pi())\n",
    "    h_total_pt.Fill(mom_v.Perp())\n",
    "    if (mcp.getCharge() == -1.0):\n",
    "        h_e_theta.Fill(mom_v.Theta() / ROOT.Math.Pi())\n",
    "    if (mom_v.Theta() / ROOT.Math.Pi() > beam_cone and mom_v.Theta() / ROOT.Math.Pi() < 1 - beam_cone):\n",
    "        all_acc += 1\n",
    "\n",
    "    mctruthrecolinks = event.get(\"MarlinTrkTracksMCTruthLink\")\n",
    "    # meh need to do the whole logic as in my marlin pidutil\n",
    "    # lets just care about tracks its simpler\n",
    "    # argh this can also have more than one track per electron\n",
    "    for link in mctruthrecolinks:\n",
    "        if link.getSim() == mcp and link.getWeight() > 0.99:\n",
    "            # print(f\"found! with weight: {link.getWeight()}\")\n",
    "            found += 1\n",
    "            h_pass_theta.Fill(mom_v.Theta() / ROOT.Math.Pi())\n",
    "            h_pass_pt.Fill(mom_v.Perp())\n",
    "            break\n",
    "print(f\"track reco eff: {found / all}\")\n",
    "print(f\"track reco eff only in acceptance: {found / all_acc}\")"
   ]
  },
  {
   "cell_type": "code",
   "execution_count": 10,
   "metadata": {},
   "outputs": [],
   "source": [
    "eff_theta = ROOT.TEfficiency(h_pass_theta, h_total_theta).CreateGraph()\n",
    "eff_pt = ROOT.TEfficiency(h_pass_pt, h_total_pt).CreateGraph()"
   ]
  },
  {
   "cell_type": "code",
   "execution_count": 11,
   "metadata": {},
   "outputs": [],
   "source": [
    "u_theta = h_e_theta.Clone()\n",
    "u_theta.Scale(7 / u_theta.Integral())\n",
    "u_theta.SetLineColor(ROOT.kGray)\n",
    "u_theta.SetMarkerColor(ROOT.kGray)\n",
    "u_theta.SetFillColor(ROOT.kGray)\n",
    "\n",
    "u_pt = h_total_pt.Clone()\n",
    "u_pt.Scale(7 / u_pt.Integral())\n",
    "u_pt.SetLineColor(ROOT.kGray)\n",
    "u_pt.SetMarkerColor(ROOT.kGray)\n",
    "u_pt.SetFillColor(ROOT.kGray)"
   ]
  },
  {
   "cell_type": "code",
   "execution_count": 12,
   "metadata": {},
   "outputs": [],
   "source": [
    "t = ROOT.TLatex()\n",
    "t.SetTextSize(30)\n",
    "t.SetTextFont(63)"
   ]
  },
  {
   "cell_type": "code",
   "execution_count": 13,
   "metadata": {},
   "outputs": [
    {
     "name": "stderr",
     "output_type": "stream",
     "text": [
      "Info in <TCanvas::Print>: pdf file plots/trk_eff_ild/eff_theta.pdf has been created\n"
     ]
    },
    {
     "data": {
      "text/html": [
       "\n",
       "\n",
       "<div id=\"root_plot_1708940687549\"\n",
       "     style=\"width: 700px; height: 500px\">\n",
       "</div>\n",
       "<script>\n",
       "\n",
       "function display_root_plot_1708940687549(Core) {\n",
       "   let obj = Core.parse({\"_typename\":\"TCanvas\",\"fUniqueID\":0,\"fBits\":3342344,\"fLineColor\":1,\"fLineStyle\":1,\"fLineWidth\":2,\"fFillColor\":10,\"fFillStyle\":1001,\"fLeftMargin\":0.15,\"fRightMargin\":0.05,\"fBottomMargin\":0.18,\"fTopMargin\":0.06,\"fXfile\":2,\"fYfile\":2,\"fAfile\":1,\"fXstat\":0.99,\"fYstat\":0.99,\"fAstat\":2,\"fFrameFillColor\":10,\"fFrameLineColor\":1,\"fFrameFillStyle\":1001,\"fFrameLineStyle\":1,\"fFrameLineWidth\":2,\"fFrameBorderSize\":1,\"fFrameBorderMode\":0,\"fX1\":-0.187500004656613,\"fY1\":-0.248684223528714,\"fX2\":1.0625,\"fY2\":1.13289473602946,\"fXtoAbsPixelk\":104.400052203882,\"fXtoPixelk\":104.400052203882,\"fXtoPixel\":556.799997925758,\"fYtoAbsPixelk\":387.040046307492,\"fYtoPixelk\":387.040046307492,\"fYtoPixel\":-341.638092223803,\"fUtoAbsPixelk\":5e-5,\"fUtoPixelk\":5e-5,\"fUtoPixel\":696,\"fVtoAbsPixelk\":472.00005,\"fVtoPixelk\":472,\"fVtoPixel\":-472,\"fAbsPixeltoXk\":-0.187500004656613,\"fPixeltoXk\":-0.187500004656613,\"fPixeltoX\":0.00179597701818479,\"fAbsPixeltoYk\":1.13289473602946,\"fPixeltoYk\":-0.248684223528714,\"fPixeltoY\":-0.00292707406686053,\"fXlowNDC\":0,\"fYlowNDC\":0,\"fXUpNDC\":1,\"fYUpNDC\":1,\"fWNDC\":1,\"fHNDC\":1,\"fAbsXlowNDC\":0,\"fAbsYlowNDC\":0,\"fAbsWNDC\":1,\"fAbsHNDC\":1,\"fUxmin\":0,\"fUymin\":0,\"fUxmax\":1,\"fUymax\":1.05,\"fTheta\":30,\"fPhi\":30,\"fAspectRatio\":0,\"fNumber\":0,\"fTickx\":1,\"fTicky\":1,\"fLogx\":0,\"fLogy\":0,\"fLogz\":0,\"fPadPaint\":0,\"fCrosshair\":0,\"fCrosshairPos\":0,\"fBorderSize\":2,\"fBorderMode\":0,\"fModified\":false,\"fGridx\":false,\"fGridy\":false,\"fAbsCoord\":false,\"fEditable\":true,\"fFixedAspectRatio\":false,\"fPrimitives\":{\"_typename\":\"TList\",\"name\":\"TList\",\"arr\":[{\"_typename\":\"TFrame\",\"fUniqueID\":0,\"fBits\":8,\"fLineColor\":1,\"fLineStyle\":1,\"fLineWidth\":2,\"fFillColor\":10,\"fFillStyle\":1001,\"fX1\":0,\"fY1\":0,\"fX2\":1,\"fY2\":1.05,\"fBorderSize\":1,\"fBorderMode\":0},{\"_typename\":\"TH1D\",\"fUniqueID\":0,\"fBits\":520,\"fName\":\"h_e_theta\",\"fTitle\":\"\",\"fLineColor\":920,\"fLineStyle\":1,\"fLineWidth\":2,\"fFillColor\":920,\"fFillStyle\":1001,\"fMarkerColor\":920,\"fMarkerStyle\":20,\"fMarkerSize\":0.7,\"fNcells\":32,\"fXaxis\":{\"_typename\":\"TAxis\",\"fUniqueID\":0,\"fBits\":2048,\"fName\":\"xaxis\",\"fTitle\":\"#theta [#pi rad]\",\"fNdivisions\":506,\"fAxisColor\":1,\"fLabelColor\":1,\"fLabelFont\":42,\"fLabelOffset\":0.015,\"fLabelSize\":0.06,\"fTickLength\":0.03,\"fTitleOffset\":1,\"fTitleSize\":0.07,\"fTitleColor\":1,\"fTitleFont\":42,\"fNbins\":30,\"fXmin\":0,\"fXmax\":1,\"fXbins\":[],\"fFirst\":1,\"fLast\":30,\"fBits2\":0,\"fTimeDisplay\":false,\"fTimeFormat\":\"\",\"fLabels\":null,\"fModLabs\":null},\"fYaxis\":{\"_typename\":\"TAxis\",\"fUniqueID\":0,\"fBits\":0,\"fName\":\"yaxis\",\"fTitle\":\"\",\"fNdivisions\":506,\"fAxisColor\":1,\"fLabelColor\":1,\"fLabelFont\":42,\"fLabelOffset\":0.015,\"fLabelSize\":0.06,\"fTickLength\":0.03,\"fTitleOffset\":1.1,\"fTitleSize\":0.07,\"fTitleColor\":1,\"fTitleFont\":42,\"fNbins\":1,\"fXmin\":0,\"fXmax\":1,\"fXbins\":[],\"fFirst\":0,\"fLast\":0,\"fBits2\":0,\"fTimeDisplay\":false,\"fTimeFormat\":\"\",\"fLabels\":null,\"fModLabs\":null},\"fZaxis\":{\"_typename\":\"TAxis\",\"fUniqueID\":0,\"fBits\":0,\"fName\":\"zaxis\",\"fTitle\":\"\",\"fNdivisions\":510,\"fAxisColor\":1,\"fLabelColor\":1,\"fLabelFont\":42,\"fLabelOffset\":0.015,\"fLabelSize\":0.06,\"fTickLength\":0.03,\"fTitleOffset\":1.1,\"fTitleSize\":0.07,\"fTitleColor\":1,\"fTitleFont\":42,\"fNbins\":1,\"fXmin\":0,\"fXmax\":1,\"fXbins\":[],\"fFirst\":0,\"fLast\":0,\"fBits2\":0,\"fTimeDisplay\":false,\"fTimeFormat\":\"\",\"fLabels\":null,\"fModLabs\":null},\"fBarOffset\":0,\"fBarWidth\":1000,\"fEntries\":4965,\"fTsumw\":7,\"fTsumw2\":0.00986908358509567,\"fTsumwx\":1.91047854830088,\"fTsumwx2\":0.7117946720491,\"fMaximum\":1.05,\"fMinimum\":0,\"fNormFactor\":0,\"fContour\":[],\"fSumw2\":{\"$arr\":\"Float64\",\"len\":32,\"p\":1,\"v\":[2.02748544950606e-4,4.11460282399759e-4,5.40662786534949e-4,7.73227293978291e-4,8.28883757298065e-4,9.46159876436161e-4,9.75975838928897e-4,8.38822411462311e-4,7.91116871473933e-4,7.49374523984102e-4,5.30724132370704e-4,4.55190360722439e-4,3.67730204077079e-4,3.22012394921551e-4,2.32564507443342e-4,1.70944851625021e-4,1.19263849970945e-4,1.33177965800888e-4,9.54110799767557e-5,6.95705791497177e-5,4.57178091555288e-5,5.96319249854723e-5,5.56564633197742e-5,4.17423474898306e-5,2.98159624927362e-5,3.18036933255852e-5,2.5840500827038e-5,9.93865416424539e-6,1.39141158299435e-5]},\"fOption\":\"\",\"fFunctions\":{\"_typename\":\"TList\",\"name\":\"TList\",\"arr\":[],\"opt\":[]},\"fBufferSize\":0,\"fBuffer\":[],\"fBinStatErrOpt\":0,\"fStatOverflows\":2,\"fArray\":{\"$arr\":\"Float64\",\"len\":32,\"p\":1,\"v\":[0.14380664652568,0.291842900302115,0.383484390735146,0.548439073514602,0.587915407854985,0.671097683786506,0.692245720040282,0.59496475327291,0.561127895266868,0.531520644511581,0.376435045317221,0.322860020140987,0.260825780463243,0.228398791540785,0.164954682779456,0.121248741188318,0.0845921450151057,0.0944612286002014,0.0676737160120846,0.0493454179254783,0.0324269889224572,0.0422960725075529,0.0394763343403827,0.029607250755287,0.0211480362537764,0.0225579053373615,0.0183282980866062,0.00704934541792548,0.00986908358509567]}},{\"_typename\":\"TGraphAsymmErrors\",\"fUniqueID\":0,\"fBits\":1032,\"fName\":\"eff_graph\",\"fTitle\":\";#theta_{e^{#pm}} [#pi rad]; e^{#pm} track reco efficiency\",\"fLineColor\":1,\"fLineStyle\":1,\"fLineWidth\":2,\"fFillColor\":10,\"fFillStyle\":1001,\"fMarkerColor\":1,\"fMarkerStyle\":20,\"fMarkerSize\":0.7,\"fNpoints\":30,\"fX\":{\"$arr\":\"Float64\",\"len\":30,\"v\":[0.0166666666666667,0.05,0.0833333333333333,0.116666666666667,0.15,0.183333333333333,0.216666666666667,0.25,0.283333333333333,0.316666666666667,0.35,0.383333333333333,0.416666666666667,0.45,0.483333333333333,0.516666666666667,0.55,0.583333333333333,0.616666666666667,0.65,0.683333333333333,0.716666666666667,0.75,0.783333333333333,0.816666666666667,0.85,0.883333333333333,0.916666666666667,0.95,0.983333333333333]},\"fY\":{\"$arr\":\"Float64\",\"len\":30,\"v\":[0.213592233009709,0.956730769230769,1,0.99748743718593,1,1,0.998065764023211],\"v1\":1,\"n1\":7,\"v2\":[0.995535714285714,0.99468085106383],\"v3\":1,\"n3\":7,\"v4\":[0.99802371541502,0.997782705099778,0.997727272727273,0.997402597402597,0.982269503546099,0.975845410628019,0.1875]},\"fFunctions\":{\"_typename\":\"TList\",\"name\":\"TList\",\"arr\":[],\"opt\":[]},\"fHistogram\":{\"_typename\":\"TH1F\",\"fUniqueID\":0,\"fBits\":512,\"fName\":\"eff_graph\",\"fTitle\":\"\",\"fLineColor\":1,\"fLineStyle\":1,\"fLineWidth\":2,\"fFillColor\":0,\"fFillStyle\":1001,\"fMarkerColor\":1,\"fMarkerStyle\":20,\"fMarkerSize\":0.7,\"fNcells\":102,\"fXaxis\":{\"_typename\":\"TAxis\",\"fUniqueID\":0,\"fBits\":0,\"fName\":\"xaxis\",\"fTitle\":\"#theta_{e^{#pm}} [#pi rad]\",\"fNdivisions\":506,\"fAxisColor\":1,\"fLabelColor\":1,\"fLabelFont\":42,\"fLabelOffset\":0.015,\"fLabelSize\":0.06,\"fTickLength\":0.03,\"fTitleOffset\":1,\"fTitleSize\":0.07,\"fTitleColor\":1,\"fTitleFont\":42,\"fNbins\":100,\"fXmin\":0,\"fXmax\":1.1,\"fXbins\":[],\"fFirst\":0,\"fLast\":0,\"fBits2\":0,\"fTimeDisplay\":false,\"fTimeFormat\":\"\",\"fLabels\":null,\"fModLabs\":null},\"fYaxis\":{\"_typename\":\"TAxis\",\"fUniqueID\":0,\"fBits\":0,\"fName\":\"yaxis\",\"fTitle\":\" e^{#pm} track reco efficiency\",\"fNdivisions\":506,\"fAxisColor\":1,\"fLabelColor\":1,\"fLabelFont\":42,\"fLabelOffset\":0.015,\"fLabelSize\":0.06,\"fTickLength\":0.03,\"fTitleOffset\":1.1,\"fTitleSize\":0.07,\"fTitleColor\":1,\"fTitleFont\":42,\"fNbins\":1,\"fXmin\":0.0643419058438894,\"fXmax\":1.08505982674146,\"fXbins\":[],\"fFirst\":0,\"fLast\":0,\"fBits2\":0,\"fTimeDisplay\":false,\"fTimeFormat\":\"\",\"fLabels\":null,\"fModLabs\":null},\"fZaxis\":{\"_typename\":\"TAxis\",\"fUniqueID\":0,\"fBits\":0,\"fName\":\"zaxis\",\"fTitle\":\"\",\"fNdivisions\":510,\"fAxisColor\":1,\"fLabelColor\":1,\"fLabelFont\":42,\"fLabelOffset\":0.015,\"fLabelSize\":0.06,\"fTickLength\":0.03,\"fTitleOffset\":1.1,\"fTitleSize\":0.07,\"fTitleColor\":1,\"fTitleFont\":42,\"fNbins\":1,\"fXmin\":0,\"fXmax\":1,\"fXbins\":[],\"fFirst\":0,\"fLast\":0,\"fBits2\":0,\"fTimeDisplay\":false,\"fTimeFormat\":\"\",\"fLabels\":null,\"fModLabs\":null},\"fBarOffset\":0,\"fBarWidth\":1000,\"fEntries\":0,\"fTsumw\":0,\"fTsumw2\":0,\"fTsumwx\":0,\"fTsumwx2\":0,\"fMaximum\":1.08505982674146,\"fMinimum\":0.0643419058438894,\"fNormFactor\":0,\"fContour\":[],\"fSumw2\":[],\"fOption\":\"\",\"fFunctions\":{\"_typename\":\"TList\",\"name\":\"TList\",\"arr\":[],\"opt\":[]},\"fBufferSize\":0,\"fBuffer\":[],\"fBinStatErrOpt\":0,\"fStatOverflows\":2,\"fArray\":{\"$arr\":\"Float32\",\"len\":102}},\"fMinimum\":-1111,\"fMaximum\":-1111,\"fEXlow\":{\"$arr\":\"Float64\",\"len\":30,\"v\":[0.0166666666666667,0.0166666666666667],\"v1\":0.0166666666666667,\"n1\":13,\"v2\":0.0166666666666667,\"n2\":15},\"fEXhigh\":{\"$arr\":\"Float64\",\"len\":30,\"v\":[0.0166666666666667,0.0166666666666667],\"v1\":0.0166666666666667,\"n1\":13,\"v2\":0.0166666666666666,\"n2\":15},\"fEYlow\":{\"$arr\":\"Float64\",\"len\":30,\"v\":[0.0419596069459876,0.0191362240946561,0.00667226509034269,0.00575379095668582,0.00428223073641076,0.00374251419006266,0.00443364999703355,0.00411014678596122,0.00430224481569019,0.00449115985881265,0.00582746721630722,0.00667226509034269,0.00739598844489164,0.00773793069336615,0.0101903345477354,0.0121245238333725,0.00885439130622312,0.00626365135870843,0.00628503466839703,0.00538434263796539,0.00504498288187227,0.00425255634374988,0.00369741656296607,0.00452971916319056,0.00508010163291472,0.005206627498199,0.00594724133235702,0.0118163888431653,0.0160097804865011,0.038098267414646]},\"fEYhigh\":{\"$arr\":\"Float64\",\"len\":30,\"v\":[0.0481500729219498,0.0140129934441268,0,0.0020786022810283,0,0,0.00160014522302476,0,0,0,0,0,0,0,0.0036933608019275,0.00440066791840521,0,0,0,0,0,0,0,0.00163493222847644,0.00183432217977975,0.00188018211369356,0.00214879213883223,0.00763762397135226,0.010394486163212,0.0443178422916355]}},{\"_typename\":\"TLegend\",\"fUniqueID\":0,\"fBits\":8,\"fLineColor\":1,\"fLineStyle\":1,\"fLineWidth\":2,\"fFillColor\":0,\"fFillStyle\":1001,\"fX1\":0.343749997322448,\"fY1\":0.442105256250371,\"fX2\":0.874999999301508,\"fY2\":0.718421048162004,\"fX1NDC\":0.425,\"fY1NDC\":0.5,\"fX2NDC\":0.85,\"fY2NDC\":0.7,\"fBorderSize\":0,\"fInit\":1,\"fShadowColor\":1,\"fCornerRadius\":0,\"fOption\":\"brNDC\",\"fName\":\"TPave\",\"fTextAngle\":0,\"fTextSize\":0,\"fTextAlign\":12,\"fTextColor\":1,\"fTextFont\":62,\"fPrimitives\":{\"_typename\":\"TList\",\"name\":\"TList\",\"arr\":[{\"_typename\":\"TLegendEntry\",\"fUniqueID\":0,\"fBits\":0,\"fTextAngle\":0,\"fTextSize\":0,\"fTextAlign\":0,\"fTextColor\":0,\"fTextFont\":62,\"fLineColor\":1,\"fLineStyle\":1,\"fLineWidth\":2,\"fFillColor\":10,\"fFillStyle\":1001,\"fMarkerColor\":1,\"fMarkerStyle\":20,\"fMarkerSize\":0.7,\"fObject\":{\"$ref\":8},\"fLabel\":\"e^{#pm} tracking efficiency\",\"fOption\":\"lpf\"},{\"_typename\":\"TLegendEntry\",\"fUniqueID\":0,\"fBits\":0,\"fTextAngle\":0,\"fTextSize\":0,\"fTextAlign\":0,\"fTextColor\":0,\"fTextFont\":62,\"fLineColor\":920,\"fLineStyle\":1,\"fLineWidth\":2,\"fFillColor\":920,\"fFillStyle\":1001,\"fMarkerColor\":920,\"fMarkerStyle\":20,\"fMarkerSize\":0.7,\"fObject\":{\"$ref\":3},\"fLabel\":\"electron distribution #times 7\",\"fOption\":\"lpf\"}],\"opt\":[\"lpf\",\"lpf\"]},\"fEntrySeparation\":0.1,\"fMargin\":0.25,\"fNColumns\":1,\"fColumnSeparation\":0},{\"_typename\":\"TLatex\",\"fUniqueID\":0,\"fBits\":9,\"fName\":\"\",\"fTitle\":\"e^{+}e^{-}#rightarrow e^{#pm}#nu W\",\"fTextAngle\":0,\"fTextSize\":30,\"fTextAlign\":11,\"fTextColor\":1,\"fTextFont\":63,\"fX\":0.4,\"fY\":0.75,\"fLineColor\":1,\"fLineStyle\":1,\"fLineWidth\":2,\"fLimitFactorSize\":3,\"fOriginSize\":0.0635593235492706},{\"_typename\":\"TLatex\",\"fUniqueID\":0,\"fBits\":16393,\"fName\":\"\",\"fTitle\":\"ILD #font[52]{work in progress}\",\"fTextAngle\":0,\"fTextSize\":30,\"fTextAlign\":11,\"fTextColor\":1,\"fTextFont\":63,\"fX\":0.15,\"fY\":0.93935,\"fLineColor\":1,\"fLineStyle\":1,\"fLineWidth\":2,\"fLimitFactorSize\":3,\"fOriginSize\":0.0635593235492706},{\"_typename\":\"TStyle\",\"fUniqueID\":0,\"fBits\":0,\"fName\":\"ildStyle\",\"fTitle\":\"ILD Style\",\"fLineColor\":1,\"fLineStyle\":1,\"fLineWidth\":2,\"fFillColor\":10,\"fFillStyle\":1001,\"fMarkerColor\":1,\"fMarkerStyle\":20,\"fMarkerSize\":0.7,\"fTextAngle\":0,\"fTextSize\":0.05,\"fTextAlign\":11,\"fTextColor\":1,\"fTextFont\":42,\"fXaxis\":{\"_typename\":\"TAttAxis\",\"fNdivisions\":506,\"fAxisColor\":1,\"fLabelColor\":1,\"fLabelFont\":42,\"fLabelOffset\":0.015,\"fLabelSize\":0.06,\"fTickLength\":0.03,\"fTitleOffset\":1,\"fTitleSize\":0.07,\"fTitleColor\":1,\"fTitleFont\":42},\"fYaxis\":{\"_typename\":\"TAttAxis\",\"fNdivisions\":506,\"fAxisColor\":1,\"fLabelColor\":1,\"fLabelFont\":42,\"fLabelOffset\":0.015,\"fLabelSize\":0.06,\"fTickLength\":0.03,\"fTitleOffset\":1.1,\"fTitleSize\":0.07,\"fTitleColor\":1,\"fTitleFont\":42},\"fZaxis\":{\"_typename\":\"TAttAxis\",\"fNdivisions\":510,\"fAxisColor\":1,\"fLabelColor\":1,\"fLabelFont\":42,\"fLabelOffset\":0.015,\"fLabelSize\":0.06,\"fTickLength\":0.03,\"fTitleOffset\":1.1,\"fTitleSize\":0.07,\"fTitleColor\":1,\"fTitleFont\":42},\"fBarWidth\":1,\"fBarOffset\":0,\"fColorModelPS\":0,\"fDrawBorder\":0,\"fOptLogx\":0,\"fOptLogy\":0,\"fOptLogz\":0,\"fOptDate\":0,\"fOptStat\":0,\"fOptTitle\":1,\"fOptFile\":0,\"fOptFit\":0,\"fShowEventStatus\":0,\"fShowEditor\":0,\"fShowToolBar\":0,\"fNumberContours\":20,\"fAttDate\":{\"_typename\":\"TAttText\",\"fTextAngle\":0,\"fTextSize\":0.025,\"fTextAlign\":11,\"fTextColor\":1,\"fTextFont\":62},\"fDateX\":0.01,\"fDateY\":0.01,\"fEndErrorSize\":2,\"fErrorX\":0.5,\"fFuncColor\":632,\"fFuncStyle\":1,\"fFuncWidth\":2,\"fGridColor\":0,\"fGridStyle\":3,\"fGridWidth\":1,\"fLegendBorderSize\":0,\"fLegendFillColor\":0,\"fLegendFont\":62,\"fLegendTextSize\":0,\"fHatchesLineWidth\":1,\"fHatchesSpacing\":1,\"fFrameFillColor\":10,\"fFrameLineColor\":1,\"fFrameFillStyle\":1001,\"fFrameLineStyle\":1,\"fFrameLineWidth\":2,\"fFrameBorderSize\":1,\"fFrameBorderMode\":0,\"fHistFillColor\":0,\"fHistLineColor\":1,\"fHistFillStyle\":1001,\"fHistLineStyle\":1,\"fHistLineWidth\":2,\"fHistMinimumZero\":false,\"fHistTopMargin\":0.05,\"fCanvasPreferGL\":false,\"fCanvasColor\":10,\"fCanvasBorderSize\":2,\"fCanvasBorderMode\":0,\"fCanvasDefH\":500,\"fCanvasDefW\":700,\"fCanvasDefX\":10,\"fCanvasDefY\":10,\"fPadColor\":10,\"fPadBorderSize\":2,\"fPadBorderMode\":0,\"fPadBottomMargin\":0.18,\"fPadTopMargin\":0.06,\"fPadLeftMargin\":0.15,\"fPadRightMargin\":0.05,\"fPadGridX\":false,\"fPadGridY\":false,\"fPadTickX\":1,\"fPadTickY\":1,\"fPaperSizeX\":20,\"fPaperSizeY\":26,\"fScreenFactor\":1,\"fStatColor\":10,\"fStatTextColor\":1,\"fStatBorderSize\":0,\"fStatFont\":42,\"fStatFontSize\":0.07,\"fStatStyle\":1001,\"fStatFormat\":\"6.4g\",\"fStatX\":0.98,\"fStatY\":0.995,\"fStatW\":0.2,\"fStatH\":0.16,\"fStripDecimals\":true,\"fTitleAlign\":13,\"fTitleColor\":0,\"fTitleTextColor\":1,\"fTitleBorderSize\":0,\"fTitleFont\":62,\"fTitleFontSize\":0,\"fTitleStyle\":1001,\"fTitleX\":0.01,\"fTitleY\":0.995,\"fTitleW\":0,\"fTitleH\":0,\"fLegoInnerR\":0.5,\"fLineStyles\":[\"\",\"  \",\" 12 12\",\" 4 8\",\" 12 16 4 16\",\" 20 12 4 12\",\" 20 12 4 12 4 12 4 12\",\" 20 20\",\" 20 12 4 12 4 12\",\" 80 20\",\" 80 40 4 40\",\"  \",\"  \",\"  \",\"  \",\"  \",\"  \",\"  \",\"  \",\"  \",\"  \",\"  \",\"  \",\"  \",\"  \",\"  \",\"  \",\"  \",\"  \",\"  \"],\"fHeaderPS\":\"\",\"fTitlePS\":\"\",\"fFitFormat\":\"5.4g\",\"fPaintTextFormat\":\"g\",\"fLineScalePS\":3,\"fJoinLinePS\":0,\"fCapLinePS\":0,\"fTimeOffset\":788918400,\"fImageScaling\":1}],\"opt\":[\"\",\"hist\",\"p\",\"\",\"\",\"\",\"\"]},\"fExecs\":null,\"fName\":\"c1\",\"fTitle\":\"c1\",\"fNumPaletteColor\":0,\"fNextPaletteColor\":0,\"fDISPLAY\":\"$DISPLAY\",\"fDoubleBuffer\":0,\"fRetained\":true,\"fXsizeUser\":0,\"fYsizeUser\":0,\"fXsizeReal\":20,\"fYsizeReal\":14.28571,\"fWindowTopX\":0,\"fWindowTopY\":0,\"fWindowWidth\":0,\"fWindowHeight\":0,\"fCw\":696,\"fCh\":472,\"fCatt\":{\"_typename\":\"TAttCanvas\",\"fXBetween\":2,\"fYBetween\":2,\"fTitleFromTop\":1.2,\"fXdate\":0.2,\"fYdate\":0.3,\"fAdate\":1},\"kMoveOpaque\":true,\"kResizeOpaque\":true,\"fHighLightColor\":2,\"fBatch\":true,\"kShowEventStatus\":false,\"kAutoExec\":true,\"kMenuBar\":true});\n",
       "   Core.settings.HandleKeys = false;\n",
       "   Core.draw(\"root_plot_1708940687549\", obj, \"\");\n",
       "}\n",
       "\n",
       "function script_load_root_plot_1708940687549(src, on_error) {\n",
       "    let script = document.createElement('script');\n",
       "    script.src = src;\n",
       "    script.onload = function() { display_root_plot_1708940687549(JSROOT); };\n",
       "    script.onerror = function() { script.remove(); on_error(); };\n",
       "    document.head.appendChild(script);\n",
       "}\n",
       "\n",
       "if (typeof requirejs !== 'undefined') {\n",
       "\n",
       "    // We are in jupyter notebooks, use require.js which should be configured already\n",
       "    requirejs.config({\n",
       "       paths: { 'JSRootCore' : [ 'build/jsroot', 'https://root.cern/js/7.3.4/build/jsroot', 'https://jsroot.gsi.de/7.3.4/build/jsroot' ] }\n",
       "    })(['JSRootCore'],  function(Core) {\n",
       "       display_root_plot_1708940687549(Core);\n",
       "    });\n",
       "\n",
       "} else if (typeof JSROOT !== 'undefined') {\n",
       "\n",
       "   // JSROOT already loaded, just use it\n",
       "   display_root_plot_1708940687549(JSROOT);\n",
       "\n",
       "} else {\n",
       "\n",
       "    // We are in jupyterlab without require.js, directly loading jsroot\n",
       "    // Jupyterlab might be installed in a different base_url so we need to know it.\n",
       "    try {\n",
       "        var base_url = JSON.parse(document.getElementById('jupyter-config-data').innerHTML).baseUrl;\n",
       "    } catch(_) {\n",
       "        var base_url = '/';\n",
       "    }\n",
       "\n",
       "    // Try loading a local version of requirejs and fallback to cdn if not possible.\n",
       "    script_load_root_plot_1708940687549(base_url + 'static/build/jsroot.js', function(){\n",
       "        console.error('Fail to load JSROOT locally, please check your jupyter_notebook_config.py file');\n",
       "        script_load_root_plot_1708940687549('https://root.cern/js/7.3.4/build/jsroot.js', function(){\n",
       "            document.getElementById(\"root_plot_1708940687549\").innerHTML = \"Failed to load JSROOT\";\n",
       "        });\n",
       "    });\n",
       "}\n",
       "\n",
       "</script>\n"
      ],
      "text/plain": [
       "<IPython.core.display.HTML object>"
      ]
     },
     "metadata": {},
     "output_type": "display_data"
    }
   ],
   "source": [
    "c_eff_theta = ROOT.TCanvas()\n",
    "eff_theta.SetTitle(\";#theta_{e^{#pm}} [#pi rad]; e^{#pm} track reco efficiency\")\n",
    "u_theta.Draw(\"hist\")\n",
    "eff_theta.Draw(\"p\")\n",
    "u_theta.GetYaxis().SetRangeUser(0, 1.05)\n",
    "u_theta.GetXaxis().SetRangeUser(0, 1.0)\n",
    "# ll = ROOT.TLine(beam_cone, 0, beam_cone, 1.05)\n",
    "# ll.SetLineColor(ROOT.kRed)\n",
    "# lr = ROOT.TLine(1 - beam_cone, 0, 1 - beam_cone, 1.05)\n",
    "# lr.SetLineColor(ROOT.kRed)\n",
    "# ll.Draw()\n",
    "# lr.Draw()\n",
    "l = ROOT.TLegend(0.425, 0.5, 0.85, 0.7)\n",
    "l.AddEntry(eff_theta, \"e^{#pm} tracking efficiency\")\n",
    "# l.AddEntry(ll, \"detector acceptance\")\n",
    "l.AddEntry(u_theta, \"electron distribution #times 7\")\n",
    "l.Draw()\n",
    "t.DrawLatex(.4, .75, \"e^{+}e^{-}#rightarrow e^{#pm}#nu W\")\n",
    "t.DrawLatexNDC(0.15, 0.93935, \"ILD #font[52]{work in progress}\")\n",
    "# c_eff_theta.BuildLegend(0.3, 0.3, 0.9, 0.6, \"foo\")\n",
    "c_eff_theta.Draw()\n",
    "c_eff_theta.SaveAs(\"plots/trk_eff_ild/eff_theta.pdf\")"
   ]
  },
  {
   "cell_type": "code",
   "execution_count": 14,
   "metadata": {},
   "outputs": [
    {
     "name": "stderr",
     "output_type": "stream",
     "text": [
      "Info in <TCanvas::Print>: pdf file plots/trk_eff_ild/eff_pt.pdf has been created\n"
     ]
    },
    {
     "data": {
      "text/html": [
       "\n",
       "\n",
       "<div id=\"root_plot_1708940687672\"\n",
       "     style=\"width: 700px; height: 500px\">\n",
       "</div>\n",
       "<script>\n",
       "\n",
       "function display_root_plot_1708940687672(Core) {\n",
       "   let obj = Core.parse({\"_typename\":\"TCanvas\",\"fUniqueID\":0,\"fBits\":3342344,\"fLineColor\":1,\"fLineStyle\":1,\"fLineWidth\":2,\"fFillColor\":10,\"fFillStyle\":1001,\"fLeftMargin\":0.15,\"fRightMargin\":0.05,\"fBottomMargin\":0.18,\"fTopMargin\":0.06,\"fXfile\":2,\"fYfile\":2,\"fAfile\":1,\"fXstat\":0.99,\"fYstat\":0.99,\"fAstat\":2,\"fFrameFillColor\":10,\"fFrameLineColor\":1,\"fFrameFillStyle\":1001,\"fFrameLineStyle\":1,\"fFrameLineWidth\":2,\"fFrameBorderSize\":1,\"fFrameBorderMode\":0,\"fX1\":-23.6250005867332,\"fY1\":-0.248684223528714,\"fX2\":133.875,\"fY2\":1.13289473602946,\"fXtoAbsPixelk\":104.400052203882,\"fXtoPixelk\":104.400052203882,\"fXtoPixel\":4.41904760258538,\"fYtoAbsPixelk\":387.040046307492,\"fYtoPixelk\":387.040046307492,\"fYtoPixel\":-341.638092223803,\"fUtoAbsPixelk\":5e-5,\"fUtoPixelk\":5e-5,\"fUtoPixel\":696,\"fVtoAbsPixelk\":472.00005,\"fVtoPixelk\":472,\"fVtoPixel\":-472,\"fAbsPixeltoXk\":-23.6250005867332,\"fPixeltoXk\":-23.6250005867332,\"fPixeltoX\":0.226293104291283,\"fAbsPixeltoYk\":1.13289473602946,\"fPixeltoYk\":-0.248684223528714,\"fPixeltoY\":-0.00292707406686053,\"fXlowNDC\":0,\"fYlowNDC\":0,\"fXUpNDC\":1,\"fYUpNDC\":1,\"fWNDC\":1,\"fHNDC\":1,\"fAbsXlowNDC\":0,\"fAbsYlowNDC\":0,\"fAbsWNDC\":1,\"fAbsHNDC\":1,\"fUxmin\":0,\"fUymin\":0,\"fUxmax\":126,\"fUymax\":1.05,\"fTheta\":30,\"fPhi\":30,\"fAspectRatio\":0,\"fNumber\":0,\"fTickx\":1,\"fTicky\":1,\"fLogx\":0,\"fLogy\":0,\"fLogz\":0,\"fPadPaint\":0,\"fCrosshair\":0,\"fCrosshairPos\":0,\"fBorderSize\":2,\"fBorderMode\":0,\"fModified\":false,\"fGridx\":false,\"fGridy\":false,\"fAbsCoord\":false,\"fEditable\":true,\"fFixedAspectRatio\":false,\"fPrimitives\":{\"_typename\":\"TList\",\"name\":\"TList\",\"arr\":[{\"_typename\":\"TFrame\",\"fUniqueID\":0,\"fBits\":8,\"fLineColor\":1,\"fLineStyle\":1,\"fLineWidth\":2,\"fFillColor\":10,\"fFillStyle\":1001,\"fX1\":0,\"fY1\":0,\"fX2\":126,\"fY2\":1.05,\"fBorderSize\":1,\"fBorderMode\":0},{\"_typename\":\"TH1D\",\"fUniqueID\":0,\"fBits\":520,\"fName\":\"h_total_pt\",\"fTitle\":\"\",\"fLineColor\":920,\"fLineStyle\":1,\"fLineWidth\":2,\"fFillColor\":920,\"fFillStyle\":1001,\"fMarkerColor\":920,\"fMarkerStyle\":20,\"fMarkerSize\":0.7,\"fNcells\":64,\"fXaxis\":{\"_typename\":\"TAxis\",\"fUniqueID\":0,\"fBits\":2048,\"fName\":\"xaxis\",\"fTitle\":\"p_{T} [GeV]\",\"fNdivisions\":506,\"fAxisColor\":1,\"fLabelColor\":1,\"fLabelFont\":42,\"fLabelOffset\":0.015,\"fLabelSize\":0.06,\"fTickLength\":0.03,\"fTitleOffset\":1,\"fTitleSize\":0.07,\"fTitleColor\":1,\"fTitleFont\":42,\"fNbins\":62,\"fXmin\":0,\"fXmax\":124,\"fXbins\":[],\"fFirst\":1,\"fLast\":63,\"fBits2\":0,\"fTimeDisplay\":false,\"fTimeFormat\":\"\",\"fLabels\":null,\"fModLabs\":null},\"fYaxis\":{\"_typename\":\"TAxis\",\"fUniqueID\":0,\"fBits\":0,\"fName\":\"yaxis\",\"fTitle\":\"\",\"fNdivisions\":506,\"fAxisColor\":1,\"fLabelColor\":1,\"fLabelFont\":42,\"fLabelOffset\":0.015,\"fLabelSize\":0.06,\"fTickLength\":0.03,\"fTitleOffset\":1.1,\"fTitleSize\":0.07,\"fTitleColor\":1,\"fTitleFont\":42,\"fNbins\":1,\"fXmin\":0,\"fXmax\":1,\"fXbins\":[],\"fFirst\":0,\"fLast\":0,\"fBits2\":0,\"fTimeDisplay\":false,\"fTimeFormat\":\"\",\"fLabels\":null,\"fModLabs\":null},\"fZaxis\":{\"_typename\":\"TAxis\",\"fUniqueID\":0,\"fBits\":0,\"fName\":\"zaxis\",\"fTitle\":\"\",\"fNdivisions\":510,\"fAxisColor\":1,\"fLabelColor\":1,\"fLabelFont\":42,\"fLabelOffset\":0.015,\"fLabelSize\":0.06,\"fTickLength\":0.03,\"fTitleOffset\":1.1,\"fTitleSize\":0.07,\"fTitleColor\":1,\"fTitleFont\":42,\"fNbins\":1,\"fXmin\":0,\"fXmax\":1,\"fXbins\":[],\"fFirst\":0,\"fLast\":0,\"fBits2\":0,\"fTimeDisplay\":false,\"fTimeFormat\":\"\",\"fLabels\":null,\"fModLabs\":null},\"fBarOffset\":0,\"fBarWidth\":1000,\"fEntries\":10000,\"fTsumw\":7,\"fTsumw2\":0.0049,\"fTsumwx\":314.529554083758,\"fTsumwx2\":17651.2644573642,\"fMaximum\":1.05,\"fMinimum\":0,\"fNormFactor\":0,\"fContour\":[],\"fSumw2\":{\"$arr\":\"Float64\",\"len\":64,\"p\":1,\"v\":[1.764e-5,5.39e-5,5.096e-5,6.125e-5,6.762e-5,7.84e-5,7.105e-5,9.457e-5,9.849e-5,1.1515e-4,1.1417e-4,1.0388e-4,1.2642e-4,1.4406e-4,1.5435e-4,1.5288e-4,1.4994e-4,1.6464e-4,1.666e-4,1.6023e-4,1.5631e-4,1.6562e-4,1.8032e-4,1.8081e-4,1.5484e-4,1.4896e-4,1.4994e-4,1.4455e-4,1.3965e-4,1.1662e-4,1.1074e-4,1.029e-4,9.261e-5,1.0976e-4,8.82e-5,7.154e-5,7.742e-5,6.419e-5,6.419e-5,6.125e-5,5.635e-5,4.704e-5,4.361e-5,4.606e-5,3.479e-5,2.695e-5,2.695e-5,1.862e-5,2.058e-5,1.519e-5,1.323e-5,8.33e-6,8.82e-6,4.41e-6,2.45e-6]},\"fOption\":\"\",\"fFunctions\":{\"_typename\":\"TList\",\"name\":\"TList\",\"arr\":[],\"opt\":[]},\"fBufferSize\":0,\"fBuffer\":[],\"fBinStatErrOpt\":0,\"fStatOverflows\":2,\"fArray\":{\"$arr\":\"Float64\",\"len\":64,\"p\":1,\"v\":[0.0252,0.077,0.0728,0.0875,0.0966,0.112,0.1015,0.1351,0.1407,0.1645,0.1631,0.1484,0.1806,0.2058,0.2205,0.2184,0.2142,0.2352,0.238,0.2289,0.2233,0.2366,0.2576,0.2583,0.2212,0.2128,0.2142,0.2065,0.1995,0.1666,0.1582,0.147,0.1323,0.1568,0.126,0.1022,0.1106,0.0917,0.0917,0.0875,0.0805,0.0672,0.0623,0.0658,0.0497,0.0385,0.0385,0.0266,0.0294,0.0217,0.0189,0.0119,0.0126,0.0063,0.0035]}},{\"_typename\":\"TGraphAsymmErrors\",\"fUniqueID\":0,\"fBits\":1032,\"fName\":\"eff_graph\",\"fTitle\":\";p_{T,e^{#pm}} [GeV]; e^{#pm} track reco efficiency\",\"fLineColor\":1,\"fLineStyle\":1,\"fLineWidth\":2,\"fFillColor\":10,\"fFillStyle\":1001,\"fMarkerColor\":1,\"fMarkerStyle\":20,\"fMarkerSize\":0.7,\"fNpoints\":55,\"fX\":{\"$arr\":\"Float64\",\"len\":55,\"v\":[1,3,5,7,9,11,13,15,17,19,21,23,25,27,29,31,33,35,37,39,41,43,45,47,49,51,53,55,57,59,61,63,65,67,69,71,73,75,77,79,81,83,85,87,89,91,93,95,97,99,101,103,105,107,109]},\"fY\":{\"$arr\":\"Float64\",\"len\":55,\"v\":[0.805555555555556,0.445454545454545,0.480769230769231,0.656,0.905797101449275,0.98125,0.986206896551724,0.984455958549223,0.990049751243781,0.995744680851064,1,1,0.996124031007752,0.993197278911565,0.990476190476191,0.996794871794872,1,1,1,1,0.996865203761755,1,1,1,0.996835443037975,1,1,1,0.996491228070175],\"v1\":1,\"n1\":26},\"fFunctions\":{\"_typename\":\"TList\",\"name\":\"TList\",\"arr\":[],\"opt\":[]},\"fHistogram\":{\"_typename\":\"TH1F\",\"fUniqueID\":0,\"fBits\":512,\"fName\":\"eff_graph\",\"fTitle\":\"\",\"fLineColor\":1,\"fLineStyle\":1,\"fLineWidth\":2,\"fFillColor\":0,\"fFillStyle\":1001,\"fMarkerColor\":1,\"fMarkerStyle\":20,\"fMarkerSize\":0.7,\"fNcells\":102,\"fXaxis\":{\"_typename\":\"TAxis\",\"fUniqueID\":0,\"fBits\":0,\"fName\":\"xaxis\",\"fTitle\":\"p_{T,e^{#pm}} [GeV]\",\"fNdivisions\":506,\"fAxisColor\":1,\"fLabelColor\":1,\"fLabelFont\":42,\"fLabelOffset\":0.015,\"fLabelSize\":0.06,\"fTickLength\":0.03,\"fTitleOffset\":1,\"fTitleSize\":0.07,\"fTitleColor\":1,\"fTitleFont\":42,\"fNbins\":100,\"fXmin\":0,\"fXmax\":121,\"fXbins\":[],\"fFirst\":0,\"fLast\":0,\"fBits2\":0,\"fTimeDisplay\":false,\"fTimeFormat\":\"\",\"fLabels\":null,\"fModLabs\":null},\"fYaxis\":{\"_typename\":\"TAxis\",\"fUniqueID\":0,\"fBits\":0,\"fName\":\"yaxis\",\"fTitle\":\" e^{#pm} track reco efficiency\",\"fNdivisions\":506,\"fAxisColor\":1,\"fLabelColor\":1,\"fLabelFont\":42,\"fLabelOffset\":0.015,\"fLabelSize\":0.06,\"fTickLength\":0.03,\"fTitleOffset\":1.1,\"fTitleSize\":0.07,\"fTitleColor\":1,\"fTitleFont\":42,\"fNbins\":1,\"fXmin\":0.333748153709234,\"fXmax\":1.0605683496628,\"fXbins\":[],\"fFirst\":0,\"fLast\":0,\"fBits2\":0,\"fTimeDisplay\":false,\"fTimeFormat\":\"\",\"fLabels\":null,\"fModLabs\":null},\"fZaxis\":{\"_typename\":\"TAxis\",\"fUniqueID\":0,\"fBits\":0,\"fName\":\"zaxis\",\"fTitle\":\"\",\"fNdivisions\":510,\"fAxisColor\":1,\"fLabelColor\":1,\"fLabelFont\":42,\"fLabelOffset\":0.015,\"fLabelSize\":0.06,\"fTickLength\":0.03,\"fTitleOffset\":1.1,\"fTitleSize\":0.07,\"fTitleColor\":1,\"fTitleFont\":42,\"fNbins\":1,\"fXmin\":0,\"fXmax\":1,\"fXbins\":[],\"fFirst\":0,\"fLast\":0,\"fBits2\":0,\"fTimeDisplay\":false,\"fTimeFormat\":\"\",\"fLabels\":null,\"fModLabs\":null},\"fBarOffset\":0,\"fBarWidth\":1000,\"fEntries\":0,\"fTsumw\":0,\"fTsumw2\":0,\"fTsumwx\":0,\"fTsumwx2\":0,\"fMaximum\":1.0605683496628,\"fMinimum\":0.333748153709234,\"fNormFactor\":0,\"fContour\":[],\"fSumw2\":[],\"fOption\":\"\",\"fFunctions\":{\"_typename\":\"TList\",\"name\":\"TList\",\"arr\":[],\"opt\":[]},\"fBufferSize\":0,\"fBuffer\":[],\"fBinStatErrOpt\":0,\"fStatOverflows\":2,\"fArray\":{\"$arr\":\"Float32\",\"len\":102}},\"fMinimum\":-1111,\"fMaximum\":-1111,\"fEXlow\":{\"$arr\":\"Float64\",\"len\":55,\"v\":1,\"n\":55},\"fEXhigh\":{\"$arr\":\"Float64\",\"len\":55,\"v\":1,\"n\":55},\"fEYlow\":{\"$arr\":\"Float64\",\"len\":55,\"v\":[0.0889424939267737,0.0511380420825144,0.0533162692306897,0.0476568155056928,0.0318368595565245,0.01790217219013,0.017902204373186,0.014888780099114,0.0129726516591985,0.00971669630882399,0.00787024659827262,0.0086464667882854,0.00885603059517914,0.00890166377190393,0.00917716405163083,0.00733137904146908,0.00599834824799439,0.00546424747839525,0.00540013610368617,0.00561421666215989,0.00717133568560835,0.00543200262898902,0.00499028316634542,0.00497679307235166,0.00723906202233138,0.00603769169355284,0.00599834824799439,0.00622131829698469,0.0080219048368223,0.00770554396572576,0.00811302380282819,0.00872845366347241,0.00969356680186817,0.0081851642494829,0.0101757709469857,0.0125305676760104,0.0115844136593529,0.0139553094878117,0.0139553094878117,0.0146202441332435,0.0158814227647034,0.0189945940721854,0.0204731563007113,0.0193947899446367,0.0255965898839809,0.032919094774621,0.032919094774621,0.0472930621819746,0.0428870301642799,0.05765873693942,0.0659132704298365,0.102637515420034,0.0972223406286151,0.184992497739924,0.308024223477051]},\"fEYhigh\":{\"$arr\":\"Float64\",\"len\":55,\"v\":[0.0687908778009823,0.0522185081333982,0.0537198505366441,0.0449399150027191,0.0251307886997941,0.0101873761410071,0.00890412005772012,0.00844792248313131,0.00642436878856378,0.00352046682132667,0,0,0.00320660482567248,0.00439272788812728,0.00517881302493683,0.00265158345789185,0,0,0,0,0.00259339495221467,0,0,0,0.00261801719519905,0,0,0,0.00290280199320214]}},{\"_typename\":\"TLegend\",\"fUniqueID\":0,\"fBits\":8,\"fLineColor\":1,\"fLineStyle\":1,\"fLineWidth\":2,\"fFillColor\":0,\"fFillStyle\":1001,\"fX1\":23.6249995892868,\"fY1\":0.303947360294554,\"fX2\":102.374999882653,\"fY2\":0.580263152206188,\"fX1NDC\":0.3,\"fY1NDC\":0.4,\"fX2NDC\":0.8,\"fY2NDC\":0.6,\"fBorderSize\":0,\"fInit\":1,\"fShadowColor\":1,\"fCornerRadius\":0,\"fOption\":\"brNDC\",\"fName\":\"TPave\",\"fTextAngle\":0,\"fTextSize\":0,\"fTextAlign\":12,\"fTextColor\":1,\"fTextFont\":62,\"fPrimitives\":{\"_typename\":\"TList\",\"name\":\"TList\",\"arr\":[{\"_typename\":\"TLegendEntry\",\"fUniqueID\":0,\"fBits\":0,\"fTextAngle\":0,\"fTextSize\":0,\"fTextAlign\":0,\"fTextColor\":0,\"fTextFont\":62,\"fLineColor\":1,\"fLineStyle\":1,\"fLineWidth\":2,\"fFillColor\":10,\"fFillStyle\":1001,\"fMarkerColor\":1,\"fMarkerStyle\":20,\"fMarkerSize\":0.7,\"fObject\":{\"$ref\":8},\"fLabel\":\"e^{#pm} tracking efficiency\",\"fOption\":\"lpf\"},{\"_typename\":\"TLegendEntry\",\"fUniqueID\":0,\"fBits\":0,\"fTextAngle\":0,\"fTextSize\":0,\"fTextAlign\":0,\"fTextColor\":0,\"fTextFont\":62,\"fLineColor\":920,\"fLineStyle\":1,\"fLineWidth\":2,\"fFillColor\":920,\"fFillStyle\":1001,\"fMarkerColor\":920,\"fMarkerStyle\":20,\"fMarkerSize\":0.7,\"fObject\":{\"$ref\":3},\"fLabel\":\"electron distribution #times 7\",\"fOption\":\"lpf\"}],\"opt\":[\"lpf\",\"lpf\"]},\"fEntrySeparation\":0.1,\"fMargin\":0.25,\"fNColumns\":1,\"fColumnSeparation\":0},{\"_typename\":\"TLatex\",\"fUniqueID\":0,\"fBits\":16393,\"fName\":\"\",\"fTitle\":\"e^{+}e^{-}#rightarrow e^{#pm}#nu W\",\"fTextAngle\":0,\"fTextSize\":30,\"fTextAlign\":11,\"fTextColor\":1,\"fTextFont\":63,\"fX\":0.325,\"fY\":0.6,\"fLineColor\":1,\"fLineStyle\":1,\"fLineWidth\":2,\"fLimitFactorSize\":3,\"fOriginSize\":0.0635593235492706},{\"_typename\":\"TLatex\",\"fUniqueID\":0,\"fBits\":16393,\"fName\":\"\",\"fTitle\":\"ILD #font[52]{work in progress}\",\"fTextAngle\":0,\"fTextSize\":30,\"fTextAlign\":11,\"fTextColor\":1,\"fTextFont\":63,\"fX\":0.15,\"fY\":0.93935,\"fLineColor\":1,\"fLineStyle\":1,\"fLineWidth\":2,\"fLimitFactorSize\":3,\"fOriginSize\":0.0635593235492706},{\"_typename\":\"TStyle\",\"fUniqueID\":0,\"fBits\":0,\"fName\":\"ildStyle\",\"fTitle\":\"ILD Style\",\"fLineColor\":1,\"fLineStyle\":1,\"fLineWidth\":2,\"fFillColor\":10,\"fFillStyle\":1001,\"fMarkerColor\":1,\"fMarkerStyle\":20,\"fMarkerSize\":0.7,\"fTextAngle\":0,\"fTextSize\":0.05,\"fTextAlign\":11,\"fTextColor\":1,\"fTextFont\":42,\"fXaxis\":{\"_typename\":\"TAttAxis\",\"fNdivisions\":506,\"fAxisColor\":1,\"fLabelColor\":1,\"fLabelFont\":42,\"fLabelOffset\":0.015,\"fLabelSize\":0.06,\"fTickLength\":0.03,\"fTitleOffset\":1,\"fTitleSize\":0.07,\"fTitleColor\":1,\"fTitleFont\":42},\"fYaxis\":{\"_typename\":\"TAttAxis\",\"fNdivisions\":506,\"fAxisColor\":1,\"fLabelColor\":1,\"fLabelFont\":42,\"fLabelOffset\":0.015,\"fLabelSize\":0.06,\"fTickLength\":0.03,\"fTitleOffset\":1.1,\"fTitleSize\":0.07,\"fTitleColor\":1,\"fTitleFont\":42},\"fZaxis\":{\"_typename\":\"TAttAxis\",\"fNdivisions\":510,\"fAxisColor\":1,\"fLabelColor\":1,\"fLabelFont\":42,\"fLabelOffset\":0.015,\"fLabelSize\":0.06,\"fTickLength\":0.03,\"fTitleOffset\":1.1,\"fTitleSize\":0.07,\"fTitleColor\":1,\"fTitleFont\":42},\"fBarWidth\":1,\"fBarOffset\":0,\"fColorModelPS\":0,\"fDrawBorder\":0,\"fOptLogx\":0,\"fOptLogy\":0,\"fOptLogz\":0,\"fOptDate\":0,\"fOptStat\":0,\"fOptTitle\":1,\"fOptFile\":0,\"fOptFit\":0,\"fShowEventStatus\":0,\"fShowEditor\":0,\"fShowToolBar\":0,\"fNumberContours\":20,\"fAttDate\":{\"_typename\":\"TAttText\",\"fTextAngle\":0,\"fTextSize\":0.025,\"fTextAlign\":11,\"fTextColor\":1,\"fTextFont\":62},\"fDateX\":0.01,\"fDateY\":0.01,\"fEndErrorSize\":2,\"fErrorX\":0.5,\"fFuncColor\":632,\"fFuncStyle\":1,\"fFuncWidth\":2,\"fGridColor\":0,\"fGridStyle\":3,\"fGridWidth\":1,\"fLegendBorderSize\":0,\"fLegendFillColor\":0,\"fLegendFont\":62,\"fLegendTextSize\":0,\"fHatchesLineWidth\":1,\"fHatchesSpacing\":1,\"fFrameFillColor\":10,\"fFrameLineColor\":1,\"fFrameFillStyle\":1001,\"fFrameLineStyle\":1,\"fFrameLineWidth\":2,\"fFrameBorderSize\":1,\"fFrameBorderMode\":0,\"fHistFillColor\":0,\"fHistLineColor\":1,\"fHistFillStyle\":1001,\"fHistLineStyle\":1,\"fHistLineWidth\":2,\"fHistMinimumZero\":false,\"fHistTopMargin\":0.05,\"fCanvasPreferGL\":false,\"fCanvasColor\":10,\"fCanvasBorderSize\":2,\"fCanvasBorderMode\":0,\"fCanvasDefH\":500,\"fCanvasDefW\":700,\"fCanvasDefX\":10,\"fCanvasDefY\":10,\"fPadColor\":10,\"fPadBorderSize\":2,\"fPadBorderMode\":0,\"fPadBottomMargin\":0.18,\"fPadTopMargin\":0.06,\"fPadLeftMargin\":0.15,\"fPadRightMargin\":0.05,\"fPadGridX\":false,\"fPadGridY\":false,\"fPadTickX\":1,\"fPadTickY\":1,\"fPaperSizeX\":20,\"fPaperSizeY\":26,\"fScreenFactor\":1,\"fStatColor\":10,\"fStatTextColor\":1,\"fStatBorderSize\":0,\"fStatFont\":42,\"fStatFontSize\":0.07,\"fStatStyle\":1001,\"fStatFormat\":\"6.4g\",\"fStatX\":0.98,\"fStatY\":0.995,\"fStatW\":0.2,\"fStatH\":0.16,\"fStripDecimals\":true,\"fTitleAlign\":13,\"fTitleColor\":0,\"fTitleTextColor\":1,\"fTitleBorderSize\":0,\"fTitleFont\":62,\"fTitleFontSize\":0,\"fTitleStyle\":1001,\"fTitleX\":0.01,\"fTitleY\":0.995,\"fTitleW\":0,\"fTitleH\":0,\"fLegoInnerR\":0.5,\"fLineStyles\":[\"\",\"  \",\" 12 12\",\" 4 8\",\" 12 16 4 16\",\" 20 12 4 12\",\" 20 12 4 12 4 12 4 12\",\" 20 20\",\" 20 12 4 12 4 12\",\" 80 20\",\" 80 40 4 40\",\"  \",\"  \",\"  \",\"  \",\"  \",\"  \",\"  \",\"  \",\"  \",\"  \",\"  \",\"  \",\"  \",\"  \",\"  \",\"  \",\"  \",\"  \",\"  \"],\"fHeaderPS\":\"\",\"fTitlePS\":\"\",\"fFitFormat\":\"5.4g\",\"fPaintTextFormat\":\"g\",\"fLineScalePS\":3,\"fJoinLinePS\":0,\"fCapLinePS\":0,\"fTimeOffset\":788918400,\"fImageScaling\":1}],\"opt\":[\"\",\"hist\",\"p\",\"\",\"\",\"\",\"\"]},\"fExecs\":null,\"fName\":\"c1_n2\",\"fTitle\":\"c1_n2\",\"fNumPaletteColor\":0,\"fNextPaletteColor\":0,\"fDISPLAY\":\"$DISPLAY\",\"fDoubleBuffer\":0,\"fRetained\":true,\"fXsizeUser\":0,\"fYsizeUser\":0,\"fXsizeReal\":20,\"fYsizeReal\":14.28571,\"fWindowTopX\":0,\"fWindowTopY\":0,\"fWindowWidth\":0,\"fWindowHeight\":0,\"fCw\":696,\"fCh\":472,\"fCatt\":{\"_typename\":\"TAttCanvas\",\"fXBetween\":2,\"fYBetween\":2,\"fTitleFromTop\":1.2,\"fXdate\":0.2,\"fYdate\":0.3,\"fAdate\":1},\"kMoveOpaque\":true,\"kResizeOpaque\":true,\"fHighLightColor\":2,\"fBatch\":true,\"kShowEventStatus\":false,\"kAutoExec\":true,\"kMenuBar\":true});\n",
       "   Core.settings.HandleKeys = false;\n",
       "   Core.draw(\"root_plot_1708940687672\", obj, \"\");\n",
       "}\n",
       "\n",
       "function script_load_root_plot_1708940687672(src, on_error) {\n",
       "    let script = document.createElement('script');\n",
       "    script.src = src;\n",
       "    script.onload = function() { display_root_plot_1708940687672(JSROOT); };\n",
       "    script.onerror = function() { script.remove(); on_error(); };\n",
       "    document.head.appendChild(script);\n",
       "}\n",
       "\n",
       "if (typeof requirejs !== 'undefined') {\n",
       "\n",
       "    // We are in jupyter notebooks, use require.js which should be configured already\n",
       "    requirejs.config({\n",
       "       paths: { 'JSRootCore' : [ 'build/jsroot', 'https://root.cern/js/7.3.4/build/jsroot', 'https://jsroot.gsi.de/7.3.4/build/jsroot' ] }\n",
       "    })(['JSRootCore'],  function(Core) {\n",
       "       display_root_plot_1708940687672(Core);\n",
       "    });\n",
       "\n",
       "} else if (typeof JSROOT !== 'undefined') {\n",
       "\n",
       "   // JSROOT already loaded, just use it\n",
       "   display_root_plot_1708940687672(JSROOT);\n",
       "\n",
       "} else {\n",
       "\n",
       "    // We are in jupyterlab without require.js, directly loading jsroot\n",
       "    // Jupyterlab might be installed in a different base_url so we need to know it.\n",
       "    try {\n",
       "        var base_url = JSON.parse(document.getElementById('jupyter-config-data').innerHTML).baseUrl;\n",
       "    } catch(_) {\n",
       "        var base_url = '/';\n",
       "    }\n",
       "\n",
       "    // Try loading a local version of requirejs and fallback to cdn if not possible.\n",
       "    script_load_root_plot_1708940687672(base_url + 'static/build/jsroot.js', function(){\n",
       "        console.error('Fail to load JSROOT locally, please check your jupyter_notebook_config.py file');\n",
       "        script_load_root_plot_1708940687672('https://root.cern/js/7.3.4/build/jsroot.js', function(){\n",
       "            document.getElementById(\"root_plot_1708940687672\").innerHTML = \"Failed to load JSROOT\";\n",
       "        });\n",
       "    });\n",
       "}\n",
       "\n",
       "</script>\n"
      ],
      "text/plain": [
       "<IPython.core.display.HTML object>"
      ]
     },
     "metadata": {},
     "output_type": "display_data"
    }
   ],
   "source": [
    "\n",
    "c_eff_pt = ROOT.TCanvas()\n",
    "eff_pt.SetTitle(\";p_{T,e^{#pm}} [GeV]; e^{#pm} track reco efficiency\")\n",
    "u_pt.Draw(\"hist\")\n",
    "eff_pt.Draw(\"p\")\n",
    "u_pt.GetYaxis().SetRangeUser(0, 1.05)\n",
    "u_pt.GetXaxis().SetRangeUser(0, 125.)\n",
    "# ll = ROOT.TLine(beam_cone, 0, beam_cone, 1.05)\n",
    "# ll.SetLineColor(ROOT.kRed)\n",
    "# lr = ROOT.TLine(1 - beam_cone, 0, 1 - beam_cone, 1.05)\n",
    "# lr.SetLineColor(ROOT.kRed)\n",
    "# ll.Draw()\n",
    "# lr.Draw()\n",
    "l = ROOT.TLegend(0.3, 0.4, 0.8, 0.6)\n",
    "l.AddEntry(eff_pt, \"e^{#pm} tracking efficiency\")\n",
    "# l.AddEntry(ll, \"detector acceptance\")\n",
    "l.AddEntry(u_pt, \"electron distribution #times 7\")\n",
    "l.Draw()\n",
    "t.DrawLatexNDC(.325, .6, \"e^{+}e^{-}#rightarrow e^{#pm}#nu W\")\n",
    "t.DrawLatexNDC(0.15, 0.93935, \"ILD #font[52]{work in progress}\")\n",
    "# c_eff_pt.BuildLegend(0.3, 0.3, 0.9, 0.6, \"foo\")\n",
    "c_eff_pt.Draw()\n",
    "c_eff_pt.SaveAs(\"plots/trk_eff_ild/eff_pt.pdf\")"
   ]
  },
  {
   "cell_type": "code",
   "execution_count": null,
   "metadata": {},
   "outputs": [],
   "source": []
  }
 ],
 "metadata": {
  "kernelspec": {
   "display_name": "Python 3",
   "language": "python",
   "name": "python3"
  },
  "language_info": {
   "codemirror_mode": {
    "name": "ipython",
    "version": 3
   },
   "file_extension": ".py",
   "mimetype": "text/x-python",
   "name": "python",
   "nbconvert_exporter": "python",
   "pygments_lexer": "ipython3",
   "version": "3.10.8"
  }
 },
 "nbformat": 4,
 "nbformat_minor": 2
}

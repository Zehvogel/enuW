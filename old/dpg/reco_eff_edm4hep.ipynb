{
 "cells": [
  {
   "cell_type": "code",
   "execution_count": 1,
   "metadata": {},
   "outputs": [
    {
     "name": "stdout",
     "output_type": "stream",
     "text": [
      "OBJ: TStyle\tildStyle\tILD Style : 0 at: 0x7c81e60\n",
      "Welcome to JupyROOT 6.28/10\n"
     ]
    }
   ],
   "source": [
    "import ROOT\n",
    "import edm4hep\n",
    "from podio import root_io\n",
    "from math import sqrt"
   ]
  },
  {
   "cell_type": "code",
   "execution_count": 2,
   "metadata": {},
   "outputs": [],
   "source": [
    "%jsroot on"
   ]
  },
  {
   "cell_type": "code",
   "execution_count": 3,
   "metadata": {},
   "outputs": [
    {
     "data": {
      "text/plain": [
       "True"
      ]
     },
     "execution_count": 3,
     "metadata": {},
     "output_type": "execute_result"
    }
   ],
   "source": [
    "ROOT.gInterpreter.Declare(\"#include <marlinutil/HelixClass_double.h>\")\n",
    "# ROOT.gInterpreter.Declare(\"#include <marlinutil/GeometryUtil.h>\")"
   ]
  },
  {
   "cell_type": "code",
   "execution_count": 4,
   "metadata": {},
   "outputs": [],
   "source": [
    "ROOT.ildStyle.SetOptStat(0)"
   ]
  },
  {
   "cell_type": "code",
   "execution_count": 5,
   "metadata": {},
   "outputs": [
    {
     "name": "stdout",
     "output_type": "stream",
     "text": [
      "2\n"
     ]
    }
   ],
   "source": [
    "# Meh would require dd4hep\n",
    "# Bz = ROOT.MarlinUtil.getBzAtOrigin()\n",
    "Bz = 2\n",
    "print(Bz)"
   ]
  },
  {
   "cell_type": "code",
   "execution_count": 6,
   "metadata": {},
   "outputs": [],
   "source": [
    "# reader = root_io.Reader(\"E250-SetA.P4f_sw_sl.Gwhizard-2_8_5.eL.pR.I500106.0.10.REC_edm4hep.root\")\n",
    "# reader = root_io.Reader(\"E250-SetA.P4f_sw_sl.Gwhizard-2_8_5.eL.pR.I500106.0.1000.REC_edm4hep.root\")\n",
    "reader = root_io.Reader(\"E250-SetA.P4f_sw_sl.Gwhizard-2_8_5.eL.pR.I500106.0.10000.REC_edm4hep.root\")"
   ]
  },
  {
   "cell_type": "code",
   "execution_count": 7,
   "metadata": {},
   "outputs": [],
   "source": [
    "events = reader.get(\"events\")\n"
   ]
  },
  {
   "cell_type": "code",
   "execution_count": 8,
   "metadata": {},
   "outputs": [],
   "source": [
    "# TODO: define beam_cone, lumi cal clearance whatever already up here and make a custom binning with one bin each in the dead parts\n",
    "# caveat: for the underlay distribution this is not nice\n",
    "\n",
    "beam_cone = 0.11 / ROOT.Math.Pi()\n",
    "\n",
    "h_e_theta = ROOT.TH1D(\"h_e_theta\", \";#theta [#pi rad]\", 30, 0, 1)\n",
    "h_total_theta = ROOT.TH1D(\"h_total_theta\", \";#theta [#pi rad]\", 30, 0, 1)\n",
    "h_pass_theta = ROOT.TH1D(\"h_pass_theta\", \";#theta [#pi rad]\", 30, 0, 1)\n",
    "h_total_pt = ROOT.TH1D(\"h_total_pt\", \";p_{T} [GeV]\", 62, 0, 124)\n",
    "h_pass_pt = ROOT.TH1D(\"h_pass_pt\", \";#p_{T} [GeV]\", 62, 0, 124)\n",
    "\n",
    "foo = ROOT.TH2D(\"wtf\", \";cos #theta; pT\", 25, -1, 1, 25, 0, 125)"
   ]
  },
  {
   "cell_type": "code",
   "execution_count": 9,
   "metadata": {},
   "outputs": [
    {
     "name": "stdout",
     "output_type": "stream",
     "text": [
      "track reco eff: 0.9374\n",
      "track reco eff only in acceptance: 0.959467758444217\n"
     ]
    }
   ],
   "source": [
    "all = 0\n",
    "found = 0\n",
    "all_acc = 0\n",
    "for event in events:\n",
    "    if all >= 10000:\n",
    "        break\n",
    "    all += 1\n",
    "    mcparticles = event.get(\"MCParticles\")\n",
    "    # search first genStat 1 electron\n",
    "    for mcp in mcparticles:\n",
    "        if (abs(mcp.getPDG()) == 11 and mcp.getGeneratorStatus() == 1):\n",
    "            break\n",
    "    mom = mcp.getMomentum()\n",
    "    mom_v = ROOT.TVector3(mom.x, mom.y, mom.z)\n",
    "    h_total_theta.Fill(mom_v.Theta() / ROOT.Math.Pi())\n",
    "    if (abs(mom_v.Theta()) <= .95):\n",
    "        h_total_pt.Fill(mom_v.Pt())\n",
    "    if (mcp.getCharge() == -1.0):\n",
    "        h_e_theta.Fill(mom_v.Theta() / ROOT.Math.Pi())\n",
    "    if (mom_v.Theta() / ROOT.Math.Pi() > beam_cone and mom_v.Theta() / ROOT.Math.Pi() < 1 - beam_cone):\n",
    "        all_acc += 1\n",
    "\n",
    "    foo.Fill(mom_v.CosTheta(), mom_v.Pt())\n",
    "\n",
    "    mctruthrecolinks = event.get(\"SiTracksMCTruthLink\")\n",
    "    # meh need to do the whole logic as in my marlin pidutil\n",
    "    # lets just care about tracks its simpler\n",
    "    # argh this can also have more than one track per electron\n",
    "    for link in mctruthrecolinks:\n",
    "        if link.getSim() == mcp and link.getWeight() > 0.99:\n",
    "            # print(f\"found! with weight: {link.getWeight()}\")\n",
    "            found += 1\n",
    "            h_pass_theta.Fill(mom_v.Theta() / ROOT.Math.Pi())\n",
    "            if (abs(mom_v.Theta()) <= .95):\n",
    "                h_pass_pt.Fill(mom_v.Pt())\n",
    "            break\n",
    "print(f\"track reco eff: {found / all}\")\n",
    "print(f\"track reco eff only in acceptance: {found / all_acc}\")"
   ]
  },
  {
   "cell_type": "code",
   "execution_count": 10,
   "metadata": {},
   "outputs": [],
   "source": [
    "eff_theta = ROOT.TEfficiency(h_pass_theta, h_total_theta).CreateGraph()\n",
    "eff_pt = ROOT.TEfficiency(h_pass_pt, h_total_pt).CreateGraph()"
   ]
  },
  {
   "cell_type": "code",
   "execution_count": 11,
   "metadata": {},
   "outputs": [],
   "source": [
    "u_theta = h_e_theta.Clone()\n",
    "u_theta.Scale(7 / u_theta.Integral())\n",
    "u_theta.SetLineColor(ROOT.kGray)\n",
    "u_theta.SetMarkerColor(ROOT.kGray)\n",
    "u_theta.SetFillColor(ROOT.kGray)\n",
    "\n",
    "u_pt = h_total_pt.Clone()\n",
    "u_pt.Scale(7 / u_pt.Integral())\n",
    "u_pt.SetLineColor(ROOT.kGray)\n",
    "u_pt.SetMarkerColor(ROOT.kGray)\n",
    "u_pt.SetFillColor(ROOT.kGray)\n"
   ]
  },
  {
   "cell_type": "code",
   "execution_count": 12,
   "metadata": {},
   "outputs": [],
   "source": [
    "t = ROOT.TLatex()\n",
    "t.SetTextSize(30)\n",
    "t.SetTextFont(63)"
   ]
  },
  {
   "cell_type": "code",
   "execution_count": 13,
   "metadata": {},
   "outputs": [
    {
     "name": "stderr",
     "output_type": "stream",
     "text": [
      "Info in <TCanvas::Print>: pdf file plots/trk_eff/eff_theta.pdf has been created\n"
     ]
    },
    {
     "data": {
      "text/html": [
       "\n",
       "\n",
       "<div id=\"root_plot_1709297130773\"\n",
       "     style=\"width: 700px; height: 500px\">\n",
       "</div>\n",
       "<script>\n",
       "\n",
       "function display_root_plot_1709297130773(Core) {\n",
       "   let obj = Core.parse({\"_typename\":\"TCanvas\",\"fUniqueID\":0,\"fBits\":3342344,\"fLineColor\":1,\"fLineStyle\":1,\"fLineWidth\":2,\"fFillColor\":10,\"fFillStyle\":1001,\"fLeftMargin\":0.15,\"fRightMargin\":0.05,\"fBottomMargin\":0.18,\"fTopMargin\":0.06,\"fXfile\":2,\"fYfile\":2,\"fAfile\":1,\"fXstat\":0.99,\"fYstat\":0.99,\"fAstat\":2,\"fFrameFillColor\":10,\"fFrameLineColor\":1,\"fFrameFillStyle\":1001,\"fFrameLineStyle\":1,\"fFrameLineWidth\":2,\"fFrameBorderSize\":1,\"fFrameBorderMode\":0,\"fX1\":-0.187500004656613,\"fY1\":-0.248684223528714,\"fX2\":1.0625,\"fY2\":1.13289473602946,\"fXtoAbsPixelk\":104.400052203882,\"fXtoPixelk\":104.400052203882,\"fXtoPixel\":556.799997925758,\"fYtoAbsPixelk\":387.040046307492,\"fYtoPixelk\":387.040046307492,\"fYtoPixel\":-341.638092223803,\"fUtoAbsPixelk\":5e-5,\"fUtoPixelk\":5e-5,\"fUtoPixel\":696,\"fVtoAbsPixelk\":472.00005,\"fVtoPixelk\":472,\"fVtoPixel\":-472,\"fAbsPixeltoXk\":-0.187500004656613,\"fPixeltoXk\":-0.187500004656613,\"fPixeltoX\":0.00179597701818479,\"fAbsPixeltoYk\":1.13289473602946,\"fPixeltoYk\":-0.248684223528714,\"fPixeltoY\":-0.00292707406686053,\"fXlowNDC\":0,\"fYlowNDC\":0,\"fXUpNDC\":1,\"fYUpNDC\":1,\"fWNDC\":1,\"fHNDC\":1,\"fAbsXlowNDC\":0,\"fAbsYlowNDC\":0,\"fAbsWNDC\":1,\"fAbsHNDC\":1,\"fUxmin\":0,\"fUymin\":0,\"fUxmax\":1,\"fUymax\":1.05,\"fTheta\":30,\"fPhi\":30,\"fAspectRatio\":0,\"fNumber\":0,\"fTickx\":1,\"fTicky\":1,\"fLogx\":0,\"fLogy\":0,\"fLogz\":0,\"fPadPaint\":0,\"fCrosshair\":0,\"fCrosshairPos\":0,\"fBorderSize\":2,\"fBorderMode\":0,\"fModified\":false,\"fGridx\":false,\"fGridy\":false,\"fAbsCoord\":false,\"fEditable\":true,\"fFixedAspectRatio\":false,\"fPrimitives\":{\"_typename\":\"TList\",\"name\":\"TList\",\"arr\":[{\"_typename\":\"TFrame\",\"fUniqueID\":0,\"fBits\":8,\"fLineColor\":1,\"fLineStyle\":1,\"fLineWidth\":2,\"fFillColor\":10,\"fFillStyle\":1001,\"fX1\":0,\"fY1\":0,\"fX2\":1,\"fY2\":1.05,\"fBorderSize\":1,\"fBorderMode\":0},{\"_typename\":\"TH1D\",\"fUniqueID\":0,\"fBits\":520,\"fName\":\"h_e_theta\",\"fTitle\":\"\",\"fLineColor\":920,\"fLineStyle\":1,\"fLineWidth\":2,\"fFillColor\":920,\"fFillStyle\":1001,\"fMarkerColor\":920,\"fMarkerStyle\":20,\"fMarkerSize\":0.7,\"fNcells\":32,\"fXaxis\":{\"_typename\":\"TAxis\",\"fUniqueID\":0,\"fBits\":2048,\"fName\":\"xaxis\",\"fTitle\":\"#theta [#pi rad]\",\"fNdivisions\":506,\"fAxisColor\":1,\"fLabelColor\":1,\"fLabelFont\":42,\"fLabelOffset\":0.015,\"fLabelSize\":0.06,\"fTickLength\":0.03,\"fTitleOffset\":1,\"fTitleSize\":0.07,\"fTitleColor\":1,\"fTitleFont\":42,\"fNbins\":30,\"fXmin\":0,\"fXmax\":1,\"fXbins\":[],\"fFirst\":1,\"fLast\":30,\"fBits2\":0,\"fTimeDisplay\":false,\"fTimeFormat\":\"\",\"fLabels\":null,\"fModLabs\":null},\"fYaxis\":{\"_typename\":\"TAxis\",\"fUniqueID\":0,\"fBits\":0,\"fName\":\"yaxis\",\"fTitle\":\"\",\"fNdivisions\":506,\"fAxisColor\":1,\"fLabelColor\":1,\"fLabelFont\":42,\"fLabelOffset\":0.015,\"fLabelSize\":0.06,\"fTickLength\":0.03,\"fTitleOffset\":1.1,\"fTitleSize\":0.07,\"fTitleColor\":1,\"fTitleFont\":42,\"fNbins\":1,\"fXmin\":0,\"fXmax\":1,\"fXbins\":[],\"fFirst\":0,\"fLast\":0,\"fBits2\":0,\"fTimeDisplay\":false,\"fTimeFormat\":\"\",\"fLabels\":null,\"fModLabs\":null},\"fZaxis\":{\"_typename\":\"TAxis\",\"fUniqueID\":0,\"fBits\":0,\"fName\":\"zaxis\",\"fTitle\":\"\",\"fNdivisions\":510,\"fAxisColor\":1,\"fLabelColor\":1,\"fLabelFont\":42,\"fLabelOffset\":0.015,\"fLabelSize\":0.06,\"fTickLength\":0.03,\"fTitleOffset\":1.1,\"fTitleSize\":0.07,\"fTitleColor\":1,\"fTitleFont\":42,\"fNbins\":1,\"fXmin\":0,\"fXmax\":1,\"fXbins\":[],\"fFirst\":0,\"fLast\":0,\"fBits2\":0,\"fTimeDisplay\":false,\"fTimeFormat\":\"\",\"fLabels\":null,\"fModLabs\":null},\"fBarOffset\":0,\"fBarWidth\":1000,\"fEntries\":4965,\"fTsumw\":7,\"fTsumw2\":0.00986908358509567,\"fTsumwx\":1.91057640932453,\"fTsumwx2\":0.711833104379633,\"fMaximum\":1.05,\"fMinimum\":0,\"fNormFactor\":0,\"fContour\":[],\"fSumw2\":{\"$arr\":\"Float64\",\"len\":32,\"p\":1,\"v\":[2.02748544950606e-4,4.0947255156691e-4,5.40662786534949e-4,7.63288639814046e-4,8.56711988957952e-4,9.18331644776274e-4,9.7001264643035e-4,8.52736527292254e-4,7.87141409808235e-4,7.55337716482649e-4,5.32711863203553e-4,4.49227168223891e-4,3.67730204077079e-4,3.27975587420098e-4,2.32564507443342e-4,1.70944851625021e-4,1.19263849970945e-4,1.35165696633737e-4,9.34233491439066e-5,6.95705791497177e-5,4.57178091555288e-5,5.96319249854723e-5,5.76441941526232e-5,3.77668858241325e-5,3.37914241584343e-5,2.98159624927362e-5,2.5840500827038e-5,9.93865416424539e-6,1.39141158299435e-5]},\"fOption\":\"\",\"fFunctions\":{\"_typename\":\"TList\",\"name\":\"TList\",\"arr\":[],\"opt\":[]},\"fBufferSize\":0,\"fBuffer\":[],\"fBinStatErrOpt\":0,\"fStatOverflows\":2,\"fArray\":{\"$arr\":\"Float64\",\"len\":32,\"p\":1,\"v\":[0.14380664652568,0.29043303121853,0.383484390735146,0.541389728096677,0.607653575025176,0.651359516616314,0.688016112789527,0.604833836858006,0.558308157099698,0.535750251762336,0.377844914400806,0.318630412890232,0.260825780463243,0.232628398791541,0.164954682779456,0.121248741188318,0.0845921450151057,0.0958710976837865,0.0662638469284995,0.0493454179254783,0.0324269889224572,0.0422960725075529,0.0408862034239678,0.0267875125881168,0.0239677744209466,0.0211480362537764,0.0183282980866062,0.00704934541792548,0.00986908358509567]}},{\"_typename\":\"TGraphAsymmErrors\",\"fUniqueID\":0,\"fBits\":1032,\"fName\":\"eff_graph\",\"fTitle\":\";#theta_{e^{#pm}} [#pi rad]; e^{#pm} track reco efficiency\",\"fLineColor\":1,\"fLineStyle\":1,\"fLineWidth\":2,\"fFillColor\":10,\"fFillStyle\":1001,\"fMarkerColor\":1,\"fMarkerStyle\":20,\"fMarkerSize\":0.7,\"fNpoints\":30,\"fX\":{\"$arr\":\"Float64\",\"len\":30,\"v\":[0.0166666666666667,0.05,0.0833333333333333,0.116666666666667,0.15,0.183333333333333,0.216666666666667,0.25,0.283333333333333,0.316666666666667,0.35,0.383333333333333,0.416666666666667,0.45,0.483333333333333,0.516666666666667,0.55,0.583333333333333,0.616666666666667,0.65,0.683333333333333,0.716666666666667,0.75,0.783333333333333,0.816666666666667,0.85,0.883333333333333,0.916666666666667,0.95,0.983333333333333]},\"fY\":{\"$arr\":\"Float64\",\"len\":30,\"p\":1,\"v\":[0.516908212560386,0.978102189781022,0.964467005076142,0.970588235294118,0.970772442588727,0.962890625,0.971491228070175,0.976470588235294,0.992700729927007,0.993630573248408,0.985507246376812,0.98780487804878,0.991666666666667,0.986607142857143,0.978835978835979,0.985436893203884,0.986440677966102,0.969072164948454,0.982300884955752,0.970108695652174,0.986111111111111,0.984,0.957661290322581,0.960526315789474,0.981818181818182,0.963060686015831,0.979094076655052,0.552995391705069]},\"fFunctions\":{\"_typename\":\"TList\",\"name\":\"TList\",\"arr\":[],\"opt\":[]},\"fHistogram\":{\"_typename\":\"TH1F\",\"fUniqueID\":0,\"fBits\":512,\"fName\":\"eff_graph\",\"fTitle\":\"\",\"fLineColor\":1,\"fLineStyle\":1,\"fLineWidth\":2,\"fFillColor\":0,\"fFillStyle\":1001,\"fMarkerColor\":1,\"fMarkerStyle\":20,\"fMarkerSize\":0.7,\"fNcells\":102,\"fXaxis\":{\"_typename\":\"TAxis\",\"fUniqueID\":0,\"fBits\":0,\"fName\":\"xaxis\",\"fTitle\":\"#theta_{e^{#pm}} [#pi rad]\",\"fNdivisions\":506,\"fAxisColor\":1,\"fLabelColor\":1,\"fLabelFont\":42,\"fLabelOffset\":0.015,\"fLabelSize\":0.06,\"fTickLength\":0.03,\"fTitleOffset\":1,\"fTitleSize\":0.07,\"fTitleColor\":1,\"fTitleFont\":42,\"fNbins\":100,\"fXmin\":0,\"fXmax\":1.1,\"fXbins\":[],\"fFirst\":0,\"fLast\":0,\"fBits2\":0,\"fTimeDisplay\":false,\"fTimeFormat\":\"\",\"fLabels\":null,\"fModLabs\":null},\"fYaxis\":{\"_typename\":\"TAxis\",\"fUniqueID\":0,\"fBits\":0,\"fName\":\"yaxis\",\"fTitle\":\" e^{#pm} track reco efficiency\",\"fNdivisions\":506,\"fAxisColor\":1,\"fLabelColor\":1,\"fLabelFont\":42,\"fLabelOffset\":0.015,\"fLabelSize\":0.06,\"fTickLength\":0.03,\"fTitleOffset\":1.1,\"fTitleSize\":0.07,\"fTitleColor\":1,\"fTitleFont\":42,\"fNbins\":1,\"fXmin\":0,\"fXmax\":1.09751793940479,\"fXbins\":[],\"fFirst\":0,\"fLast\":0,\"fBits2\":0,\"fTimeDisplay\":false,\"fTimeFormat\":\"\",\"fLabels\":null,\"fModLabs\":null},\"fZaxis\":{\"_typename\":\"TAxis\",\"fUniqueID\":0,\"fBits\":0,\"fName\":\"zaxis\",\"fTitle\":\"\",\"fNdivisions\":510,\"fAxisColor\":1,\"fLabelColor\":1,\"fLabelFont\":42,\"fLabelOffset\":0.015,\"fLabelSize\":0.06,\"fTickLength\":0.03,\"fTitleOffset\":1.1,\"fTitleSize\":0.07,\"fTitleColor\":1,\"fTitleFont\":42,\"fNbins\":1,\"fXmin\":0,\"fXmax\":1,\"fXbins\":[],\"fFirst\":0,\"fLast\":0,\"fBits2\":0,\"fTimeDisplay\":false,\"fTimeFormat\":\"\",\"fLabels\":null,\"fModLabs\":null},\"fBarOffset\":0,\"fBarWidth\":1000,\"fEntries\":0,\"fTsumw\":0,\"fTsumw2\":0,\"fTsumwx\":0,\"fTsumwx2\":0,\"fMaximum\":1.09751793940479,\"fMinimum\":0,\"fNormFactor\":0,\"fContour\":[],\"fSumw2\":[],\"fOption\":\"\",\"fFunctions\":{\"_typename\":\"TList\",\"name\":\"TList\",\"arr\":[],\"opt\":[]},\"fBufferSize\":0,\"fBuffer\":[],\"fBinStatErrOpt\":0,\"fStatOverflows\":2,\"fArray\":{\"$arr\":\"Float32\",\"len\":102}},\"fMinimum\":-1111,\"fMaximum\":-1111,\"fEXlow\":{\"$arr\":\"Float64\",\"len\":30,\"v\":[0.0166666666666667,0.0166666666666667],\"v1\":0.0166666666666667,\"n1\":13,\"v2\":0.0166666666666667,\"n2\":15},\"fEXhigh\":{\"$arr\":\"Float64\",\"len\":30,\"v\":[0.0166666666666667,0.0166666666666667],\"v1\":0.0166666666666667,\"n1\":13,\"v2\":0.0166666666666666,\"n2\":15},\"fEYlow\":{\"$arr\":\"Float64\",\"len\":30,\"p\":1,\"v\":[0.0371394116985171,0.0128502246054666,0.0119658097391638,0.0104146209375949,0.00988549127078797,0.0103611091749384,0.0101012413493955,0.00987108721689089,0.0070491380114247,0.00833888530681448,0.011310696246039,0.0117200785900463,0.0108851066461907,0.0128558180782747,0.0164174830672957,0.0139628497206076,0.0105911545546538,0.0138056614770902,0.0104217736865387,0.0117494236631719,0.0082034450592976,0.00779596555499651,0.0110934736272895,0.0113690360004228,0.00884442435764132,0.0124272453983109,0.0122780526887459,0.0362273401635573]},\"fEYhigh\":{\"$arr\":\"Float64\",\"len\":30,\"v\":[0.0177152041694416,0.0369652229064176,0.00865232769096524,0.00929134751289928,0.00798878807265191,0.00765593846515544,0.00834375935307474,0.00774539699961485,0.00727399814386243,0.00396994910142312,0.00411300802867298,0.00692342134074864,0.00662982711720073,0.00538075986946762,0.00728019169715077,0.0101018573135611,0.00791549634400601,0.00647826888427216,0.0100446776872631,0.00699856264072696,0.00880844813106896,0.00549564452065454,0.00551815720723514,0.00904461700801396,0.00910912300359934,0.00626772876788828,0.00965529999010895,0.00826187324615912,0.0357070849226877,0.017887320020532]}},{\"_typename\":\"TLine\",\"fUniqueID\":0,\"fBits\":8,\"fLineColor\":632,\"fLineStyle\":1,\"fLineWidth\":2,\"fX1\":0.035014087480217,\"fY1\":0,\"fX2\":0.035014087480217,\"fY2\":1.05},{\"_typename\":\"TLine\",\"fUniqueID\":0,\"fBits\":8,\"fLineColor\":632,\"fLineStyle\":1,\"fLineWidth\":2,\"fX1\":0.964985912519783,\"fY1\":0,\"fX2\":0.964985912519783,\"fY2\":1.05},{\"_typename\":\"TLegend\",\"fUniqueID\":0,\"fBits\":8,\"fLineColor\":1,\"fLineStyle\":1,\"fLineWidth\":2,\"fFillColor\":0,\"fFillStyle\":1001,\"fX1\":0.343749997322448,\"fY1\":0.442105256250371,\"fX2\":0.874999999301508,\"fY2\":0.718421048162004,\"fX1NDC\":0.425,\"fY1NDC\":0.5,\"fX2NDC\":0.85,\"fY2NDC\":0.7,\"fBorderSize\":0,\"fInit\":1,\"fShadowColor\":1,\"fCornerRadius\":0,\"fOption\":\"brNDC\",\"fName\":\"TPave\",\"fTextAngle\":0,\"fTextSize\":0,\"fTextAlign\":12,\"fTextColor\":1,\"fTextFont\":62,\"fPrimitives\":{\"_typename\":\"TList\",\"name\":\"TList\",\"arr\":[{\"_typename\":\"TLegendEntry\",\"fUniqueID\":0,\"fBits\":0,\"fTextAngle\":0,\"fTextSize\":0,\"fTextAlign\":0,\"fTextColor\":0,\"fTextFont\":62,\"fLineColor\":1,\"fLineStyle\":1,\"fLineWidth\":2,\"fFillColor\":10,\"fFillStyle\":1001,\"fMarkerColor\":1,\"fMarkerStyle\":20,\"fMarkerSize\":0.7,\"fObject\":{\"$ref\":8},\"fLabel\":\"e^{#pm} tracking efficiency\",\"fOption\":\"lpf\"},{\"_typename\":\"TLegendEntry\",\"fUniqueID\":0,\"fBits\":0,\"fTextAngle\":0,\"fTextSize\":0,\"fTextAlign\":0,\"fTextColor\":0,\"fTextFont\":62,\"fLineColor\":632,\"fLineStyle\":1,\"fLineWidth\":2,\"fFillColor\":0,\"fFillStyle\":0,\"fMarkerColor\":1,\"fMarkerStyle\":21,\"fMarkerSize\":1,\"fObject\":{\"$ref\":15},\"fLabel\":\"detector acceptance\",\"fOption\":\"lpf\"},{\"_typename\":\"TLegendEntry\",\"fUniqueID\":0,\"fBits\":0,\"fTextAngle\":0,\"fTextSize\":0,\"fTextAlign\":0,\"fTextColor\":0,\"fTextFont\":62,\"fLineColor\":920,\"fLineStyle\":1,\"fLineWidth\":2,\"fFillColor\":920,\"fFillStyle\":1001,\"fMarkerColor\":920,\"fMarkerStyle\":20,\"fMarkerSize\":0.7,\"fObject\":{\"$ref\":3},\"fLabel\":\"electron distribution #times 7\",\"fOption\":\"lpf\"}],\"opt\":[\"lpf\",\"lpf\",\"lpf\"]},\"fEntrySeparation\":0.1,\"fMargin\":0.25,\"fNColumns\":1,\"fColumnSeparation\":0},{\"_typename\":\"TLatex\",\"fUniqueID\":0,\"fBits\":9,\"fName\":\"\",\"fTitle\":\"e^{+}e^{-}#rightarrow e^{#pm}#nu W\",\"fTextAngle\":0,\"fTextSize\":30,\"fTextAlign\":11,\"fTextColor\":1,\"fTextFont\":63,\"fX\":0.4,\"fY\":0.75,\"fLineColor\":1,\"fLineStyle\":1,\"fLineWidth\":2,\"fLimitFactorSize\":3,\"fOriginSize\":0.0635593235492706},{\"_typename\":\"TLatex\",\"fUniqueID\":0,\"fBits\":16393,\"fName\":\"\",\"fTitle\":\"CLD #font[52]{work in progress}\",\"fTextAngle\":0,\"fTextSize\":30,\"fTextAlign\":11,\"fTextColor\":1,\"fTextFont\":63,\"fX\":0.15,\"fY\":0.93935,\"fLineColor\":1,\"fLineStyle\":1,\"fLineWidth\":2,\"fLimitFactorSize\":3,\"fOriginSize\":0.0635593235492706},{\"_typename\":\"TStyle\",\"fUniqueID\":0,\"fBits\":0,\"fName\":\"ildStyle\",\"fTitle\":\"ILD Style\",\"fLineColor\":1,\"fLineStyle\":1,\"fLineWidth\":2,\"fFillColor\":10,\"fFillStyle\":1001,\"fMarkerColor\":1,\"fMarkerStyle\":20,\"fMarkerSize\":0.7,\"fTextAngle\":0,\"fTextSize\":0.05,\"fTextAlign\":11,\"fTextColor\":1,\"fTextFont\":42,\"fXaxis\":{\"_typename\":\"TAttAxis\",\"fNdivisions\":506,\"fAxisColor\":1,\"fLabelColor\":1,\"fLabelFont\":42,\"fLabelOffset\":0.015,\"fLabelSize\":0.06,\"fTickLength\":0.03,\"fTitleOffset\":1,\"fTitleSize\":0.07,\"fTitleColor\":1,\"fTitleFont\":42},\"fYaxis\":{\"_typename\":\"TAttAxis\",\"fNdivisions\":506,\"fAxisColor\":1,\"fLabelColor\":1,\"fLabelFont\":42,\"fLabelOffset\":0.015,\"fLabelSize\":0.06,\"fTickLength\":0.03,\"fTitleOffset\":1.1,\"fTitleSize\":0.07,\"fTitleColor\":1,\"fTitleFont\":42},\"fZaxis\":{\"_typename\":\"TAttAxis\",\"fNdivisions\":510,\"fAxisColor\":1,\"fLabelColor\":1,\"fLabelFont\":42,\"fLabelOffset\":0.015,\"fLabelSize\":0.06,\"fTickLength\":0.03,\"fTitleOffset\":1.1,\"fTitleSize\":0.07,\"fTitleColor\":1,\"fTitleFont\":42},\"fBarWidth\":1,\"fBarOffset\":0,\"fColorModelPS\":0,\"fDrawBorder\":0,\"fOptLogx\":0,\"fOptLogy\":0,\"fOptLogz\":0,\"fOptDate\":0,\"fOptStat\":0,\"fOptTitle\":1,\"fOptFile\":0,\"fOptFit\":0,\"fShowEventStatus\":0,\"fShowEditor\":0,\"fShowToolBar\":0,\"fNumberContours\":20,\"fAttDate\":{\"_typename\":\"TAttText\",\"fTextAngle\":0,\"fTextSize\":0.025,\"fTextAlign\":11,\"fTextColor\":1,\"fTextFont\":62},\"fDateX\":0.01,\"fDateY\":0.01,\"fEndErrorSize\":2,\"fErrorX\":0.5,\"fFuncColor\":632,\"fFuncStyle\":1,\"fFuncWidth\":2,\"fGridColor\":0,\"fGridStyle\":3,\"fGridWidth\":1,\"fLegendBorderSize\":0,\"fLegendFillColor\":0,\"fLegendFont\":62,\"fLegendTextSize\":0,\"fHatchesLineWidth\":1,\"fHatchesSpacing\":1,\"fFrameFillColor\":10,\"fFrameLineColor\":1,\"fFrameFillStyle\":1001,\"fFrameLineStyle\":1,\"fFrameLineWidth\":2,\"fFrameBorderSize\":1,\"fFrameBorderMode\":0,\"fHistFillColor\":0,\"fHistLineColor\":1,\"fHistFillStyle\":1001,\"fHistLineStyle\":1,\"fHistLineWidth\":2,\"fHistMinimumZero\":false,\"fHistTopMargin\":0.05,\"fCanvasPreferGL\":false,\"fCanvasColor\":10,\"fCanvasBorderSize\":2,\"fCanvasBorderMode\":0,\"fCanvasDefH\":500,\"fCanvasDefW\":700,\"fCanvasDefX\":10,\"fCanvasDefY\":10,\"fPadColor\":10,\"fPadBorderSize\":2,\"fPadBorderMode\":0,\"fPadBottomMargin\":0.18,\"fPadTopMargin\":0.06,\"fPadLeftMargin\":0.15,\"fPadRightMargin\":0.05,\"fPadGridX\":false,\"fPadGridY\":false,\"fPadTickX\":1,\"fPadTickY\":1,\"fPaperSizeX\":20,\"fPaperSizeY\":26,\"fScreenFactor\":1,\"fStatColor\":10,\"fStatTextColor\":1,\"fStatBorderSize\":0,\"fStatFont\":42,\"fStatFontSize\":0.07,\"fStatStyle\":1001,\"fStatFormat\":\"6.4g\",\"fStatX\":0.98,\"fStatY\":0.995,\"fStatW\":0.2,\"fStatH\":0.16,\"fStripDecimals\":true,\"fTitleAlign\":13,\"fTitleColor\":0,\"fTitleTextColor\":1,\"fTitleBorderSize\":0,\"fTitleFont\":62,\"fTitleFontSize\":0,\"fTitleStyle\":1001,\"fTitleX\":0.01,\"fTitleY\":0.995,\"fTitleW\":0,\"fTitleH\":0,\"fLegoInnerR\":0.5,\"fLineStyles\":[\"\",\"  \",\" 12 12\",\" 4 8\",\" 12 16 4 16\",\" 20 12 4 12\",\" 20 12 4 12 4 12 4 12\",\" 20 20\",\" 20 12 4 12 4 12\",\" 80 20\",\" 80 40 4 40\",\"  \",\"  \",\"  \",\"  \",\"  \",\"  \",\"  \",\"  \",\"  \",\"  \",\"  \",\"  \",\"  \",\"  \",\"  \",\"  \",\"  \",\"  \",\"  \"],\"fHeaderPS\":\"\",\"fTitlePS\":\"\",\"fFitFormat\":\"5.4g\",\"fPaintTextFormat\":\"g\",\"fLineScalePS\":3,\"fJoinLinePS\":0,\"fCapLinePS\":0,\"fTimeOffset\":788918400,\"fImageScaling\":1}],\"opt\":[\"\",\"hist\",\"p\",\"\",\"\",\"\",\"\",\"\",\"\"]},\"fExecs\":null,\"fName\":\"c1\",\"fTitle\":\"c1\",\"fNumPaletteColor\":0,\"fNextPaletteColor\":0,\"fDISPLAY\":\"$DISPLAY\",\"fDoubleBuffer\":0,\"fRetained\":true,\"fXsizeUser\":0,\"fYsizeUser\":0,\"fXsizeReal\":20,\"fYsizeReal\":14.28571,\"fWindowTopX\":0,\"fWindowTopY\":0,\"fWindowWidth\":0,\"fWindowHeight\":0,\"fCw\":696,\"fCh\":472,\"fCatt\":{\"_typename\":\"TAttCanvas\",\"fXBetween\":2,\"fYBetween\":2,\"fTitleFromTop\":1.2,\"fXdate\":0.2,\"fYdate\":0.3,\"fAdate\":1},\"kMoveOpaque\":true,\"kResizeOpaque\":true,\"fHighLightColor\":2,\"fBatch\":true,\"kShowEventStatus\":false,\"kAutoExec\":true,\"kMenuBar\":true});\n",
       "   Core.settings.HandleKeys = false;\n",
       "   Core.draw(\"root_plot_1709297130773\", obj, \"\");\n",
       "}\n",
       "\n",
       "function script_load_root_plot_1709297130773(src, on_error) {\n",
       "    let script = document.createElement('script');\n",
       "    script.src = src;\n",
       "    script.onload = function() { display_root_plot_1709297130773(JSROOT); };\n",
       "    script.onerror = function() { script.remove(); on_error(); };\n",
       "    document.head.appendChild(script);\n",
       "}\n",
       "\n",
       "if (typeof requirejs !== 'undefined') {\n",
       "\n",
       "    // We are in jupyter notebooks, use require.js which should be configured already\n",
       "    requirejs.config({\n",
       "       paths: { 'JSRootCore' : [ 'build/jsroot', 'https://root.cern/js/7.3.4/build/jsroot', 'https://jsroot.gsi.de/7.3.4/build/jsroot' ] }\n",
       "    })(['JSRootCore'],  function(Core) {\n",
       "       display_root_plot_1709297130773(Core);\n",
       "    });\n",
       "\n",
       "} else if (typeof JSROOT !== 'undefined') {\n",
       "\n",
       "   // JSROOT already loaded, just use it\n",
       "   display_root_plot_1709297130773(JSROOT);\n",
       "\n",
       "} else {\n",
       "\n",
       "    // We are in jupyterlab without require.js, directly loading jsroot\n",
       "    // Jupyterlab might be installed in a different base_url so we need to know it.\n",
       "    try {\n",
       "        var base_url = JSON.parse(document.getElementById('jupyter-config-data').innerHTML).baseUrl;\n",
       "    } catch(_) {\n",
       "        var base_url = '/';\n",
       "    }\n",
       "\n",
       "    // Try loading a local version of requirejs and fallback to cdn if not possible.\n",
       "    script_load_root_plot_1709297130773(base_url + 'static/build/jsroot.js', function(){\n",
       "        console.error('Fail to load JSROOT locally, please check your jupyter_notebook_config.py file');\n",
       "        script_load_root_plot_1709297130773('https://root.cern/js/7.3.4/build/jsroot.js', function(){\n",
       "            document.getElementById(\"root_plot_1709297130773\").innerHTML = \"Failed to load JSROOT\";\n",
       "        });\n",
       "    });\n",
       "}\n",
       "\n",
       "</script>\n"
      ],
      "text/plain": [
       "<IPython.core.display.HTML object>"
      ]
     },
     "metadata": {},
     "output_type": "display_data"
    }
   ],
   "source": [
    "c_eff_theta = ROOT.TCanvas()\n",
    "eff_theta.SetTitle(\";#theta_{e^{#pm}} [#pi rad]; e^{#pm} track reco efficiency\")\n",
    "u_theta.Draw(\"hist\")\n",
    "eff_theta.Draw(\"p\")\n",
    "u_theta.GetYaxis().SetRangeUser(0, 1.05)\n",
    "u_theta.GetXaxis().SetRangeUser(0, 1.0)\n",
    "ll = ROOT.TLine(beam_cone, 0, beam_cone, 1.05)\n",
    "ll.SetLineColor(ROOT.kRed)\n",
    "lr = ROOT.TLine(1 - beam_cone, 0, 1 - beam_cone, 1.05)\n",
    "lr.SetLineColor(ROOT.kRed)\n",
    "ll.Draw()\n",
    "lr.Draw()\n",
    "l = ROOT.TLegend(0.425, 0.5, 0.85, 0.7)\n",
    "l.AddEntry(eff_theta, \"e^{#pm} tracking efficiency\")\n",
    "l.AddEntry(ll, \"detector acceptance\")\n",
    "l.AddEntry(u_theta, \"electron distribution #times 7\")\n",
    "l.Draw()\n",
    "t.DrawLatex(.4, .75, \"e^{+}e^{-}#rightarrow e^{#pm}#nu W\")\n",
    "t.DrawLatexNDC(0.15, 0.93935, \"CLD #font[52]{work in progress}\")\n",
    "# c_eff_theta.BuildLegend(0.3, 0.3, 0.9, 0.6, \"foo\")\n",
    "c_eff_theta.Draw()\n",
    "c_eff_theta.SaveAs(\"plots/trk_eff/eff_theta.pdf\")"
   ]
  },
  {
   "cell_type": "code",
   "execution_count": 14,
   "metadata": {},
   "outputs": [
    {
     "name": "stderr",
     "output_type": "stream",
     "text": [
      "Info in <TCanvas::Print>: pdf file plots/trk_eff/eff_pt.pdf has been created\n"
     ]
    },
    {
     "data": {
      "text/html": [
       "\n",
       "\n",
       "<div id=\"root_plot_1709297130894\"\n",
       "     style=\"width: 700px; height: 500px\">\n",
       "</div>\n",
       "<script>\n",
       "\n",
       "function display_root_plot_1709297130894(Core) {\n",
       "   let obj = Core.parse({\"_typename\":\"TCanvas\",\"fUniqueID\":0,\"fBits\":3342344,\"fLineColor\":1,\"fLineStyle\":1,\"fLineWidth\":2,\"fFillColor\":10,\"fFillStyle\":1001,\"fLeftMargin\":0.15,\"fRightMargin\":0.05,\"fBottomMargin\":0.18,\"fTopMargin\":0.06,\"fXfile\":2,\"fYfile\":2,\"fAfile\":1,\"fXstat\":0.99,\"fYstat\":0.99,\"fAstat\":2,\"fFrameFillColor\":10,\"fFrameLineColor\":1,\"fFrameFillStyle\":1001,\"fFrameLineStyle\":1,\"fFrameLineWidth\":2,\"fFrameBorderSize\":1,\"fFrameBorderMode\":0,\"fX1\":-23.6250005867332,\"fY1\":-0.248684223528714,\"fX2\":133.875,\"fY2\":1.13289473602946,\"fXtoAbsPixelk\":104.400052203882,\"fXtoPixelk\":104.400052203882,\"fXtoPixel\":4.41904760258538,\"fYtoAbsPixelk\":387.040046307492,\"fYtoPixelk\":387.040046307492,\"fYtoPixel\":-341.638092223803,\"fUtoAbsPixelk\":5e-5,\"fUtoPixelk\":5e-5,\"fUtoPixel\":696,\"fVtoAbsPixelk\":472.00005,\"fVtoPixelk\":472,\"fVtoPixel\":-472,\"fAbsPixeltoXk\":-23.6250005867332,\"fPixeltoXk\":-23.6250005867332,\"fPixeltoX\":0.226293104291283,\"fAbsPixeltoYk\":1.13289473602946,\"fPixeltoYk\":-0.248684223528714,\"fPixeltoY\":-0.00292707406686053,\"fXlowNDC\":0,\"fYlowNDC\":0,\"fXUpNDC\":1,\"fYUpNDC\":1,\"fWNDC\":1,\"fHNDC\":1,\"fAbsXlowNDC\":0,\"fAbsYlowNDC\":0,\"fAbsWNDC\":1,\"fAbsHNDC\":1,\"fUxmin\":0,\"fUymin\":0,\"fUxmax\":126,\"fUymax\":1.05,\"fTheta\":30,\"fPhi\":30,\"fAspectRatio\":0,\"fNumber\":0,\"fTickx\":1,\"fTicky\":1,\"fLogx\":0,\"fLogy\":0,\"fLogz\":0,\"fPadPaint\":0,\"fCrosshair\":0,\"fCrosshairPos\":0,\"fBorderSize\":2,\"fBorderMode\":0,\"fModified\":false,\"fGridx\":false,\"fGridy\":false,\"fAbsCoord\":false,\"fEditable\":true,\"fFixedAspectRatio\":false,\"fPrimitives\":{\"_typename\":\"TList\",\"name\":\"TList\",\"arr\":[{\"_typename\":\"TFrame\",\"fUniqueID\":0,\"fBits\":8,\"fLineColor\":1,\"fLineStyle\":1,\"fLineWidth\":2,\"fFillColor\":10,\"fFillStyle\":1001,\"fX1\":0,\"fY1\":0,\"fX2\":126,\"fY2\":1.05,\"fBorderSize\":1,\"fBorderMode\":0},{\"_typename\":\"TH1D\",\"fUniqueID\":0,\"fBits\":520,\"fName\":\"h_total_pt\",\"fTitle\":\"\",\"fLineColor\":920,\"fLineStyle\":1,\"fLineWidth\":2,\"fFillColor\":920,\"fFillStyle\":1001,\"fMarkerColor\":920,\"fMarkerStyle\":20,\"fMarkerSize\":0.7,\"fNcells\":64,\"fXaxis\":{\"_typename\":\"TAxis\",\"fUniqueID\":0,\"fBits\":2048,\"fName\":\"xaxis\",\"fTitle\":\"p_{T} [GeV]\",\"fNdivisions\":506,\"fAxisColor\":1,\"fLabelColor\":1,\"fLabelFont\":42,\"fLabelOffset\":0.015,\"fLabelSize\":0.06,\"fTickLength\":0.03,\"fTitleOffset\":1,\"fTitleSize\":0.07,\"fTitleColor\":1,\"fTitleFont\":42,\"fNbins\":62,\"fXmin\":0,\"fXmax\":124,\"fXbins\":[],\"fFirst\":1,\"fLast\":63,\"fBits2\":0,\"fTimeDisplay\":false,\"fTimeFormat\":\"\",\"fLabels\":null,\"fModLabs\":null},\"fYaxis\":{\"_typename\":\"TAxis\",\"fUniqueID\":0,\"fBits\":0,\"fName\":\"yaxis\",\"fTitle\":\"\",\"fNdivisions\":506,\"fAxisColor\":1,\"fLabelColor\":1,\"fLabelFont\":42,\"fLabelOffset\":0.015,\"fLabelSize\":0.06,\"fTickLength\":0.03,\"fTitleOffset\":1.1,\"fTitleSize\":0.07,\"fTitleColor\":1,\"fTitleFont\":42,\"fNbins\":1,\"fXmin\":0,\"fXmax\":1,\"fXbins\":[],\"fFirst\":0,\"fLast\":0,\"fBits2\":0,\"fTimeDisplay\":false,\"fTimeFormat\":\"\",\"fLabels\":null,\"fModLabs\":null},\"fZaxis\":{\"_typename\":\"TAxis\",\"fUniqueID\":0,\"fBits\":0,\"fName\":\"zaxis\",\"fTitle\":\"\",\"fNdivisions\":510,\"fAxisColor\":1,\"fLabelColor\":1,\"fLabelFont\":42,\"fLabelOffset\":0.015,\"fLabelSize\":0.06,\"fTickLength\":0.03,\"fTitleOffset\":1.1,\"fTitleSize\":0.07,\"fTitleColor\":1,\"fTitleFont\":42,\"fNbins\":1,\"fXmin\":0,\"fXmax\":1,\"fXbins\":[],\"fFirst\":0,\"fLast\":0,\"fBits2\":0,\"fTimeDisplay\":false,\"fTimeFormat\":\"\",\"fLabels\":null,\"fModLabs\":null},\"fBarOffset\":0,\"fBarWidth\":1000,\"fEntries\":3327,\"fTsumw\":7,\"fTsumw2\":0.0147279831680192,\"fTsumwx\":269.731420779028,\"fTsumwx2\":12873.9137188328,\"fMaximum\":1.05,\"fMinimum\":0,\"fNormFactor\":0,\"fContour\":[],\"fSumw2\":{\"$arr\":\"Float64\",\"len\":64,\"p\":1,\"v\":[4.42680588158077e-5,2.301939058422e-4,2.16913488197458e-4,2.8774238230275e-4,2.8331557642117e-4,3.01022799947493e-4,3.18730023473816e-4,3.71851694052785e-4,4.29400170513335e-4,4.42680588158077e-4,3.67424888171204e-4,3.80705305815947e-4,3.93985723460689e-4,5.00229064618627e-4,4.91375452855466e-4,4.91375452855466e-4,5.09082676381789e-4,5.22363094026531e-4,5.1350948226337e-4,5.40070317552854e-4,5.40070317552854e-4,6.02045599894985e-4,6.2860643518447e-4,6.10899211658147e-4,4.95802258737047e-4,5.09082676381789e-4,4.29400170513335e-4,5.1350948226337e-4,3.80705305815947e-4,3.62998082289623e-4,3.27583635236977e-4,2.70035158776427e-4,2.34620711723781e-4,2.39047517605362e-4,2.12486682315877e-4,1.54938205855327e-4,1.54938205855327e-4,1.10670147039519e-4,1.150969529211e-4,7.96825058684539e-5,6.64020882237116e-5,2.65608352894846e-5,1.77072235263231e-5,4.42680588158077e-6,4.42680588158077e-6]},\"fOption\":\"\",\"fFunctions\":{\"_typename\":\"TList\",\"name\":\"TList\",\"arr\":[],\"opt\":[]},\"fBufferSize\":0,\"fBuffer\":[],\"fBinStatErrOpt\":0,\"fStatOverflows\":2,\"fArray\":{\"$arr\":\"Float64\",\"len\":64,\"p\":1,\"v\":[0.0210399759543132,0.109407874962429,0.103095882176135,0.136759843703036,0.134655846107604,0.14307183648933,0.151487826871055,0.176735798016231,0.204087766756838,0.210399759543132,0.1746318004208,0.180943793207093,0.187255785993387,0.237751728283739,0.233543733092876,0.233543733092876,0.241959723474602,0.248271716260896,0.244063721070033,0.256687706642621,0.256687706642621,0.286143672978659,0.298767658551247,0.290351668169522,0.235647730688308,0.241959723474602,0.204087766756838,0.244063721070033,0.180943793207093,0.172527802825368,0.155695822061918,0.12834385332131,0.11151187255786,0.113615870153291,0.100991884580703,0.0736399158400962,0.0736399158400962,0.052599939885783,0.0547039374812143,0.0378719567177637,0.0315599639314698,0.0126239855725879,0.00841599038172528,0.00210399759543132,0.00210399759543132]}},{\"_typename\":\"TGraphAsymmErrors\",\"fUniqueID\":0,\"fBits\":1032,\"fName\":\"eff_graph\",\"fTitle\":\";p_{T,{e^{#pm}} [GeV]; e^{#pm} track reco efficiency\",\"fLineColor\":1,\"fLineStyle\":1,\"fLineWidth\":2,\"fFillColor\":10,\"fFillStyle\":1001,\"fMarkerColor\":1,\"fMarkerStyle\":20,\"fMarkerSize\":0.7,\"fNpoints\":45,\"fX\":{\"$arr\":\"Float64\",\"len\":45,\"v\":[1,3,5,7,9,11,13,15,17,19,21,23,25,27,29,31,33,35,37,39,41,43,45,47,49,51,53,55,57,59,61,63,65,67,69,71,73,75,77,79,81,83,85,87,89]},\"fY\":{\"$arr\":\"Float64\",\"len\":45,\"v\":[0.7,0.230769230769231,0.326530612244898,0.384615384615385,0.515625,0.558823529411765,0.708333333333333,0.869047619047619,0.979381443298969,0.98,0.975903614457831,0.976744186046512,0.97752808988764,0.973451327433628,0.972972972972973,0.954954954954955,0.965217391304348,0.966101694915254,0.982758620689655,0.991803278688525,0.950819672131147,0.970588235294118,0.971830985915493,0.985507246376812,0.9375,0.973913043478261,0.969072164948454,0.948275862068966,0.988372093023256,0.98780487804878,0.972972972972973,0.885245901639344,1,0.981481481481482,1,1,0.942857142857143,0.96,0.961538461538462,1,1,0.833333333333333,1,1,1]},\"fFunctions\":{\"_typename\":\"TList\",\"name\":\"TList\",\"arr\":[],\"opt\":[]},\"fHistogram\":{\"_typename\":\"TH1F\",\"fUniqueID\":0,\"fBits\":512,\"fName\":\"eff_graph\",\"fTitle\":\"\",\"fLineColor\":1,\"fLineStyle\":1,\"fLineWidth\":2,\"fFillColor\":0,\"fFillStyle\":1001,\"fMarkerColor\":1,\"fMarkerStyle\":20,\"fMarkerSize\":0.7,\"fNcells\":102,\"fXaxis\":{\"_typename\":\"TAxis\",\"fUniqueID\":0,\"fBits\":0,\"fName\":\"xaxis\",\"fTitle\":\"p_{T,{e^{#pm}} [GeV]\",\"fNdivisions\":506,\"fAxisColor\":1,\"fLabelColor\":1,\"fLabelFont\":42,\"fLabelOffset\":0.015,\"fLabelSize\":0.06,\"fTickLength\":0.03,\"fTitleOffset\":1,\"fTitleSize\":0.07,\"fTitleColor\":1,\"fTitleFont\":42,\"fNbins\":100,\"fXmin\":0,\"fXmax\":99,\"fXbins\":[],\"fFirst\":0,\"fLast\":0,\"fBits2\":0,\"fTimeDisplay\":false,\"fTimeFormat\":\"\",\"fLabels\":null,\"fModLabs\":null},\"fYaxis\":{\"_typename\":\"TAxis\",\"fUniqueID\":0,\"fBits\":0,\"fName\":\"yaxis\",\"fTitle\":\" e^{#pm} track reco efficiency\",\"fNdivisions\":506,\"fAxisColor\":1,\"fLabelColor\":1,\"fLabelFont\":42,\"fLabelOffset\":0.015,\"fLabelSize\":0.06,\"fTickLength\":0.03,\"fTitleOffset\":1.1,\"fTitleSize\":0.07,\"fTitleColor\":1,\"fTitleFont\":42,\"fNbins\":1,\"fXmin\":0.07452077932465,\"fXmax\":1.08413447460685,\"fXbins\":[],\"fFirst\":0,\"fLast\":0,\"fBits2\":0,\"fTimeDisplay\":false,\"fTimeFormat\":\"\",\"fLabels\":null,\"fModLabs\":null},\"fZaxis\":{\"_typename\":\"TAxis\",\"fUniqueID\":0,\"fBits\":0,\"fName\":\"zaxis\",\"fTitle\":\"\",\"fNdivisions\":510,\"fAxisColor\":1,\"fLabelColor\":1,\"fLabelFont\":42,\"fLabelOffset\":0.015,\"fLabelSize\":0.06,\"fTickLength\":0.03,\"fTitleOffset\":1.1,\"fTitleSize\":0.07,\"fTitleColor\":1,\"fTitleFont\":42,\"fNbins\":1,\"fXmin\":0,\"fXmax\":1,\"fXbins\":[],\"fFirst\":0,\"fLast\":0,\"fBits2\":0,\"fTimeDisplay\":false,\"fTimeFormat\":\"\",\"fLabels\":null,\"fModLabs\":null},\"fBarOffset\":0,\"fBarWidth\":1000,\"fEntries\":0,\"fTsumw\":0,\"fTsumw2\":0,\"fTsumwx\":0,\"fTsumwx2\":0,\"fMaximum\":1.08413447460685,\"fMinimum\":0.07452077932465,\"fNormFactor\":0,\"fContour\":[],\"fSumw2\":[],\"fOption\":\"\",\"fFunctions\":{\"_typename\":\"TList\",\"name\":\"TList\",\"arr\":[],\"opt\":[]},\"fBufferSize\":0,\"fBuffer\":[],\"fBinStatErrOpt\":0,\"fStatOverflows\":2,\"fArray\":{\"$arr\":\"Float32\",\"len\":102}},\"fMinimum\":-1111,\"fMaximum\":-1111,\"fEXlow\":{\"$arr\":\"Float64\",\"len\":45,\"v\":1,\"n\":45},\"fEXhigh\":{\"$arr\":\"Float64\",\"len\":45,\"v\":1,\"n\":45},\"fEYlow\":{\"$arr\":\"Float64\",\"len\":45,\"v\":[0.208262481990225,0.0614830712393962,0.0723342107303973,0.0654861969923143,0.0699414570951851,0.0679779267210934,0.0633293102472462,0.0476971571126217,0.0265476665061803,0.0257699632102589,0.0308988591724915,0.0298505333439628,0.0288709674975277,0.0251507171819539,0.0255915642560978,0.0293232527966897,0.0266476268118228,0.0259912742886829,0.022287543396037,0.0185949208000461,0.0282199562409794,0.022644295671175,0.0217121865330488,0.0187948907405572,0.0320415806582495,0.024724791702447,0.0291702997099653,0.0296167889077107,0.0262292362709617,0.0274828341285274,0.0345372430437348,0.0563302486945704,0.0341398789237802,0.0412968907557449,0.0376283935404037,0.0512411463721985,0.0704444114251263,0.0860511873626036,0.0829559491783644,0.0972223406286151,0.115501778684933,0.287350389331609,0.368877570850385,0.8413447460685,0.8413447460685]},\"fEYhigh\":{\"$arr\":\"Float64\",\"len\":45,\"v\":[0.158328098892803,0.0733858559160961,0.0803816873416383,0.0694484502357854,0.0693977688463678,0.0660553328605527,0.0568518742615738,0.0375710328612613,0.0133065891787848,0.0129077171029379,0.0155488642974249,0.0150069781462427,0.0145015896780181,0.0144144638971662,0.0146735486362758,0.0193205932566773,0.0165733087192044,0.0161537901499005,0.0111285921956443,0.00678170880492357,0.0193365602475111,0.0140238561809141,0.0134334341638136,0.00935551295779025,0.022763487322347,0.0141643692388678,0.0167854408747669,0.0203272293420862,0.00962115832227228,0.0100905861958251,0.0174378476188937,0.0413368013164289,0,0.0153244862712828,0,0,0.0368223789830275,0.0331136690349616,0.0318391874043139,0,0,0.138284918684358]}},{\"_typename\":\"TLegend\",\"fUniqueID\":0,\"fBits\":8,\"fLineColor\":1,\"fLineStyle\":1,\"fLineWidth\":2,\"fFillColor\":0,\"fFillStyle\":1001,\"fX1\":23.6249995892868,\"fY1\":0.303947360294554,\"fX2\":102.374999882653,\"fY2\":0.580263152206188,\"fX1NDC\":0.3,\"fY1NDC\":0.4,\"fX2NDC\":0.8,\"fY2NDC\":0.6,\"fBorderSize\":0,\"fInit\":1,\"fShadowColor\":1,\"fCornerRadius\":0,\"fOption\":\"brNDC\",\"fName\":\"TPave\",\"fTextAngle\":0,\"fTextSize\":0,\"fTextAlign\":12,\"fTextColor\":1,\"fTextFont\":62,\"fPrimitives\":{\"_typename\":\"TList\",\"name\":\"TList\",\"arr\":[{\"_typename\":\"TLegendEntry\",\"fUniqueID\":0,\"fBits\":0,\"fTextAngle\":0,\"fTextSize\":0,\"fTextAlign\":0,\"fTextColor\":0,\"fTextFont\":62,\"fLineColor\":1,\"fLineStyle\":1,\"fLineWidth\":2,\"fFillColor\":10,\"fFillStyle\":1001,\"fMarkerColor\":1,\"fMarkerStyle\":20,\"fMarkerSize\":0.7,\"fObject\":{\"$ref\":8},\"fLabel\":\"e^{#pm} tracking efficiency\",\"fOption\":\"lpf\"},{\"_typename\":\"TLegendEntry\",\"fUniqueID\":0,\"fBits\":0,\"fTextAngle\":0,\"fTextSize\":0,\"fTextAlign\":0,\"fTextColor\":0,\"fTextFont\":62,\"fLineColor\":920,\"fLineStyle\":1,\"fLineWidth\":2,\"fFillColor\":920,\"fFillStyle\":1001,\"fMarkerColor\":920,\"fMarkerStyle\":20,\"fMarkerSize\":0.7,\"fObject\":{\"$ref\":3},\"fLabel\":\"electron distribution #times 7\",\"fOption\":\"lpf\"}],\"opt\":[\"lpf\",\"lpf\"]},\"fEntrySeparation\":0.1,\"fMargin\":0.25,\"fNColumns\":1,\"fColumnSeparation\":0},{\"_typename\":\"TLatex\",\"fUniqueID\":0,\"fBits\":16393,\"fName\":\"\",\"fTitle\":\"e^{+}e^{-}#rightarrow e^{#pm}#nu W\",\"fTextAngle\":0,\"fTextSize\":30,\"fTextAlign\":11,\"fTextColor\":1,\"fTextFont\":63,\"fX\":0.325,\"fY\":0.6,\"fLineColor\":1,\"fLineStyle\":1,\"fLineWidth\":2,\"fLimitFactorSize\":3,\"fOriginSize\":0.0635593235492706},{\"_typename\":\"TLatex\",\"fUniqueID\":0,\"fBits\":16393,\"fName\":\"\",\"fTitle\":\"CLD #font[52]{work in progress}\",\"fTextAngle\":0,\"fTextSize\":30,\"fTextAlign\":11,\"fTextColor\":1,\"fTextFont\":63,\"fX\":0.15,\"fY\":0.93935,\"fLineColor\":1,\"fLineStyle\":1,\"fLineWidth\":2,\"fLimitFactorSize\":3,\"fOriginSize\":0.0635593235492706},{\"_typename\":\"TStyle\",\"fUniqueID\":0,\"fBits\":0,\"fName\":\"ildStyle\",\"fTitle\":\"ILD Style\",\"fLineColor\":1,\"fLineStyle\":1,\"fLineWidth\":2,\"fFillColor\":10,\"fFillStyle\":1001,\"fMarkerColor\":1,\"fMarkerStyle\":20,\"fMarkerSize\":0.7,\"fTextAngle\":0,\"fTextSize\":0.05,\"fTextAlign\":11,\"fTextColor\":1,\"fTextFont\":42,\"fXaxis\":{\"_typename\":\"TAttAxis\",\"fNdivisions\":506,\"fAxisColor\":1,\"fLabelColor\":1,\"fLabelFont\":42,\"fLabelOffset\":0.015,\"fLabelSize\":0.06,\"fTickLength\":0.03,\"fTitleOffset\":1,\"fTitleSize\":0.07,\"fTitleColor\":1,\"fTitleFont\":42},\"fYaxis\":{\"_typename\":\"TAttAxis\",\"fNdivisions\":506,\"fAxisColor\":1,\"fLabelColor\":1,\"fLabelFont\":42,\"fLabelOffset\":0.015,\"fLabelSize\":0.06,\"fTickLength\":0.03,\"fTitleOffset\":1.1,\"fTitleSize\":0.07,\"fTitleColor\":1,\"fTitleFont\":42},\"fZaxis\":{\"_typename\":\"TAttAxis\",\"fNdivisions\":510,\"fAxisColor\":1,\"fLabelColor\":1,\"fLabelFont\":42,\"fLabelOffset\":0.015,\"fLabelSize\":0.06,\"fTickLength\":0.03,\"fTitleOffset\":1.1,\"fTitleSize\":0.07,\"fTitleColor\":1,\"fTitleFont\":42},\"fBarWidth\":1,\"fBarOffset\":0,\"fColorModelPS\":0,\"fDrawBorder\":0,\"fOptLogx\":0,\"fOptLogy\":0,\"fOptLogz\":0,\"fOptDate\":0,\"fOptStat\":0,\"fOptTitle\":1,\"fOptFile\":0,\"fOptFit\":0,\"fShowEventStatus\":0,\"fShowEditor\":0,\"fShowToolBar\":0,\"fNumberContours\":20,\"fAttDate\":{\"_typename\":\"TAttText\",\"fTextAngle\":0,\"fTextSize\":0.025,\"fTextAlign\":11,\"fTextColor\":1,\"fTextFont\":62},\"fDateX\":0.01,\"fDateY\":0.01,\"fEndErrorSize\":2,\"fErrorX\":0.5,\"fFuncColor\":632,\"fFuncStyle\":1,\"fFuncWidth\":2,\"fGridColor\":0,\"fGridStyle\":3,\"fGridWidth\":1,\"fLegendBorderSize\":0,\"fLegendFillColor\":0,\"fLegendFont\":62,\"fLegendTextSize\":0,\"fHatchesLineWidth\":1,\"fHatchesSpacing\":1,\"fFrameFillColor\":10,\"fFrameLineColor\":1,\"fFrameFillStyle\":1001,\"fFrameLineStyle\":1,\"fFrameLineWidth\":2,\"fFrameBorderSize\":1,\"fFrameBorderMode\":0,\"fHistFillColor\":0,\"fHistLineColor\":1,\"fHistFillStyle\":1001,\"fHistLineStyle\":1,\"fHistLineWidth\":2,\"fHistMinimumZero\":false,\"fHistTopMargin\":0.05,\"fCanvasPreferGL\":false,\"fCanvasColor\":10,\"fCanvasBorderSize\":2,\"fCanvasBorderMode\":0,\"fCanvasDefH\":500,\"fCanvasDefW\":700,\"fCanvasDefX\":10,\"fCanvasDefY\":10,\"fPadColor\":10,\"fPadBorderSize\":2,\"fPadBorderMode\":0,\"fPadBottomMargin\":0.18,\"fPadTopMargin\":0.06,\"fPadLeftMargin\":0.15,\"fPadRightMargin\":0.05,\"fPadGridX\":false,\"fPadGridY\":false,\"fPadTickX\":1,\"fPadTickY\":1,\"fPaperSizeX\":20,\"fPaperSizeY\":26,\"fScreenFactor\":1,\"fStatColor\":10,\"fStatTextColor\":1,\"fStatBorderSize\":0,\"fStatFont\":42,\"fStatFontSize\":0.07,\"fStatStyle\":1001,\"fStatFormat\":\"6.4g\",\"fStatX\":0.98,\"fStatY\":0.995,\"fStatW\":0.2,\"fStatH\":0.16,\"fStripDecimals\":true,\"fTitleAlign\":13,\"fTitleColor\":0,\"fTitleTextColor\":1,\"fTitleBorderSize\":0,\"fTitleFont\":62,\"fTitleFontSize\":0,\"fTitleStyle\":1001,\"fTitleX\":0.01,\"fTitleY\":0.995,\"fTitleW\":0,\"fTitleH\":0,\"fLegoInnerR\":0.5,\"fLineStyles\":[\"\",\"  \",\" 12 12\",\" 4 8\",\" 12 16 4 16\",\" 20 12 4 12\",\" 20 12 4 12 4 12 4 12\",\" 20 20\",\" 20 12 4 12 4 12\",\" 80 20\",\" 80 40 4 40\",\"  \",\"  \",\"  \",\"  \",\"  \",\"  \",\"  \",\"  \",\"  \",\"  \",\"  \",\"  \",\"  \",\"  \",\"  \",\"  \",\"  \",\"  \",\"  \"],\"fHeaderPS\":\"\",\"fTitlePS\":\"\",\"fFitFormat\":\"5.4g\",\"fPaintTextFormat\":\"g\",\"fLineScalePS\":3,\"fJoinLinePS\":0,\"fCapLinePS\":0,\"fTimeOffset\":788918400,\"fImageScaling\":1}],\"opt\":[\"\",\"hist\",\"p\",\"\",\"\",\"\",\"\"]},\"fExecs\":null,\"fName\":\"c1_n2\",\"fTitle\":\"c1_n2\",\"fNumPaletteColor\":0,\"fNextPaletteColor\":0,\"fDISPLAY\":\"$DISPLAY\",\"fDoubleBuffer\":0,\"fRetained\":true,\"fXsizeUser\":0,\"fYsizeUser\":0,\"fXsizeReal\":20,\"fYsizeReal\":14.28571,\"fWindowTopX\":0,\"fWindowTopY\":0,\"fWindowWidth\":0,\"fWindowHeight\":0,\"fCw\":696,\"fCh\":472,\"fCatt\":{\"_typename\":\"TAttCanvas\",\"fXBetween\":2,\"fYBetween\":2,\"fTitleFromTop\":1.2,\"fXdate\":0.2,\"fYdate\":0.3,\"fAdate\":1},\"kMoveOpaque\":true,\"kResizeOpaque\":true,\"fHighLightColor\":2,\"fBatch\":true,\"kShowEventStatus\":false,\"kAutoExec\":true,\"kMenuBar\":true});\n",
       "   Core.settings.HandleKeys = false;\n",
       "   Core.draw(\"root_plot_1709297130894\", obj, \"\");\n",
       "}\n",
       "\n",
       "function script_load_root_plot_1709297130894(src, on_error) {\n",
       "    let script = document.createElement('script');\n",
       "    script.src = src;\n",
       "    script.onload = function() { display_root_plot_1709297130894(JSROOT); };\n",
       "    script.onerror = function() { script.remove(); on_error(); };\n",
       "    document.head.appendChild(script);\n",
       "}\n",
       "\n",
       "if (typeof requirejs !== 'undefined') {\n",
       "\n",
       "    // We are in jupyter notebooks, use require.js which should be configured already\n",
       "    requirejs.config({\n",
       "       paths: { 'JSRootCore' : [ 'build/jsroot', 'https://root.cern/js/7.3.4/build/jsroot', 'https://jsroot.gsi.de/7.3.4/build/jsroot' ] }\n",
       "    })(['JSRootCore'],  function(Core) {\n",
       "       display_root_plot_1709297130894(Core);\n",
       "    });\n",
       "\n",
       "} else if (typeof JSROOT !== 'undefined') {\n",
       "\n",
       "   // JSROOT already loaded, just use it\n",
       "   display_root_plot_1709297130894(JSROOT);\n",
       "\n",
       "} else {\n",
       "\n",
       "    // We are in jupyterlab without require.js, directly loading jsroot\n",
       "    // Jupyterlab might be installed in a different base_url so we need to know it.\n",
       "    try {\n",
       "        var base_url = JSON.parse(document.getElementById('jupyter-config-data').innerHTML).baseUrl;\n",
       "    } catch(_) {\n",
       "        var base_url = '/';\n",
       "    }\n",
       "\n",
       "    // Try loading a local version of requirejs and fallback to cdn if not possible.\n",
       "    script_load_root_plot_1709297130894(base_url + 'static/build/jsroot.js', function(){\n",
       "        console.error('Fail to load JSROOT locally, please check your jupyter_notebook_config.py file');\n",
       "        script_load_root_plot_1709297130894('https://root.cern/js/7.3.4/build/jsroot.js', function(){\n",
       "            document.getElementById(\"root_plot_1709297130894\").innerHTML = \"Failed to load JSROOT\";\n",
       "        });\n",
       "    });\n",
       "}\n",
       "\n",
       "</script>\n"
      ],
      "text/plain": [
       "<IPython.core.display.HTML object>"
      ]
     },
     "metadata": {},
     "output_type": "display_data"
    }
   ],
   "source": [
    "\n",
    "c_eff_pt = ROOT.TCanvas()\n",
    "u_pt.Draw(\"hist\")\n",
    "eff_pt.SetTitle(\";p_{T,{e^{#pm}} [GeV]; e^{#pm} track reco efficiency\")\n",
    "eff_pt.Draw(\"p\")\n",
    "u_pt.GetYaxis().SetRangeUser(0, 1.05)\n",
    "u_pt.GetXaxis().SetRangeUser(0, 125)\n",
    "# ll = ROOT.TLine(beam_cone, 0, beam_cone, 1.05)\n",
    "# ll.SetLineColor(ROOT.kRed)\n",
    "# lr = ROOT.TLine(1 - beam_cone, 0, 1 - beam_cone, 1.05)\n",
    "# lr.SetLineColor(ROOT.kRed)\n",
    "# ll.Draw()\n",
    "# lr.Draw()\n",
    "l = ROOT.TLegend(0.3, 0.4, 0.8, 0.6)\n",
    "l.AddEntry(eff_pt, \"e^{#pm} tracking efficiency\")\n",
    "# l.AddEntry(ll, \"detector acceptance\")\n",
    "l.AddEntry(u_pt, \"electron distribution #times 7\")\n",
    "l.Draw()\n",
    "t.DrawLatexNDC(.325, .6, \"e^{+}e^{-}#rightarrow e^{#pm}#nu W\")\n",
    "t.DrawLatexNDC(0.15, 0.93935, \"CLD #font[52]{work in progress}\")\n",
    "# c_eff_pt.BuildLegend(0.3, 0.3, 0.9, 0.6, \"foo\")\n",
    "c_eff_pt.Draw()\n",
    "c_eff_pt.SaveAs(\"plots/trk_eff/eff_pt.pdf\")"
   ]
  },
  {
   "cell_type": "code",
   "execution_count": 16,
   "metadata": {},
   "outputs": [
    {
     "data": {
      "text/html": [
       "\n",
       "\n",
       "<div id=\"root_plot_1709297173085\"\n",
       "     style=\"width: 700px; height: 500px\">\n",
       "</div>\n",
       "<script>\n",
       "\n",
       "function display_root_plot_1709297173085(Core) {\n",
       "   let obj = Core.parse({\"_typename\":\"TCanvas\",\"fUniqueID\":0,\"fBits\":3342344,\"fLineColor\":1,\"fLineStyle\":1,\"fLineWidth\":2,\"fFillColor\":10,\"fFillStyle\":1001,\"fLeftMargin\":0.15,\"fRightMargin\":0.05,\"fBottomMargin\":0.18,\"fTopMargin\":0.06,\"fXfile\":2,\"fYfile\":2,\"fAfile\":1,\"fXstat\":0.99,\"fYstat\":0.99,\"fAstat\":2,\"fFrameFillColor\":10,\"fFrameLineColor\":1,\"fFrameFillStyle\":1001,\"fFrameLineStyle\":1,\"fFrameLineWidth\":2,\"fFrameBorderSize\":1,\"fFrameBorderMode\":0,\"fX1\":-1.37500000931323,\"fY1\":-29.6052647057993,\"fX2\":1.125,\"fY2\":134.868420955888,\"fXtoAbsPixelk\":382.800051166761,\"fXtoPixelk\":382.800051166761,\"fXtoPixel\":278.399998962879,\"fYtoAbsPixelk\":387.040046307492,\"fYtoPixelk\":387.040046307492,\"fYtoPixel\":-2.86975997467995,\"fUtoAbsPixelk\":5e-5,\"fUtoPixelk\":5e-5,\"fUtoPixel\":696,\"fVtoAbsPixelk\":472.00005,\"fVtoPixelk\":472,\"fVtoPixel\":-472,\"fAbsPixeltoXk\":-1.37500000931323,\"fPixeltoXk\":-1.37500000931323,\"fPixeltoX\":0.00359195403636958,\"fAbsPixeltoYk\":134.868420955888,\"fPixeltoYk\":-29.6052647057993,\"fPixeltoY\":-0.348461198435777,\"fXlowNDC\":0,\"fYlowNDC\":0,\"fXUpNDC\":1,\"fYUpNDC\":1,\"fWNDC\":1,\"fHNDC\":1,\"fAbsXlowNDC\":0,\"fAbsYlowNDC\":0,\"fAbsWNDC\":1,\"fAbsHNDC\":1,\"fUxmin\":-1,\"fUymin\":0,\"fUxmax\":1,\"fUymax\":125,\"fTheta\":30,\"fPhi\":30,\"fAspectRatio\":0,\"fNumber\":0,\"fTickx\":1,\"fTicky\":1,\"fLogx\":0,\"fLogy\":0,\"fLogz\":0,\"fPadPaint\":0,\"fCrosshair\":0,\"fCrosshairPos\":0,\"fBorderSize\":2,\"fBorderMode\":0,\"fModified\":false,\"fGridx\":false,\"fGridy\":false,\"fAbsCoord\":false,\"fEditable\":true,\"fFixedAspectRatio\":false,\"fPrimitives\":{\"_typename\":\"TList\",\"name\":\"TList\",\"arr\":[{\"_typename\":\"TFrame\",\"fUniqueID\":0,\"fBits\":8,\"fLineColor\":1,\"fLineStyle\":1,\"fLineWidth\":2,\"fFillColor\":10,\"fFillStyle\":1001,\"fX1\":-1,\"fY1\":0,\"fX2\":1,\"fY2\":125,\"fBorderSize\":1,\"fBorderMode\":0},{\"_typename\":\"TH2D\",\"fUniqueID\":0,\"fBits\":520,\"fName\":\"wtf\",\"fTitle\":\"\",\"fLineColor\":1,\"fLineStyle\":1,\"fLineWidth\":2,\"fFillColor\":0,\"fFillStyle\":1001,\"fMarkerColor\":1,\"fMarkerStyle\":20,\"fMarkerSize\":0.7,\"fNcells\":729,\"fXaxis\":{\"_typename\":\"TAxis\",\"fUniqueID\":0,\"fBits\":0,\"fName\":\"xaxis\",\"fTitle\":\"cos #theta\",\"fNdivisions\":506,\"fAxisColor\":1,\"fLabelColor\":1,\"fLabelFont\":42,\"fLabelOffset\":0.015,\"fLabelSize\":0.06,\"fTickLength\":0.03,\"fTitleOffset\":1,\"fTitleSize\":0.07,\"fTitleColor\":1,\"fTitleFont\":42,\"fNbins\":25,\"fXmin\":-1,\"fXmax\":1,\"fXbins\":[],\"fFirst\":0,\"fLast\":0,\"fBits2\":0,\"fTimeDisplay\":false,\"fTimeFormat\":\"\",\"fLabels\":null,\"fModLabs\":null},\"fYaxis\":{\"_typename\":\"TAxis\",\"fUniqueID\":0,\"fBits\":0,\"fName\":\"yaxis\",\"fTitle\":\" pT\",\"fNdivisions\":506,\"fAxisColor\":1,\"fLabelColor\":1,\"fLabelFont\":42,\"fLabelOffset\":0.015,\"fLabelSize\":0.06,\"fTickLength\":0.03,\"fTitleOffset\":1.1,\"fTitleSize\":0.07,\"fTitleColor\":1,\"fTitleFont\":42,\"fNbins\":25,\"fXmin\":0,\"fXmax\":125,\"fXbins\":[],\"fFirst\":0,\"fLast\":0,\"fBits2\":0,\"fTimeDisplay\":false,\"fTimeFormat\":\"\",\"fLabels\":null,\"fModLabs\":null},\"fZaxis\":{\"_typename\":\"TAxis\",\"fUniqueID\":0,\"fBits\":0,\"fName\":\"zaxis\",\"fTitle\":\"\",\"fNdivisions\":510,\"fAxisColor\":1,\"fLabelColor\":1,\"fLabelFont\":42,\"fLabelOffset\":0.015,\"fLabelSize\":0.06,\"fTickLength\":0.03,\"fTitleOffset\":1.1,\"fTitleSize\":0.07,\"fTitleColor\":1,\"fTitleFont\":42,\"fNbins\":1,\"fXmin\":0,\"fXmax\":1,\"fXbins\":[],\"fFirst\":0,\"fLast\":0,\"fBits2\":0,\"fTimeDisplay\":false,\"fTimeFormat\":\"\",\"fLabels\":null,\"fModLabs\":null},\"fBarOffset\":0,\"fBarWidth\":1000,\"fEntries\":10000,\"fTsumw\":10000,\"fTsumw2\":10000,\"fTsumwx\":-8.23075950536536,\"fTsumwx2\":5083.70430931287,\"fMaximum\":-1111,\"fMinimum\":-1111,\"fNormFactor\":0,\"fContour\":{\"$arr\":\"Float64\",\"len\":20,\"p\":1,\"v\":[7.75,15.5,23.25,31,38.75,46.5,54.25,62,69.75,77.5,85.25,93,100.75,108.5,116.25,124,131.75,139.5,147.25]},\"fSumw2\":[],\"fOption\":\"\",\"fFunctions\":{\"_typename\":\"TList\",\"name\":\"TList\",\"arr\":[{\"_typename\":\"TPaletteAxis\",\"fUniqueID\":0,\"fBits\":0,\"fLineColor\":1,\"fLineStyle\":1,\"fLineWidth\":2,\"fFillColor\":632,\"fFillStyle\":1001,\"fX1\":1.01250000004657,\"fY1\":0,\"fX2\":1.12374999999534,\"fY2\":125,\"fX1NDC\":0.955000000186264,\"fY1NDC\":0.18000000782311,\"fX2NDC\":0.9995,\"fY2NDC\":0.940000001117587,\"fBorderSize\":4,\"fInit\":1,\"fShadowColor\":1,\"fCornerRadius\":0,\"fOption\":\"br\",\"fName\":\"palette\",\"fAxis\":{\"_typename\":\"TGaxis\",\"fUniqueID\":0,\"fBits\":0,\"fLineColor\":1,\"fLineStyle\":1,\"fLineWidth\":2,\"fX1\":0,\"fY1\":0,\"fX2\":0,\"fY2\":0,\"fTextAngle\":0,\"fTextSize\":0.04,\"fTextAlign\":11,\"fTextColor\":1,\"fTextFont\":42,\"fWmin\":0,\"fWmax\":0,\"fGridLength\":0,\"fTickSize\":0.03,\"fLabelOffset\":0.015,\"fLabelSize\":0.06,\"fTitleOffset\":1.1,\"fTitleSize\":0.07,\"fNdiv\":0,\"fLabelColor\":1,\"fLabelFont\":42,\"fNModLabs\":0,\"fChopt\":\"\",\"fName\":\"\",\"fTitle\":\"\",\"fTimeFormat\":\"\",\"fFunctionName\":\"\",\"fModLabs\":null}}],\"opt\":[\"br\"]},\"fBufferSize\":0,\"fBuffer\":[],\"fBinStatErrOpt\":0,\"fStatOverflows\":2,\"fScalefactor\":1,\"fTsumwy\":449435.2620427,\"fTsumwy2\":25232753.2852148,\"fTsumwxy\":331.99126588764,\"fArray\":{\"$arr\":\"Float64\",\"len\":729,\"p\":28,\"v\":[87,7,2,2,1,2,2,0,0,0,2,0,0,3,1,1,0,0,1,2,1,0,3,5,77,0,0,115,18,5,6,2,1,0,2,0,0,1,2,1,2,2,1,1,0,1,0,2,1,6,9,136,0,0,140,15,9,6,4,6,4,3,6,2,3,3,2,1,1,4,2,4,3,8,6,10,13,17,125,0,0,135,28,20,16,10,8,9,2,7,6,4,4,5,6,3,7,7,3,5,12,13,20,20,34,155,0,0,133,47,22,14,13,8,7,8,8,8,11,8,7,9,5,7,13,7,6,14,14,12,19,48,120,0,0,138,62,37,30,19,16,14,11,11,18,7,13,8,15,11,11,10,8,12,20,14,28,29,60,131,0,0,112,91,47,34,19,23,14,19,18,10,12,11,13,12,9,17,16,17,23,18,14,28,41,80,117,0,0,55,127,69,35,27,27,14,11,20,12,8,9,15,10,17,7,12,14,13,17,16,36,56,131,51,0,0,11,143,67,52,34,21,17,16,14,19,8,9,6,7,14,7,15,15,34,34,39,60,72,145,11,0,0,0,119,76,56,48,25,27,18,13,19,13,9,8,13,9,18,15,15,15,28,34,50,98,122,0,0,0,0,53,94,61,40,30,27,21,13,15,13,7,7,15,9,12,12,11,20,30,35,65,103,57,0,0,0,0,5,87,78,46,33,29,15,17,16,5,9,7,7,12,11,12,16,23,33,46,57,105,11,0,0,0,0,0,71,46,32,27,28,16,18,8,4,5,7,10,11,13,13,13,21,38,30,62,48,0,0,0,0,0,0,13,68,50,20,23,15,21,13,13,8,7,12,10,15,13,16,19,35,38,56,29,0,0,0,0,0,0,2,29,41,28,19,18,8,16,7,5,5,8,12,10,13,27,26,28,40,37,2,0,0,0,0,0,0,0,14,32,27,18,16,12,14,8,14,15,9,5,9,11,21,13,33,34,11,0,0,0,0,0,0,0,0,0,22,20,23,14,18,8,9,8,3,9,14,12,6,9,27,26,18],\"p1\":491,\"v1\":[1,25,30,17,11,8,14,6,8,15,11,14,12,16,26,14,2],\"p2\":519,\"v2\":[2,11,11,8,9,3,3,5,6,11,11,12,8,17,4],\"p3\":547,\"v3\":[1,10,12,10,2,8,7,4,6,10,8,11,2],\"p4\":576,\"v4\":[3,8,7,10,4,4,8,6,1,2],\"p5\":604,\"v5\":[1,3,4,2,6,5,2,1],\"p6\":635,\"v6\":1}},{\"_typename\":\"TStyle\",\"fUniqueID\":0,\"fBits\":0,\"fName\":\"ildStyle\",\"fTitle\":\"ILD Style\",\"fLineColor\":1,\"fLineStyle\":1,\"fLineWidth\":2,\"fFillColor\":10,\"fFillStyle\":1001,\"fMarkerColor\":1,\"fMarkerStyle\":20,\"fMarkerSize\":0.7,\"fTextAngle\":0,\"fTextSize\":0.05,\"fTextAlign\":11,\"fTextColor\":1,\"fTextFont\":42,\"fXaxis\":{\"_typename\":\"TAttAxis\",\"fNdivisions\":506,\"fAxisColor\":1,\"fLabelColor\":1,\"fLabelFont\":42,\"fLabelOffset\":0.015,\"fLabelSize\":0.06,\"fTickLength\":0.03,\"fTitleOffset\":1,\"fTitleSize\":0.07,\"fTitleColor\":1,\"fTitleFont\":42},\"fYaxis\":{\"_typename\":\"TAttAxis\",\"fNdivisions\":506,\"fAxisColor\":1,\"fLabelColor\":1,\"fLabelFont\":42,\"fLabelOffset\":0.015,\"fLabelSize\":0.06,\"fTickLength\":0.03,\"fTitleOffset\":1.1,\"fTitleSize\":0.07,\"fTitleColor\":1,\"fTitleFont\":42},\"fZaxis\":{\"_typename\":\"TAttAxis\",\"fNdivisions\":510,\"fAxisColor\":1,\"fLabelColor\":1,\"fLabelFont\":42,\"fLabelOffset\":0.015,\"fLabelSize\":0.06,\"fTickLength\":0.03,\"fTitleOffset\":1.1,\"fTitleSize\":0.07,\"fTitleColor\":1,\"fTitleFont\":42},\"fBarWidth\":1,\"fBarOffset\":0,\"fColorModelPS\":0,\"fDrawBorder\":0,\"fOptLogx\":0,\"fOptLogy\":0,\"fOptLogz\":0,\"fOptDate\":0,\"fOptStat\":0,\"fOptTitle\":1,\"fOptFile\":0,\"fOptFit\":0,\"fShowEventStatus\":0,\"fShowEditor\":0,\"fShowToolBar\":0,\"fNumberContours\":20,\"fAttDate\":{\"_typename\":\"TAttText\",\"fTextAngle\":0,\"fTextSize\":0.025,\"fTextAlign\":11,\"fTextColor\":1,\"fTextFont\":62},\"fDateX\":0.01,\"fDateY\":0.01,\"fEndErrorSize\":2,\"fErrorX\":0.5,\"fFuncColor\":632,\"fFuncStyle\":1,\"fFuncWidth\":2,\"fGridColor\":0,\"fGridStyle\":3,\"fGridWidth\":1,\"fLegendBorderSize\":0,\"fLegendFillColor\":0,\"fLegendFont\":62,\"fLegendTextSize\":0,\"fHatchesLineWidth\":1,\"fHatchesSpacing\":1,\"fFrameFillColor\":10,\"fFrameLineColor\":1,\"fFrameFillStyle\":1001,\"fFrameLineStyle\":1,\"fFrameLineWidth\":2,\"fFrameBorderSize\":1,\"fFrameBorderMode\":0,\"fHistFillColor\":0,\"fHistLineColor\":1,\"fHistFillStyle\":1001,\"fHistLineStyle\":1,\"fHistLineWidth\":2,\"fHistMinimumZero\":false,\"fHistTopMargin\":0.05,\"fCanvasPreferGL\":false,\"fCanvasColor\":10,\"fCanvasBorderSize\":2,\"fCanvasBorderMode\":0,\"fCanvasDefH\":500,\"fCanvasDefW\":700,\"fCanvasDefX\":10,\"fCanvasDefY\":10,\"fPadColor\":10,\"fPadBorderSize\":2,\"fPadBorderMode\":0,\"fPadBottomMargin\":0.18,\"fPadTopMargin\":0.06,\"fPadLeftMargin\":0.15,\"fPadRightMargin\":0.05,\"fPadGridX\":false,\"fPadGridY\":false,\"fPadTickX\":1,\"fPadTickY\":1,\"fPaperSizeX\":20,\"fPaperSizeY\":26,\"fScreenFactor\":1,\"fStatColor\":10,\"fStatTextColor\":1,\"fStatBorderSize\":0,\"fStatFont\":42,\"fStatFontSize\":0.07,\"fStatStyle\":1001,\"fStatFormat\":\"6.4g\",\"fStatX\":0.98,\"fStatY\":0.995,\"fStatW\":0.2,\"fStatH\":0.16,\"fStripDecimals\":true,\"fTitleAlign\":13,\"fTitleColor\":0,\"fTitleTextColor\":1,\"fTitleBorderSize\":0,\"fTitleFont\":62,\"fTitleFontSize\":0,\"fTitleStyle\":1001,\"fTitleX\":0.01,\"fTitleY\":0.995,\"fTitleW\":0,\"fTitleH\":0,\"fLegoInnerR\":0.5,\"fLineStyles\":[\"\",\"  \",\" 12 12\",\" 4 8\",\" 12 16 4 16\",\" 20 12 4 12\",\" 20 12 4 12 4 12 4 12\",\" 20 20\",\" 20 12 4 12 4 12\",\" 80 20\",\" 80 40 4 40\",\"  \",\"  \",\"  \",\"  \",\"  \",\"  \",\"  \",\"  \",\"  \",\"  \",\"  \",\"  \",\"  \",\"  \",\"  \",\"  \",\"  \",\"  \",\"  \"],\"fHeaderPS\":\"\",\"fTitlePS\":\"\",\"fFitFormat\":\"5.4g\",\"fPaintTextFormat\":\"g\",\"fLineScalePS\":3,\"fJoinLinePS\":0,\"fCapLinePS\":0,\"fTimeOffset\":788918400,\"fImageScaling\":1}],\"opt\":[\"\",\"colz\",\"\"]},\"fExecs\":null,\"fName\":\"c1_n4\",\"fTitle\":\"c1_n4\",\"fNumPaletteColor\":0,\"fNextPaletteColor\":0,\"fDISPLAY\":\"$DISPLAY\",\"fDoubleBuffer\":0,\"fRetained\":true,\"fXsizeUser\":0,\"fYsizeUser\":0,\"fXsizeReal\":20,\"fYsizeReal\":14.28571,\"fWindowTopX\":0,\"fWindowTopY\":0,\"fWindowWidth\":0,\"fWindowHeight\":0,\"fCw\":696,\"fCh\":472,\"fCatt\":{\"_typename\":\"TAttCanvas\",\"fXBetween\":2,\"fYBetween\":2,\"fTitleFromTop\":1.2,\"fXdate\":0.2,\"fYdate\":0.3,\"fAdate\":1},\"kMoveOpaque\":true,\"kResizeOpaque\":true,\"fHighLightColor\":2,\"fBatch\":true,\"kShowEventStatus\":false,\"kAutoExec\":true,\"kMenuBar\":true});\n",
       "   Core.settings.HandleKeys = false;\n",
       "   Core.draw(\"root_plot_1709297173085\", obj, \"\");\n",
       "}\n",
       "\n",
       "function script_load_root_plot_1709297173085(src, on_error) {\n",
       "    let script = document.createElement('script');\n",
       "    script.src = src;\n",
       "    script.onload = function() { display_root_plot_1709297173085(JSROOT); };\n",
       "    script.onerror = function() { script.remove(); on_error(); };\n",
       "    document.head.appendChild(script);\n",
       "}\n",
       "\n",
       "if (typeof requirejs !== 'undefined') {\n",
       "\n",
       "    // We are in jupyter notebooks, use require.js which should be configured already\n",
       "    requirejs.config({\n",
       "       paths: { 'JSRootCore' : [ 'build/jsroot', 'https://root.cern/js/7.3.4/build/jsroot', 'https://jsroot.gsi.de/7.3.4/build/jsroot' ] }\n",
       "    })(['JSRootCore'],  function(Core) {\n",
       "       display_root_plot_1709297173085(Core);\n",
       "    });\n",
       "\n",
       "} else if (typeof JSROOT !== 'undefined') {\n",
       "\n",
       "   // JSROOT already loaded, just use it\n",
       "   display_root_plot_1709297173085(JSROOT);\n",
       "\n",
       "} else {\n",
       "\n",
       "    // We are in jupyterlab without require.js, directly loading jsroot\n",
       "    // Jupyterlab might be installed in a different base_url so we need to know it.\n",
       "    try {\n",
       "        var base_url = JSON.parse(document.getElementById('jupyter-config-data').innerHTML).baseUrl;\n",
       "    } catch(_) {\n",
       "        var base_url = '/';\n",
       "    }\n",
       "\n",
       "    // Try loading a local version of requirejs and fallback to cdn if not possible.\n",
       "    script_load_root_plot_1709297173085(base_url + 'static/build/jsroot.js', function(){\n",
       "        console.error('Fail to load JSROOT locally, please check your jupyter_notebook_config.py file');\n",
       "        script_load_root_plot_1709297173085('https://root.cern/js/7.3.4/build/jsroot.js', function(){\n",
       "            document.getElementById(\"root_plot_1709297173085\").innerHTML = \"Failed to load JSROOT\";\n",
       "        });\n",
       "    });\n",
       "}\n",
       "\n",
       "</script>\n"
      ],
      "text/plain": [
       "<IPython.core.display.HTML object>"
      ]
     },
     "metadata": {},
     "output_type": "display_data"
    }
   ],
   "source": [
    "c = ROOT.TCanvas()\n",
    "foo.Draw(\"colz\")\n",
    "c.Draw()"
   ]
  },
  {
   "cell_type": "code",
   "execution_count": null,
   "metadata": {},
   "outputs": [],
   "source": []
  }
 ],
 "metadata": {
  "kernelspec": {
   "display_name": "Python 3",
   "language": "python",
   "name": "python3"
  },
  "language_info": {
   "codemirror_mode": {
    "name": "ipython",
    "version": 3
   },
   "file_extension": ".py",
   "mimetype": "text/x-python",
   "name": "python",
   "nbconvert_exporter": "python",
   "pygments_lexer": "ipython3",
   "version": "3.10.8"
  }
 },
 "nbformat": 4,
 "nbformat_minor": 2
}

{
 "cells": [
  {
   "cell_type": "code",
   "execution_count": 1,
   "metadata": {},
   "outputs": [
    {
     "name": "stdout",
     "output_type": "stream",
     "text": [
      "OBJ: TStyle\tildStyle\tILD Style : 0 at: 0x7c7e610\n",
      "Welcome to JupyROOT 6.28/10\n"
     ]
    }
   ],
   "source": [
    "import ROOT"
   ]
  },
  {
   "cell_type": "code",
   "execution_count": 2,
   "metadata": {},
   "outputs": [],
   "source": [
    "%jsroot on"
   ]
  },
  {
   "cell_type": "code",
   "execution_count": 3,
   "metadata": {},
   "outputs": [],
   "source": [
    "df = ROOT.RDataFrame(\"events\", \"E250-SetA.P4f_sw_sl.Gwhizard-2_8_5.eL.pR.I500106.0.1000.REC_edm4hep.root\")"
   ]
  },
  {
   "cell_type": "code",
   "execution_count": 4,
   "metadata": {},
   "outputs": [],
   "source": [
    "df = (df\n",
    "      .Define(\"electrons_idx\", \"MCParticles.generatorStatus == 1 && abs(MCParticles.PDG) == 11\")\n",
    "      .Define(\"electrons\", \"MCParticles[electrons_idx]\")\n",
    "      .Define(\"n_electrons\", \"electrons.size()\")\n",
    "      # .Define(\"MCParticles_lv\", \"ROOT::VecOps::Construct<ROOT::Math::PxPyPzMVector>(MCParticles.momentum.x, MCParticles.momentum.y, MCParticles.momentum.z, MCParticles.mass)\")\n",
    "      # .Define(\"electrons_lv\", \"MCParticles_lv[electrons_idx]\")\n",
    "      )"
   ]
  },
  {
   "cell_type": "code",
   "execution_count": 5,
   "metadata": {},
   "outputs": [],
   "source": [
    "variables = [\"n_electrons\"]"
   ]
  },
  {
   "cell_type": "code",
   "execution_count": 6,
   "metadata": {},
   "outputs": [],
   "source": [
    "h = {}\n",
    "for v in variables:\n",
    "    h[v] = df.Histo1D(v)"
   ]
  },
  {
   "cell_type": "code",
   "execution_count": 7,
   "metadata": {},
   "outputs": [
    {
     "data": {
      "text/html": [
       "\n",
       "\n",
       "<div id=\"root_plot_1707228092313\"\n",
       "     style=\"width: 700px; height: 500px\">\n",
       "</div>\n",
       "<script>\n",
       "\n",
       "function display_root_plot_1707228092313(Core) {\n",
       "   let obj = Core.parse({\"_typename\":\"TCanvas\",\"fUniqueID\":0,\"fBits\":3342344,\"fLineColor\":1,\"fLineStyle\":1,\"fLineWidth\":2,\"fFillColor\":10,\"fFillStyle\":1001,\"fLeftMargin\":0.15,\"fRightMargin\":0.05,\"fBottomMargin\":0.18,\"fTopMargin\":0.06,\"fXfile\":2,\"fYfile\":2,\"fAfile\":1,\"fXstat\":0.99,\"fYstat\":0.99,\"fAstat\":2,\"fFrameFillColor\":10,\"fFrameLineColor\":1,\"fFrameFillStyle\":1001,\"fFrameLineStyle\":1,\"fFrameLineWidth\":2,\"fFrameBorderSize\":1,\"fFrameBorderMode\":0,\"fX1\":-0.500000037252902,\"fY1\":-212.376326893522,\"fX2\":9.5,\"fY2\":967.492104569155,\"fXtoAbsPixelk\":34.8000524631619,\"fXtoPixelk\":34.8000524631619,\"fXtoPixel\":69.5999997407198,\"fYtoAbsPixelk\":387.040046307492,\"fYtoPixelk\":387.040046307492,\"fYtoPixel\":-0.400044604477521,\"fUtoAbsPixelk\":5e-5,\"fUtoPixelk\":5e-5,\"fUtoPixel\":696,\"fVtoAbsPixelk\":472.00005,\"fVtoPixelk\":472,\"fVtoPixel\":-472,\"fAbsPixeltoXk\":-0.500000037252902,\"fPixeltoXk\":-0.500000037252902,\"fPixeltoX\":0.0143678161454783,\"fAbsPixeltoYk\":967.492104569155,\"fPixeltoYk\":-212.376326893522,\"fPixeltoY\":-2.49972125309889,\"fXlowNDC\":0,\"fYlowNDC\":0,\"fXUpNDC\":1,\"fYUpNDC\":1,\"fWNDC\":1,\"fHNDC\":1,\"fAbsXlowNDC\":0,\"fAbsYlowNDC\":0,\"fAbsWNDC\":1,\"fAbsHNDC\":1,\"fUxmin\":1,\"fUymin\":0,\"fUxmax\":9,\"fUymax\":896.7,\"fTheta\":30,\"fPhi\":30,\"fAspectRatio\":0,\"fNumber\":0,\"fTickx\":1,\"fTicky\":1,\"fLogx\":0,\"fLogy\":0,\"fLogz\":0,\"fPadPaint\":0,\"fCrosshair\":0,\"fCrosshairPos\":0,\"fBorderSize\":2,\"fBorderMode\":0,\"fModified\":false,\"fGridx\":false,\"fGridy\":false,\"fAbsCoord\":false,\"fEditable\":true,\"fFixedAspectRatio\":false,\"fPrimitives\":{\"_typename\":\"TList\",\"name\":\"TList\",\"arr\":[{\"_typename\":\"TFrame\",\"fUniqueID\":0,\"fBits\":8,\"fLineColor\":1,\"fLineStyle\":1,\"fLineWidth\":2,\"fFillColor\":10,\"fFillStyle\":1001,\"fX1\":1,\"fY1\":0,\"fX2\":9,\"fY2\":896.7,\"fBorderSize\":1,\"fBorderMode\":0},{\"_typename\":\"TH1D\",\"fUniqueID\":0,\"fBits\":8,\"fName\":\"n_electrons\",\"fTitle\":\"n_electrons\",\"fLineColor\":1,\"fLineStyle\":1,\"fLineWidth\":2,\"fFillColor\":0,\"fFillStyle\":1001,\"fMarkerColor\":1,\"fMarkerStyle\":20,\"fMarkerSize\":0.7,\"fNcells\":130,\"fXaxis\":{\"_typename\":\"TAxis\",\"fUniqueID\":0,\"fBits\":0,\"fName\":\"xaxis\",\"fTitle\":\"n_electrons\",\"fNdivisions\":506,\"fAxisColor\":1,\"fLabelColor\":1,\"fLabelFont\":42,\"fLabelOffset\":0.015,\"fLabelSize\":0.06,\"fTickLength\":0.03,\"fTitleOffset\":1,\"fTitleSize\":0.07,\"fTitleColor\":1,\"fTitleFont\":42,\"fNbins\":128,\"fXmin\":1,\"fXmax\":9,\"fXbins\":[],\"fFirst\":1,\"fLast\":128,\"fBits2\":2,\"fTimeDisplay\":false,\"fTimeFormat\":\"\",\"fLabels\":null,\"fModLabs\":null},\"fYaxis\":{\"_typename\":\"TAxis\",\"fUniqueID\":0,\"fBits\":0,\"fName\":\"yaxis\",\"fTitle\":\"count\",\"fNdivisions\":506,\"fAxisColor\":1,\"fLabelColor\":1,\"fLabelFont\":42,\"fLabelOffset\":0.015,\"fLabelSize\":0.06,\"fTickLength\":0.03,\"fTitleOffset\":1.1,\"fTitleSize\":0.07,\"fTitleColor\":1,\"fTitleFont\":42,\"fNbins\":1,\"fXmin\":0,\"fXmax\":1,\"fXbins\":[],\"fFirst\":0,\"fLast\":0,\"fBits2\":0,\"fTimeDisplay\":false,\"fTimeFormat\":\"\",\"fLabels\":null,\"fModLabs\":null},\"fZaxis\":{\"_typename\":\"TAxis\",\"fUniqueID\":0,\"fBits\":0,\"fName\":\"zaxis\",\"fTitle\":\"\",\"fNdivisions\":510,\"fAxisColor\":1,\"fLabelColor\":1,\"fLabelFont\":42,\"fLabelOffset\":0.015,\"fLabelSize\":0.06,\"fTickLength\":0.03,\"fTitleOffset\":1.1,\"fTitleSize\":0.07,\"fTitleColor\":1,\"fTitleFont\":42,\"fNbins\":1,\"fXmin\":0,\"fXmax\":1,\"fXbins\":[],\"fFirst\":0,\"fLast\":0,\"fBits2\":0,\"fTimeDisplay\":false,\"fTimeFormat\":\"\",\"fLabels\":null,\"fModLabs\":null},\"fBarOffset\":0,\"fBarWidth\":1000,\"fEntries\":1000,\"fTsumw\":1000,\"fTsumw2\":1000,\"fTsumwx\":1258,\"fTsumwx2\":2042,\"fMaximum\":-1111,\"fMinimum\":-1111,\"fNormFactor\":0,\"fContour\":[],\"fSumw2\":[],\"fOption\":\"\",\"fFunctions\":{\"_typename\":\"TList\",\"name\":\"TList\",\"arr\":[{\"_typename\":\"TPaveStats\",\"fUniqueID\":0,\"fBits\":9,\"fLineColor\":1,\"fLineStyle\":1,\"fLineWidth\":2,\"fFillColor\":10,\"fFillStyle\":1001,\"fX1\":7.3000001527369,\"fY1\":631.22960582183,\"fX2\":9.30000018998981,\"fY2\":961.592768037893,\"fX1NDC\":0.780000016093254,\"fY1NDC\":0.715000003576279,\"fX2NDC\":0.980000019073486,\"fY2NDC\":0.995000004768372,\"fBorderSize\":0,\"fInit\":1,\"fShadowColor\":1,\"fCornerRadius\":0,\"fOption\":\"brNDC\",\"fName\":\"stats\",\"fTextAngle\":0,\"fTextSize\":0,\"fTextAlign\":12,\"fTextColor\":1,\"fTextFont\":42,\"fLabel\":\"\",\"fLongest\":18,\"fMargin\":0.05,\"fLines\":{\"_typename\":\"TList\",\"name\":\"TList\",\"arr\":[{\"_typename\":\"TLatex\",\"fUniqueID\":0,\"fBits\":0,\"fName\":\"\",\"fTitle\":\"n_electrons\",\"fTextAngle\":0,\"fTextSize\":0.0644,\"fTextAlign\":0,\"fTextColor\":0,\"fTextFont\":0,\"fX\":0,\"fY\":0,\"fLineColor\":1,\"fLineStyle\":1,\"fLineWidth\":2,\"fLimitFactorSize\":3,\"fOriginSize\":0.0644000023603439},{\"_typename\":\"TLatex\",\"fUniqueID\":0,\"fBits\":0,\"fName\":\"\",\"fTitle\":\"Entries = 1000   \",\"fTextAngle\":0,\"fTextSize\":0,\"fTextAlign\":0,\"fTextColor\":0,\"fTextFont\":0,\"fX\":0,\"fY\":0,\"fLineColor\":1,\"fLineStyle\":1,\"fLineWidth\":2,\"fLimitFactorSize\":3,\"fOriginSize\":0.04},{\"_typename\":\"TLatex\",\"fUniqueID\":0,\"fBits\":0,\"fName\":\"\",\"fTitle\":\"Mean  =  1.258\",\"fTextAngle\":0,\"fTextSize\":0,\"fTextAlign\":0,\"fTextColor\":0,\"fTextFont\":0,\"fX\":0,\"fY\":0,\"fLineColor\":1,\"fLineStyle\":1,\"fLineWidth\":2,\"fLimitFactorSize\":3,\"fOriginSize\":0.04},{\"_typename\":\"TLatex\",\"fUniqueID\":0,\"fBits\":0,\"fName\":\"\",\"fTitle\":\"Std Dev   = 0.6778\",\"fTextAngle\":0,\"fTextSize\":0,\"fTextAlign\":0,\"fTextColor\":0,\"fTextFont\":0,\"fX\":0,\"fY\":0,\"fLineColor\":1,\"fLineStyle\":1,\"fLineWidth\":2,\"fLimitFactorSize\":3,\"fOriginSize\":0.04}],\"opt\":[\"\",\"\",\"\",\"\"]},\"fOptFit\":0,\"fOptStat\":1111,\"fFitFormat\":\"5.4g\",\"fStatFormat\":\"6.4g\",\"fParent\":{\"$ref\":3}}],\"opt\":[\"brNDC\"]},\"fBufferSize\":2001,\"fBuffer\":{\"$arr\":\"Float64\",\"len\":2001,\"v\":-1000,\"v1\":1,\"n1\":15,\"v2\":3,\"v3\":1,\"n3\":9,\"v4\":2,\"v5\":1,\"n5\":7,\"v6\":3,\"v7\":1,\"n7\":27,\"v8\":2,\"v9\":1,\"n9\":65,\"v10\":[2,1,2],\"v11\":1,\"n11\":13,\"v12\":3,\"v13\":1,\"n13\":7,\"v14\":[3,1,1,1,3,1,1,1,3],\"v15\":1,\"n15\":21,\"v16\":[2,1,3],\"v17\":1,\"n17\":9,\"v18\":3,\"v19\":1,\"n19\":11,\"v20\":3,\"v21\":1,\"n21\":11,\"v22\":[3,1,2,1,1,1,1,1,3,1,1,1,2,1,1,1,1,1,5],\"v23\":1,\"n23\":11,\"v24\":[2,1,1,1,1,1,3],\"v25\":1,\"n25\":7,\"v26\":3,\"v27\":1,\"n27\":27,\"v28\":2,\"v29\":1,\"n29\":21,\"v30\":[2,1,1,1,3],\"v31\":1,\"n31\":11,\"v32\":3,\"v33\":1,\"n33\":17,\"v34\":3,\"v35\":1,\"n35\":9,\"v36\":2,\"v37\":1,\"n37\":31,\"v38\":[3,1,1,1,2,1,1,1,2],\"v39\":1,\"n39\":39,\"v40\":2,\"v41\":1,\"n41\":35,\"v42\":3,\"v43\":1,\"n43\":9,\"v44\":4,\"v45\":1,\"n45\":7,\"v46\":3,\"v47\":1,\"n47\":27,\"v48\":2,\"v49\":1,\"n49\":13,\"v50\":3,\"v51\":1,\"n51\":21,\"v52\":2,\"v53\":1,\"n53\":7,\"v54\":2,\"v55\":1,\"n55\":15,\"v56\":[3,1,2,1,1,1,1,1,3,1,1,1,3,1,3],\"v57\":1,\"n57\":9,\"v58\":3,\"v59\":1,\"n59\":17,\"v60\":2,\"v61\":1,\"n61\":59,\"v62\":2,\"v63\":1,\"n63\":19,\"v64\":3,\"v65\":1,\"n65\":23,\"v66\":3,\"v67\":1,\"n67\":19,\"v68\":[3,1,2],\"v69\":1,\"n69\":29,\"v70\":4,\"v71\":1,\"n71\":21,\"v72\":3,\"v73\":1,\"n73\":9,\"v74\":3,\"v75\":1,\"n75\":59,\"v76\":5,\"v77\":1,\"n77\":23,\"v78\":2,\"v79\":1,\"n79\":13,\"v80\":2,\"v81\":1,\"n81\":9,\"v82\":3,\"v83\":1,\"n83\":19,\"v84\":3,\"v85\":1,\"n85\":47,\"v86\":3,\"v87\":1,\"n87\":23,\"v88\":3,\"v89\":1,\"n89\":7,\"v90\":2,\"v91\":1,\"n91\":9,\"v92\":[2,1,1,1,5],\"v93\":1,\"n93\":19,\"v94\":[2,1,1,1,1,1,3],\"v95\":1,\"n95\":11,\"v96\":[2,1,3,1,1,1,1,1,3],\"v97\":1,\"n97\":15,\"v98\":[3,1,4,1,2,1,1,1,1,1,2],\"v99\":1,\"n99\":19,\"v100\":3,\"v101\":1,\"n101\":7,\"v102\":[3,1,3,1,1,1,3],\"v103\":1,\"n103\":21,\"v104\":3,\"v105\":1,\"n105\":21,\"v106\":3,\"v107\":1,\"n107\":13,\"v108\":3,\"v109\":1,\"n109\":49,\"v110\":[2,1,1,1,1,1,5],\"v111\":1,\"n111\":25,\"v112\":[3,1,1,1,1,1,3,1,3],\"v113\":1,\"n113\":11,\"v114\":[3,1,1,1,3],\"v115\":1,\"n115\":21,\"v116\":3,\"v117\":1,\"n117\":9,\"v118\":3,\"v119\":1,\"n119\":13,\"v120\":3,\"v121\":1,\"n121\":7,\"v122\":3,\"v123\":1,\"n123\":7,\"v124\":2,\"v125\":1,\"n125\":9,\"v126\":[5,1,1,1,1,1,3,1,2],\"v127\":1,\"n127\":21,\"v128\":5,\"v129\":1,\"n129\":11,\"v130\":3,\"v131\":1,\"n131\":15,\"v132\":2,\"v133\":1,\"n133\":7,\"v134\":3,\"v135\":1,\"n135\":23,\"v136\":3,\"v137\":1,\"n137\":7,\"v138\":3,\"v139\":1,\"n139\":17,\"v140\":[3,1,3],\"v141\":1,\"n141\":7,\"v142\":[3,1,1,1,3,1,1,1,3],\"v143\":1,\"n143\":19,\"v144\":[3,1,1,1,3],\"v145\":1,\"n145\":31,\"v146\":2,\"v147\":1,\"n147\":7,\"v148\":[3,1,2],\"v149\":1,\"n149\":15,\"v150\":[3,1,1,1,2],\"v151\":1,\"n151\":19,\"v152\":3,\"v153\":1,\"n153\":9,\"v154\":2,\"v155\":1,\"n155\":9,\"v156\":3,\"v157\":1,\"n157\":9,\"v158\":3,\"v159\":1,\"n159\":31,\"v160\":3,\"v161\":1,\"n161\":17,\"v162\":4,\"v163\":1,\"n163\":7,\"v164\":2,\"v165\":1,\"n165\":7,\"v166\":3,\"v167\":1,\"n167\":17,\"v168\":[3,1,1,1,2,1,1,1,1,1,2],\"v169\":1,\"n169\":15,\"v170\":[3,1,1,1,1,1,2],\"v171\":1,\"n171\":9,\"v172\":[2,1,1,1,1,1,3],\"v173\":1,\"n173\":9,\"v174\":[3,1,1,1,1,1,3],\"v175\":1,\"n175\":11,\"v176\":2,\"v177\":1,\"n177\":9,\"v178\":3,\"v179\":1,\"n179\":17,\"v180\":2,\"v181\":1,\"n181\":11,\"v182\":[2,1,1,1,1,1,2],\"v183\":1,\"n183\":7,\"v184\":3,\"v185\":1,\"n185\":15,\"v186\":[2,1,3],\"v187\":1,\"n187\":7,\"v188\":3,\"v189\":1,\"n189\":13,\"v190\":[3,1,1,1,3],\"v191\":1,\"n191\":35,\"v192\":2,\"v193\":1,\"n193\":7,\"v194\":[3,1,3],\"v195\":1,\"n195\":11,\"v196\":2,\"v197\":1,\"n197\":19,\"v198\":2,\"v199\":1,\"n199\":22},\"fBinStatErrOpt\":0,\"fStatOverflows\":2,\"fArray\":{\"$arr\":\"Float64\",\"len\":130,\"p\":1,\"v\":854,\"p1\":17,\"v1\":50,\"p2\":33,\"v2\":86,\"p3\":49,\"v3\":4,\"p4\":65,\"v4\":6}},{\"_typename\":\"TPaveText\",\"fUniqueID\":0,\"fBits\":9,\"fLineColor\":1,\"fLineStyle\":1,\"fLineWidth\":2,\"fFillColor\":0,\"fFillStyle\":1001,\"fX1\":-0.400000039115547,\"fY1\":898.5997924598,\"fX2\":1.42356318606856,\"fY2\":961.592768037893,\"fX1NDC\":0.00999999977648258,\"fY1NDC\":0.941610174259897,\"fX2NDC\":0.192356321615563,\"fY2NDC\":0.995000004768372,\"fBorderSize\":0,\"fInit\":1,\"fShadowColor\":1,\"fCornerRadius\":0,\"fOption\":\"blNDC\",\"fName\":\"title\",\"fTextAngle\":0,\"fTextSize\":0,\"fTextAlign\":22,\"fTextColor\":1,\"fTextFont\":62,\"fLabel\":\"\",\"fLongest\":11,\"fMargin\":0.05,\"fLines\":{\"_typename\":\"TList\",\"name\":\"TList\",\"arr\":[{\"_typename\":\"TLatex\",\"fUniqueID\":0,\"fBits\":0,\"fName\":\"\",\"fTitle\":\"n_electrons\",\"fTextAngle\":0,\"fTextSize\":0,\"fTextAlign\":0,\"fTextColor\":0,\"fTextFont\":0,\"fX\":0,\"fY\":0,\"fLineColor\":1,\"fLineStyle\":1,\"fLineWidth\":2,\"fLimitFactorSize\":3,\"fOriginSize\":0.0453813560307026}],\"opt\":[\"\"]}},{\"_typename\":\"TStyle\",\"fUniqueID\":0,\"fBits\":0,\"fName\":\"ildStyle\",\"fTitle\":\"ILD Style\",\"fLineColor\":1,\"fLineStyle\":1,\"fLineWidth\":2,\"fFillColor\":10,\"fFillStyle\":1001,\"fMarkerColor\":1,\"fMarkerStyle\":20,\"fMarkerSize\":0.7,\"fTextAngle\":0,\"fTextSize\":0.05,\"fTextAlign\":11,\"fTextColor\":1,\"fTextFont\":42,\"fXaxis\":{\"_typename\":\"TAttAxis\",\"fNdivisions\":506,\"fAxisColor\":1,\"fLabelColor\":1,\"fLabelFont\":42,\"fLabelOffset\":0.015,\"fLabelSize\":0.06,\"fTickLength\":0.03,\"fTitleOffset\":1,\"fTitleSize\":0.07,\"fTitleColor\":1,\"fTitleFont\":42},\"fYaxis\":{\"_typename\":\"TAttAxis\",\"fNdivisions\":506,\"fAxisColor\":1,\"fLabelColor\":1,\"fLabelFont\":42,\"fLabelOffset\":0.015,\"fLabelSize\":0.06,\"fTickLength\":0.03,\"fTitleOffset\":1.1,\"fTitleSize\":0.07,\"fTitleColor\":1,\"fTitleFont\":42},\"fZaxis\":{\"_typename\":\"TAttAxis\",\"fNdivisions\":510,\"fAxisColor\":1,\"fLabelColor\":1,\"fLabelFont\":42,\"fLabelOffset\":0.015,\"fLabelSize\":0.06,\"fTickLength\":0.03,\"fTitleOffset\":1.1,\"fTitleSize\":0.07,\"fTitleColor\":1,\"fTitleFont\":42},\"fBarWidth\":1,\"fBarOffset\":0,\"fColorModelPS\":0,\"fDrawBorder\":0,\"fOptLogx\":0,\"fOptLogy\":0,\"fOptLogz\":0,\"fOptDate\":0,\"fOptStat\":1,\"fOptTitle\":1,\"fOptFile\":0,\"fOptFit\":0,\"fShowEventStatus\":0,\"fShowEditor\":0,\"fShowToolBar\":0,\"fNumberContours\":20,\"fAttDate\":{\"_typename\":\"TAttText\",\"fTextAngle\":0,\"fTextSize\":0.025,\"fTextAlign\":11,\"fTextColor\":1,\"fTextFont\":62},\"fDateX\":0.01,\"fDateY\":0.01,\"fEndErrorSize\":2,\"fErrorX\":0.5,\"fFuncColor\":632,\"fFuncStyle\":1,\"fFuncWidth\":2,\"fGridColor\":0,\"fGridStyle\":3,\"fGridWidth\":1,\"fLegendBorderSize\":0,\"fLegendFillColor\":0,\"fLegendFont\":62,\"fLegendTextSize\":0,\"fHatchesLineWidth\":1,\"fHatchesSpacing\":1,\"fFrameFillColor\":10,\"fFrameLineColor\":1,\"fFrameFillStyle\":1001,\"fFrameLineStyle\":1,\"fFrameLineWidth\":2,\"fFrameBorderSize\":1,\"fFrameBorderMode\":0,\"fHistFillColor\":0,\"fHistLineColor\":1,\"fHistFillStyle\":1001,\"fHistLineStyle\":1,\"fHistLineWidth\":2,\"fHistMinimumZero\":false,\"fHistTopMargin\":0.05,\"fCanvasPreferGL\":false,\"fCanvasColor\":10,\"fCanvasBorderSize\":2,\"fCanvasBorderMode\":0,\"fCanvasDefH\":500,\"fCanvasDefW\":700,\"fCanvasDefX\":10,\"fCanvasDefY\":10,\"fPadColor\":10,\"fPadBorderSize\":2,\"fPadBorderMode\":0,\"fPadBottomMargin\":0.18,\"fPadTopMargin\":0.06,\"fPadLeftMargin\":0.15,\"fPadRightMargin\":0.05,\"fPadGridX\":false,\"fPadGridY\":false,\"fPadTickX\":1,\"fPadTickY\":1,\"fPaperSizeX\":20,\"fPaperSizeY\":26,\"fScreenFactor\":1,\"fStatColor\":10,\"fStatTextColor\":1,\"fStatBorderSize\":0,\"fStatFont\":42,\"fStatFontSize\":0.07,\"fStatStyle\":1001,\"fStatFormat\":\"6.4g\",\"fStatX\":0.98,\"fStatY\":0.995,\"fStatW\":0.2,\"fStatH\":0.16,\"fStripDecimals\":true,\"fTitleAlign\":13,\"fTitleColor\":0,\"fTitleTextColor\":1,\"fTitleBorderSize\":0,\"fTitleFont\":62,\"fTitleFontSize\":0,\"fTitleStyle\":1001,\"fTitleX\":0.01,\"fTitleY\":0.995,\"fTitleW\":0,\"fTitleH\":0,\"fLegoInnerR\":0.5,\"fLineStyles\":[\"\",\"  \",\" 12 12\",\" 4 8\",\" 12 16 4 16\",\" 20 12 4 12\",\" 20 12 4 12 4 12 4 12\",\" 20 20\",\" 20 12 4 12 4 12\",\" 80 20\",\" 80 40 4 40\",\"  \",\"  \",\"  \",\"  \",\"  \",\"  \",\"  \",\"  \",\"  \",\"  \",\"  \",\"  \",\"  \",\"  \",\"  \",\"  \",\"  \",\"  \",\"  \"],\"fHeaderPS\":\"\",\"fTitlePS\":\"\",\"fFitFormat\":\"5.4g\",\"fPaintTextFormat\":\"g\",\"fLineScalePS\":3,\"fJoinLinePS\":0,\"fCapLinePS\":0,\"fTimeOffset\":788918400,\"fImageScaling\":1}],\"opt\":[\"\",\"\",\"blNDC\",\"\"]},\"fExecs\":null,\"fName\":\"c1\",\"fTitle\":\"c1\",\"fNumPaletteColor\":0,\"fNextPaletteColor\":0,\"fDISPLAY\":\"$DISPLAY\",\"fDoubleBuffer\":0,\"fRetained\":true,\"fXsizeUser\":0,\"fYsizeUser\":0,\"fXsizeReal\":20,\"fYsizeReal\":14.28571,\"fWindowTopX\":0,\"fWindowTopY\":0,\"fWindowWidth\":0,\"fWindowHeight\":0,\"fCw\":696,\"fCh\":472,\"fCatt\":{\"_typename\":\"TAttCanvas\",\"fXBetween\":2,\"fYBetween\":2,\"fTitleFromTop\":1.2,\"fXdate\":0.2,\"fYdate\":0.3,\"fAdate\":1},\"kMoveOpaque\":true,\"kResizeOpaque\":true,\"fHighLightColor\":2,\"fBatch\":true,\"kShowEventStatus\":false,\"kAutoExec\":true,\"kMenuBar\":true});\n",
       "   Core.settings.HandleKeys = false;\n",
       "   Core.draw(\"root_plot_1707228092313\", obj, \"\");\n",
       "}\n",
       "\n",
       "function script_load_root_plot_1707228092313(src, on_error) {\n",
       "    let script = document.createElement('script');\n",
       "    script.src = src;\n",
       "    script.onload = function() { display_root_plot_1707228092313(JSROOT); };\n",
       "    script.onerror = function() { script.remove(); on_error(); };\n",
       "    document.head.appendChild(script);\n",
       "}\n",
       "\n",
       "if (typeof requirejs !== 'undefined') {\n",
       "\n",
       "    // We are in jupyter notebooks, use require.js which should be configured already\n",
       "    requirejs.config({\n",
       "       paths: { 'JSRootCore' : [ 'build/jsroot', 'https://root.cern/js/7.3.4/build/jsroot', 'https://jsroot.gsi.de/7.3.4/build/jsroot' ] }\n",
       "    })(['JSRootCore'],  function(Core) {\n",
       "       display_root_plot_1707228092313(Core);\n",
       "    });\n",
       "\n",
       "} else if (typeof JSROOT !== 'undefined') {\n",
       "\n",
       "   // JSROOT already loaded, just use it\n",
       "   display_root_plot_1707228092313(JSROOT);\n",
       "\n",
       "} else {\n",
       "\n",
       "    // We are in jupyterlab without require.js, directly loading jsroot\n",
       "    // Jupyterlab might be installed in a different base_url so we need to know it.\n",
       "    try {\n",
       "        var base_url = JSON.parse(document.getElementById('jupyter-config-data').innerHTML).baseUrl;\n",
       "    } catch(_) {\n",
       "        var base_url = '/';\n",
       "    }\n",
       "\n",
       "    // Try loading a local version of requirejs and fallback to cdn if not possible.\n",
       "    script_load_root_plot_1707228092313(base_url + 'static/build/jsroot.js', function(){\n",
       "        console.error('Fail to load JSROOT locally, please check your jupyter_notebook_config.py file');\n",
       "        script_load_root_plot_1707228092313('https://root.cern/js/7.3.4/build/jsroot.js', function(){\n",
       "            document.getElementById(\"root_plot_1707228092313\").innerHTML = \"Failed to load JSROOT\";\n",
       "        });\n",
       "    });\n",
       "}\n",
       "\n",
       "</script>\n"
      ],
      "text/plain": [
       "<IPython.core.display.HTML object>"
      ]
     },
     "metadata": {},
     "output_type": "display_data"
    }
   ],
   "source": [
    "c = {}\n",
    "for v in variables:\n",
    "    c[v] = ROOT.TCanvas()\n",
    "    h[v].Draw()\n",
    "    c[v].Draw()"
   ]
  },
  {
   "cell_type": "code",
   "execution_count": null,
   "metadata": {},
   "outputs": [],
   "source": []
  }
 ],
 "metadata": {
  "kernelspec": {
   "display_name": "Python 3",
   "language": "python",
   "name": "python3"
  },
  "language_info": {
   "codemirror_mode": {
    "name": "ipython",
    "version": 3
   },
   "file_extension": ".py",
   "mimetype": "text/x-python",
   "name": "python",
   "nbconvert_exporter": "python",
   "pygments_lexer": "ipython3",
   "version": "3.10.8"
  },
  "orig_nbformat": 4
 },
 "nbformat": 4,
 "nbformat_minor": 2
}

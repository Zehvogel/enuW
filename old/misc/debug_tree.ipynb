{
 "cells": [
  {
   "cell_type": "code",
   "execution_count": 1,
   "metadata": {},
   "outputs": [
    {
     "name": "stdout",
     "output_type": "stream",
     "text": [
      "OBJ: TStyle\tildStyle\tILD Style : 0 at: 0x7200d20\n",
      "Welcome to JupyROOT 6.28/10\n"
     ]
    }
   ],
   "source": [
    "import ROOT"
   ]
  },
  {
   "cell_type": "code",
   "execution_count": 2,
   "metadata": {},
   "outputs": [],
   "source": [
    "df = ROOT.RDataFrame(10)"
   ]
  },
  {
   "cell_type": "code",
   "execution_count": 3,
   "metadata": {},
   "outputs": [],
   "source": [
    "%%cpp\n",
    "struct test {\n",
    "    std::array<float, 6> arr;\n",
    "    ROOT::VecOps::RVec<float> vec;\n",
    "    ROOT::VecOps::RVec<ROOT::VecOps::RVec<float>> vecvec;\n",
    "    std::array<std::array<float, 6>,1> arrarr;\n",
    "    ROOT::VecOps::RVec<std::array<float,6>> vecarr;\n",
    "};"
   ]
  },
  {
   "cell_type": "code",
   "execution_count": 4,
   "metadata": {},
   "outputs": [],
   "source": [
    "df = df.Define(\"test\", \"test()\")"
   ]
  },
  {
   "cell_type": "code",
   "execution_count": 5,
   "metadata": {},
   "outputs": [
    {
     "data": {
      "text/plain": [
       "Empty dataframe filling 10 rows\n",
       "\n",
       "Property                Value\n",
       "--------                -----\n",
       "Columns in total            1\n",
       "Columns from defines        1\n",
       "Event loops run             0\n",
       "Processing slots            1\n",
       "\n",
       "Column  Type    Origin\n",
       "------  ----    ------\n",
       "test    test    Define"
      ]
     },
     "execution_count": 5,
     "metadata": {},
     "output_type": "execute_result"
    }
   ],
   "source": [
    "df.Describe()"
   ]
  },
  {
   "cell_type": "code",
   "execution_count": 6,
   "metadata": {},
   "outputs": [
    {
     "data": {
      "text/plain": [
       "<cppyy.gbl.ROOT.RDF.RResultPtr<ROOT::RDF::RInterface<ROOT::Detail::RDF::RLoopManager,void> > object at 0xb7d5330>"
      ]
     },
     "execution_count": 6,
     "metadata": {},
     "output_type": "execute_result"
    },
    {
     "name": "stderr",
     "output_type": "stream",
     "text": [
      "Error in <TStreamerInfo::Build>: The class \"test\" is interpreted and for its data member \"vecarr\" we do not have a dictionary for the collection \"ROOT::VecOps::RVec<array<float,6> >\". Because of this, we will not be able to read or write this data member.\n"
     ]
    }
   ],
   "source": [
    "df.Snapshot(\"test_tree\", \"test_file.root\")"
   ]
  },
  {
   "cell_type": "code",
   "execution_count": 7,
   "metadata": {},
   "outputs": [
    {
     "data": {
      "text/plain": [
       "Dataframe from TChain test_tree in file test_file.root\n",
       "\n",
       "Property                Value\n",
       "--------                -----\n",
       "Columns in total            9\n",
       "Columns from defines        0\n",
       "Event loops run             0\n",
       "Processing slots            1\n",
       "\n",
       "Column                  Type                                            Origin\n",
       "------                  ----                                            ------\n",
       "arr[6]                  array<float,6>                                  Dataset\n",
       "arrarr[1][6]            array<array<float,6>,1>                         Dataset\n",
       "test                    test                                            Dataset\n",
       "test.arr[6]             ROOT::VecOps::RVec<Float_t>                     Dataset\n",
       "test.arrarr[1][6]       ROOT::VecOps::RVec<Float_t>                     Dataset\n",
       "test.vec                ROOT::VecOps::RVec<float>                       Dataset\n",
       "test.vecvec             ROOT::VecOps::RVec<ROOT::VecOps::RVec<float> >  Dataset\n",
       "vec                     ROOT::VecOps::RVec<float>                       Dataset\n",
       "vecvec                  ROOT::VecOps::RVec<ROOT::VecOps::RVec<float> >  Dataset"
      ]
     },
     "execution_count": 7,
     "metadata": {},
     "output_type": "execute_result"
    }
   ],
   "source": [
    "df2 = ROOT.RDataFrame(\"test_tree\", \"test_file.root\")\n",
    "df2.Describe()"
   ]
  },
  {
   "cell_type": "code",
   "execution_count": null,
   "metadata": {},
   "outputs": [],
   "source": []
  }
 ],
 "metadata": {
  "kernelspec": {
   "display_name": "Python 3",
   "language": "python",
   "name": "python3"
  },
  "language_info": {
   "codemirror_mode": {
    "name": "ipython",
    "version": 3
   },
   "file_extension": ".py",
   "mimetype": "text/x-python",
   "name": "python",
   "nbconvert_exporter": "python",
   "pygments_lexer": "ipython3",
   "version": "3.10.8"
  }
 },
 "nbformat": 4,
 "nbformat_minor": 2
}

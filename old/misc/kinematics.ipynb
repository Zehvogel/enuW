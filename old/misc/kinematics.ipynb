{
 "cells": [
  {
   "cell_type": "code",
   "execution_count": 1,
   "metadata": {},
   "outputs": [
    {
     "name": "stdout",
     "output_type": "stream",
     "text": [
      "OBJ: TStyle\tildStyle\tILD Style : 0 at: 0x6d2c050\n",
      "Welcome to JupyROOT 6.28/10\n"
     ]
    }
   ],
   "source": [
    "import ROOT"
   ]
  },
  {
   "cell_type": "code",
   "execution_count": 2,
   "metadata": {},
   "outputs": [],
   "source": [
    "%jsroot on"
   ]
  },
  {
   "cell_type": "code",
   "execution_count": 3,
   "metadata": {},
   "outputs": [],
   "source": [
    "df = ROOT.RDataFrame(\"events\", \"E250-SetA.P4f_sw_sl.Gwhizard-2_8_5.eL.pR.I500106.0.edm4hep.root\")"
   ]
  },
  {
   "cell_type": "code",
   "execution_count": 4,
   "metadata": {},
   "outputs": [
    {
     "data": {
      "text/plain": [
       "Dataframe from TChain events in file E250-SetA.P4f_sw_sl.Gwhizard-2_8_5.eL.pR.I500106.0.edm4hep.root\n",
       "\n",
       "Property                Value\n",
       "--------                -----\n",
       "Columns in total           68\n",
       "Columns from defines        3\n",
       "Event loops run             0\n",
       "Processing slots            1\n",
       "\n",
       "Column                                  Type                                            Origin\n",
       "------                                  ----                                            ------\n",
       "EventHeader                             ROOT::VecOps::RVec<edm4hep::EventHeaderData>    Dataset\n",
       "EventHeader.eventNumber                 ROOT::VecOps::RVec<Int_t>                       Dataset\n",
       "EventHeader.runNumber                   ROOT::VecOps::RVec<Int_t>                       Dataset\n",
       "EventHeader.timeStamp                   ROOT::VecOps::RVec<ULong_t>                     Dataset\n",
       "EventHeader.weight                      ROOT::VecOps::RVec<Float_t>                     Dataset\n",
       "MCParticle                              ROOT::VecOps::RVec<edm4hep::MCParticleData>     Dataset\n",
       "MCParticle.PDG                          ROOT::VecOps::RVec<Int_t>                       Dataset\n",
       "MCParticle.charge                       ROOT::VecOps::RVec<Float_t>                     Dataset\n",
       "MCParticle.colorFlow.a                  ROOT::VecOps::RVec<Int_t>                       Dataset\n",
       "MCParticle.colorFlow.b                  ROOT::VecOps::RVec<Int_t>                       Dataset\n",
       "MCParticle.daughters_begin              ROOT::VecOps::RVec<UInt_t>                      Dataset\n",
       "MCParticle.daughters_end                ROOT::VecOps::RVec<UInt_t>                      Dataset\n",
       "MCParticle.endpoint.x                   ROOT::VecOps::RVec<Double_t>                    Dataset\n",
       "MCParticle.endpoint.y                   ROOT::VecOps::RVec<Double_t>                    Dataset\n",
       "MCParticle.endpoint.z                   ROOT::VecOps::RVec<Double_t>                    Dataset\n",
       "MCParticle.generatorStatus              ROOT::VecOps::RVec<Int_t>                       Dataset\n",
       "MCParticle.mass                         ROOT::VecOps::RVec<Double_t>                    Dataset\n",
       "MCParticle.momentum.x                   ROOT::VecOps::RVec<Float_t>                     Dataset\n",
       "MCParticle.momentum.y                   ROOT::VecOps::RVec<Float_t>                     Dataset\n",
       "MCParticle.momentum.z                   ROOT::VecOps::RVec<Float_t>                     Dataset\n",
       "MCParticle.momentumAtEndpoint.x         ROOT::VecOps::RVec<Float_t>                     Dataset\n",
       "MCParticle.momentumAtEndpoint.y         ROOT::VecOps::RVec<Float_t>                     Dataset\n",
       "MCParticle.momentumAtEndpoint.z         ROOT::VecOps::RVec<Float_t>                     Dataset\n",
       "MCParticle.parents_begin                ROOT::VecOps::RVec<UInt_t>                      Dataset\n",
       "MCParticle.parents_end                  ROOT::VecOps::RVec<UInt_t>                      Dataset\n",
       "MCParticle.simulatorStatus              ROOT::VecOps::RVec<Int_t>                       Dataset\n",
       "MCParticle.spin.x                       ROOT::VecOps::RVec<Float_t>                     Dataset\n",
       "MCParticle.spin.y                       ROOT::VecOps::RVec<Float_t>                     Dataset\n",
       "MCParticle.spin.z                       ROOT::VecOps::RVec<Float_t>                     Dataset\n",
       "MCParticle.time                         ROOT::VecOps::RVec<Float_t>                     Dataset\n",
       "MCParticle.vertex.x                     ROOT::VecOps::RVec<Double_t>                    Dataset\n",
       "MCParticle.vertex.y                     ROOT::VecOps::RVec<Double_t>                    Dataset\n",
       "MCParticle.vertex.z                     ROOT::VecOps::RVec<Double_t>                    Dataset\n",
       "MCParticles                             ROOT::VecOps::RVec<edm4hep::MCParticleData>     Dataset\n",
       "PARAMETERS                              podio::GenericParameters                        Dataset\n",
       "PARAMETERS._doubleMap                   map<string,vector<double> >                     Dataset\n",
       "PARAMETERS._doubleMap.first             ROOT::VecOps::RVec<string>                      Dataset\n",
       "PARAMETERS._doubleMap.second            ROOT::VecOps::RVec<vector<double>>              Dataset\n",
       "PARAMETERS._floatMap                    map<string,vector<float> >                      Dataset\n",
       "PARAMETERS._floatMap.first              ROOT::VecOps::RVec<string>                      Dataset\n",
       "PARAMETERS._floatMap.second             ROOT::VecOps::RVec<vector<float>>               Dataset\n",
       "PARAMETERS._intMap                      map<string,vector<int> >                        Dataset\n",
       "PARAMETERS._intMap.first                ROOT::VecOps::RVec<string>                      Dataset\n",
       "PARAMETERS._intMap.second               ROOT::VecOps::RVec<vector<int>>                 Dataset\n",
       "PARAMETERS._stringMap                   map<string,vector<string> >                     Dataset\n",
       "PARAMETERS._stringMap.first             ROOT::VecOps::RVec<string>                      Dataset\n",
       "PARAMETERS._stringMap.second            ROOT::VecOps::RVec<vector<string>>              Dataset\n",
       "_MCParticle_daughters                   ROOT::VecOps::RVec<podio::ObjectID>             Dataset\n",
       "_MCParticle_daughters.collectionID      ROOT::VecOps::RVec<UInt_t>                      Dataset\n",
       "_MCParticle_daughters.index             ROOT::VecOps::RVec<Int_t>                       Dataset\n",
       "_MCParticle_parents                     ROOT::VecOps::RVec<podio::ObjectID>             Dataset\n",
       "_MCParticle_parents.collectionID        ROOT::VecOps::RVec<UInt_t>                      Dataset\n",
       "_MCParticle_parents.index               ROOT::VecOps::RVec<Int_t>                       Dataset\n",
       "_doubleMap                              map<string,vector<double> >                     Dataset\n",
       "_doubleMap.first                        ROOT::VecOps::RVec<string>                      Dataset\n",
       "_doubleMap.second                       ROOT::VecOps::RVec<vector<double>>              Dataset\n",
       "_floatMap                               map<string,vector<float> >                      Dataset\n",
       "_floatMap.first                         ROOT::VecOps::RVec<string>                      Dataset\n",
       "_floatMap.second                        ROOT::VecOps::RVec<vector<float>>               Dataset\n",
       "_intMap                                 map<string,vector<int> >                        Dataset\n",
       "_intMap.first                           ROOT::VecOps::RVec<string>                      Dataset\n",
       "_intMap.second                          ROOT::VecOps::RVec<vector<int>>                 Dataset\n",
       "_stringMap                              map<string,vector<string> >                     Dataset\n",
       "_stringMap.first                        ROOT::VecOps::RVec<string>                      Dataset\n",
       "_stringMap.second                       ROOT::VecOps::RVec<vector<string>>              Dataset\n",
       "electrons                               ROOT::VecOps::RVec<edm4hep::MCParticleData>     Define\n",
       "electrons_idx                           ROOT::VecOps::RVec<int>                         Define\n",
       "n_electrons                             unsigned long                                   Define"
      ]
     },
     "execution_count": 4,
     "metadata": {},
     "output_type": "execute_result"
    },
    {
     "name": "stderr",
     "output_type": "stream",
     "text": [
      "Warning in <TStreamerInfo::BuildOld>: Cannot convert edm4hep::MCParticleData::momentum from type: edm4hep::Vector3f to type: edm4hep::Vector3d, skip element\n",
      "Warning in <TStreamerInfo::BuildOld>: Cannot convert edm4hep::MCParticleData::momentumAtEndpoint from type: edm4hep::Vector3f to type: edm4hep::Vector3d, skip element\n"
     ]
    }
   ],
   "source": [
    "df = (df\n",
    "      .Alias(\"MCParticles\", \"MCParticle\")\n",
    "      .Define(\"electrons_idx\", \"MCParticles.generatorStatus == 1 && abs(MCParticles.PDG) == 11\")\n",
    "      .Define(\"electrons\", \"MCParticles[electrons_idx]\")\n",
    "      .Define(\"n_electrons\", \"electrons.size()\")\n",
    "      # .Define(\"MCParticles_lv\", \"ROOT::VecOps::Construct<ROOT::Math::PxPyPzMVector>(MCParticles.momentum.x, MCParticles.momentum.y, MCParticles.momentum.z, MCParticles.mass)\")\n",
    "      # .Define(\"electrons_lv\", \"MCParticles_lv[electrons_idx]\")\n",
    "      )\n",
    "df.Describe()"
   ]
  },
  {
   "cell_type": "code",
   "execution_count": 5,
   "metadata": {},
   "outputs": [],
   "source": [
    "variables = [\"n_electrons\"]"
   ]
  },
  {
   "cell_type": "code",
   "execution_count": 6,
   "metadata": {},
   "outputs": [],
   "source": [
    "h = {}\n",
    "for v in variables:\n",
    "    h[v] = df.Histo1D(v)"
   ]
  },
  {
   "cell_type": "code",
   "execution_count": 7,
   "metadata": {},
   "outputs": [
    {
     "data": {
      "text/html": [
       "\n",
       "\n",
       "<div id=\"root_plot_1707212187251\"\n",
       "     style=\"width: 700px; height: 500px\">\n",
       "</div>\n",
       "<script>\n",
       "\n",
       "function display_root_plot_1707212187251(Core) {\n",
       "   let obj = Core.parse({\"_typename\":\"TCanvas\",\"fUniqueID\":0,\"fBits\":3342344,\"fLineColor\":1,\"fLineStyle\":1,\"fLineWidth\":2,\"fFillColor\":10,\"fFillStyle\":1001,\"fLeftMargin\":0.15,\"fRightMargin\":0.05,\"fBottomMargin\":0.18,\"fTopMargin\":0.06,\"fXfile\":2,\"fYfile\":2,\"fAfile\":1,\"fXstat\":0.99,\"fYstat\":0.99,\"fAstat\":2,\"fFrameFillColor\":10,\"fFrameLineColor\":1,\"fFrameFillStyle\":1001,\"fFrameLineStyle\":1,\"fFrameLineWidth\":2,\"fFrameBorderSize\":1,\"fFrameBorderMode\":0,\"fX1\":-3.37500008381903,\"fY1\":-20990.4405711647,\"fX2\":19.125,\"fY2\":95623.1130893022,\"fXtoAbsPixelk\":104.400052203882,\"fXtoPixelk\":104.400052203882,\"fXtoPixel\":30.9333332180977,\"fYtoAbsPixelk\":387.040046307492,\"fYtoPixelk\":387.040046307492,\"fYtoPixel\":-0.00404755695357917,\"fUtoAbsPixelk\":5e-5,\"fUtoPixelk\":5e-5,\"fUtoPixel\":696,\"fVtoAbsPixelk\":472.00005,\"fVtoPixelk\":472,\"fVtoPixel\":-472,\"fAbsPixeltoXk\":-3.37500008381903,\"fPixeltoXk\":-3.37500008381903,\"fPixeltoX\":0.0323275863273262,\"fAbsPixeltoYk\":95623.1130893022,\"fPixeltoYk\":-20990.4405711647,\"fPixeltoY\":-247.06261368743,\"fXlowNDC\":0,\"fYlowNDC\":0,\"fXUpNDC\":1,\"fYUpNDC\":1,\"fWNDC\":1,\"fHNDC\":1,\"fAbsXlowNDC\":0,\"fAbsYlowNDC\":0,\"fAbsWNDC\":1,\"fAbsHNDC\":1,\"fUxmin\":0,\"fUymin\":0,\"fUxmax\":18,\"fUymax\":88626.3,\"fTheta\":30,\"fPhi\":30,\"fAspectRatio\":0,\"fNumber\":0,\"fTickx\":1,\"fTicky\":1,\"fLogx\":0,\"fLogy\":0,\"fLogz\":0,\"fPadPaint\":0,\"fCrosshair\":0,\"fCrosshairPos\":0,\"fBorderSize\":2,\"fBorderMode\":0,\"fModified\":false,\"fGridx\":false,\"fGridy\":false,\"fAbsCoord\":false,\"fEditable\":true,\"fFixedAspectRatio\":false,\"fPrimitives\":{\"_typename\":\"TList\",\"name\":\"TList\",\"arr\":[{\"_typename\":\"TFrame\",\"fUniqueID\":0,\"fBits\":8,\"fLineColor\":1,\"fLineStyle\":1,\"fLineWidth\":2,\"fFillColor\":10,\"fFillStyle\":1001,\"fX1\":0,\"fY1\":0,\"fX2\":18,\"fY2\":88626.3,\"fBorderSize\":1,\"fBorderMode\":0},{\"_typename\":\"TH1D\",\"fUniqueID\":0,\"fBits\":8,\"fName\":\"n_electrons\",\"fTitle\":\"n_electrons\",\"fLineColor\":1,\"fLineStyle\":1,\"fLineWidth\":2,\"fFillColor\":0,\"fFillStyle\":1001,\"fMarkerColor\":1,\"fMarkerStyle\":20,\"fMarkerSize\":0.7,\"fNcells\":130,\"fXaxis\":{\"_typename\":\"TAxis\",\"fUniqueID\":0,\"fBits\":0,\"fName\":\"xaxis\",\"fTitle\":\"n_electrons\",\"fNdivisions\":506,\"fAxisColor\":1,\"fLabelColor\":1,\"fLabelFont\":42,\"fLabelOffset\":0.015,\"fLabelSize\":0.06,\"fTickLength\":0.03,\"fTitleOffset\":1,\"fTitleSize\":0.07,\"fTitleColor\":1,\"fTitleFont\":42,\"fNbins\":128,\"fXmin\":0,\"fXmax\":18,\"fXbins\":[],\"fFirst\":1,\"fLast\":128,\"fBits2\":2,\"fTimeDisplay\":false,\"fTimeFormat\":\"\",\"fLabels\":null,\"fModLabs\":null},\"fYaxis\":{\"_typename\":\"TAxis\",\"fUniqueID\":0,\"fBits\":0,\"fName\":\"yaxis\",\"fTitle\":\"count\",\"fNdivisions\":506,\"fAxisColor\":1,\"fLabelColor\":1,\"fLabelFont\":42,\"fLabelOffset\":0.015,\"fLabelSize\":0.06,\"fTickLength\":0.03,\"fTitleOffset\":1.1,\"fTitleSize\":0.07,\"fTitleColor\":1,\"fTitleFont\":42,\"fNbins\":1,\"fXmin\":0,\"fXmax\":1,\"fXbins\":[],\"fFirst\":0,\"fLast\":0,\"fBits2\":0,\"fTimeDisplay\":false,\"fTimeFormat\":\"\",\"fLabels\":null,\"fModLabs\":null},\"fZaxis\":{\"_typename\":\"TAxis\",\"fUniqueID\":0,\"fBits\":0,\"fName\":\"zaxis\",\"fTitle\":\"\",\"fNdivisions\":510,\"fAxisColor\":1,\"fLabelColor\":1,\"fLabelFont\":42,\"fLabelOffset\":0.015,\"fLabelSize\":0.06,\"fTickLength\":0.03,\"fTitleOffset\":1.1,\"fTitleSize\":0.07,\"fTitleColor\":1,\"fTitleFont\":42,\"fNbins\":1,\"fXmin\":0,\"fXmax\":1,\"fXbins\":[],\"fFirst\":0,\"fLast\":0,\"fBits2\":0,\"fTimeDisplay\":false,\"fTimeFormat\":\"\",\"fLabels\":null,\"fModLabs\":null},\"fBarOffset\":0,\"fBarWidth\":1000,\"fEntries\":100000,\"fTsumw\":100000,\"fTsumw2\":100000,\"fTsumwx\":128586,\"fTsumwx2\":217428,\"fMaximum\":-1111,\"fMinimum\":-1111,\"fNormFactor\":0,\"fContour\":[],\"fSumw2\":[],\"fOption\":\"\",\"fFunctions\":{\"_typename\":\"TList\",\"name\":\"TList\",\"arr\":[{\"_typename\":\"TPaveStats\",\"fUniqueID\":0,\"fBits\":9,\"fLineColor\":1,\"fLineStyle\":1,\"fLineWidth\":2,\"fFillColor\":10,\"fFillStyle\":1001,\"fX1\":14.175000343658,\"fY1\":62388.2507131117,\"fX2\":18.6750004274771,\"fY2\":95040.0458770566,\"fX1NDC\":0.780000016093254,\"fY1NDC\":0.715000003576279,\"fX2NDC\":0.980000019073486,\"fY2NDC\":0.995000004768372,\"fBorderSize\":0,\"fInit\":1,\"fShadowColor\":1,\"fCornerRadius\":0,\"fOption\":\"brNDC\",\"fName\":\"stats\",\"fTextAngle\":0,\"fTextSize\":0,\"fTextAlign\":12,\"fTextColor\":1,\"fTextFont\":42,\"fLabel\":\"\",\"fLongest\":18,\"fMargin\":0.05,\"fLines\":{\"_typename\":\"TList\",\"name\":\"TList\",\"arr\":[{\"_typename\":\"TLatex\",\"fUniqueID\":0,\"fBits\":0,\"fName\":\"\",\"fTitle\":\"n_electrons\",\"fTextAngle\":0,\"fTextSize\":0.0644,\"fTextAlign\":0,\"fTextColor\":0,\"fTextFont\":0,\"fX\":0,\"fY\":0,\"fLineColor\":1,\"fLineStyle\":1,\"fLineWidth\":2,\"fLimitFactorSize\":3,\"fOriginSize\":0.0644000023603439},{\"_typename\":\"TLatex\",\"fUniqueID\":0,\"fBits\":0,\"fName\":\"\",\"fTitle\":\"Entries = 100000 \",\"fTextAngle\":0,\"fTextSize\":0,\"fTextAlign\":0,\"fTextColor\":0,\"fTextFont\":0,\"fX\":0,\"fY\":0,\"fLineColor\":1,\"fLineStyle\":1,\"fLineWidth\":2,\"fLimitFactorSize\":3,\"fOriginSize\":0.04},{\"_typename\":\"TLatex\",\"fUniqueID\":0,\"fBits\":0,\"fName\":\"\",\"fTitle\":\"Mean  =  1.286\",\"fTextAngle\":0,\"fTextSize\":0,\"fTextAlign\":0,\"fTextColor\":0,\"fTextFont\":0,\"fX\":0,\"fY\":0,\"fLineColor\":1,\"fLineStyle\":1,\"fLineWidth\":2,\"fLimitFactorSize\":3,\"fOriginSize\":0.04},{\"_typename\":\"TLatex\",\"fUniqueID\":0,\"fBits\":0,\"fName\":\"\",\"fTitle\":\"Std Dev   = 0.7217\",\"fTextAngle\":0,\"fTextSize\":0,\"fTextAlign\":0,\"fTextColor\":0,\"fTextFont\":0,\"fX\":0,\"fY\":0,\"fLineColor\":1,\"fLineStyle\":1,\"fLineWidth\":2,\"fLimitFactorSize\":3,\"fOriginSize\":0.04}],\"opt\":[\"\",\"\",\"\",\"\"]},\"fOptFit\":0,\"fOptStat\":1111,\"fFitFormat\":\"5.4g\",\"fStatFormat\":\"6.4g\",\"fParent\":{\"$ref\":3}}],\"opt\":[\"brNDC\"]},\"fBufferSize\":0,\"fBuffer\":[],\"fBinStatErrOpt\":0,\"fStatOverflows\":2,\"fArray\":{\"$arr\":\"Float64\",\"len\":130,\"p\":1,\"v\":[4,0,0,0,0,0,0,84406,0,0,0,0,0,0,4535,0,0,0,0,0,0,9885,0,0,0,0,0,0,477,0,0,0,0,0,0,637,0,0,0,0,0,0,32,0,0,0,0,0,0,23],\"p1\":65,\"v1\":1}},{\"_typename\":\"TPaveText\",\"fUniqueID\":0,\"fBits\":9,\"fLineColor\":1,\"fLineStyle\":1,\"fLineWidth\":2,\"fFillColor\":0,\"fFillStyle\":1001,\"fX1\":-3.15000008800998,\"fY1\":88814.0680121334,\"fX2\":0.953017168654258,\"fY2\":95040.0458770566,\"fX1NDC\":0.00999999977648258,\"fY1NDC\":0.941610174259897,\"fX2NDC\":0.192356321615563,\"fY2NDC\":0.995000004768372,\"fBorderSize\":0,\"fInit\":1,\"fShadowColor\":1,\"fCornerRadius\":0,\"fOption\":\"blNDC\",\"fName\":\"title\",\"fTextAngle\":0,\"fTextSize\":0,\"fTextAlign\":22,\"fTextColor\":1,\"fTextFont\":62,\"fLabel\":\"\",\"fLongest\":11,\"fMargin\":0.05,\"fLines\":{\"_typename\":\"TList\",\"name\":\"TList\",\"arr\":[{\"_typename\":\"TLatex\",\"fUniqueID\":0,\"fBits\":0,\"fName\":\"\",\"fTitle\":\"n_electrons\",\"fTextAngle\":0,\"fTextSize\":0,\"fTextAlign\":0,\"fTextColor\":0,\"fTextFont\":0,\"fX\":0,\"fY\":0,\"fLineColor\":1,\"fLineStyle\":1,\"fLineWidth\":2,\"fLimitFactorSize\":3,\"fOriginSize\":0.0453813560307026}],\"opt\":[\"\"]}},{\"_typename\":\"TStyle\",\"fUniqueID\":0,\"fBits\":0,\"fName\":\"ildStyle\",\"fTitle\":\"ILD Style\",\"fLineColor\":1,\"fLineStyle\":1,\"fLineWidth\":2,\"fFillColor\":10,\"fFillStyle\":1001,\"fMarkerColor\":1,\"fMarkerStyle\":20,\"fMarkerSize\":0.7,\"fTextAngle\":0,\"fTextSize\":0.05,\"fTextAlign\":11,\"fTextColor\":1,\"fTextFont\":42,\"fXaxis\":{\"_typename\":\"TAttAxis\",\"fNdivisions\":506,\"fAxisColor\":1,\"fLabelColor\":1,\"fLabelFont\":42,\"fLabelOffset\":0.015,\"fLabelSize\":0.06,\"fTickLength\":0.03,\"fTitleOffset\":1,\"fTitleSize\":0.07,\"fTitleColor\":1,\"fTitleFont\":42},\"fYaxis\":{\"_typename\":\"TAttAxis\",\"fNdivisions\":506,\"fAxisColor\":1,\"fLabelColor\":1,\"fLabelFont\":42,\"fLabelOffset\":0.015,\"fLabelSize\":0.06,\"fTickLength\":0.03,\"fTitleOffset\":1.1,\"fTitleSize\":0.07,\"fTitleColor\":1,\"fTitleFont\":42},\"fZaxis\":{\"_typename\":\"TAttAxis\",\"fNdivisions\":510,\"fAxisColor\":1,\"fLabelColor\":1,\"fLabelFont\":42,\"fLabelOffset\":0.015,\"fLabelSize\":0.06,\"fTickLength\":0.03,\"fTitleOffset\":1.1,\"fTitleSize\":0.07,\"fTitleColor\":1,\"fTitleFont\":42},\"fBarWidth\":1,\"fBarOffset\":0,\"fColorModelPS\":0,\"fDrawBorder\":0,\"fOptLogx\":0,\"fOptLogy\":0,\"fOptLogz\":0,\"fOptDate\":0,\"fOptStat\":1,\"fOptTitle\":1,\"fOptFile\":0,\"fOptFit\":0,\"fShowEventStatus\":0,\"fShowEditor\":0,\"fShowToolBar\":0,\"fNumberContours\":20,\"fAttDate\":{\"_typename\":\"TAttText\",\"fTextAngle\":0,\"fTextSize\":0.025,\"fTextAlign\":11,\"fTextColor\":1,\"fTextFont\":62},\"fDateX\":0.01,\"fDateY\":0.01,\"fEndErrorSize\":2,\"fErrorX\":0.5,\"fFuncColor\":632,\"fFuncStyle\":1,\"fFuncWidth\":2,\"fGridColor\":0,\"fGridStyle\":3,\"fGridWidth\":1,\"fLegendBorderSize\":0,\"fLegendFillColor\":0,\"fLegendFont\":62,\"fLegendTextSize\":0,\"fHatchesLineWidth\":1,\"fHatchesSpacing\":1,\"fFrameFillColor\":10,\"fFrameLineColor\":1,\"fFrameFillStyle\":1001,\"fFrameLineStyle\":1,\"fFrameLineWidth\":2,\"fFrameBorderSize\":1,\"fFrameBorderMode\":0,\"fHistFillColor\":0,\"fHistLineColor\":1,\"fHistFillStyle\":1001,\"fHistLineStyle\":1,\"fHistLineWidth\":2,\"fHistMinimumZero\":false,\"fHistTopMargin\":0.05,\"fCanvasPreferGL\":false,\"fCanvasColor\":10,\"fCanvasBorderSize\":2,\"fCanvasBorderMode\":0,\"fCanvasDefH\":500,\"fCanvasDefW\":700,\"fCanvasDefX\":10,\"fCanvasDefY\":10,\"fPadColor\":10,\"fPadBorderSize\":2,\"fPadBorderMode\":0,\"fPadBottomMargin\":0.18,\"fPadTopMargin\":0.06,\"fPadLeftMargin\":0.15,\"fPadRightMargin\":0.05,\"fPadGridX\":false,\"fPadGridY\":false,\"fPadTickX\":1,\"fPadTickY\":1,\"fPaperSizeX\":20,\"fPaperSizeY\":26,\"fScreenFactor\":1,\"fStatColor\":10,\"fStatTextColor\":1,\"fStatBorderSize\":0,\"fStatFont\":42,\"fStatFontSize\":0.07,\"fStatStyle\":1001,\"fStatFormat\":\"6.4g\",\"fStatX\":0.98,\"fStatY\":0.995,\"fStatW\":0.2,\"fStatH\":0.16,\"fStripDecimals\":true,\"fTitleAlign\":13,\"fTitleColor\":0,\"fTitleTextColor\":1,\"fTitleBorderSize\":0,\"fTitleFont\":62,\"fTitleFontSize\":0,\"fTitleStyle\":1001,\"fTitleX\":0.01,\"fTitleY\":0.995,\"fTitleW\":0,\"fTitleH\":0,\"fLegoInnerR\":0.5,\"fLineStyles\":[\"\",\"  \",\" 12 12\",\" 4 8\",\" 12 16 4 16\",\" 20 12 4 12\",\" 20 12 4 12 4 12 4 12\",\" 20 20\",\" 20 12 4 12 4 12\",\" 80 20\",\" 80 40 4 40\",\"  \",\"  \",\"  \",\"  \",\"  \",\"  \",\"  \",\"  \",\"  \",\"  \",\"  \",\"  \",\"  \",\"  \",\"  \",\"  \",\"  \",\"  \",\"  \"],\"fHeaderPS\":\"\",\"fTitlePS\":\"\",\"fFitFormat\":\"5.4g\",\"fPaintTextFormat\":\"g\",\"fLineScalePS\":3,\"fJoinLinePS\":0,\"fCapLinePS\":0,\"fTimeOffset\":788918400,\"fImageScaling\":1}],\"opt\":[\"\",\"\",\"blNDC\",\"\"]},\"fExecs\":null,\"fName\":\"c1\",\"fTitle\":\"c1\",\"fNumPaletteColor\":0,\"fNextPaletteColor\":0,\"fDISPLAY\":\"$DISPLAY\",\"fDoubleBuffer\":0,\"fRetained\":true,\"fXsizeUser\":0,\"fYsizeUser\":0,\"fXsizeReal\":20,\"fYsizeReal\":14.28571,\"fWindowTopX\":0,\"fWindowTopY\":0,\"fWindowWidth\":0,\"fWindowHeight\":0,\"fCw\":696,\"fCh\":472,\"fCatt\":{\"_typename\":\"TAttCanvas\",\"fXBetween\":2,\"fYBetween\":2,\"fTitleFromTop\":1.2,\"fXdate\":0.2,\"fYdate\":0.3,\"fAdate\":1},\"kMoveOpaque\":true,\"kResizeOpaque\":true,\"fHighLightColor\":2,\"fBatch\":true,\"kShowEventStatus\":false,\"kAutoExec\":true,\"kMenuBar\":true});\n",
       "   Core.settings.HandleKeys = false;\n",
       "   Core.draw(\"root_plot_1707212187251\", obj, \"\");\n",
       "}\n",
       "\n",
       "function script_load_root_plot_1707212187251(src, on_error) {\n",
       "    let script = document.createElement('script');\n",
       "    script.src = src;\n",
       "    script.onload = function() { display_root_plot_1707212187251(JSROOT); };\n",
       "    script.onerror = function() { script.remove(); on_error(); };\n",
       "    document.head.appendChild(script);\n",
       "}\n",
       "\n",
       "if (typeof requirejs !== 'undefined') {\n",
       "\n",
       "    // We are in jupyter notebooks, use require.js which should be configured already\n",
       "    requirejs.config({\n",
       "       paths: { 'JSRootCore' : [ 'build/jsroot', 'https://root.cern/js/7.3.4/build/jsroot', 'https://jsroot.gsi.de/7.3.4/build/jsroot' ] }\n",
       "    })(['JSRootCore'],  function(Core) {\n",
       "       display_root_plot_1707212187251(Core);\n",
       "    });\n",
       "\n",
       "} else if (typeof JSROOT !== 'undefined') {\n",
       "\n",
       "   // JSROOT already loaded, just use it\n",
       "   display_root_plot_1707212187251(JSROOT);\n",
       "\n",
       "} else {\n",
       "\n",
       "    // We are in jupyterlab without require.js, directly loading jsroot\n",
       "    // Jupyterlab might be installed in a different base_url so we need to know it.\n",
       "    try {\n",
       "        var base_url = JSON.parse(document.getElementById('jupyter-config-data').innerHTML).baseUrl;\n",
       "    } catch(_) {\n",
       "        var base_url = '/';\n",
       "    }\n",
       "\n",
       "    // Try loading a local version of requirejs and fallback to cdn if not possible.\n",
       "    script_load_root_plot_1707212187251(base_url + 'static/build/jsroot.js', function(){\n",
       "        console.error('Fail to load JSROOT locally, please check your jupyter_notebook_config.py file');\n",
       "        script_load_root_plot_1707212187251('https://root.cern/js/7.3.4/build/jsroot.js', function(){\n",
       "            document.getElementById(\"root_plot_1707212187251\").innerHTML = \"Failed to load JSROOT\";\n",
       "        });\n",
       "    });\n",
       "}\n",
       "\n",
       "</script>\n"
      ],
      "text/plain": [
       "<IPython.core.display.HTML object>"
      ]
     },
     "metadata": {},
     "output_type": "display_data"
    }
   ],
   "source": [
    "c = {}\n",
    "for v in variables:\n",
    "    c[v] = ROOT.TCanvas()\n",
    "    h[v].Draw()\n",
    "    c[v].Draw()"
   ]
  },
  {
   "cell_type": "code",
   "execution_count": null,
   "metadata": {},
   "outputs": [],
   "source": []
  }
 ],
 "metadata": {
  "kernelspec": {
   "display_name": "Python 3",
   "language": "python",
   "name": "python3"
  },
  "language_info": {
   "codemirror_mode": {
    "name": "ipython",
    "version": 3
   },
   "file_extension": ".py",
   "mimetype": "text/x-python",
   "name": "python",
   "nbconvert_exporter": "python",
   "pygments_lexer": "ipython3",
   "version": "3.10.8"
  },
  "orig_nbformat": 4
 },
 "nbformat": 4,
 "nbformat_minor": 2
}

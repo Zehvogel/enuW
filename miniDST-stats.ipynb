{
 "cells": [
  {
   "cell_type": "code",
   "execution_count": 1,
   "metadata": {},
   "outputs": [
    {
     "name": "stdout",
     "output_type": "stream",
     "text": [
      "OBJ: TStyle\tildStyle\tILD Style : 0 at: 0x70adf30\n"
     ]
    }
   ],
   "source": [
    "from itertools import product\n",
    "import ROOT"
   ]
  },
  {
   "cell_type": "code",
   "execution_count": 2,
   "metadata": {},
   "outputs": [],
   "source": [
    "%jsroot on"
   ]
  },
  {
   "cell_type": "code",
   "execution_count": 3,
   "metadata": {},
   "outputs": [
    {
     "name": "stdout",
     "output_type": "stream",
     "text": [
      "OBJ: TStyle\tildStyle\tILD Style : 0 at: 0x8fb4a70\n"
     ]
    }
   ],
   "source": [
    "df = ROOT.RDF.Experimental.FromSpec(\"test-spec-nometa.json\")\n",
    "# df = ROOT.RDF.Experimental.FromSpec(\"test-spec.json\")\n",
    "# df = ROOT.RDF.Experimental.FromSpec(\"data/specs/miniDST-no-higgs-spec.json\")"
   ]
  },
  {
   "cell_type": "code",
   "execution_count": 4,
   "metadata": {},
   "outputs": [],
   "source": [
    "df = df.DefinePerSample(\"process_name\", \"rdfsampleinfo_.GetSampleName()\")"
   ]
  },
  {
   "cell_type": "code",
   "execution_count": 5,
   "metadata": {},
   "outputs": [],
   "source": [
    "ROOT.gInterpreter.Declare(\"#include <podio/GenericParameters.h>\")\n",
    "df = df.Define(\"Parameters\", \"podio::GenericParameters par; par.loadFrom(GPDoubleKeys, GPDoubleValues); par.loadFrom(GPFloatKeys, GPFloatValues); par.loadFrom(GPIntKeys, GPIntValues); par.loadFrom(GPStringKeys, GPStringValues); return par;\")\n",
    "\n",
    "float_params = [\"Energy\", \"WWCategorisation.mInv\", \"WWCategorisation.missE\", \"WWCategorisation.misspT\", \"beamPol1\", \"beamPol2\", \"crossSection\", \"crossSectionError\"]\n",
    "# need to get rid of . in RDF column names\n",
    "def parse_par(par):\n",
    "    return par.replace(\".\", \"_\")\n",
    "\n",
    "for fp in float_params:\n",
    "    df = df.Define(f\"params_{parse_par(fp)}\", f\"Parameters.get<float>(\\\"{fp}\\\").value()\")"
   ]
  },
  {
   "cell_type": "code",
   "execution_count": 6,
   "metadata": {},
   "outputs": [],
   "source": [
    "df = df.Define(\"lumi\", \"1.0 / params_crossSection\")"
   ]
  },
  {
   "cell_type": "code",
   "execution_count": 7,
   "metadata": {},
   "outputs": [
    {
     "name": "stdout",
     "output_type": "stream",
     "text": [
      "['4f_sw_l', '4f_sw_sl', '4f_sze_l', '4f_sze_sl', '4f_szeorsw_l', '4f_sznu_l', '4f_ww_h', '4f_ww_l', '4f_ww_sl', '4f_zz_h', '4f_zz_l', '4f_zz_sl', '4f_zznu_l', '4f_zznu_sl', '4f_zzorww_h', '4f_zzorww_l', '6f_eexxxx', '6f_eexyyx', '6f_eeyyyy', '6f_llxxxx', '6f_llxyyx', '6f_llyyyy', '6f_vvxxxx', '6f_vvxyyx', '6f_vvyyyy', '2f_z_eehiq', '2f_z_h', '2f_z_l']\n"
     ]
    }
   ],
   "source": [
    "processes = {\n",
    "    \"4f\": [\n",
    "        \"sw_l\",\n",
    "        \"sw_sl\",\n",
    "        \"sze_l\",\n",
    "        \"sze_sl\",\n",
    "        \"szeorsw_l\",\n",
    "        \"sznu_l\",\n",
    "        \"ww_h\",\n",
    "        \"ww_l\",\n",
    "        \"ww_sl\",\n",
    "        \"zz_h\",\n",
    "        \"zz_l\",\n",
    "        \"zz_sl\",\n",
    "        \"zznu_l\",\n",
    "        \"zznu_sl\",\n",
    "        \"zzorww_h\",\n",
    "        \"zzorww_l\"\n",
    "        ],\n",
    "    \"6f\": [a + b for a, b in product([\"ee\", \"ll\", \"vv\"], [\"xxxx\", \"xyyx\", \"yyyy\"])],\n",
    "    \"2f\": [\n",
    "        \"z_eehiq\",\n",
    "        \"z_h\",\n",
    "        \"z_l\"\n",
    "    ]\n",
    "}\n",
    "\n",
    "process_names = []\n",
    "for pre in processes:\n",
    "    for sub in processes[pre]:\n",
    "        process_names.append(f\"{pre}_{sub}\")\n",
    "\n",
    "print(process_names)"
   ]
  },
  {
   "cell_type": "code",
   "execution_count": 8,
   "metadata": {},
   "outputs": [],
   "source": [
    "fdf = {}\n",
    "counts = {}\n",
    "lumi = {}\n",
    "pols = list(product([\"-1\", \"1\"], repeat=2))\n",
    "for p, pol in product(process_names, pols):\n",
    "    e_pol, p_pol = pol\n",
    "    key = f\"{p}_{e_pol}_{p_pol}\"\n",
    "    fdf[key] = df.Filter(f\"process_name == \\\"{p}\\\"\").Filter(f\"params_beamPol1 == {e_pol}\").Filter(f\"params_beamPol2 == {p_pol}\")\n",
    "    lumi[key] = fdf[key].Sum(\"lumi\")"
   ]
  },
  {
   "cell_type": "code",
   "execution_count": 9,
   "metadata": {},
   "outputs": [
    {
     "ename": "logic_error",
     "evalue": "const double& ROOT::RDF::RResultPtr<double>::GetValue() =>\n    logic_error: RSampleInfo: sample data was requested but no samples are available.",
     "output_type": "error",
     "traceback": [
      "\u001b[0;31m---------------------------------------------------------------------------\u001b[0m",
      "\u001b[0;31mlogic_error\u001b[0m                               Traceback (most recent call last)",
      "Cell \u001b[0;32mIn[9], line 4\u001b[0m\n\u001b[1;32m      1\u001b[0m L_int \u001b[38;5;241m=\u001b[39m {}\n\u001b[1;32m      3\u001b[0m \u001b[38;5;28;01mfor\u001b[39;00m key \u001b[38;5;129;01min\u001b[39;00m fdf:\n\u001b[0;32m----> 4\u001b[0m     L_int[key] \u001b[38;5;241m=\u001b[39m \u001b[43mlumi\u001b[49m\u001b[43m[\u001b[49m\u001b[43mkey\u001b[49m\u001b[43m]\u001b[49m\u001b[38;5;241;43m.\u001b[39;49m\u001b[43mGetValue\u001b[49m\u001b[43m(\u001b[49m\u001b[43m)\u001b[49m\n\u001b[1;32m      6\u001b[0m \u001b[38;5;28mprint\u001b[39m(L_int)\n",
      "\u001b[0;31mlogic_error\u001b[0m: const double& ROOT::RDF::RResultPtr<double>::GetValue() =>\n    logic_error: RSampleInfo: sample data was requested but no samples are available."
     ]
    },
    {
     "name": "stderr",
     "output_type": "stream",
     "text": [
      "RDataFrame::Run: event loop was interrupted\n"
     ]
    }
   ],
   "source": [
    "L_int = {}\n",
    "\n",
    "for key in fdf:\n",
    "    L_int[key] = lumi[key].GetValue()\n",
    "\n",
    "print(L_int)"
   ]
  }
 ],
 "metadata": {
  "kernelspec": {
   "display_name": "Python 3",
   "language": "python",
   "name": "python3"
  },
  "language_info": {
   "codemirror_mode": {
    "name": "ipython",
    "version": 3
   },
   "file_extension": ".py",
   "mimetype": "text/x-python",
   "name": "python",
   "nbconvert_exporter": "python",
   "pygments_lexer": "ipython3",
   "version": "3.11.9"
  }
 },
 "nbformat": 4,
 "nbformat_minor": 2
}

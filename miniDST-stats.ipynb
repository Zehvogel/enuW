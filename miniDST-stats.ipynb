{
 "cells": [
  {
   "cell_type": "code",
   "execution_count": 1,
   "metadata": {},
   "outputs": [
    {
     "name": "stdout",
     "output_type": "stream",
     "text": [
      "OBJ: TStyle\tildStyle\tILD Style : 0 at: 0x64e7980\n"
     ]
    }
   ],
   "source": [
    "from itertools import product\n",
    "import ROOT"
   ]
  },
  {
   "cell_type": "code",
   "execution_count": 2,
   "metadata": {},
   "outputs": [],
   "source": [
    "%jsroot on"
   ]
  },
  {
   "cell_type": "code",
   "execution_count": 3,
   "metadata": {},
   "outputs": [],
   "source": [
    "ROOT.EnableImplicitMT(12)"
   ]
  },
  {
   "cell_type": "code",
   "execution_count": 4,
   "metadata": {},
   "outputs": [
    {
     "name": "stdout",
     "output_type": "stream",
     "text": [
      "OBJ: TStyle\tildStyle\tILD Style : 0 at: 0x84bed10\n"
     ]
    }
   ],
   "source": [
    "# df = ROOT.RDF.Experimental.FromSpec(\"test-spec-nometa.json\")\n",
    "# df = ROOT.RDF.Experimental.FromSpec(\"test-spec.json\")\n",
    "df = ROOT.RDF.Experimental.FromSpec(\"data/specs/miniDST-no-higgs-spec.json\")"
   ]
  },
  {
   "cell_type": "code",
   "execution_count": 5,
   "metadata": {},
   "outputs": [],
   "source": [
    "%%cpp\n",
    "std::string getProcessName(const std::string& path) {\n",
    "    std::size_t start_pos = path.find(\".P\") + 2;\n",
    "    std::size_t end_pos = path.find(\".\", start_pos);\n",
    "    return path.substr(start_pos, end_pos - start_pos);\n",
    "}"
   ]
  },
  {
   "cell_type": "code",
   "execution_count": 6,
   "metadata": {},
   "outputs": [],
   "source": [
    "# df = df.DefinePerSample(\"process_name\", \"rdfsampleinfo_.GetSampleName()\")\n",
    "df = df.DefinePerSample(\"process_name\", \"getProcessName(rdfsampleinfo_.AsString())\")"
   ]
  },
  {
   "cell_type": "code",
   "execution_count": 7,
   "metadata": {},
   "outputs": [],
   "source": [
    "ROOT.gInterpreter.Declare(\"#include <podio/GenericParameters.h>\")\n",
    "# df = df.Define(\"Parameters\", \"podio::GenericParameters par; par.loadFrom(GPDoubleKeys, GPDoubleValues); par.loadFrom(GPFloatKeys, GPFloatValues); par.loadFrom(GPIntKeys, GPIntValues); par.loadFrom(GPStringKeys, GPStringValues); return par;\")\n",
    "df = df.Define(\"Parameters\", \"podio::GenericParameters par; par.loadFrom(GPFloatKeys, GPFloatValues); return par;\")\n",
    "\n",
    "float_params = [\"Energy\", \"WWCategorisation.mInv\", \"WWCategorisation.missE\", \"WWCategorisation.misspT\", \"beamPol1\", \"beamPol2\", \"crossSection\", \"crossSectionError\"]\n",
    "# need to get rid of . in RDF column names\n",
    "def parse_par(par):\n",
    "    return par.replace(\".\", \"_\")\n",
    "\n",
    "for fp in float_params:\n",
    "    df = df.Define(f\"params_{parse_par(fp)}\", f\"Parameters.get<float>(\\\"{fp}\\\").value()\")"
   ]
  },
  {
   "cell_type": "code",
   "execution_count": 8,
   "metadata": {},
   "outputs": [],
   "source": [
    "df = df.Define(\"lumi\", \"1.0 / params_crossSection\")"
   ]
  },
  {
   "cell_type": "code",
   "execution_count": 9,
   "metadata": {},
   "outputs": [
    {
     "name": "stdout",
     "output_type": "stream",
     "text": [
      "['4f_sw_l', '4f_sw_sl', '4f_sze_l', '4f_sze_sl', '4f_szeorsw_l', '4f_sznu_l', '4f_ww_h', '4f_ww_l', '4f_ww_sl', '4f_zz_h', '4f_zz_l', '4f_zz_sl', '4f_zznu_l', '4f_zznu_sl', '4f_zzorww_h', '4f_zzorww_l', '6f_eexxxx', '6f_eexyyx', '6f_eeyyyy', '6f_llxxxx', '6f_llxyyx', '6f_llyyyy', '6f_vvxxxx', '6f_vvxyyx', '6f_vvyyyy', '2f_z_eehiq', '2f_z_h', '2f_z_l']\n"
     ]
    }
   ],
   "source": [
    "processes = {\n",
    "    \"4f\": [\n",
    "        \"sw_l\",\n",
    "        \"sw_sl\",\n",
    "        \"sze_l\",\n",
    "        \"sze_sl\",\n",
    "        \"szeorsw_l\",\n",
    "        \"sznu_l\",\n",
    "        \"ww_h\",\n",
    "        \"ww_l\",\n",
    "        \"ww_sl\",\n",
    "        \"zz_h\",\n",
    "        \"zz_l\",\n",
    "        \"zz_sl\",\n",
    "        \"zznu_l\",\n",
    "        \"zznu_sl\",\n",
    "        \"zzorww_h\",\n",
    "        \"zzorww_l\"\n",
    "        ],\n",
    "    \"6f\": [a + b for a, b in product([\"ee\", \"ll\", \"vv\"], [\"xxxx\", \"xyyx\", \"yyyy\"])],\n",
    "    \"2f\": [\n",
    "        \"z_eehiq\",\n",
    "        \"z_h\",\n",
    "        \"z_l\"\n",
    "    ],\n",
    "    \"ae_3f\": [\n",
    "        \"w_h\", \"w_l\", \"z_h\", \"z_l\", \"z_nu\",\n",
    "    ],\n",
    "    \"ea_3f\": [\n",
    "        \"w_h\", \"w_l\", \"z_h\", \"z_l\", \"z_nu\",\n",
    "    ]\n",
    "}\n",
    "\n",
    "process_names = []\n",
    "for pre in processes:\n",
    "    for sub in processes[pre]:\n",
    "        process_names.append(f\"{pre}_{sub}\")\n",
    "\n",
    "print(process_names)"
   ]
  },
  {
   "cell_type": "code",
   "execution_count": 10,
   "metadata": {},
   "outputs": [],
   "source": [
    "fdf = {}\n",
    "counts = {}\n",
    "lumi = {}\n",
    "pols = list(product([\"-1\", \"1\"], repeat=2))\n",
    "for p, pol in product(process_names, pols):\n",
    "    e_pol, p_pol = pol\n",
    "    key = f\"{p}_{e_pol}_{p_pol}\"\n",
    "    fdf[key] = df.Filter(f\"process_name == \\\"{p}\\\"\").Filter(f\"params_beamPol1 == {e_pol}\").Filter(f\"params_beamPol2 == {p_pol}\")\n",
    "    lumi[key] = fdf[key].Sum(\"lumi\")"
   ]
  },
  {
   "cell_type": "code",
   "execution_count": 13,
   "metadata": {},
   "outputs": [
    {
     "name": "stdout",
     "output_type": "stream",
     "text": [
      "4f_sw_l_-1_-1: 443.9473515585022\n",
      "4f_sw_l_-1_1: 85.09719980599849\n",
      "4f_sw_l_1_-1: 1444.6390580309153\n",
      "4f_sw_l_1_1: 614.3360558864907\n",
      "4f_sw_sl_-1_-1: 598.3264710809962\n",
      "4f_sw_sl_-1_1: 100.83772646244388\n",
      "4f_sw_sl_1_-1: 4009.405181776853\n",
      "4f_sw_sl_1_1: 696.6100695082827\n",
      "4f_sze_l_-1_-1: 53.390269049937366\n",
      "4f_sze_l_-1_1: 78.86070343070482\n",
      "4f_sze_l_1_-1: 43.063118853940296\n",
      "4f_sze_l_1_1: 53.293164535793025\n",
      "4f_sze_sl_-1_-1: 149.5025181687616\n",
      "4f_sze_sl_-1_1: 1072.991968784247\n",
      "4f_sze_sl_1_-1: 262.09681601249656\n",
      "4f_sze_sl_1_1: 149.32588675251878\n",
      "4f_szeorsw_l_-1_-1: 1043.6089224613665\n",
      "4f_szeorsw_l_-1_1: 507.7655724172963\n",
      "4f_szeorsw_l_1_-1: 5133.574226380498\n",
      "4f_szeorsw_l_1_1: 1043.6739054132304\n",
      "4f_sznu_l_-1_1: 5124.884655687451\n",
      "4f_sznu_l_1_-1: 4203.232747890091\n",
      "4f_ww_h_-1_1: 6.726569041202469\n",
      "4f_ww_h_1_-1: 437.06570596034055\n",
      "4f_ww_l_-1_1: 100.4210026609367\n",
      "4f_ww_l_1_-1: 2236.674537654601\n",
      "4f_ww_sl_-1_1: 6.262266090146128\n",
      "4f_ww_sl_1_-1: 705.6044561345299\n",
      "4f_zz_h_-1_1: 1295.7454359596502\n",
      "4f_zz_h_1_-1: 1192.3328524305978\n",
      "4f_zz_l_-1_1: 4429.087167883009\n",
      "4f_zz_l_1_-1: 5845.286789851417\n",
      "4f_zz_sl_-1_1: 2504.774404719682\n",
      "4f_zz_sl_1_-1: 2259.560540121194\n",
      "4f_zznu_l_-1_1: 2724.825039153041\n",
      "4f_zznu_l_1_-1: 4920.0351645579685\n",
      "4f_zznu_sl_-1_1: 327.9339848712828\n",
      "4f_zznu_sl_1_-1: 535.2353053318888\n",
      "4f_zzorww_h_-1_1: 8.071486253052917\n",
      "4f_zzorww_h_1_-1: 664.9859374388017\n",
      "4f_zzorww_l_-1_1: 59.8635320614351\n",
      "4f_zzorww_l_1_-1: 2327.57547662656\n",
      "6f_eexxxx_-1_1: 1330269.7948784414\n",
      "6f_eexyyx_-1_1: 25275.388597003242\n",
      "6f_eexyyx_1_-1: 150989.15922783708\n",
      "6f_eeyyyy_-1_1: 1145803.8468474695\n",
      "6f_eeyyyy_1_-1: 1140002.1151187702\n",
      "6f_llxxxx_-1_1: 678366.475893106\n",
      "6f_llxxxx_1_-1: 1274592.3734511877\n",
      "6f_llxyyx_-1_1: 15187.968875088049\n",
      "6f_llxyyx_1_-1: 366638.24781113735\n",
      "6f_llyyyy_-1_1: 253204.82781735546\n",
      "6f_llyyyy_1_-1: 504545.9164949592\n",
      "6f_vvxxxx_-1_1: 949929.7718489935\n",
      "6f_vvxxxx_1_-1: 1065951.801886086\n",
      "6f_vvxyyx_-1_1: 235048.992621783\n",
      "6f_vvxyyx_1_-1: 1097779.9107047007\n",
      "6f_vvyyyy_-1_1: 780380.9372463407\n",
      "6f_vvyyyy_1_-1: 1840996.2012775717\n",
      "2f_z_eehiq_-1_-1: 1.5179331024255824\n",
      "2f_z_eehiq_-1_1: 1.9574107805175487\n",
      "2f_z_eehiq_1_-1: 1.5872568053176253\n",
      "2f_z_eehiq_1_1: 1.301085516364785\n",
      "2f_z_h_-1_1: 1.9005117833244647\n",
      "2f_z_h_1_-1: 1.6586964459246696\n",
      "2f_z_l_-1_1: 18.478361643699913\n",
      "2f_z_l_1_-1: 19.006244779405954\n"
     ]
    }
   ],
   "source": [
    "L_int = {}\n",
    "\n",
    "for key in fdf:\n",
    "    l = lumi[key].GetValue()\n",
    "    L_int[key] = l\n",
    "    if (l > 0.0):\n",
    "        print(f\"{key}: {l}\")\n"
   ]
  },
  {
   "cell_type": "code",
   "execution_count": null,
   "metadata": {},
   "outputs": [],
   "source": []
  }
 ],
 "metadata": {
  "kernelspec": {
   "display_name": "Python 3",
   "language": "python",
   "name": "python3"
  },
  "language_info": {
   "codemirror_mode": {
    "name": "ipython",
    "version": 3
   },
   "file_extension": ".py",
   "mimetype": "text/x-python",
   "name": "python",
   "nbconvert_exporter": "python",
   "pygments_lexer": "ipython3",
   "version": "3.11.9"
  }
 },
 "nbformat": 4,
 "nbformat_minor": 2
}

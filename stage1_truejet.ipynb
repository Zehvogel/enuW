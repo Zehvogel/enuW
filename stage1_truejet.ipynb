{
 "cells": [
  {
   "cell_type": "code",
   "execution_count": 1,
   "metadata": {},
   "outputs": [
    {
     "name": "stdout",
     "output_type": "stream",
     "text": [
      "OBJ: TStyle\tildStyle\tILD Style : 0 at: 0x391fbd0\n",
      "Welcome to JupyROOT 6.28/10\n"
     ]
    }
   ],
   "source": [
    "import ROOT"
   ]
  },
  {
   "cell_type": "code",
   "execution_count": 2,
   "metadata": {},
   "outputs": [],
   "source": [
    "%jsroot on"
   ]
  },
  {
   "cell_type": "code",
   "execution_count": 3,
   "metadata": {},
   "outputs": [],
   "source": [
    "ROOT.EnableImplicitMT(6)\n",
    "ROOT.TH1.SetDefaultSumw2()"
   ]
  },
  {
   "cell_type": "code",
   "execution_count": 4,
   "metadata": {},
   "outputs": [],
   "source": [
    "ROOT.ildStyle.SetOptStat(1)"
   ]
  },
  {
   "cell_type": "code",
   "execution_count": 5,
   "metadata": {},
   "outputs": [],
   "source": [
    "%%cpp\n",
    "using namespace ROOT::VecOps;"
   ]
  },
  {
   "cell_type": "code",
   "execution_count": 6,
   "metadata": {},
   "outputs": [],
   "source": [
    "df = ROOT.RDataFrame(\"events\", (\n",
    "    \"data/truejet/test/sw_sl/eLpL.0_truejet.edm4hep.root\",\n",
    "    \"data/truejet/test/sw_sl/eLpR.0-6_truejet.edm4hep.root\",\n",
    "    \"data/truejet/test/sw_sl/eRpR.0_truejet.edm4hep.root\",\n",
    "    \"data/truejet/test/sw_sl/eRpL.0_truejet.edm4hep.root\",\n",
    "    )\n",
    ")\n",
    "# df = ROOT.RDataFrame(\"events\", \"data/truejet/test/sw_sl/eLpL_truejet.edm4hep.root\")\n",
    "# df = ROOT.RDataFrame(\"events\", \"data/truejet/test/sw_sl/eLpR_truejet.edm4hep.root\")"
   ]
  },
  {
   "cell_type": "code",
   "execution_count": 7,
   "metadata": {},
   "outputs": [],
   "source": [
    "# df = df.Range(100)"
   ]
  },
  {
   "cell_type": "code",
   "execution_count": 8,
   "metadata": {},
   "outputs": [],
   "source": [
    "%%cpp\n",
    "//auto bPol_e = [](unsigned int slot, const ROOT::RDF::RSampleInfo &id) { return id.AsString(); };\n",
    "auto bPol_e = [](unsigned int slot, const ROOT::RDF::RSampleInfo &id) { return id.Contains(\"eL\") ? -1 : 1; };\n",
    "auto bPol_p = [](unsigned int slot, const ROOT::RDF::RSampleInfo &id) { return id.Contains(\"pL\") ? -1 : 1; };\n",
    "auto xsec = [](unsigned int slot, const ROOT::RDF::RSampleInfo &id) {\n",
    "    // manually extracted via dumpevent :(, not possible to load from json yet because root in the stack is too old\n",
    "    // FIXME: are these for the total sample or per file? I think per file so I need to increase the number here accordingly when I add more files, for now simply scale\n",
    "    if (id.Contains(\"eLpL\")) {\n",
    "        return 190.531;\n",
    "    } else if (id.Contains(\"eLpR\")) {\n",
    "        return 10264. * 7.;\n",
    "    } else if (id.Contains(\"eRpR\")) {\n",
    "        return 190.637;\n",
    "    } else if (id.Contains(\"eRpL\")) {\n",
    "        return 86.6962;\n",
    "    } else {\n",
    "        return 0.; //should not happen...\n",
    "    }\n",
    "};\n",
    "auto nevents = [](unsigned int slot, const ROOT::RDF::RSampleInfo &id) {\n",
    "    // manually extracted :(, not possible to load from json yet because root in the stack is too old\n",
    "    if (id.Contains(\"eLpL\")) {\n",
    "        return 100000;\n",
    "    } else if (id.Contains(\"eLpR\")) {\n",
    "        return 700000;\n",
    "    } else if (id.Contains(\"eRpR\")) {\n",
    "        return 100000;\n",
    "    } else if (id.Contains(\"eRpL\")) {\n",
    "        return 100000;\n",
    "    } else {\n",
    "        return 0; //should not happen...\n",
    "    }\n",
    "};"
   ]
  },
  {
   "cell_type": "code",
   "execution_count": 9,
   "metadata": {},
   "outputs": [],
   "source": [
    "df = df.DefinePerSample(\"beamPol_e\", \"bPol_e(rdfslot_, rdfsampleinfo_)\")\n",
    "df = df.DefinePerSample(\"beamPol_p\", \"bPol_p(rdfslot_, rdfsampleinfo_)\")\n",
    "df = df.DefinePerSample(\"xsec_fb\", \"xsec(rdfslot_, rdfsampleinfo_)\")\n",
    "df = df.DefinePerSample(\"n_events\", \"nevents(rdfslot_, rdfsampleinfo_)\")"
   ]
  },
  {
   "cell_type": "code",
   "execution_count": 10,
   "metadata": {},
   "outputs": [],
   "source": [
    "# let's start with the InitialColourNeutrals as they have set energy and momentum (and mass, I hope it's consistent ;))\n",
    "\n",
    "# rely on the relevant particle ID being the first one\n",
    "# returns a vector containing the idx of the first PID in the ICN_PID collection belonging to the ICN\n",
    "\n",
    "# FIXME: this is broken as of 2024-05-01 as PID direction was changed\n",
    "df = df.Define(\"pid_idx\", \"InitialColourNeutrals.particleIDs_begin\")\n",
    "\n",
    "# get the masks for the qq and lnu InitialColourNeutrals (W's)\n",
    "# for each pid idx take the ICN_PID type and check if it is 1 (quarks) or 2 (lepton)\n",
    "# returns a vector of ICN.size() with a 1 at the corresponding position, can be used to access all ICN.something fields\n",
    "df = df.Define(\"qq_ICN_mask\", \"Take(InitialColourNeutrals_particleIDs.type, pid_idx) == 1\")\n",
    "df = df.Define(\"lnu_ICN_mask\", \"Take(InitialColourNeutrals_particleIDs.type, pid_idx) == 2\")\n",
    "\n",
    "# get the masses of the InitialColourNeutrals (inv. mass of the lnu and qqbar systems)\n",
    "df = df.Define(\"m_qq\", \"InitialColourNeutrals.mass[qq_ICN_mask]\")\n",
    "df = df.Define(\"m_lnu\", \"InitialColourNeutrals.mass[lnu_ICN_mask]\")\n",
    "\n",
    "# There is only one lnu ICN so for some things its easier to use its index as\n",
    "# RVec[mask] -> RVec, but RVec[idx] -> single element\n",
    "df = df.Define(\"lnu_ICN_idx\", \"ArgMax(lnu_ICN_mask)\")\n",
    "df = df.Define(\"qq_ICN_idx\", \"ArgMax(qq_ICN_mask)\")\n",
    "\n",
    "df = df.Define(\"lnu_ICN_lvec\", \"ROOT::Math::PxPyPzEVector(InitialColourNeutrals.momentum.x[lnu_ICN_idx], InitialColourNeutrals.momentum.y[lnu_ICN_idx], InitialColourNeutrals.momentum.z[lnu_ICN_idx], InitialColourNeutrals.energy[lnu_ICN_idx])\")\n",
    "df = df.Define(\"qq_ICN_lvec\", \"ROOT::Math::PxPyPzEVector(InitialColourNeutrals.momentum.x[qq_ICN_idx], InitialColourNeutrals.momentum.y[qq_ICN_idx], InitialColourNeutrals.momentum.z[qq_ICN_idx], InitialColourNeutrals.energy[qq_ICN_idx])\")\n",
    "\n",
    "# should be able to get e, nu, q, qbar + gluon jets by looking at which truejets belong to the INC\n",
    "# I only need the separate q when I also try to do quark charge stuff so for now I am happy with qq ICN\n",
    "# returns a vector of size two with the indices of l and nu in the truejet collection\n",
    "df = df.Define(\"lnu_TJ_idx\", \"Range(InitialColourNeutrals.particles_begin[lnu_ICN_idx], InitialColourNeutrals.particles_end[lnu_ICN_idx])\")\n",
    "\n",
    "# TrueJets and TrueJets_particleIDs have the same number of entries and in the same order (this assumption should be safe)\n",
    "# Take the TJ_PID.PDGs and check if e or nu\n",
    "# returns vector of TrueJets.size() with a 1 where the l is\n",
    "# FIXME: need to change hardcoded comparison for other l than e\n",
    "df = df.Define(\"l_TJ_idxs_mask\", \"abs(Take(TrueJets_particleIDs.PDG, lnu_TJ_idx)) == 11\")\n",
    "df = df.Define(\"nu_TJ_idxs_mask\", \"abs(Take(TrueJets_particleIDs.PDG, lnu_TJ_idx)) == 12\")\n",
    "\n",
    "# As we only deal with exactly _one_ l and _one_ nu it might be easier to use the idx instead of the mask as\n",
    "# RVec[mask] -> RVec, but RVec[idx] -> single element\n",
    "# so that we don't need to worry about the additional vector layer\n",
    "# the idx is the only 1 in the mask, the rest is 0 -> just use ArgMax\n",
    "df = df.Define(\"l_TJ_idx\", \"lnu_TJ_idx[ArgMax(l_TJ_idxs_mask)]\")\n",
    "df = df.Define(\"nu_TJ_idx\", \"lnu_TJ_idx[ArgMax(nu_TJ_idxs_mask)]\")\n"
   ]
  },
  {
   "cell_type": "code",
   "execution_count": 11,
   "metadata": {},
   "outputs": [],
   "source": [
    "# FIXME: debug stuff\n",
    "# df.Range(17).Display((\"lnu_ICN_idx\", \"lnu_TJ_idx\", \"l_TJ_idxs_mask\", \"nu_TJ_idxs_mask\", \"l_TJ_idx\", \"nu_TJ_idx\"), 17, 500).Print()\n",
    "# foo = df.Range(1).Take[\"RVec<std::size_t>\"](\"lnu_TJ_idx\").GetValue()"
   ]
  },
  {
   "cell_type": "code",
   "execution_count": 12,
   "metadata": {},
   "outputs": [],
   "source": [
    "# FIXME: debug stuff\n",
    "# print(foo)\n",
    "# print(foo[0])"
   ]
  },
  {
   "cell_type": "code",
   "execution_count": 13,
   "metadata": {},
   "outputs": [],
   "source": [
    "# Unfortunately, none of the kinematics of the true jets are set (maybe just because we are doing a generator level thing here)\n",
    "# We still need to go through the TrueJetMCParticleLink where rec are the TrueJets and sim are the MCParticles\n",
    "# get mask for the TrueJetMCParticleLinks pointing to our truejet l\n",
    "df = df.Define(\"l_TJ2MC_mask\", \"_TrueJetMCParticleLink_rec.index == l_TJ_idx\")\n",
    "# Get indices of all MCParticles belonging to the links\n",
    "df = df.Define(\"l_MC_idxs\", \"_TrueJetMCParticleLink_sim.index[l_TJ2MC_mask]\")\n",
    "# There will be multiple results, containing the l in various stages and possibly FSR gammas\n",
    "# We take the only l with genstat 1 -> the one also used in the detector simulation\n",
    "# TODO: this is a choice! Figure out if it is the one we want to make\n",
    "# XXX: instead of parsing this this complicatedly it should also be possible to use the Initial/FinalElementonLink!\n",
    "df = df.Define(\"l_MC_idxs_mask\", \"Take(MCParticles.generatorStatus, l_MC_idxs) == 1 && abs(Take(MCParticles.PDG, l_MC_idxs)) == 11\")\n",
    "# Finally, convert the mask into an idx... probably not the most efficient solution over all but manual looping avoided :)\n",
    "df = df.Define(\"l_MC_idx\", \"l_MC_idxs[ArgMax(l_MC_idxs_mask)]\")\n",
    "\n",
    "df = df.Define(\"l_MC_lvec\", \"ROOT::Math::PxPyPzMVector(MCParticles.momentum.x[l_MC_idx], MCParticles.momentum.y[l_MC_idx], MCParticles.momentum.z[l_MC_idx], MCParticles.mass[l_MC_idx])\")\n",
    "df = df.Define(\"l_MC_pdg\", \"MCParticles.PDG[l_MC_idx]\")\n",
    "\n",
    "# the same ordeal for nu, oof\n",
    "df = df.Define(\"nu_TJ2MC_mask\", \"_TrueJetMCParticleLink_rec.index == nu_TJ_idx\")\n",
    "df = df.Define(\"nu_MC_idxs\", \"_TrueJetMCParticleLink_sim.index[nu_TJ2MC_mask]\")\n",
    "# urgh I accidentally had this with 11 instead of 12 and it should have not given a result but it did?!...\n",
    "df = df.Define(\"nu_MC_idxs_mask\", \"Take(MCParticles.generatorStatus, nu_MC_idxs) == 1 && abs(Take(MCParticles.PDG, nu_MC_idxs)) == 12\")\n",
    "df = df.Define(\"nu_MC_idx\", \"nu_MC_idxs[ArgMax(nu_MC_idxs_mask)]\")\n",
    "df = df.Define(\"nu_MC_lvec\", \"ROOT::Math::PxPyPzMVector(MCParticles.momentum.x[nu_MC_idx], MCParticles.momentum.y[nu_MC_idx], MCParticles.momentum.z[nu_MC_idx], MCParticles.mass[nu_MC_idx])\")\n",
    "df = df.Define(\"nu_MC_pdg\", \"MCParticles.PDG[nu_MC_idx]\")\n",
    "# FIXME: for debugging\n",
    "# df = df.Define(\"multi_qq\", \"Sum(qq_mask) > 1\")"
   ]
  },
  {
   "cell_type": "code",
   "execution_count": 14,
   "metadata": {},
   "outputs": [],
   "source": [
    "\n",
    "df = df.Define(\"l_MC_lvec_e\", \"l_MC_lvec.energy()\")\n",
    "df = df.Define(\"l_MC_lvec_theta\", \"l_MC_lvec.theta()\")\n",
    "df = df.Define(\"l_MC_lvec_cosTheta\", \"cos(l_MC_lvec_theta)\")\n",
    "\n",
    "df = df.Define(\"nu_MC_lvec_e\", \"nu_MC_lvec.energy()\")"
   ]
  },
  {
   "cell_type": "code",
   "execution_count": 15,
   "metadata": {},
   "outputs": [],
   "source": [
    "# weight calc\n",
    "ePol_target = 0.0\n",
    "pPol_target = 0.0\n",
    "\n",
    "lumi_target = 500. # fb^{-1}\n",
    "\n",
    "# polweight = (1 + epol*epol_target)*(1 + ppol*ppol_target)/4.;\n",
    "\n",
    "# assume one file per process-polarisation combination\n",
    "# - in case of several files per process-polarisation combination, need to add up *beforehand*\n",
    "# the numbers of events of all the files belonging to the same process-polarisation combination!\n",
    "# weight = polweight * xsection * lumi_target / nevt_per_file[ifile];\n",
    "\n",
    "# nevt_per_pol = {}\n",
    "# polweight = {}\n",
    "\n",
    "# def polfilter(ePol: int, pPol: int) -> str:\n",
    "#     return f\"beamPol_e == {ePol} && beamPol_p == {pPol}\"\n",
    "\n",
    "# from itertools import product\n",
    "\n",
    "# for ePol, pPol in product([-1, +1], repeat=2):\n",
    "#     # FIXME: needed for more than one file per pol! also needs summing of the crosssections then!\n",
    "#     # nevt_per_pol[(ePol, pPol)] = df.Filter(polfilter(ePol, pPol)).Count()\n",
    "#     nevt_per_pol[(ePol, pPol)] = 100000\n",
    "#     polweight[(ePol, pPol)] = (1 + ePol * ePol_target) * (1 + pPol * pPol_target) / 4\n",
    "\n",
    "df = df.Define(\"weight\", f\"1./4. * xsec_fb * {lumi_target} / (double) n_events\")"
   ]
  },
  {
   "cell_type": "code",
   "execution_count": 16,
   "metadata": {},
   "outputs": [],
   "source": [
    "h_m_qq = df.Histo1D(\"m_qq\")\n",
    "h_m_lnu = df.Histo1D(\"m_lnu\")\n",
    "\n",
    "h_m_lnu_eLpL = df.Filter(\"beamPol_e == -1 && beamPol_p == 1\").Histo1D(\"m_lnu\")"
   ]
  },
  {
   "cell_type": "code",
   "execution_count": 17,
   "metadata": {},
   "outputs": [],
   "source": [
    "h_l_e = df.Histo1D((\"\", \";E_{e} [GeV]\", 300, 0., 150.), \"l_MC_lvec_e\", \"weight\")\n",
    "h_nu_e = df.Histo1D((\"\", \";E_{#nu} [GeV]\", 300, 0., 150.), \"nu_MC_lvec_e\", \"weight\")\n",
    "h_2d_lnu_e = df.Histo2D((\"\", \";E_{e} [GeV];E_{#nu} [GeV]\", 300, 0., 150., 300, 0., 150.), \"l_MC_lvec_e\", \"nu_MC_lvec_e\", \"weight\")\n",
    "\n",
    "# h_l_idx = df.Histo1D(\"l_MC_idx\")\n",
    "# h_nu_idx = df.Histo1D(\"nu_MC_idx\")\n",
    "# h_2d_lnu_idx = df.Histo2D((\"\", \";e MC idx;#nu MC idx\", 50, 0., 50., 50, 0., 50.), \"l_MC_idx\", \"nu_MC_idx\")\n",
    "# h_2d_lnu_TJ_idx = df.Histo2D((\"\", \";e TJ idx;#nu TJ idx\", 50, 0., 50., 50, 0., 50.), \"l_TJ_idx\", \"nu_TJ_idx\")\n",
    "\n",
    "# h_l_theta = df.Histo1D(\"l_MC_lvec_theta\")\n",
    "# h_l_cosTheta = df.Histo1D(\"l_MC_lvec_cosTheta\")\n",
    "\n",
    "h_n_events = df.Histo1D(\"n_events\")\n",
    "h_weight = df.Histo1D(\"weight\")\n",
    "h_xsec_fb = df.Histo1D(\"xsec_fb\")"
   ]
  },
  {
   "cell_type": "code",
   "execution_count": 18,
   "metadata": {},
   "outputs": [
    {
     "ename": "runtime_error",
     "evalue": "TH1D& ROOT::RDF::RResultPtr<TH1D>::operator*() =>\n    runtime_error: Cannot index RVecN of size 4 with condition vector of different size (0).",
     "output_type": "error",
     "traceback": [
      "\u001b[0;31m---------------------------------------------------------------------------\u001b[0m",
      "\u001b[0;31mruntime_error\u001b[0m                             Traceback (most recent call last)",
      "Cell \u001b[0;32mIn[18], line 2\u001b[0m\n\u001b[1;32m      1\u001b[0m c_m_qq \u001b[38;5;241m=\u001b[39m ROOT\u001b[38;5;241m.\u001b[39mTCanvas()\n\u001b[0;32m----> 2\u001b[0m \u001b[43mh_m_qq\u001b[49m\u001b[38;5;241;43m.\u001b[39;49m\u001b[43mDraw\u001b[49m()\n\u001b[1;32m      3\u001b[0m c_m_qq\u001b[38;5;241m.\u001b[39mDraw()\n\u001b[1;32m      5\u001b[0m c_m_lnu \u001b[38;5;241m=\u001b[39m ROOT\u001b[38;5;241m.\u001b[39mTCanvas()\n",
      "\u001b[0;31mruntime_error\u001b[0m: TH1D& ROOT::RDF::RResultPtr<TH1D>::operator*() =>\n    runtime_error: Cannot index RVecN of size 4 with condition vector of different size (0)."
     ]
    },
    {
     "name": "stderr",
     "output_type": "stream",
     "text": [
      "Warning in <TStreamerInfo::BuildOld>: Cannot convert edm4hep::ReconstructedParticleData::covMatrix from type: float to type: edm4hep::CovMatrix4f, skip element\n",
      "Error in <TBranchProxy::Read>: Unable to initialize InitialColourNeutrals.particleIDs_begin\n",
      "\n",
      "Error in <TBasicTypeArrayReader::GetCP()>: Read error in TBranchProxy.\n",
      "Error in <TBranchProxy::Read>: Unable to initialize InitialColourNeutrals.particleIDs_begin\n",
      "\n",
      "Error in <TBasicTypeArrayReader::GetCP()>: Read error in TBranchProxy.\n",
      "RDataFrame::Run: event loop was interrupted\n",
      "Error in <TBranchProxy::Read>: Unable to initialize InitialColourNeutrals.particleIDs_begin\n",
      "\n",
      "Error in <TBasicTypeArrayReader::GetCP()>: Read error in TBranchProxy.\n",
      "Error in <TBranchProxy::Read>: Unable to initialize InitialColourNeutrals.particleIDs_begin\n",
      "\n",
      "Error in <TBasicTypeArrayReader::GetCP()>: Read error in TBranchProxy.\n",
      "RDataFrame::Run: event loop was interrupted\n",
      "Error in <TBranchProxy::Read>: Unable to initialize InitialColourNeutrals.particleIDs_begin\n",
      "\n",
      "Error in <TBasicTypeArrayReader::GetCP()>: Read error in TBranchProxy.\n",
      "Error in <TBranchProxy::Read>: Unable to initialize InitialColourNeutrals.particleIDs_begin\n",
      "\n",
      "Error in <TBasicTypeArrayReader::GetCP()>: Read error in TBranchProxy.\n",
      "RDataFrame::Run: event loop was interrupted\n",
      "Error in <TBranchProxy::Read>: Unable to initialize InitialColourNeutrals.particleIDs_begin\n",
      "\n",
      "Error in <TBasicTypeArrayReader::GetCP()>: Read error in TBranchProxy.\n",
      "Error in <TBranchProxy::Read>: Unable to initialize InitialColourNeutrals.particleIDs_begin\n",
      "\n",
      "Error in <TBasicTypeArrayReader::GetCP()>: Read error in TBranchProxy.\n",
      "RDataFrame::Run: event loop was interrupted\n",
      "Error in <TBranchProxy::Read>: Unable to initialize InitialColourNeutrals.particleIDs_begin\n",
      "\n",
      "Error in <TBasicTypeArrayReader::GetCP()>: Read error in TBranchProxy.\n",
      "Error in <TBranchProxy::Read>: Unable to initialize InitialColourNeutrals.particleIDs_begin\n",
      "\n",
      "Error in <TBasicTypeArrayReader::GetCP()>: Read error in TBranchProxy.\n",
      "RDataFrame::Run: event loop was interrupted\n",
      "Error in <TBranchProxy::Read>: Unable to initialize InitialColourNeutrals.particleIDs_begin\n",
      "\n",
      "Error in <TBasicTypeArrayReader::GetCP()>: Read error in TBranchProxy.\n",
      "Error in <TBranchProxy::Read>: Unable to initialize InitialColourNeutrals.particleIDs_begin\n",
      "\n",
      "Error in <TBasicTypeArrayReader::GetCP()>: Read error in TBranchProxy.\n",
      "RDataFrame::Run: event loop was interrupted\n",
      "Error in <TBranchProxy::Read>: Unable to initialize InitialColourNeutrals.particleIDs_begin\n",
      "\n",
      "Error in <TBasicTypeArrayReader::GetCP()>: Read error in TBranchProxy.\n",
      "Error in <TBranchProxy::Read>: Unable to initialize InitialColourNeutrals.particleIDs_begin\n",
      "\n",
      "Error in <TBasicTypeArrayReader::GetCP()>: Read error in TBranchProxy.\n",
      "RDataFrame::Run: event loop was interrupted\n",
      "Error in <TBranchProxy::Read>: Unable to initialize InitialColourNeutrals.particleIDs_begin\n",
      "\n",
      "Error in <TBasicTypeArrayReader::GetCP()>: Read error in TBranchProxy.\n",
      "Error in <TBranchProxy::Read>: Unable to initialize InitialColourNeutrals.particleIDs_begin\n",
      "\n",
      "Error in <TBasicTypeArrayReader::GetCP()>: Read error in TBranchProxy.\n",
      "RDataFrame::Run: event loop was interrupted\n",
      "Error in <TBranchProxy::Read>: Unable to initialize InitialColourNeutrals.particleIDs_begin\n",
      "\n",
      "Error in <TBasicTypeArrayReader::GetCP()>: Read error in TBranchProxy.\n",
      "Error in <TBranchProxy::Read>: Unable to initialize InitialColourNeutrals.particleIDs_begin\n",
      "\n",
      "Error in <TBasicTypeArrayReader::GetCP()>: Read error in TBranchProxy.\n",
      "RDataFrame::Run: event loop was interrupted\n",
      "Error in <TBranchProxy::Read>: Unable to initialize InitialColourNeutrals.particleIDs_begin\n",
      "\n",
      "Error in <TBasicTypeArrayReader::GetCP()>: Read error in TBranchProxy.\n",
      "Error in <TBranchProxy::Read>: Unable to initialize InitialColourNeutrals.particleIDs_begin\n",
      "\n",
      "Error in <TBasicTypeArrayReader::GetCP()>: Read error in TBranchProxy.\n",
      "RDataFrame::Run: event loop was interrupted\n",
      "Error in <TBranchProxy::Read>: Unable to initialize InitialColourNeutrals.particleIDs_begin\n",
      "\n",
      "Error in <TBasicTypeArrayReader::GetCP()>: Read error in TBranchProxy.\n",
      "Error in <TBranchProxy::Read>: Unable to initialize InitialColourNeutrals.particleIDs_begin\n",
      "\n",
      "Error in <TBasicTypeArrayReader::GetCP()>: Read error in TBranchProxy.\n",
      "RDataFrame::Run: event loop was interrupted\n"
     ]
    }
   ],
   "source": [
    "c_m_qq = ROOT.TCanvas()\n",
    "h_m_qq.Draw()\n",
    "c_m_qq.Draw()\n",
    "\n",
    "c_m_lnu = ROOT.TCanvas()\n",
    "h_m_lnu.Draw()\n",
    "c_m_lnu.Draw()\n",
    "\n",
    "c_m_lnu_eLpL = ROOT.TCanvas()\n",
    "h_m_lnu_eLpL.Draw()\n",
    "c_m_lnu_eLpL.Draw()\n",
    "\n",
    "c_l_e = ROOT.TCanvas()\n",
    "h_l_e.Draw()\n",
    "c_l_e.Draw()\n",
    "\n",
    "c_nu_e = ROOT.TCanvas()\n",
    "h_nu_e.Draw()\n",
    "c_nu_e.Draw()\n",
    "\n",
    "c_2d_lnu_e = ROOT.TCanvas()\n",
    "h_2d_lnu_e.Draw(\"colz0\")\n",
    "c_2d_lnu_e.Draw()\n",
    "\n",
    "# c_l_idx = ROOT.TCanvas()\n",
    "# h_l_idx.Draw()\n",
    "# c_l_idx.Draw()\n",
    "\n",
    "# c_nu_idx = ROOT.TCanvas()\n",
    "# h_nu_idx.Draw()\n",
    "# c_nu_idx.Draw()\n",
    "\n",
    "# c_2d_lnu_idx = ROOT.TCanvas()\n",
    "# h_2d_lnu_idx.Draw(\"colz0\")\n",
    "# c_2d_lnu_idx.Draw()\n",
    "\n",
    "# c_2d_lnu_TJ_idx = ROOT.TCanvas()\n",
    "# h_2d_lnu_TJ_idx.Draw(\"colz0\")\n",
    "# c_2d_lnu_TJ_idx.Draw()\n",
    "\n",
    "# c_l_theta = ROOT.TCanvas()\n",
    "# h_l_theta.Draw()\n",
    "# c_l_theta.Draw()\n",
    "\n",
    "# c_l_cosTheta = ROOT.TCanvas()\n",
    "# h_l_cosTheta.Draw()\n",
    "# c_l_cosTheta.Draw()\n",
    "\n",
    "c_n_events = ROOT.TCanvas()\n",
    "h_n_events.Draw(\"hist\")\n",
    "c_n_events.Draw()\n",
    "\n",
    "c_weight = ROOT.TCanvas()\n",
    "h_weight.Draw(\"hist\")\n",
    "c_weight.Draw()\n",
    "\n",
    "c_xsec_fb = ROOT.TCanvas()\n",
    "h_xsec_fb.Draw(\"hist\")\n",
    "c_xsec_fb.Draw()"
   ]
  },
  {
   "cell_type": "code",
   "execution_count": null,
   "metadata": {},
   "outputs": [],
   "source": [
    "# FIXME: for debug\n",
    "# multi_qq_evts = df.Filter(\"l_MC_idx > 20\").Take[\"ULong64_t\"](\"rdfentry_\").GetValue()\n",
    "# print(multi_qq_evts)"
   ]
  },
  {
   "cell_type": "code",
   "execution_count": null,
   "metadata": {},
   "outputs": [
    {
     "data": {
      "text/plain": [
       "<cppyy.gbl.ROOT.RDF.RResultPtr<ROOT::RDF::RInterface<ROOT::Detail::RDF::RLoopManager,void> > object at 0x11907190>"
      ]
     },
     "execution_count": 20,
     "metadata": {},
     "output_type": "execute_result"
    }
   ],
   "source": [
    "# WARNING: l_MC_lvec + nu_MC_lvec != lnu_ICN_lvec as we used the final elementon for l/nu_MC not the initial!\n",
    "df.Snapshot(\"events\", \"data/truejet/test/sw_sl/nano.root\", (\"beamPol_e\", \"beamPol_p\", \"xsec_fb\", \"weight\", \"l_MC_lvec\", \"nu_MC_lvec\", \"l_MC_pdg\", \"nu_MC_pdg\", \"lnu_ICN_lvec\", \"qq_ICN_lvec\"))"
   ]
  },
  {
   "cell_type": "code",
   "execution_count": null,
   "metadata": {},
   "outputs": [],
   "source": []
  }
 ],
 "metadata": {
  "kernelspec": {
   "display_name": "Python 3",
   "language": "python",
   "name": "python3"
  },
  "language_info": {
   "codemirror_mode": {
    "name": "ipython",
    "version": 3
   },
   "file_extension": ".py",
   "mimetype": "text/x-python",
   "name": "python",
   "nbconvert_exporter": "python",
   "pygments_lexer": "ipython3",
   "version": "3.10.13"
  }
 },
 "nbformat": 4,
 "nbformat_minor": 2
}

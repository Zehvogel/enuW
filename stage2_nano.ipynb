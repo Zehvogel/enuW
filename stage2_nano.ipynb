{
 "cells": [
  {
   "cell_type": "code",
   "execution_count": null,
   "metadata": {},
   "outputs": [],
   "source": [
    "import ROOT"
   ]
  },
  {
   "cell_type": "code",
   "execution_count": null,
   "metadata": {},
   "outputs": [],
   "source": [
    "%jsroot on"
   ]
  },
  {
   "cell_type": "code",
   "execution_count": null,
   "metadata": {},
   "outputs": [],
   "source": [
    "ROOT.EnableImplicitMT(6)\n",
    "ROOT.TH1.SetDefaultSumw2()"
   ]
  },
  {
   "cell_type": "code",
   "execution_count": null,
   "metadata": {},
   "outputs": [],
   "source": [
    "ROOT.ildStyle.SetOptStat(1)\n",
    "ROOT.ildStyle.SetPalette(ROOT.kBird)\n",
    "ROOT.ildStyle.SetNumberContours(256)"
   ]
  },
  {
   "cell_type": "code",
   "execution_count": null,
   "metadata": {},
   "outputs": [],
   "source": [
    "ROOT.gInterpreter.Declare(\"#include <WWTools.h>\")"
   ]
  },
  {
   "cell_type": "code",
   "execution_count": null,
   "metadata": {},
   "outputs": [],
   "source": [
    "%%cpp\n",
    "using namespace ROOT::VecOps;"
   ]
  },
  {
   "cell_type": "code",
   "execution_count": null,
   "metadata": {},
   "outputs": [],
   "source": [
    "df = ROOT.RDataFrame(\"events\", \"data/stage1/test/sw_sl/enuqq_nano.root\")\n",
    "# df = ROOT.RDataFrame(\"events\", \"data/stage1/test/sw_sl/enuqq_simple_whizard_nano.root\")\n",
    "# df = ROOT.RDataFrame(\"events\", \"data/stage1/test/sw_sl/enuqq_simple_whizard_ISR_nano.root\")\n",
    "# df = ROOT.RDataFrame(\"events\", \"data/stage1/test/sw_sl/enuqq_simple_madgraph_nano.root\")\n",
    "# df.Describe()"
   ]
  },
  {
   "cell_type": "code",
   "execution_count": null,
   "metadata": {},
   "outputs": [],
   "source": [
    "df = df.Vary(\"nu_lvec\", \"ROOT::Math::PxPyPzMVector tmp(E_miss_lvec); return RVec<ROOT::Math::PxPyPzMVector>{tmp};\", [\"recoable_nu\"], \"nu_variation\")\n",
    "df = df.Vary((\"nu_lvec\", \"l_lvec\", \"hadronic_lvec\"), \"\"\"\n",
    "              ROOT::Math::PxPyPzMVector tmp(E_miss_lvec);\n",
    "              auto boost = collision_lvec.BoostToCM();\n",
    "              return RVec<RVec<ROOT::Math::PxPyPzMVector>>{\n",
    "                {ROOT::Math::VectorUtil::boost(nu_lvec, boost), ROOT::Math::VectorUtil::boost(tmp, boost)},\n",
    "                {ROOT::Math::VectorUtil::boost(l_lvec, boost), ROOT::Math::VectorUtil::boost(l_lvec, boost)},\n",
    "                {ROOT::Math::VectorUtil::boost(hadronic_lvec, boost), ROOT::Math::VectorUtil::boost(hadronic_lvec, boost)}\n",
    "              };\n",
    "\"\"\", [\"boosted\", \"boosted_and_emiss\"], \"initial_lvecs\")"
   ]
  },
  {
   "cell_type": "code",
   "execution_count": null,
   "metadata": {},
   "outputs": [],
   "source": [
    "# pdg 11 is e-, -11 is e+\n",
    "df = df.Define(\"l_MC_charge\", \"-1 * ROOT::Math::Sign(l_pdg)\")\n",
    "\n",
    "### start of angle calculations\n",
    "# the simplest is the production angle theta_W (where W stands not for Weinberg in this case but for W-boson)\n",
    "# following M. Bilenky et al. in Nucl.Phys.B 409 (1993) 22-68 (doi: https://doi.org/10.1016/0550-3213(93)90445-U)\n",
    "# this is the angle between the W^{-} and the beam e^{-} which in our case is just the Z-axis\n",
    "# (TODO: check what happens when ddsim adds a crossing angle :/)\n",
    "\n",
    "# check l charge to determine which ICN is W-\n",
    "# TODO: normally the direction of the leptonically decaying W would need to be inferred from the hardronic one\n",
    "df = df.Define(\"W_lep_lvec\", \"l_lvec + nu_lvec\")\n",
    "df = df.Define(\"W_had_lvec\", \"hadronic_lvec\")\n",
    "df = df.Define(\"e_minus_vec\", \"ROOT::Math::XYZVector(0, 0, 1)\")\n",
    "df = df.Define(\"e_plus_vec\", \"ROOT::Math::XYZVector(0, 0, 1)\")\n",
    "df = df.Define(\"lep_axis\", \"l_MC_charge > 0 ? e_plus_vec : e_minus_vec\")\n",
    "df = df.Define(\"had_axis\", \"l_MC_charge < 0 ? e_plus_vec : e_minus_vec\")\n",
    "df = df.Define(\"CosTheta_W_lep\", \"ROOT::Math::VectorUtil::CosTheta(W_lep_lvec, lep_axis)\")\n",
    "df = df.Define(\"CosTheta_W_had\", \"ROOT::Math::VectorUtil::CosTheta(W_lep_lvec, had_axis)\")\n",
    "\n",
    "# in LEP parametrisation this is _always_ e_minus_vec\n",
    "# df = df.Define(\"l_star_lvec\", \"WWTools::starVector(W_lep_lvec, l_lvec, e_minus_vec)\")\n",
    "df = df.Define(\"l_star_lvec\", \"WWTools::starVector(W_lep_lvec, l_lvec)\")"
   ]
  },
  {
   "cell_type": "code",
   "execution_count": null,
   "metadata": {},
   "outputs": [],
   "source": [
    "df = df.Define(\"l_theta_star\", \"l_star_lvec.Theta()\")\n",
    "df = df.Define(\"l_phi_star\", \"l_star_lvec.Phi()\")\n",
    "# shift by pi for positrons/antifermion\n",
    "df = df.Define(\"l_phi_star_shift\", \"if (l_MC_charge < 0) return l_phi_star; auto phi = l_phi_star + ROOT::Math::Pi(); return phi > ROOT::Math::Pi() ? phi - 2 * ROOT::Math::Pi() : phi;\")\n",
    "\n",
    "df = df.Define(\"l_cosTheta_star\", \"cos(l_theta_star)\")"
   ]
  },
  {
   "cell_type": "code",
   "execution_count": null,
   "metadata": {},
   "outputs": [],
   "source": [
    "# FIXME: for debugging\n",
    "# df = df.Redefine(\"weight\", \"1\")\n",
    "# df = df.Filter(\"l_MC_lvec_pt > 1\", \"pt cut\")\n",
    "# df = df.Filter(\"abs(l_MC_lvec_cosTheta) < 0.975\", \"cosTheta cut\") # ~6.5 deg\n",
    "# df = df.Filter(\"beamPol_e != beamPol_p\")\n",
    "# df = df.Filter(\"beamPol_e < 0 && beamPol_p < 0\") # LL\n",
    "# df = df.Filter(\"beamPol_e < 0 && beamPol_p > 0\") # LR\n",
    "# df = df.Filter(\"beamPol_e > 0 && beamPol_p < 0\") # RL\n",
    "# df = df.Filter(\"beamPol_e > 0 && beamPol_p > 0\") # RR\n",
    "# df = df.Filter(\"abs(cos(l_lvec.Theta())) < cos(0.05)\") # lumi cal inner\n",
    "# df = df.Filter(\"abs(l_lvec.Eta()) < 2.5\") # madgraph default cut\n",
    "# df = df.Filter(\"abs(W_lep_lvec.M() - 80) < 15\")"
   ]
  },
  {
   "cell_type": "code",
   "execution_count": null,
   "metadata": {},
   "outputs": [],
   "source": [
    "# h_CosTheta_W_minus = df.Histo1D((\"\", \";cos #theta_{W^{-}}\", 40, -1., 1.), \"CosTheta_W_minus\", \"weight\")\n",
    "# h_CosTheta_W_plus = df.Histo1D((\"\", \";cos #theta_{W^{+}}\", 40, -1., 1.), \"CosTheta_W_plus\", \"weight\")\n",
    "# # h_l_theta_prime = df.Histo1D(\"l_theta_prime\", \"weight\")\n",
    "# h_l_plus_theta_prime = df.Histo1D(\"p_theta_prime\", \"weight\")\n",
    "# h_l_plus_cosTheta_prime = df.Histo1D((\"\", \";cos #theta*_{e^{+}}\", 40, -1., 1.), \"p_cosTheta_prime\", \"weight\")\n",
    "# h_l_plus_phi_prime = df.Histo1D((\"\", \";#phi*_{e+}\", 40, -ROOT.Math.Pi(), ROOT.Math.Pi()), \"p_phi_prime\", \"weight\")\n",
    "# h_l_minus_theta_prime = df.Histo1D(\"e_theta_prime\", \"weight\")\n",
    "# h_l_minus_cosTheta_prime = df.Histo1D((\"\", \";cos #theta*_{e^{+}}\", 40, -1., 1.), \"e_cosTheta_prime\", \"weight\")\n",
    "# h_l_minus_phi_prime = df.Histo1D((\"\", \";#phi*_{e-}\", 40, -ROOT.Math.Pi(), ROOT.Math.Pi()), \"e_phi_prime\", \"weight\")\n",
    "\n",
    "# h_l_cosTheta_prime = h_l_plus_cosTheta_prime.Clone()\n",
    "# h_l_cosTheta_prime.Add(h_l_minus_cosTheta_prime.GetPtr())\n",
    "# h_l_cosTheta_prime.SetTitle(\";cos #theta*_{e^{#pm}}\")\n",
    "\n",
    "# h_l_phi_prime = h_l_plus_phi_prime.Clone()\n",
    "# h_l_phi_prime.Add(h_l_minus_phi_prime.GetPtr())\n",
    "# h_l_phi_prime.SetTitle(\";#phi*_{e#pm}\")\n",
    "\n",
    "h_CosTheta_W_minus_had = df.Filter(\"l_MC_charge > 0\").Histo1D((\"\", \";cos #theta_{W^{-}_{had}}\", 40, -1., 1.), \"CosTheta_W_had\", \"weight\")\n",
    "h_CosTheta_W_minus_lep = df.Filter(\"l_MC_charge < 0\").Histo1D((\"\", \";cos #theta_{W^{-}_{lep}}\", 40, -1., 1.), \"CosTheta_W_lep\", \"weight\")\n",
    "h_CosTheta_W_plus_had = df.Filter(\"l_MC_charge < 0\").Histo1D((\"\", \";cos #theta_{W^{+}_{had}}\", 40, -1., 1.), \"CosTheta_W_had\", \"weight\")\n",
    "h_CosTheta_W_plus_lep = df.Filter(\"l_MC_charge > 0\").Histo1D((\"\", \";cos #theta_{W^{+}_{lep}}\", 40, -1., 1.), \"CosTheta_W_lep\", \"weight\")\n",
    "\n",
    "vh_CosTheta_W_minus_lep = ROOT.RDF.Experimental.VariationsFor(h_CosTheta_W_minus_lep)\n",
    "vh_CosTheta_W_plus_lep = ROOT.RDF.Experimental.VariationsFor(h_CosTheta_W_plus_lep)\n",
    "\n",
    "h_l_minus_cosTheta_star = df.Filter(\"l_MC_charge < 0\").Histo1D((\"\", \";cos #theta*_{e^{-}}\", 40, -1., 1.), \"l_cosTheta_star\", \"weight\")\n",
    "h_l_plus_cosTheta_star = df.Filter(\"l_MC_charge > 0\").Histo1D((\"\", \";cos #theta*_{e^{+}}\", 40, -1., 1.), \"l_cosTheta_star\", \"weight\")\n",
    "\n",
    "vh_l_minus_cosTheta_star = ROOT.RDF.Experimental.VariationsFor(h_l_minus_cosTheta_star)\n",
    "vh_l_plus_cosTheta_star = ROOT.RDF.Experimental.VariationsFor(h_l_plus_cosTheta_star)\n",
    "\n",
    "h_l_minus_phi_star = df.Filter(\"l_MC_charge < 0\").Histo1D((\"\", \";#phi*_{e-}\", 40, -ROOT.Math.Pi(), ROOT.Math.Pi()), \"l_phi_star\", \"weight\")\n",
    "h_l_plus_phi_star = df.Filter(\"l_MC_charge > 0\").Histo1D((\"\", \";#phi*_{e+}\", 40, -ROOT.Math.Pi(), ROOT.Math.Pi()), \"l_phi_star\", \"weight\")\n",
    "h_l_plus_phi_star_shift = df.Filter(\"l_MC_charge > 0\").Histo1D((\"\", \";#phi*_{e+}\", 40, -ROOT.Math.Pi(), ROOT.Math.Pi()), \"l_phi_star_shift\", \"weight\")\n",
    "\n",
    "vh_l_minus_phi_star = ROOT.RDF.Experimental.VariationsFor(h_l_minus_phi_star)\n",
    "vh_l_plus_phi_star = ROOT.RDF.Experimental.VariationsFor(h_l_plus_phi_star)\n",
    "\n",
    "h_2d_l_phi_cosTheta_star = df.Histo2D((\"\", \";#phi*_{e#pm};cos #theta*_{e^{#pm}}\", 40, -ROOT.Math.Pi(), ROOT.Math.Pi(), 40, -1., 1.), \"l_phi_star_shift\", \"l_cosTheta_star\", \"weight\")"
   ]
  },
  {
   "cell_type": "code",
   "execution_count": null,
   "metadata": {},
   "outputs": [],
   "source": [
    "h_l_minus_cosTheta_star.SetMinimum(0)\n",
    "h_l_plus_cosTheta_star.SetMinimum(0)\n",
    "h_l_minus_phi_star.SetMinimum(0)\n",
    "h_l_plus_phi_star.SetMinimum(0)\n",
    "h_l_plus_phi_star_shift.SetMinimum(0)"
   ]
  },
  {
   "cell_type": "code",
   "execution_count": null,
   "metadata": {},
   "outputs": [],
   "source": [
    "c_CosTheta_W_minus_had = ROOT.TCanvas()\n",
    "h_CosTheta_W_minus_had.Draw()\n",
    "c_CosTheta_W_minus_had.Draw()\n",
    "\n",
    "c_CosTheta_W_minus_lep = ROOT.TCanvas()\n",
    "h_CosTheta_W_minus_lep.Draw()\n",
    "vh_CosTheta_W_minus_lep = ROOT.RDF.Experimental.VariationsFor(h_CosTheta_W_minus_lep)\n",
    "vh_CosTheta_W_minus_lep[\"nu_variation:recoable_nu\"].SetMarkerColor(ROOT.kRed)\n",
    "vh_CosTheta_W_minus_lep[\"nu_variation:recoable_nu\"].Draw(\"same\")\n",
    "# vh_CosTheta_W_minus_lep[\"initial_lvecs:boosted\"].SetMarkerColor(ROOT.kBlue)\n",
    "# vh_CosTheta_W_minus_lep[\"initial_lvecs:boosted\"].Draw(\"same\")\n",
    "c_CosTheta_W_minus_lep.Draw()\n",
    "\n",
    "c_CosTheta_W_minus_lep_r = ROOT.TCanvas()\n",
    "r_CosTheta_W_minus_lep_r = ROOT.TRatioPlot(h_CosTheta_W_minus_lep.GetPtr(), vh_CosTheta_W_minus_lep[\"nu_variation:recoable_nu\"])\n",
    "# r_CosTheta_W_minus_lep_r = ROOT.TRatioPlot(h_CosTheta_W_minus_lep.GetPtr(), vh_CosTheta_W_minus_lep[\"initial_lvecs:boosted\"])\n",
    "# r_CosTheta_W_minus_lep_r = ROOT.TRatioPlot(h_CosTheta_W_minus_lep.GetPtr(), vh_CosTheta_W_minus_lep[\"initial_lvecs:boosted_and_emiss\"])\n",
    "r_CosTheta_W_minus_lep_r.Draw()\n",
    "c_CosTheta_W_minus_lep_r.Draw()\n",
    "\n",
    "c_CosTheta_W_plus_had = ROOT.TCanvas()\n",
    "h_CosTheta_W_plus_had.Draw()\n",
    "c_CosTheta_W_plus_had.Draw()\n",
    "\n",
    "c_CosTheta_W_plus_lep = ROOT.TCanvas()\n",
    "h_CosTheta_W_plus_lep.Draw()\n",
    "c_CosTheta_W_plus_lep.Draw()\n",
    "\n",
    "c_l_minus_cosTheta_star = ROOT.TCanvas()\n",
    "h_l_minus_cosTheta_star.Draw()\n",
    "vh_l_minus_cosTheta_star = ROOT.RDF.Experimental.VariationsFor(h_l_minus_cosTheta_star)\n",
    "vh_l_minus_cosTheta_star[\"nu_variation:recoable_nu\"].SetMarkerColor(ROOT.kRed)\n",
    "vh_l_minus_cosTheta_star[\"nu_variation:recoable_nu\"].Draw(\"same\")\n",
    "# vh_l_minus_cosTheta_star[\"initial_lvecs:boosted\"].SetMarkerColor(ROOT.kBlue)\n",
    "# vh_l_minus_cosTheta_star[\"initial_lvecs:boosted\"].Draw(\"same\")\n",
    "c_l_minus_cosTheta_star.Draw()\n",
    "\n",
    "c_l_plus_cosTheta_star = ROOT.TCanvas()\n",
    "h_l_plus_cosTheta_star.Draw()\n",
    "vh_l_plus_cosTheta_star = ROOT.RDF.Experimental.VariationsFor(h_l_plus_cosTheta_star)\n",
    "vh_l_plus_cosTheta_star[\"nu_variation:recoable_nu\"].SetMarkerColor(ROOT.kRed)\n",
    "vh_l_plus_cosTheta_star[\"nu_variation:recoable_nu\"].Draw(\"same\")\n",
    "# vh_l_plus_cosTheta_star[\"initial_lvecs:boosted\"].SetMarkerColor(ROOT.kBlue)\n",
    "# vh_l_plus_cosTheta_star[\"initial_lvecs:boosted\"].Draw(\"same\")\n",
    "c_l_plus_cosTheta_star.Draw()\n",
    "\n",
    "c_l_minus_phi_star = ROOT.TCanvas()\n",
    "h_l_minus_phi_star.Draw()\n",
    "vh_l_minus_phi_star = ROOT.RDF.Experimental.VariationsFor(h_l_minus_phi_star)\n",
    "vh_l_minus_phi_star[\"nu_variation:recoable_nu\"].SetMarkerColor(ROOT.kRed)\n",
    "vh_l_minus_phi_star[\"nu_variation:recoable_nu\"].Draw(\"same\")\n",
    "# vh_l_minus_phi_star[\"initial_lvecs:boosted\"].SetMarkerColor(ROOT.kBlue)\n",
    "# vh_l_minus_phi_star[\"initial_lvecs:boosted\"].Draw(\"same\")\n",
    "c_l_minus_phi_star.Draw()\n",
    "\n",
    "c_l_plus_phi_star = ROOT.TCanvas()\n",
    "h_l_plus_phi_star.Draw()\n",
    "vh_l_plus_phi_star = ROOT.RDF.Experimental.VariationsFor(h_l_plus_phi_star)\n",
    "vh_l_plus_phi_star[\"nu_variation:recoable_nu\"].SetMarkerColor(ROOT.kRed)\n",
    "vh_l_plus_phi_star[\"nu_variation:recoable_nu\"].Draw(\"same\")\n",
    "# vh_l_plus_phi_star[\"initial_lvecs:boosted\"].SetMarkerColor(ROOT.kBlue)\n",
    "# vh_l_plus_phi_star[\"initial_lvecs:boosted\"].Draw(\"same\")\n",
    "c_l_plus_phi_star.Draw()\n",
    "\n",
    "c_l_plus_phi_star_shift = ROOT.TCanvas()\n",
    "h_l_plus_phi_star_shift.Draw()\n",
    "vh_l_plus_phi_star_shift = ROOT.RDF.Experimental.VariationsFor(h_l_plus_phi_star_shift)\n",
    "vh_l_plus_phi_star_shift[\"nu_variation:recoable_nu\"].SetMarkerColor(ROOT.kRed)\n",
    "vh_l_plus_phi_star_shift[\"nu_variation:recoable_nu\"].Draw(\"same\")\n",
    "# vh_l_plus_phi_star_shift[\"initial_lvecs:boosted\"].SetMarkerColor(ROOT.kBlue)\n",
    "# vh_l_plus_phi_star_shift[\"initial_lvecs:boosted\"].Draw(\"same\")\n",
    "c_l_plus_phi_star_shift.Draw()\n",
    "\n",
    "c_2d_l_phi_cosTheta_star = ROOT.TCanvas()\n",
    "h_2d_l_phi_cosTheta_star.Draw(\"colz\")\n",
    "c_2d_l_phi_cosTheta_star.Draw()"
   ]
  },
  {
   "cell_type": "code",
   "execution_count": null,
   "metadata": {},
   "outputs": [],
   "source": [
    "vh_l_plus_phi_star.GetKeys()"
   ]
  },
  {
   "cell_type": "code",
   "execution_count": null,
   "metadata": {},
   "outputs": [],
   "source": []
  }
 ],
 "metadata": {
  "kernelspec": {
   "display_name": "Python 3",
   "language": "python",
   "name": "python3"
  },
  "language_info": {
   "codemirror_mode": {
    "name": "ipython",
    "version": 3
   },
   "file_extension": ".py",
   "mimetype": "text/x-python",
   "name": "python",
   "nbconvert_exporter": "python",
   "pygments_lexer": "ipython3",
   "version": "3.10.13"
  }
 },
 "nbformat": 4,
 "nbformat_minor": 2
}

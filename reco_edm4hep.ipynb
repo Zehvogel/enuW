{
 "cells": [
  {
   "cell_type": "code",
   "execution_count": 1,
   "metadata": {},
   "outputs": [
    {
     "name": "stdout",
     "output_type": "stream",
     "text": [
      "OBJ: TStyle\tildStyle\tILD Style : 0 at: 0x80561b0\n",
      "Welcome to JupyROOT 6.28/10\n"
     ]
    }
   ],
   "source": [
    "import ROOT\n",
    "import edm4hep\n",
    "from podio import root_io\n",
    "from math import sqrt"
   ]
  },
  {
   "cell_type": "code",
   "execution_count": 2,
   "metadata": {},
   "outputs": [],
   "source": [
    "%jsroot on"
   ]
  },
  {
   "cell_type": "code",
   "execution_count": 3,
   "metadata": {},
   "outputs": [
    {
     "data": {
      "text/plain": [
       "True"
      ]
     },
     "execution_count": 3,
     "metadata": {},
     "output_type": "execute_result"
    }
   ],
   "source": [
    "ROOT.gInterpreter.Declare(\"#include <marlinutil/HelixClass_double.h>\")\n",
    "# ROOT.gInterpreter.Declare(\"#include <marlinutil/GeometryUtil.h>\")"
   ]
  },
  {
   "cell_type": "code",
   "execution_count": 4,
   "metadata": {},
   "outputs": [
    {
     "name": "stdout",
     "output_type": "stream",
     "text": [
      "2\n"
     ]
    }
   ],
   "source": [
    "# Meh would require dd4hep\n",
    "# Bz = ROOT.MarlinUtil.getBzAtOrigin()\n",
    "Bz = 2\n",
    "print(Bz)"
   ]
  },
  {
   "cell_type": "code",
   "execution_count": 5,
   "metadata": {},
   "outputs": [],
   "source": [
    "# reader = root_io.Reader(\"E250-SetA.P4f_sw_sl.Gwhizard-2_8_5.eL.pR.I500106.0.10.REC_edm4hep.root\")\n",
    "reader = root_io.Reader(\"E250-SetA.P4f_sw_sl.Gwhizard-2_8_5.eL.pR.I500106.0.1000.REC_edm4hep.root\")"
   ]
  },
  {
   "cell_type": "code",
   "execution_count": 6,
   "metadata": {},
   "outputs": [],
   "source": [
    "events = reader.get(\"events\")\n"
   ]
  },
  {
   "cell_type": "code",
   "execution_count": 7,
   "metadata": {},
   "outputs": [],
   "source": [
    "h_omega = ROOT.TH1D(\"h_omega\", \";pull #Omega\", 50, -10, 10)\n",
    "h_phi = ROOT.TH1D(\"h_phi\", \";pull #phi\", 50, -10, 10)\n",
    "h_momentum = ROOT.TH1D(\"h_momentum\", \"; E [GeV]\", 250, 0, 125)\n",
    "h_omega_2d = ROOT.TH2D(\"h_omega_2d\", \"; E [GeV]; pull #Omega\", 10, 0, 125, 50, -10, 10)"
   ]
  },
  {
   "cell_type": "code",
   "execution_count": 8,
   "metadata": {},
   "outputs": [],
   "source": [
    "for event in events:\n",
    "    # mctruthrecolink = event.get(\"MCTruthSiTracksLink\")\n",
    "    mctruthrecolink = event.get(\"SiTracksMCTruthLink\")\n",
    "    for link in mctruthrecolink:\n",
    "        mcp = link.getSim()\n",
    "        reco = link.getRec()\n",
    "        weight = link.getWeight()\n",
    "        # require at least a bit of quality\n",
    "        # FIXME: ah lol does this direction in the relation kill electrons with high brems loss as the fraction of their initial energy going to the track is lower?\n",
    "        if (weight < 0.9):\n",
    "            continue\n",
    "        # only care about electrons\n",
    "        if (abs(mcp.getPDG()) != 11 or mcp.getGeneratorStatus() != 1):\n",
    "            continue\n",
    "        # require at least some energy\n",
    "        # FIXME: probably should cut on pT instead\n",
    "        if (mcp.getEnergy() < 1):\n",
    "            continue\n",
    "\n",
    "        reco_track = reco.getTrackStates(0)\n",
    "        cov = reco_track.covMatrix\n",
    "        mc_track = ROOT.HelixClass_double()\n",
    "        mc_pos = mcp.getVertex()\n",
    "        mc_pos_v = ROOT.std.vector[\"double\"]((mc_pos.x, mc_pos.y, mc_pos.z))\n",
    "        mc_mom = mcp.getMomentum()\n",
    "        mc_mom_v = ROOT.std.vector[\"double\"]((mc_mom.x, mc_mom.y, mc_mom.z))\n",
    "        mc_track.Initialize_VP(mc_pos_v.data(), mc_mom_v.data(), mcp.getCharge(), 2)\n",
    "        pull_omega = (reco_track.omega - mc_track.getOmega()) / sqrt(cov[5])\n",
    "        pull_phi = (reco_track.phi - mc_track.getPhi0()) / sqrt(cov[2])\n",
    "        # print(f\"energy: {mcp.getEnergy()}\")\n",
    "        # print(f\"reco omega: {reco_track.omega}\")\n",
    "        # print(f\"mc omega {mc_track.getOmega()}\")\n",
    "        # print(f\"sig_omega: {sqrt(cov[5])}\")\n",
    "        # print(f\"pull omega: {pull_omega}\")\n",
    "        h_omega.Fill(pull_omega)\n",
    "        h_phi.Fill(pull_phi)\n",
    "        h_momentum.Fill(mcp.getEnergy())\n",
    "        h_omega_2d.Fill(mcp.getEnergy(), pull_omega)\n",
    "\n"
   ]
  },
  {
   "cell_type": "code",
   "execution_count": 9,
   "metadata": {},
   "outputs": [
    {
     "name": "stdout",
     "output_type": "stream",
     "text": [
      " FCN=155.651 FROM MIGRAD    STATUS=CONVERGED      70 CALLS          71 TOTAL\n",
      "                     EDM=9.38732e-11    STRATEGY= 1  ERROR MATRIX UNCERTAINTY   2.4 per cent\n",
      "  EXT PARAMETER                                   STEP         FIRST   \n",
      "  NO.   NAME      VALUE            ERROR          SIZE      DERIVATIVE \n",
      "   1  Constant     4.44610e+01   3.01780e+00   4.26099e-03   4.03656e-06\n",
      "   2  Mean        -1.34719e-01   8.94974e-02  -3.11949e-05   3.73054e-05\n",
      "   3  Sigma        2.12244e+00   1.14611e-01  -2.10930e-05  -4.28960e-04\n",
      " FCN=70.0217 FROM MIGRAD    STATUS=CONVERGED      65 CALLS          66 TOTAL\n",
      "                     EDM=1.38017e-07    STRATEGY= 1      ERROR MATRIX ACCURATE \n",
      "  EXT PARAMETER                                   STEP         FIRST   \n",
      "  NO.   NAME      VALUE            ERROR          SIZE      DERIVATIVE \n",
      "   1  Constant     2.37160e+01   1.33011e+00   4.56034e-03   2.35025e-04\n",
      "   2  Mean        -6.98662e-02   1.67240e-01   6.85213e-04   9.02701e-04\n",
      "   3  Sigma        3.22551e+00   1.21381e-01   4.50003e-05   4.51127e-02\n"
     ]
    },
    {
     "data": {
      "text/html": [
       "\n",
       "\n",
       "<div id=\"root_plot_1707491164085\"\n",
       "     style=\"width: 700px; height: 500px\">\n",
       "</div>\n",
       "<script>\n",
       "\n",
       "function display_root_plot_1707491164085(Core) {\n",
       "   let obj = Core.parse({\"_typename\":\"TCanvas\",\"fUniqueID\":0,\"fBits\":3342344,\"fLineColor\":1,\"fLineStyle\":1,\"fLineWidth\":2,\"fFillColor\":10,\"fFillStyle\":1001,\"fLeftMargin\":0.15,\"fRightMargin\":0.05,\"fBottomMargin\":0.18,\"fTopMargin\":0.06,\"fXfile\":2,\"fYfile\":2,\"fAfile\":1,\"fXstat\":0.99,\"fYstat\":0.99,\"fAstat\":2,\"fFrameFillColor\":10,\"fFrameLineColor\":1,\"fFrameFillStyle\":1001,\"fFrameLineStyle\":1,\"fFrameLineWidth\":2,\"fFrameBorderSize\":1,\"fFrameBorderMode\":0,\"fX1\":-13.7500000931323,\"fY1\":-16.9105271999526,\"fX2\":11.25,\"fY2\":77.036842050003,\"fXtoAbsPixelk\":382.800051166761,\"fXtoPixelk\":382.800051166761,\"fXtoPixel\":27.8399998962879,\"fYtoAbsPixelk\":387.040046307492,\"fYtoPixelk\":387.040046307492,\"fYtoPixel\":-5.02408959152652,\"fUtoAbsPixelk\":5e-5,\"fUtoPixelk\":5e-5,\"fUtoPixel\":696,\"fVtoAbsPixelk\":472.00005,\"fVtoPixelk\":472,\"fVtoPixel\":-472,\"fAbsPixeltoXk\":-13.7500000931323,\"fPixeltoXk\":-13.7500000931323,\"fPixeltoX\":0.0359195403636958,\"fAbsPixeltoYk\":77.036842050003,\"fPixeltoYk\":-16.9105271999526,\"fPixeltoY\":-0.199041036546516,\"fXlowNDC\":0,\"fYlowNDC\":0,\"fXUpNDC\":1,\"fYUpNDC\":1,\"fWNDC\":1,\"fHNDC\":1,\"fAbsXlowNDC\":0,\"fAbsYlowNDC\":0,\"fAbsWNDC\":1,\"fAbsHNDC\":1,\"fUxmin\":-10,\"fUymin\":0,\"fUxmax\":10,\"fUymax\":71.4,\"fTheta\":30,\"fPhi\":30,\"fAspectRatio\":0,\"fNumber\":0,\"fTickx\":1,\"fTicky\":1,\"fLogx\":0,\"fLogy\":0,\"fLogz\":0,\"fPadPaint\":0,\"fCrosshair\":0,\"fCrosshairPos\":0,\"fBorderSize\":2,\"fBorderMode\":0,\"fModified\":true,\"fGridx\":false,\"fGridy\":false,\"fAbsCoord\":false,\"fEditable\":true,\"fFixedAspectRatio\":false,\"fPrimitives\":{\"_typename\":\"TList\",\"name\":\"TList\",\"arr\":[{\"_typename\":\"TFrame\",\"fUniqueID\":0,\"fBits\":8,\"fLineColor\":1,\"fLineStyle\":1,\"fLineWidth\":2,\"fFillColor\":10,\"fFillStyle\":1001,\"fX1\":-10,\"fY1\":0,\"fX2\":10,\"fY2\":71.4,\"fBorderSize\":1,\"fBorderMode\":0},{\"_typename\":\"TH1D\",\"fUniqueID\":0,\"fBits\":8,\"fName\":\"h_omega\",\"fTitle\":\"\",\"fLineColor\":1,\"fLineStyle\":1,\"fLineWidth\":2,\"fFillColor\":0,\"fFillStyle\":1001,\"fMarkerColor\":1,\"fMarkerStyle\":20,\"fMarkerSize\":0.7,\"fNcells\":52,\"fXaxis\":{\"_typename\":\"TAxis\",\"fUniqueID\":0,\"fBits\":0,\"fName\":\"xaxis\",\"fTitle\":\"pull #Omega\",\"fNdivisions\":506,\"fAxisColor\":1,\"fLabelColor\":1,\"fLabelFont\":42,\"fLabelOffset\":0.015,\"fLabelSize\":0.06,\"fTickLength\":0.03,\"fTitleOffset\":1,\"fTitleSize\":0.07,\"fTitleColor\":1,\"fTitleFont\":42,\"fNbins\":50,\"fXmin\":-10,\"fXmax\":10,\"fXbins\":[],\"fFirst\":0,\"fLast\":0,\"fBits2\":0,\"fTimeDisplay\":false,\"fTimeFormat\":\"\",\"fLabels\":null,\"fModLabs\":null},\"fYaxis\":{\"_typename\":\"TAxis\",\"fUniqueID\":0,\"fBits\":0,\"fName\":\"yaxis\",\"fTitle\":\"\",\"fNdivisions\":506,\"fAxisColor\":1,\"fLabelColor\":1,\"fLabelFont\":42,\"fLabelOffset\":0.015,\"fLabelSize\":0.06,\"fTickLength\":0.03,\"fTitleOffset\":1.1,\"fTitleSize\":0.07,\"fTitleColor\":1,\"fTitleFont\":42,\"fNbins\":1,\"fXmin\":0,\"fXmax\":1,\"fXbins\":[],\"fFirst\":0,\"fLast\":0,\"fBits2\":0,\"fTimeDisplay\":false,\"fTimeFormat\":\"\",\"fLabels\":null,\"fModLabs\":null},\"fZaxis\":{\"_typename\":\"TAxis\",\"fUniqueID\":0,\"fBits\":0,\"fName\":\"zaxis\",\"fTitle\":\"\",\"fNdivisions\":510,\"fAxisColor\":1,\"fLabelColor\":1,\"fLabelFont\":42,\"fLabelOffset\":0.015,\"fLabelSize\":0.06,\"fTickLength\":0.03,\"fTitleOffset\":1.1,\"fTitleSize\":0.07,\"fTitleColor\":1,\"fTitleFont\":42,\"fNbins\":1,\"fXmin\":0,\"fXmax\":1,\"fXbins\":[],\"fFirst\":0,\"fLast\":0,\"fBits2\":0,\"fTimeDisplay\":false,\"fTimeFormat\":\"\",\"fLabels\":null,\"fModLabs\":null},\"fBarOffset\":0,\"fBarWidth\":1000,\"fEntries\":1046,\"fTsumw\":747,\"fTsumw2\":747,\"fTsumwx\":30.2384725771026,\"fTsumwx2\":9415.69932533873,\"fMaximum\":-1111,\"fMinimum\":-1111,\"fNormFactor\":0,\"fContour\":[],\"fSumw2\":[],\"fOption\":\"\",\"fFunctions\":{\"_typename\":\"TList\",\"name\":\"TList\",\"arr\":[{\"_typename\":\"TF1\",\"fUniqueID\":0,\"fBits\":1024,\"fName\":\"gaus\",\"fTitle\":\"gaus\",\"fLineColor\":632,\"fLineStyle\":1,\"fLineWidth\":2,\"fFillColor\":10,\"fFillStyle\":0,\"fMarkerColor\":1,\"fMarkerStyle\":20,\"fMarkerSize\":0.7,\"fXmin\":-10,\"fXmax\":10,\"fNpar\":3,\"fNdim\":1,\"fNpx\":100,\"fType\":0,\"fNpfits\":50,\"fNDF\":47,\"fChisquare\":155.650932577236,\"fMinimum\":-1111,\"fMaximum\":-1111,\"fParErrors\":[3.01779944289743,0.0894974478150921,0.114610810081636],\"fParMin\":[0,0,0],\"fParMax\":[0,0,35.5119440282777],\"fSave\":{\"$arr\":\"Float64\",\"len\":103,\"v\":[9.04893446330892e-4,0.00139600554536073,0.00213461980788923,0.00323517380727708,0.004859799942177,0.0072357383881809,0.0106780269393462,0.0156186272082117,0.0226432309974673,0.0325370089005369,0.0463404819473366,0.065416477876824,0.0915287348793445,0.126932096372271,0.174473364950158,0.237700728341609,0.320978230756523,0.429600062970077,0.569897543362094,0.749329662179187,0.976546111635943,1.26141002092081,1.61496639426735,2.04934177642319,2.57756121502915,3.21327040540477,3.97035418815539,4.86244743151998,5.90234074932757,7.10129130487303,8.46825777580198,10.0090878672991,11.7256958555083,13.6152756866073,15.6696012486556,17.8744686870858,20.209335274286,22.6472048030375,25.154800490001,27.693053063892,30.2179146086639,32.6814887921269,35.0334466692655,37.222675926251,39.1990919963128,40.9155236904313,42.3295754131678,43.4053638856825,44.115030279011,44.4399388733698,44.371490264606,43.9114995842196,43.0721165124784,41.8752920047718,40.3518244040104,38.5400427983156,36.484206170872,34.2327115712775,31.8362122680089,29.3457473036951,26.8109773880183,24.2786095209313,21.7910754934248,19.3855091190552,17.0930454890927,14.9384444527796,12.94002143528,11.1098528309258,9.45421136166022,7.97417935698444,6.66638486938875,5.52380651056567,4.53659722842541,3.69288411734481,2.97950986271005,2.38269067997884,1.88857482343167,1.48369426034509,1.15530945737354,0.891653115608712,0.682082999902966,0.517156765369845,0.388643032806721,0.289483125959591,0.213717119395378,0.156386428371163,0.113423358164333,0.0815360433372928,0.0580952273000065,0.0410274919293606,0.028717932690017,0.0199239328269194,0.0137006337096948,0.00933791536182584,0.00630816293011863,0.00422376319748421,0.00280310852780789,0.00184384306661614,0.00120213069791946,7.7682485310285e-4,4.9755171401665e-4,-10,10]},\"fNormalized\":false,\"fNormIntegral\":0,\"fFormula\":{\"_typename\":\"TFormula\",\"fUniqueID\":0,\"fBits\":1024,\"fName\":\"gaus\",\"fTitle\":\"gaus\",\"fClingParameters\":[44.4609643615598,-0.134719090158973,2.12244400547033],\"fAllParametersSetted\":true,\"fParams\":[{\"$pair\":\"pair<TString,int,TFormulaParamOrder>\",\"first\":\"Constant\",\"second\":0},{\"$pair\":\"pair<TString,int,TFormulaParamOrder>\",\"first\":\"Mean\",\"second\":1},{\"$pair\":\"pair<TString,int,TFormulaParamOrder>\",\"first\":\"Sigma\",\"second\":2}],\"fFormula\":\"[Constant]*exp(-0.5*((x-[Mean])\\/[Sigma])*((x-[Mean])\\/[Sigma]))\",\"fNdim\":1,\"fLinearParts\":[],\"fVectorized\":false},\"fParams\":null,\"fComposition\":null},{\"_typename\":\"TPaveStats\",\"fUniqueID\":0,\"fBits\":9,\"fLineColor\":1,\"fLineStyle\":1,\"fLineWidth\":2,\"fFillColor\":10,\"fFillStyle\":1001,\"fX1\":5.75000038184226,\"fY1\":50.2618421497476,\"fX2\":10.7500004749745,\"fY2\":76.5671056517292,\"fX1NDC\":0.780000016093254,\"fY1NDC\":0.715000003576279,\"fX2NDC\":0.980000019073486,\"fY2NDC\":0.995000004768372,\"fBorderSize\":0,\"fInit\":1,\"fShadowColor\":1,\"fCornerRadius\":0,\"fOption\":\"brNDC\",\"fName\":\"stats\",\"fTextAngle\":0,\"fTextSize\":0,\"fTextAlign\":12,\"fTextColor\":1,\"fTextFont\":42,\"fLabel\":\"\",\"fLongest\":18,\"fMargin\":0.05,\"fLines\":{\"_typename\":\"TList\",\"name\":\"TList\",\"arr\":[{\"_typename\":\"TLatex\",\"fUniqueID\":0,\"fBits\":0,\"fName\":\"\",\"fTitle\":\"h_omega\",\"fTextAngle\":0,\"fTextSize\":0.0644,\"fTextAlign\":0,\"fTextColor\":0,\"fTextFont\":0,\"fX\":0,\"fY\":0,\"fLineColor\":1,\"fLineStyle\":1,\"fLineWidth\":2,\"fLimitFactorSize\":3,\"fOriginSize\":0.0644000023603439},{\"_typename\":\"TLatex\",\"fUniqueID\":0,\"fBits\":0,\"fName\":\"\",\"fTitle\":\"Entries = 1046   \",\"fTextAngle\":0,\"fTextSize\":0,\"fTextAlign\":0,\"fTextColor\":0,\"fTextFont\":0,\"fX\":0,\"fY\":0,\"fLineColor\":1,\"fLineStyle\":1,\"fLineWidth\":2,\"fLimitFactorSize\":3,\"fOriginSize\":0.04},{\"_typename\":\"TLatex\",\"fUniqueID\":0,\"fBits\":0,\"fName\":\"\",\"fTitle\":\"Mean  = 0.04048\",\"fTextAngle\":0,\"fTextSize\":0,\"fTextAlign\":0,\"fTextColor\":0,\"fTextFont\":0,\"fX\":0,\"fY\":0,\"fLineColor\":1,\"fLineStyle\":1,\"fLineWidth\":2,\"fLimitFactorSize\":3,\"fOriginSize\":0.04},{\"_typename\":\"TLatex\",\"fUniqueID\":0,\"fBits\":0,\"fName\":\"\",\"fTitle\":\"Std Dev   =   3.55\",\"fTextAngle\":0,\"fTextSize\":0,\"fTextAlign\":0,\"fTextColor\":0,\"fTextFont\":0,\"fX\":0,\"fY\":0,\"fLineColor\":1,\"fLineStyle\":1,\"fLineWidth\":2,\"fLimitFactorSize\":3,\"fOriginSize\":0.04}],\"opt\":[\"\",\"\",\"\",\"\"]},\"fOptFit\":0,\"fOptStat\":1111,\"fFitFormat\":\"5.4g\",\"fStatFormat\":\"6.4g\",\"fParent\":{\"$ref\":3}}],\"opt\":[\"\",\"brNDC\"]},\"fBufferSize\":0,\"fBuffer\":[],\"fBinStatErrOpt\":0,\"fStatOverflows\":2,\"fArray\":{\"$arr\":\"Float64\",\"len\":52,\"v\":[153,8,3,2,4,2,7,3,4,5,6,6,6,4,8,5,10,17,17,18,17,32,48,32,42,50,68,56,54,41,30,19,17,6,10,10,7,6,5,9,1,5,7,2,5,5,6,5,6,7,4,146]}},{\"_typename\":\"TStyle\",\"fUniqueID\":0,\"fBits\":0,\"fName\":\"ildStyle\",\"fTitle\":\"ILD Style\",\"fLineColor\":1,\"fLineStyle\":1,\"fLineWidth\":2,\"fFillColor\":10,\"fFillStyle\":1001,\"fMarkerColor\":1,\"fMarkerStyle\":20,\"fMarkerSize\":0.7,\"fTextAngle\":0,\"fTextSize\":0.05,\"fTextAlign\":11,\"fTextColor\":1,\"fTextFont\":42,\"fXaxis\":{\"_typename\":\"TAttAxis\",\"fNdivisions\":506,\"fAxisColor\":1,\"fLabelColor\":1,\"fLabelFont\":42,\"fLabelOffset\":0.015,\"fLabelSize\":0.06,\"fTickLength\":0.03,\"fTitleOffset\":1,\"fTitleSize\":0.07,\"fTitleColor\":1,\"fTitleFont\":42},\"fYaxis\":{\"_typename\":\"TAttAxis\",\"fNdivisions\":506,\"fAxisColor\":1,\"fLabelColor\":1,\"fLabelFont\":42,\"fLabelOffset\":0.015,\"fLabelSize\":0.06,\"fTickLength\":0.03,\"fTitleOffset\":1.1,\"fTitleSize\":0.07,\"fTitleColor\":1,\"fTitleFont\":42},\"fZaxis\":{\"_typename\":\"TAttAxis\",\"fNdivisions\":510,\"fAxisColor\":1,\"fLabelColor\":1,\"fLabelFont\":42,\"fLabelOffset\":0.015,\"fLabelSize\":0.06,\"fTickLength\":0.03,\"fTitleOffset\":1.1,\"fTitleSize\":0.07,\"fTitleColor\":1,\"fTitleFont\":42},\"fBarWidth\":1,\"fBarOffset\":0,\"fColorModelPS\":0,\"fDrawBorder\":0,\"fOptLogx\":0,\"fOptLogy\":0,\"fOptLogz\":0,\"fOptDate\":0,\"fOptStat\":1,\"fOptTitle\":1,\"fOptFile\":0,\"fOptFit\":0,\"fShowEventStatus\":0,\"fShowEditor\":0,\"fShowToolBar\":0,\"fNumberContours\":20,\"fAttDate\":{\"_typename\":\"TAttText\",\"fTextAngle\":0,\"fTextSize\":0.025,\"fTextAlign\":11,\"fTextColor\":1,\"fTextFont\":62},\"fDateX\":0.01,\"fDateY\":0.01,\"fEndErrorSize\":2,\"fErrorX\":0.5,\"fFuncColor\":632,\"fFuncStyle\":1,\"fFuncWidth\":2,\"fGridColor\":0,\"fGridStyle\":3,\"fGridWidth\":1,\"fLegendBorderSize\":0,\"fLegendFillColor\":0,\"fLegendFont\":62,\"fLegendTextSize\":0,\"fHatchesLineWidth\":1,\"fHatchesSpacing\":1,\"fFrameFillColor\":10,\"fFrameLineColor\":1,\"fFrameFillStyle\":1001,\"fFrameLineStyle\":1,\"fFrameLineWidth\":2,\"fFrameBorderSize\":1,\"fFrameBorderMode\":0,\"fHistFillColor\":0,\"fHistLineColor\":1,\"fHistFillStyle\":1001,\"fHistLineStyle\":1,\"fHistLineWidth\":2,\"fHistMinimumZero\":false,\"fHistTopMargin\":0.05,\"fCanvasPreferGL\":false,\"fCanvasColor\":10,\"fCanvasBorderSize\":2,\"fCanvasBorderMode\":0,\"fCanvasDefH\":500,\"fCanvasDefW\":700,\"fCanvasDefX\":10,\"fCanvasDefY\":10,\"fPadColor\":10,\"fPadBorderSize\":2,\"fPadBorderMode\":0,\"fPadBottomMargin\":0.18,\"fPadTopMargin\":0.06,\"fPadLeftMargin\":0.15,\"fPadRightMargin\":0.05,\"fPadGridX\":false,\"fPadGridY\":false,\"fPadTickX\":1,\"fPadTickY\":1,\"fPaperSizeX\":20,\"fPaperSizeY\":26,\"fScreenFactor\":1,\"fStatColor\":10,\"fStatTextColor\":1,\"fStatBorderSize\":0,\"fStatFont\":42,\"fStatFontSize\":0.07,\"fStatStyle\":1001,\"fStatFormat\":\"6.4g\",\"fStatX\":0.98,\"fStatY\":0.995,\"fStatW\":0.2,\"fStatH\":0.16,\"fStripDecimals\":true,\"fTitleAlign\":13,\"fTitleColor\":0,\"fTitleTextColor\":1,\"fTitleBorderSize\":0,\"fTitleFont\":62,\"fTitleFontSize\":0,\"fTitleStyle\":1001,\"fTitleX\":0.01,\"fTitleY\":0.995,\"fTitleW\":0,\"fTitleH\":0,\"fLegoInnerR\":0.5,\"fLineStyles\":[\"\",\"  \",\" 12 12\",\" 4 8\",\" 12 16 4 16\",\" 20 12 4 12\",\" 20 12 4 12 4 12 4 12\",\" 20 20\",\" 20 12 4 12 4 12\",\" 80 20\",\" 80 40 4 40\",\"  \",\"  \",\"  \",\"  \",\"  \",\"  \",\"  \",\"  \",\"  \",\"  \",\"  \",\"  \",\"  \",\"  \",\"  \",\"  \",\"  \",\"  \",\"  \"],\"fHeaderPS\":\"\",\"fTitlePS\":\"\",\"fFitFormat\":\"5.4g\",\"fPaintTextFormat\":\"g\",\"fLineScalePS\":3,\"fJoinLinePS\":0,\"fCapLinePS\":0,\"fTimeOffset\":788918400,\"fImageScaling\":1}],\"opt\":[\"\",\"\",\"\"]},\"fExecs\":null,\"fName\":\"c1\",\"fTitle\":\"c1\",\"fNumPaletteColor\":0,\"fNextPaletteColor\":0,\"fDISPLAY\":\"$DISPLAY\",\"fDoubleBuffer\":0,\"fRetained\":true,\"fXsizeUser\":0,\"fYsizeUser\":0,\"fXsizeReal\":20,\"fYsizeReal\":14.28571,\"fWindowTopX\":0,\"fWindowTopY\":0,\"fWindowWidth\":0,\"fWindowHeight\":0,\"fCw\":696,\"fCh\":472,\"fCatt\":{\"_typename\":\"TAttCanvas\",\"fXBetween\":2,\"fYBetween\":2,\"fTitleFromTop\":1.2,\"fXdate\":0.2,\"fYdate\":0.3,\"fAdate\":1},\"kMoveOpaque\":true,\"kResizeOpaque\":true,\"fHighLightColor\":2,\"fBatch\":true,\"kShowEventStatus\":false,\"kAutoExec\":true,\"kMenuBar\":true});\n",
       "   Core.settings.HandleKeys = false;\n",
       "   Core.draw(\"root_plot_1707491164085\", obj, \"\");\n",
       "}\n",
       "\n",
       "function script_load_root_plot_1707491164085(src, on_error) {\n",
       "    let script = document.createElement('script');\n",
       "    script.src = src;\n",
       "    script.onload = function() { display_root_plot_1707491164085(JSROOT); };\n",
       "    script.onerror = function() { script.remove(); on_error(); };\n",
       "    document.head.appendChild(script);\n",
       "}\n",
       "\n",
       "if (typeof requirejs !== 'undefined') {\n",
       "\n",
       "    // We are in jupyter notebooks, use require.js which should be configured already\n",
       "    requirejs.config({\n",
       "       paths: { 'JSRootCore' : [ 'build/jsroot', 'https://root.cern/js/7.3.4/build/jsroot', 'https://jsroot.gsi.de/7.3.4/build/jsroot' ] }\n",
       "    })(['JSRootCore'],  function(Core) {\n",
       "       display_root_plot_1707491164085(Core);\n",
       "    });\n",
       "\n",
       "} else if (typeof JSROOT !== 'undefined') {\n",
       "\n",
       "   // JSROOT already loaded, just use it\n",
       "   display_root_plot_1707491164085(JSROOT);\n",
       "\n",
       "} else {\n",
       "\n",
       "    // We are in jupyterlab without require.js, directly loading jsroot\n",
       "    // Jupyterlab might be installed in a different base_url so we need to know it.\n",
       "    try {\n",
       "        var base_url = JSON.parse(document.getElementById('jupyter-config-data').innerHTML).baseUrl;\n",
       "    } catch(_) {\n",
       "        var base_url = '/';\n",
       "    }\n",
       "\n",
       "    // Try loading a local version of requirejs and fallback to cdn if not possible.\n",
       "    script_load_root_plot_1707491164085(base_url + 'static/build/jsroot.js', function(){\n",
       "        console.error('Fail to load JSROOT locally, please check your jupyter_notebook_config.py file');\n",
       "        script_load_root_plot_1707491164085('https://root.cern/js/7.3.4/build/jsroot.js', function(){\n",
       "            document.getElementById(\"root_plot_1707491164085\").innerHTML = \"Failed to load JSROOT\";\n",
       "        });\n",
       "    });\n",
       "}\n",
       "\n",
       "</script>\n"
      ],
      "text/plain": [
       "<IPython.core.display.HTML object>"
      ]
     },
     "metadata": {},
     "output_type": "display_data"
    },
    {
     "data": {
      "text/html": [
       "\n",
       "\n",
       "<div id=\"root_plot_1707491164093\"\n",
       "     style=\"width: 700px; height: 500px\">\n",
       "</div>\n",
       "<script>\n",
       "\n",
       "function display_root_plot_1707491164093(Core) {\n",
       "   let obj = Core.parse({\"_typename\":\"TCanvas\",\"fUniqueID\":0,\"fBits\":3342344,\"fLineColor\":1,\"fLineStyle\":1,\"fLineWidth\":2,\"fFillColor\":10,\"fFillStyle\":1001,\"fLeftMargin\":0.15,\"fRightMargin\":0.05,\"fBottomMargin\":0.18,\"fTopMargin\":0.06,\"fXfile\":2,\"fYfile\":2,\"fAfile\":1,\"fXstat\":0.99,\"fYstat\":0.99,\"fAstat\":2,\"fFrameFillColor\":10,\"fFrameLineColor\":1,\"fFrameFillStyle\":1001,\"fFrameLineStyle\":1,\"fFrameLineWidth\":2,\"fFrameBorderSize\":1,\"fFrameBorderMode\":0,\"fX1\":-13.7500000931323,\"fY1\":-9.69868471761986,\"fX2\":11.25,\"fY2\":44.1828947051488,\"fXtoAbsPixelk\":382.800051166761,\"fXtoPixelk\":382.800051166761,\"fXtoPixel\":27.8399998962879,\"fYtoAbsPixelk\":387.040046307492,\"fYtoPixelk\":387.040046307492,\"fYtoPixel\":-8.75995108266162,\"fUtoAbsPixelk\":5e-5,\"fUtoPixelk\":5e-5,\"fUtoPixel\":696,\"fVtoAbsPixelk\":472.00005,\"fVtoPixelk\":472,\"fVtoPixel\":-472,\"fAbsPixeltoXk\":-13.7500000931323,\"fPixeltoXk\":-13.7500000931323,\"fPixeltoX\":0.0359195403636958,\"fAbsPixeltoYk\":44.1828947051488,\"fPixeltoYk\":-9.69868471761986,\"fPixeltoY\":-0.114155888607561,\"fXlowNDC\":0,\"fYlowNDC\":0,\"fXUpNDC\":1,\"fYUpNDC\":1,\"fWNDC\":1,\"fHNDC\":1,\"fAbsXlowNDC\":0,\"fAbsYlowNDC\":0,\"fAbsWNDC\":1,\"fAbsHNDC\":1,\"fUxmin\":-10,\"fUymin\":0,\"fUxmax\":10,\"fUymax\":40.95,\"fTheta\":30,\"fPhi\":30,\"fAspectRatio\":0,\"fNumber\":0,\"fTickx\":1,\"fTicky\":1,\"fLogx\":0,\"fLogy\":0,\"fLogz\":0,\"fPadPaint\":0,\"fCrosshair\":0,\"fCrosshairPos\":0,\"fBorderSize\":2,\"fBorderMode\":0,\"fModified\":true,\"fGridx\":false,\"fGridy\":false,\"fAbsCoord\":false,\"fEditable\":true,\"fFixedAspectRatio\":false,\"fPrimitives\":{\"_typename\":\"TList\",\"name\":\"TList\",\"arr\":[{\"_typename\":\"TFrame\",\"fUniqueID\":0,\"fBits\":8,\"fLineColor\":1,\"fLineStyle\":1,\"fLineWidth\":2,\"fFillColor\":10,\"fFillStyle\":1001,\"fX1\":-10,\"fY1\":0,\"fX2\":10,\"fY2\":40.95,\"fBorderSize\":1,\"fBorderMode\":0},{\"_typename\":\"TH1D\",\"fUniqueID\":0,\"fBits\":8,\"fName\":\"h_phi\",\"fTitle\":\"\",\"fLineColor\":1,\"fLineStyle\":1,\"fLineWidth\":2,\"fFillColor\":0,\"fFillStyle\":1001,\"fMarkerColor\":1,\"fMarkerStyle\":20,\"fMarkerSize\":0.7,\"fNcells\":52,\"fXaxis\":{\"_typename\":\"TAxis\",\"fUniqueID\":0,\"fBits\":0,\"fName\":\"xaxis\",\"fTitle\":\"pull #phi\",\"fNdivisions\":506,\"fAxisColor\":1,\"fLabelColor\":1,\"fLabelFont\":42,\"fLabelOffset\":0.015,\"fLabelSize\":0.06,\"fTickLength\":0.03,\"fTitleOffset\":1,\"fTitleSize\":0.07,\"fTitleColor\":1,\"fTitleFont\":42,\"fNbins\":50,\"fXmin\":-10,\"fXmax\":10,\"fXbins\":[],\"fFirst\":0,\"fLast\":0,\"fBits2\":0,\"fTimeDisplay\":false,\"fTimeFormat\":\"\",\"fLabels\":null,\"fModLabs\":null},\"fYaxis\":{\"_typename\":\"TAxis\",\"fUniqueID\":0,\"fBits\":0,\"fName\":\"yaxis\",\"fTitle\":\"\",\"fNdivisions\":506,\"fAxisColor\":1,\"fLabelColor\":1,\"fLabelFont\":42,\"fLabelOffset\":0.015,\"fLabelSize\":0.06,\"fTickLength\":0.03,\"fTitleOffset\":1.1,\"fTitleSize\":0.07,\"fTitleColor\":1,\"fTitleFont\":42,\"fNbins\":1,\"fXmin\":0,\"fXmax\":1,\"fXbins\":[],\"fFirst\":0,\"fLast\":0,\"fBits2\":0,\"fTimeDisplay\":false,\"fTimeFormat\":\"\",\"fLabels\":null,\"fModLabs\":null},\"fZaxis\":{\"_typename\":\"TAxis\",\"fUniqueID\":0,\"fBits\":0,\"fName\":\"zaxis\",\"fTitle\":\"\",\"fNdivisions\":510,\"fAxisColor\":1,\"fLabelColor\":1,\"fLabelFont\":42,\"fLabelOffset\":0.015,\"fLabelSize\":0.06,\"fTickLength\":0.03,\"fTitleOffset\":1.1,\"fTitleSize\":0.07,\"fTitleColor\":1,\"fTitleFont\":42,\"fNbins\":1,\"fXmin\":0,\"fXmax\":1,\"fXbins\":[],\"fFirst\":0,\"fLast\":0,\"fBits2\":0,\"fTimeDisplay\":false,\"fTimeFormat\":\"\",\"fLabels\":null,\"fModLabs\":null},\"fBarOffset\":0,\"fBarWidth\":1000,\"fEntries\":1046,\"fTsumw\":528,\"fTsumw2\":528,\"fTsumwx\":23.2055992054771,\"fTsumwx2\":4658.02100705955,\"fMaximum\":-1111,\"fMinimum\":-1111,\"fNormFactor\":0,\"fContour\":[],\"fSumw2\":[],\"fOption\":\"\",\"fFunctions\":{\"_typename\":\"TList\",\"name\":\"TList\",\"arr\":[{\"_typename\":\"TF1\",\"fUniqueID\":0,\"fBits\":1024,\"fName\":\"gaus\",\"fTitle\":\"gaus\",\"fLineColor\":632,\"fLineStyle\":1,\"fLineWidth\":2,\"fFillColor\":10,\"fFillStyle\":0,\"fMarkerColor\":1,\"fMarkerStyle\":20,\"fMarkerSize\":0.7,\"fXmin\":-10,\"fXmax\":10,\"fNpar\":3,\"fNdim\":1,\"fNpx\":100,\"fType\":0,\"fNpfits\":37,\"fNDF\":34,\"fChisquare\":70.0217282908781,\"fMinimum\":-1111,\"fMaximum\":-1111,\"fParErrors\":[1.33011424279211,0.167240043662961,0.121381322308275],\"fParMin\":[0,0,0],\"fParMax\":[0,0,29.6842804909343],\"fSave\":{\"$arr\":\"Float64\",\"len\":103,\"v\":[0.207462223392549,0.250615243059751,0.301582546904934,0.361522385956989,0.431712329790068,0.513551471517447,0.608560515847261,0.718379337842306,0.844761595143842,0.989565984549565,1.15474375710287,1.34232214614066,1.55438342157852,1.79303936210129,2.06040103525493,2.35854389332236,2.68946832906645,3.05505598774011,3.45702229700576,3.89686585037461,4.37581545731371,4.89477584824764,5.45427318856089,6.05440170513354,6.69477285441239,7.3744685550775,8.09200006394523,8.84527408453302,9.63156765848994,10.4475132971199,11.2890956615176,12.1516608954665,13.0299394575029,13.9180829920599,14.8097154313189,15.6979981384851,16.5757085008355,17.4353309698666,18.2691591402379,19.0694070736583,19.828327723211,20.5383360121076,21.1921338815684,21.7828344567093,22.3040823958509,22.7501674935903,23.1161287040833,23.3978459376581,23.5921172569273,23.6967194504097,23.7104503815056,23.6331519849134,23.465713295398,23.2100534277629,22.8690849636188,22.4466587216141,21.9474913754207,21.3770778215389,20.7415905725903,20.0477687495099,19.3027994593494,18.5141944690272,17.6896651176241,16.8369983524981,15.9639366326797,15.0780642247674,14.1867021324835,13.2968135637451,12.4149214625328,11.5470392316883,10.6986153618618,9.87449227543918,9.07887930564213,8.31533937181819,7.58678859201478,6.89550780090331,6.24316472031854,5.63084536409227,5.05909314920884,4.52795413020976,4.03702676997842,3.5855147027395,3.17228102828807,2.79590279324082,2.45472445810318,2.14690931064826,1.87048795914709,1.62340321645748,1.40355086160688,1.20881593386395,1.03710437088704,0.886369943871284,0.754636566194115,0.640016156358858,0.540722320425379,0.455080183761675,0.38153274768787,0.318644174796572,0.265100419209766,0.219707616838512,0.181388638066508,-10,10]},\"fNormalized\":false,\"fNormIntegral\":0,\"fFormula\":{\"_typename\":\"TFormula\",\"fUniqueID\":0,\"fBits\":1024,\"fName\":\"gaus\",\"fTitle\":\"gaus\",\"fClingParameters\":[23.7160132385926,-0.0698662312467994,3.22551258079138],\"fAllParametersSetted\":true,\"fParams\":[{\"$pair\":\"pair<TString,int,TFormulaParamOrder>\",\"first\":\"Constant\",\"second\":0},{\"$pair\":\"pair<TString,int,TFormulaParamOrder>\",\"first\":\"Mean\",\"second\":1},{\"$pair\":\"pair<TString,int,TFormulaParamOrder>\",\"first\":\"Sigma\",\"second\":2}],\"fFormula\":\"[Constant]*exp(-0.5*((x-[Mean])\\/[Sigma])*((x-[Mean])\\/[Sigma]))\",\"fNdim\":1,\"fLinearParts\":[],\"fVectorized\":false},\"fParams\":null,\"fComposition\":null},{\"_typename\":\"TPaveStats\",\"fUniqueID\":0,\"fBits\":9,\"fLineColor\":1,\"fLineStyle\":1,\"fLineWidth\":2,\"fFillColor\":10,\"fFillStyle\":1001,\"fX1\":5.75000038184226,\"fY1\":28.8266447623553,\"fX2\":10.7500004749745,\"fY2\":43.9134870649623,\"fX1NDC\":0.780000016093254,\"fY1NDC\":0.715000003576279,\"fX2NDC\":0.980000019073486,\"fY2NDC\":0.995000004768372,\"fBorderSize\":0,\"fInit\":1,\"fShadowColor\":1,\"fCornerRadius\":0,\"fOption\":\"brNDC\",\"fName\":\"stats\",\"fTextAngle\":0,\"fTextSize\":0,\"fTextAlign\":12,\"fTextColor\":1,\"fTextFont\":42,\"fLabel\":\"\",\"fLongest\":18,\"fMargin\":0.05,\"fLines\":{\"_typename\":\"TList\",\"name\":\"TList\",\"arr\":[{\"_typename\":\"TLatex\",\"fUniqueID\":0,\"fBits\":0,\"fName\":\"\",\"fTitle\":\"h_phi\",\"fTextAngle\":0,\"fTextSize\":0.0644,\"fTextAlign\":0,\"fTextColor\":0,\"fTextFont\":0,\"fX\":0,\"fY\":0,\"fLineColor\":1,\"fLineStyle\":1,\"fLineWidth\":2,\"fLimitFactorSize\":3,\"fOriginSize\":0.0644000023603439},{\"_typename\":\"TLatex\",\"fUniqueID\":0,\"fBits\":0,\"fName\":\"\",\"fTitle\":\"Entries = 1046   \",\"fTextAngle\":0,\"fTextSize\":0,\"fTextAlign\":0,\"fTextColor\":0,\"fTextFont\":0,\"fX\":0,\"fY\":0,\"fLineColor\":1,\"fLineStyle\":1,\"fLineWidth\":2,\"fLimitFactorSize\":3,\"fOriginSize\":0.04},{\"_typename\":\"TLatex\",\"fUniqueID\":0,\"fBits\":0,\"fName\":\"\",\"fTitle\":\"Mean  = 0.04395\",\"fTextAngle\":0,\"fTextSize\":0,\"fTextAlign\":0,\"fTextColor\":0,\"fTextFont\":0,\"fX\":0,\"fY\":0,\"fLineColor\":1,\"fLineStyle\":1,\"fLineWidth\":2,\"fLimitFactorSize\":3,\"fOriginSize\":0.04},{\"_typename\":\"TLatex\",\"fUniqueID\":0,\"fBits\":0,\"fName\":\"\",\"fTitle\":\"Std Dev   =   2.97\",\"fTextAngle\":0,\"fTextSize\":0,\"fTextAlign\":0,\"fTextColor\":0,\"fTextFont\":0,\"fX\":0,\"fY\":0,\"fLineColor\":1,\"fLineStyle\":1,\"fLineWidth\":2,\"fLimitFactorSize\":3,\"fOriginSize\":0.04}],\"opt\":[\"\",\"\",\"\",\"\"]},\"fOptFit\":0,\"fOptStat\":1111,\"fFitFormat\":\"5.4g\",\"fStatFormat\":\"6.4g\",\"fParent\":{\"$ref\":3}}],\"opt\":[\"\",\"brNDC\"]},\"fBufferSize\":0,\"fBuffer\":[],\"fBinStatErrOpt\":0,\"fStatOverflows\":2,\"fArray\":{\"$arr\":\"Float64\",\"len\":52,\"v\":[511,0,0,0,0,0,1,0,2,1,0,0,9,5,11,18,12,18,21,26,29,27,28,26,17,16,13,15,18,39,28,24,25,21,20,15,10,6,3,10,5,0,4,0,2,1,1,0,0,1,0,7]}},{\"_typename\":\"TStyle\",\"fUniqueID\":0,\"fBits\":0,\"fName\":\"ildStyle\",\"fTitle\":\"ILD Style\",\"fLineColor\":1,\"fLineStyle\":1,\"fLineWidth\":2,\"fFillColor\":10,\"fFillStyle\":1001,\"fMarkerColor\":1,\"fMarkerStyle\":20,\"fMarkerSize\":0.7,\"fTextAngle\":0,\"fTextSize\":0.05,\"fTextAlign\":11,\"fTextColor\":1,\"fTextFont\":42,\"fXaxis\":{\"_typename\":\"TAttAxis\",\"fNdivisions\":506,\"fAxisColor\":1,\"fLabelColor\":1,\"fLabelFont\":42,\"fLabelOffset\":0.015,\"fLabelSize\":0.06,\"fTickLength\":0.03,\"fTitleOffset\":1,\"fTitleSize\":0.07,\"fTitleColor\":1,\"fTitleFont\":42},\"fYaxis\":{\"_typename\":\"TAttAxis\",\"fNdivisions\":506,\"fAxisColor\":1,\"fLabelColor\":1,\"fLabelFont\":42,\"fLabelOffset\":0.015,\"fLabelSize\":0.06,\"fTickLength\":0.03,\"fTitleOffset\":1.1,\"fTitleSize\":0.07,\"fTitleColor\":1,\"fTitleFont\":42},\"fZaxis\":{\"_typename\":\"TAttAxis\",\"fNdivisions\":510,\"fAxisColor\":1,\"fLabelColor\":1,\"fLabelFont\":42,\"fLabelOffset\":0.015,\"fLabelSize\":0.06,\"fTickLength\":0.03,\"fTitleOffset\":1.1,\"fTitleSize\":0.07,\"fTitleColor\":1,\"fTitleFont\":42},\"fBarWidth\":1,\"fBarOffset\":0,\"fColorModelPS\":0,\"fDrawBorder\":0,\"fOptLogx\":0,\"fOptLogy\":0,\"fOptLogz\":0,\"fOptDate\":0,\"fOptStat\":1,\"fOptTitle\":1,\"fOptFile\":0,\"fOptFit\":0,\"fShowEventStatus\":0,\"fShowEditor\":0,\"fShowToolBar\":0,\"fNumberContours\":20,\"fAttDate\":{\"_typename\":\"TAttText\",\"fTextAngle\":0,\"fTextSize\":0.025,\"fTextAlign\":11,\"fTextColor\":1,\"fTextFont\":62},\"fDateX\":0.01,\"fDateY\":0.01,\"fEndErrorSize\":2,\"fErrorX\":0.5,\"fFuncColor\":632,\"fFuncStyle\":1,\"fFuncWidth\":2,\"fGridColor\":0,\"fGridStyle\":3,\"fGridWidth\":1,\"fLegendBorderSize\":0,\"fLegendFillColor\":0,\"fLegendFont\":62,\"fLegendTextSize\":0,\"fHatchesLineWidth\":1,\"fHatchesSpacing\":1,\"fFrameFillColor\":10,\"fFrameLineColor\":1,\"fFrameFillStyle\":1001,\"fFrameLineStyle\":1,\"fFrameLineWidth\":2,\"fFrameBorderSize\":1,\"fFrameBorderMode\":0,\"fHistFillColor\":0,\"fHistLineColor\":1,\"fHistFillStyle\":1001,\"fHistLineStyle\":1,\"fHistLineWidth\":2,\"fHistMinimumZero\":false,\"fHistTopMargin\":0.05,\"fCanvasPreferGL\":false,\"fCanvasColor\":10,\"fCanvasBorderSize\":2,\"fCanvasBorderMode\":0,\"fCanvasDefH\":500,\"fCanvasDefW\":700,\"fCanvasDefX\":10,\"fCanvasDefY\":10,\"fPadColor\":10,\"fPadBorderSize\":2,\"fPadBorderMode\":0,\"fPadBottomMargin\":0.18,\"fPadTopMargin\":0.06,\"fPadLeftMargin\":0.15,\"fPadRightMargin\":0.05,\"fPadGridX\":false,\"fPadGridY\":false,\"fPadTickX\":1,\"fPadTickY\":1,\"fPaperSizeX\":20,\"fPaperSizeY\":26,\"fScreenFactor\":1,\"fStatColor\":10,\"fStatTextColor\":1,\"fStatBorderSize\":0,\"fStatFont\":42,\"fStatFontSize\":0.07,\"fStatStyle\":1001,\"fStatFormat\":\"6.4g\",\"fStatX\":0.98,\"fStatY\":0.995,\"fStatW\":0.2,\"fStatH\":0.16,\"fStripDecimals\":true,\"fTitleAlign\":13,\"fTitleColor\":0,\"fTitleTextColor\":1,\"fTitleBorderSize\":0,\"fTitleFont\":62,\"fTitleFontSize\":0,\"fTitleStyle\":1001,\"fTitleX\":0.01,\"fTitleY\":0.995,\"fTitleW\":0,\"fTitleH\":0,\"fLegoInnerR\":0.5,\"fLineStyles\":[\"\",\"  \",\" 12 12\",\" 4 8\",\" 12 16 4 16\",\" 20 12 4 12\",\" 20 12 4 12 4 12 4 12\",\" 20 20\",\" 20 12 4 12 4 12\",\" 80 20\",\" 80 40 4 40\",\"  \",\"  \",\"  \",\"  \",\"  \",\"  \",\"  \",\"  \",\"  \",\"  \",\"  \",\"  \",\"  \",\"  \",\"  \",\"  \",\"  \",\"  \",\"  \"],\"fHeaderPS\":\"\",\"fTitlePS\":\"\",\"fFitFormat\":\"5.4g\",\"fPaintTextFormat\":\"g\",\"fLineScalePS\":3,\"fJoinLinePS\":0,\"fCapLinePS\":0,\"fTimeOffset\":788918400,\"fImageScaling\":1}],\"opt\":[\"\",\"\",\"\"]},\"fExecs\":null,\"fName\":\"c1_n2\",\"fTitle\":\"c1_n2\",\"fNumPaletteColor\":0,\"fNextPaletteColor\":0,\"fDISPLAY\":\"$DISPLAY\",\"fDoubleBuffer\":0,\"fRetained\":true,\"fXsizeUser\":0,\"fYsizeUser\":0,\"fXsizeReal\":20,\"fYsizeReal\":14.28571,\"fWindowTopX\":0,\"fWindowTopY\":0,\"fWindowWidth\":0,\"fWindowHeight\":0,\"fCw\":696,\"fCh\":472,\"fCatt\":{\"_typename\":\"TAttCanvas\",\"fXBetween\":2,\"fYBetween\":2,\"fTitleFromTop\":1.2,\"fXdate\":0.2,\"fYdate\":0.3,\"fAdate\":1},\"kMoveOpaque\":true,\"kResizeOpaque\":true,\"fHighLightColor\":2,\"fBatch\":true,\"kShowEventStatus\":false,\"kAutoExec\":true,\"kMenuBar\":true});\n",
       "   Core.settings.HandleKeys = false;\n",
       "   Core.draw(\"root_plot_1707491164093\", obj, \"\");\n",
       "}\n",
       "\n",
       "function script_load_root_plot_1707491164093(src, on_error) {\n",
       "    let script = document.createElement('script');\n",
       "    script.src = src;\n",
       "    script.onload = function() { display_root_plot_1707491164093(JSROOT); };\n",
       "    script.onerror = function() { script.remove(); on_error(); };\n",
       "    document.head.appendChild(script);\n",
       "}\n",
       "\n",
       "if (typeof requirejs !== 'undefined') {\n",
       "\n",
       "    // We are in jupyter notebooks, use require.js which should be configured already\n",
       "    requirejs.config({\n",
       "       paths: { 'JSRootCore' : [ 'build/jsroot', 'https://root.cern/js/7.3.4/build/jsroot', 'https://jsroot.gsi.de/7.3.4/build/jsroot' ] }\n",
       "    })(['JSRootCore'],  function(Core) {\n",
       "       display_root_plot_1707491164093(Core);\n",
       "    });\n",
       "\n",
       "} else if (typeof JSROOT !== 'undefined') {\n",
       "\n",
       "   // JSROOT already loaded, just use it\n",
       "   display_root_plot_1707491164093(JSROOT);\n",
       "\n",
       "} else {\n",
       "\n",
       "    // We are in jupyterlab without require.js, directly loading jsroot\n",
       "    // Jupyterlab might be installed in a different base_url so we need to know it.\n",
       "    try {\n",
       "        var base_url = JSON.parse(document.getElementById('jupyter-config-data').innerHTML).baseUrl;\n",
       "    } catch(_) {\n",
       "        var base_url = '/';\n",
       "    }\n",
       "\n",
       "    // Try loading a local version of requirejs and fallback to cdn if not possible.\n",
       "    script_load_root_plot_1707491164093(base_url + 'static/build/jsroot.js', function(){\n",
       "        console.error('Fail to load JSROOT locally, please check your jupyter_notebook_config.py file');\n",
       "        script_load_root_plot_1707491164093('https://root.cern/js/7.3.4/build/jsroot.js', function(){\n",
       "            document.getElementById(\"root_plot_1707491164093\").innerHTML = \"Failed to load JSROOT\";\n",
       "        });\n",
       "    });\n",
       "}\n",
       "\n",
       "</script>\n"
      ],
      "text/plain": [
       "<IPython.core.display.HTML object>"
      ]
     },
     "metadata": {},
     "output_type": "display_data"
    },
    {
     "data": {
      "text/html": [
       "\n",
       "\n",
       "<div id=\"root_plot_1707491164095\"\n",
       "     style=\"width: 700px; height: 500px\">\n",
       "</div>\n",
       "<script>\n",
       "\n",
       "function display_root_plot_1707491164095(Core) {\n",
       "   let obj = Core.parse({\"_typename\":\"TCanvas\",\"fUniqueID\":0,\"fBits\":3342344,\"fLineColor\":1,\"fLineStyle\":1,\"fLineWidth\":2,\"fFillColor\":10,\"fFillStyle\":1001,\"fLeftMargin\":0.15,\"fRightMargin\":0.05,\"fBottomMargin\":0.18,\"fTopMargin\":0.06,\"fXfile\":2,\"fYfile\":2,\"fAfile\":1,\"fXstat\":0.99,\"fYstat\":0.99,\"fAstat\":2,\"fFrameFillColor\":10,\"fFrameLineColor\":1,\"fFrameFillStyle\":1001,\"fFrameLineStyle\":1,\"fFrameLineWidth\":2,\"fFrameBorderSize\":1,\"fFrameBorderMode\":0,\"fX1\":-23.4375005820766,\"fY1\":-3.73026335293071,\"fX2\":132.8125,\"fY2\":16.9934210404418,\"fXtoAbsPixelk\":104.400052203882,\"fXtoPixelk\":104.400052203882,\"fXtoPixel\":4.45439998340607,\"fYtoAbsPixelk\":387.040046307492,\"fYtoPixelk\":387.040046307492,\"fYtoPixel\":-22.7758728149202,\"fUtoAbsPixelk\":5e-5,\"fUtoPixelk\":5e-5,\"fUtoPixel\":696,\"fVtoAbsPixelk\":472.00005,\"fVtoPixelk\":472,\"fVtoPixel\":-472,\"fAbsPixeltoXk\":-23.4375005820766,\"fPixeltoXk\":-23.4375005820766,\"fPixeltoX\":0.224497127273099,\"fAbsPixeltoYk\":16.9934210404418,\"fPixeltoYk\":-3.73026335293071,\"fPixeltoY\":-0.0439061110029079,\"fXlowNDC\":0,\"fYlowNDC\":0,\"fXUpNDC\":1,\"fYUpNDC\":1,\"fWNDC\":1,\"fHNDC\":1,\"fAbsXlowNDC\":0,\"fAbsYlowNDC\":0,\"fAbsWNDC\":1,\"fAbsHNDC\":1,\"fUxmin\":0,\"fUymin\":0,\"fUxmax\":125,\"fUymax\":15.75,\"fTheta\":30,\"fPhi\":30,\"fAspectRatio\":0,\"fNumber\":0,\"fTickx\":1,\"fTicky\":1,\"fLogx\":0,\"fLogy\":0,\"fLogz\":0,\"fPadPaint\":0,\"fCrosshair\":0,\"fCrosshairPos\":0,\"fBorderSize\":2,\"fBorderMode\":0,\"fModified\":false,\"fGridx\":false,\"fGridy\":false,\"fAbsCoord\":false,\"fEditable\":true,\"fFixedAspectRatio\":false,\"fPrimitives\":{\"_typename\":\"TList\",\"name\":\"TList\",\"arr\":[{\"_typename\":\"TFrame\",\"fUniqueID\":0,\"fBits\":8,\"fLineColor\":1,\"fLineStyle\":1,\"fLineWidth\":2,\"fFillColor\":10,\"fFillStyle\":1001,\"fX1\":0,\"fY1\":0,\"fX2\":125,\"fY2\":15.75,\"fBorderSize\":1,\"fBorderMode\":0},{\"_typename\":\"TH1D\",\"fUniqueID\":0,\"fBits\":8,\"fName\":\"h_momentum\",\"fTitle\":\"\",\"fLineColor\":1,\"fLineStyle\":1,\"fLineWidth\":2,\"fFillColor\":0,\"fFillStyle\":1001,\"fMarkerColor\":1,\"fMarkerStyle\":20,\"fMarkerSize\":0.7,\"fNcells\":252,\"fXaxis\":{\"_typename\":\"TAxis\",\"fUniqueID\":0,\"fBits\":0,\"fName\":\"xaxis\",\"fTitle\":\" E [GeV]\",\"fNdivisions\":506,\"fAxisColor\":1,\"fLabelColor\":1,\"fLabelFont\":42,\"fLabelOffset\":0.015,\"fLabelSize\":0.06,\"fTickLength\":0.03,\"fTitleOffset\":1,\"fTitleSize\":0.07,\"fTitleColor\":1,\"fTitleFont\":42,\"fNbins\":250,\"fXmin\":0,\"fXmax\":125,\"fXbins\":[],\"fFirst\":0,\"fLast\":0,\"fBits2\":0,\"fTimeDisplay\":false,\"fTimeFormat\":\"\",\"fLabels\":null,\"fModLabs\":null},\"fYaxis\":{\"_typename\":\"TAxis\",\"fUniqueID\":0,\"fBits\":0,\"fName\":\"yaxis\",\"fTitle\":\"\",\"fNdivisions\":506,\"fAxisColor\":1,\"fLabelColor\":1,\"fLabelFont\":42,\"fLabelOffset\":0.015,\"fLabelSize\":0.06,\"fTickLength\":0.03,\"fTitleOffset\":1.1,\"fTitleSize\":0.07,\"fTitleColor\":1,\"fTitleFont\":42,\"fNbins\":1,\"fXmin\":0,\"fXmax\":1,\"fXbins\":[],\"fFirst\":0,\"fLast\":0,\"fBits2\":0,\"fTimeDisplay\":false,\"fTimeFormat\":\"\",\"fLabels\":null,\"fModLabs\":null},\"fZaxis\":{\"_typename\":\"TAxis\",\"fUniqueID\":0,\"fBits\":0,\"fName\":\"zaxis\",\"fTitle\":\"\",\"fNdivisions\":510,\"fAxisColor\":1,\"fLabelColor\":1,\"fLabelFont\":42,\"fLabelOffset\":0.015,\"fLabelSize\":0.06,\"fTickLength\":0.03,\"fTitleOffset\":1.1,\"fTitleSize\":0.07,\"fTitleColor\":1,\"fTitleFont\":42,\"fNbins\":1,\"fXmin\":0,\"fXmax\":1,\"fXbins\":[],\"fFirst\":0,\"fLast\":0,\"fBits2\":0,\"fTimeDisplay\":false,\"fTimeFormat\":\"\",\"fLabels\":null,\"fModLabs\":null},\"fBarOffset\":0,\"fBarWidth\":1000,\"fEntries\":1046,\"fTsumw\":1046,\"fTsumw2\":1046,\"fTsumwx\":68161.0683294289,\"fTsumwx2\":5401030.89556941,\"fMaximum\":-1111,\"fMinimum\":-1111,\"fNormFactor\":0,\"fContour\":[],\"fSumw2\":[],\"fOption\":\"\",\"fFunctions\":{\"_typename\":\"TList\",\"name\":\"TList\",\"arr\":[{\"_typename\":\"TPaveStats\",\"fUniqueID\":0,\"fBits\":9,\"fLineColor\":1,\"fLineStyle\":1,\"fLineWidth\":2,\"fFillColor\":10,\"fFillStyle\":1001,\"fX1\":98.4375023865141,\"fY1\":11.0871710624443,\"fX2\":129.687502968591,\"fY2\":16.8898027172932,\"fX1NDC\":0.780000016093254,\"fY1NDC\":0.715000003576279,\"fX2NDC\":0.980000019073486,\"fY2NDC\":0.995000004768372,\"fBorderSize\":0,\"fInit\":1,\"fShadowColor\":1,\"fCornerRadius\":0,\"fOption\":\"brNDC\",\"fName\":\"stats\",\"fTextAngle\":0,\"fTextSize\":0,\"fTextAlign\":12,\"fTextColor\":1,\"fTextFont\":42,\"fLabel\":\"\",\"fLongest\":18,\"fMargin\":0.05,\"fLines\":{\"_typename\":\"TList\",\"name\":\"TList\",\"arr\":[{\"_typename\":\"TLatex\",\"fUniqueID\":0,\"fBits\":0,\"fName\":\"\",\"fTitle\":\"h_momentum\",\"fTextAngle\":0,\"fTextSize\":0.0644,\"fTextAlign\":0,\"fTextColor\":0,\"fTextFont\":0,\"fX\":0,\"fY\":0,\"fLineColor\":1,\"fLineStyle\":1,\"fLineWidth\":2,\"fLimitFactorSize\":3,\"fOriginSize\":0.0644000023603439},{\"_typename\":\"TLatex\",\"fUniqueID\":0,\"fBits\":0,\"fName\":\"\",\"fTitle\":\"Entries = 1046   \",\"fTextAngle\":0,\"fTextSize\":0,\"fTextAlign\":0,\"fTextColor\":0,\"fTextFont\":0,\"fX\":0,\"fY\":0,\"fLineColor\":1,\"fLineStyle\":1,\"fLineWidth\":2,\"fLimitFactorSize\":3,\"fOriginSize\":0.04},{\"_typename\":\"TLatex\",\"fUniqueID\":0,\"fBits\":0,\"fName\":\"\",\"fTitle\":\"Mean  =  65.16\",\"fTextAngle\":0,\"fTextSize\":0,\"fTextAlign\":0,\"fTextColor\":0,\"fTextFont\":0,\"fX\":0,\"fY\":0,\"fLineColor\":1,\"fLineStyle\":1,\"fLineWidth\":2,\"fLimitFactorSize\":3,\"fOriginSize\":0.04},{\"_typename\":\"TLatex\",\"fUniqueID\":0,\"fBits\":0,\"fName\":\"\",\"fTitle\":\"Std Dev   =  30.29\",\"fTextAngle\":0,\"fTextSize\":0,\"fTextAlign\":0,\"fTextColor\":0,\"fTextFont\":0,\"fX\":0,\"fY\":0,\"fLineColor\":1,\"fLineStyle\":1,\"fLineWidth\":2,\"fLimitFactorSize\":3,\"fOriginSize\":0.04}],\"opt\":[\"\",\"\",\"\",\"\"]},\"fOptFit\":0,\"fOptStat\":1111,\"fFitFormat\":\"5.4g\",\"fStatFormat\":\"6.4g\",\"fParent\":{\"$ref\":3}}],\"opt\":[\"brNDC\"]},\"fBufferSize\":0,\"fBuffer\":[],\"fBinStatErrOpt\":0,\"fStatOverflows\":2,\"fArray\":{\"$arr\":\"Float64\",\"len\":252,\"p\":3,\"v\":[11,15,12,6,7,5,5,5,8,1,4,1,1,1,3,4,3,2,0,1,0,0,0,0,0,3,1,2,0,1,0,1,3,0,1,1,0,1,3,3,2,4,0,3,5,2,6,4,4,1,3,6,3,1,2,1,0,2,1,1,3,3,2,3,2,6,2,3,3,4,5,4,5,4,1,3,2,2,5,1,3,4,1,6,4,8,4,4,2,3,1,4,2,4,5,3,4,4,8,4,4,7,5,5,3,3,7,6,7,5,4,6,11,3,11,3,5,5,2,4,5,2,4,4,7,10,5,8,7,9,2,3,5,7,8,7,4,10,3,3,4,7,5,6,6,10,6,7,7,5,4,5,4,8,8,6,3,5,11,13,1,8,6,7,7,9,6,10,6,9,10,10,7,2,11,3,8,6,6,4,5,8,8,8,8,12,8,2,8,6,4,8,4,13,9,4,11,11,7,11,6,11,5,15,5,8,4,5,7,6,7,4,3,3,2,0,4,2,0,0,1,0,0,0,1]}},{\"_typename\":\"TStyle\",\"fUniqueID\":0,\"fBits\":0,\"fName\":\"ildStyle\",\"fTitle\":\"ILD Style\",\"fLineColor\":1,\"fLineStyle\":1,\"fLineWidth\":2,\"fFillColor\":10,\"fFillStyle\":1001,\"fMarkerColor\":1,\"fMarkerStyle\":20,\"fMarkerSize\":0.7,\"fTextAngle\":0,\"fTextSize\":0.05,\"fTextAlign\":11,\"fTextColor\":1,\"fTextFont\":42,\"fXaxis\":{\"_typename\":\"TAttAxis\",\"fNdivisions\":506,\"fAxisColor\":1,\"fLabelColor\":1,\"fLabelFont\":42,\"fLabelOffset\":0.015,\"fLabelSize\":0.06,\"fTickLength\":0.03,\"fTitleOffset\":1,\"fTitleSize\":0.07,\"fTitleColor\":1,\"fTitleFont\":42},\"fYaxis\":{\"_typename\":\"TAttAxis\",\"fNdivisions\":506,\"fAxisColor\":1,\"fLabelColor\":1,\"fLabelFont\":42,\"fLabelOffset\":0.015,\"fLabelSize\":0.06,\"fTickLength\":0.03,\"fTitleOffset\":1.1,\"fTitleSize\":0.07,\"fTitleColor\":1,\"fTitleFont\":42},\"fZaxis\":{\"_typename\":\"TAttAxis\",\"fNdivisions\":510,\"fAxisColor\":1,\"fLabelColor\":1,\"fLabelFont\":42,\"fLabelOffset\":0.015,\"fLabelSize\":0.06,\"fTickLength\":0.03,\"fTitleOffset\":1.1,\"fTitleSize\":0.07,\"fTitleColor\":1,\"fTitleFont\":42},\"fBarWidth\":1,\"fBarOffset\":0,\"fColorModelPS\":0,\"fDrawBorder\":0,\"fOptLogx\":0,\"fOptLogy\":0,\"fOptLogz\":0,\"fOptDate\":0,\"fOptStat\":1,\"fOptTitle\":1,\"fOptFile\":0,\"fOptFit\":0,\"fShowEventStatus\":0,\"fShowEditor\":0,\"fShowToolBar\":0,\"fNumberContours\":20,\"fAttDate\":{\"_typename\":\"TAttText\",\"fTextAngle\":0,\"fTextSize\":0.025,\"fTextAlign\":11,\"fTextColor\":1,\"fTextFont\":62},\"fDateX\":0.01,\"fDateY\":0.01,\"fEndErrorSize\":2,\"fErrorX\":0.5,\"fFuncColor\":632,\"fFuncStyle\":1,\"fFuncWidth\":2,\"fGridColor\":0,\"fGridStyle\":3,\"fGridWidth\":1,\"fLegendBorderSize\":0,\"fLegendFillColor\":0,\"fLegendFont\":62,\"fLegendTextSize\":0,\"fHatchesLineWidth\":1,\"fHatchesSpacing\":1,\"fFrameFillColor\":10,\"fFrameLineColor\":1,\"fFrameFillStyle\":1001,\"fFrameLineStyle\":1,\"fFrameLineWidth\":2,\"fFrameBorderSize\":1,\"fFrameBorderMode\":0,\"fHistFillColor\":0,\"fHistLineColor\":1,\"fHistFillStyle\":1001,\"fHistLineStyle\":1,\"fHistLineWidth\":2,\"fHistMinimumZero\":false,\"fHistTopMargin\":0.05,\"fCanvasPreferGL\":false,\"fCanvasColor\":10,\"fCanvasBorderSize\":2,\"fCanvasBorderMode\":0,\"fCanvasDefH\":500,\"fCanvasDefW\":700,\"fCanvasDefX\":10,\"fCanvasDefY\":10,\"fPadColor\":10,\"fPadBorderSize\":2,\"fPadBorderMode\":0,\"fPadBottomMargin\":0.18,\"fPadTopMargin\":0.06,\"fPadLeftMargin\":0.15,\"fPadRightMargin\":0.05,\"fPadGridX\":false,\"fPadGridY\":false,\"fPadTickX\":1,\"fPadTickY\":1,\"fPaperSizeX\":20,\"fPaperSizeY\":26,\"fScreenFactor\":1,\"fStatColor\":10,\"fStatTextColor\":1,\"fStatBorderSize\":0,\"fStatFont\":42,\"fStatFontSize\":0.07,\"fStatStyle\":1001,\"fStatFormat\":\"6.4g\",\"fStatX\":0.98,\"fStatY\":0.995,\"fStatW\":0.2,\"fStatH\":0.16,\"fStripDecimals\":true,\"fTitleAlign\":13,\"fTitleColor\":0,\"fTitleTextColor\":1,\"fTitleBorderSize\":0,\"fTitleFont\":62,\"fTitleFontSize\":0,\"fTitleStyle\":1001,\"fTitleX\":0.01,\"fTitleY\":0.995,\"fTitleW\":0,\"fTitleH\":0,\"fLegoInnerR\":0.5,\"fLineStyles\":[\"\",\"  \",\" 12 12\",\" 4 8\",\" 12 16 4 16\",\" 20 12 4 12\",\" 20 12 4 12 4 12 4 12\",\" 20 20\",\" 20 12 4 12 4 12\",\" 80 20\",\" 80 40 4 40\",\"  \",\"  \",\"  \",\"  \",\"  \",\"  \",\"  \",\"  \",\"  \",\"  \",\"  \",\"  \",\"  \",\"  \",\"  \",\"  \",\"  \",\"  \",\"  \"],\"fHeaderPS\":\"\",\"fTitlePS\":\"\",\"fFitFormat\":\"5.4g\",\"fPaintTextFormat\":\"g\",\"fLineScalePS\":3,\"fJoinLinePS\":0,\"fCapLinePS\":0,\"fTimeOffset\":788918400,\"fImageScaling\":1}],\"opt\":[\"\",\"\",\"\"]},\"fExecs\":null,\"fName\":\"c1_n3\",\"fTitle\":\"c1_n3\",\"fNumPaletteColor\":0,\"fNextPaletteColor\":0,\"fDISPLAY\":\"$DISPLAY\",\"fDoubleBuffer\":0,\"fRetained\":true,\"fXsizeUser\":0,\"fYsizeUser\":0,\"fXsizeReal\":20,\"fYsizeReal\":14.28571,\"fWindowTopX\":0,\"fWindowTopY\":0,\"fWindowWidth\":0,\"fWindowHeight\":0,\"fCw\":696,\"fCh\":472,\"fCatt\":{\"_typename\":\"TAttCanvas\",\"fXBetween\":2,\"fYBetween\":2,\"fTitleFromTop\":1.2,\"fXdate\":0.2,\"fYdate\":0.3,\"fAdate\":1},\"kMoveOpaque\":true,\"kResizeOpaque\":true,\"fHighLightColor\":2,\"fBatch\":true,\"kShowEventStatus\":false,\"kAutoExec\":true,\"kMenuBar\":true});\n",
       "   Core.settings.HandleKeys = false;\n",
       "   Core.draw(\"root_plot_1707491164095\", obj, \"\");\n",
       "}\n",
       "\n",
       "function script_load_root_plot_1707491164095(src, on_error) {\n",
       "    let script = document.createElement('script');\n",
       "    script.src = src;\n",
       "    script.onload = function() { display_root_plot_1707491164095(JSROOT); };\n",
       "    script.onerror = function() { script.remove(); on_error(); };\n",
       "    document.head.appendChild(script);\n",
       "}\n",
       "\n",
       "if (typeof requirejs !== 'undefined') {\n",
       "\n",
       "    // We are in jupyter notebooks, use require.js which should be configured already\n",
       "    requirejs.config({\n",
       "       paths: { 'JSRootCore' : [ 'build/jsroot', 'https://root.cern/js/7.3.4/build/jsroot', 'https://jsroot.gsi.de/7.3.4/build/jsroot' ] }\n",
       "    })(['JSRootCore'],  function(Core) {\n",
       "       display_root_plot_1707491164095(Core);\n",
       "    });\n",
       "\n",
       "} else if (typeof JSROOT !== 'undefined') {\n",
       "\n",
       "   // JSROOT already loaded, just use it\n",
       "   display_root_plot_1707491164095(JSROOT);\n",
       "\n",
       "} else {\n",
       "\n",
       "    // We are in jupyterlab without require.js, directly loading jsroot\n",
       "    // Jupyterlab might be installed in a different base_url so we need to know it.\n",
       "    try {\n",
       "        var base_url = JSON.parse(document.getElementById('jupyter-config-data').innerHTML).baseUrl;\n",
       "    } catch(_) {\n",
       "        var base_url = '/';\n",
       "    }\n",
       "\n",
       "    // Try loading a local version of requirejs and fallback to cdn if not possible.\n",
       "    script_load_root_plot_1707491164095(base_url + 'static/build/jsroot.js', function(){\n",
       "        console.error('Fail to load JSROOT locally, please check your jupyter_notebook_config.py file');\n",
       "        script_load_root_plot_1707491164095('https://root.cern/js/7.3.4/build/jsroot.js', function(){\n",
       "            document.getElementById(\"root_plot_1707491164095\").innerHTML = \"Failed to load JSROOT\";\n",
       "        });\n",
       "    });\n",
       "}\n",
       "\n",
       "</script>\n"
      ],
      "text/plain": [
       "<IPython.core.display.HTML object>"
      ]
     },
     "metadata": {},
     "output_type": "display_data"
    }
   ],
   "source": [
    "c_omega = ROOT.TCanvas()\n",
    "h_omega.Draw()\n",
    "h_omega.Fit(\"gaus\")\n",
    "c_omega.Draw()\n",
    "\n",
    "c_phi = ROOT.TCanvas()\n",
    "h_phi.Draw()\n",
    "h_phi.Fit(\"gaus\")\n",
    "c_phi.Draw()\n",
    "\n",
    "c_e = ROOT.TCanvas()\n",
    "h_momentum.Draw()\n",
    "c_e.Draw()"
   ]
  },
  {
   "cell_type": "code",
   "execution_count": 10,
   "metadata": {},
   "outputs": [
    {
     "data": {
      "text/html": [
       "\n",
       "\n",
       "<div id=\"root_plot_1707491164215\"\n",
       "     style=\"width: 700px; height: 500px\">\n",
       "</div>\n",
       "<script>\n",
       "\n",
       "function display_root_plot_1707491164215(Core) {\n",
       "   let obj = Core.parse({\"_typename\":\"TCanvas\",\"fUniqueID\":0,\"fBits\":3342344,\"fLineColor\":1,\"fLineStyle\":1,\"fLineWidth\":2,\"fFillColor\":10,\"fFillStyle\":1001,\"fLeftMargin\":0.15,\"fRightMargin\":0.05,\"fBottomMargin\":0.18,\"fTopMargin\":0.06,\"fXfile\":2,\"fYfile\":2,\"fAfile\":1,\"fXstat\":0.99,\"fYstat\":0.99,\"fAstat\":2,\"fFrameFillColor\":10,\"fFrameLineColor\":1,\"fFrameFillStyle\":1001,\"fFrameLineStyle\":1,\"fFrameLineWidth\":2,\"fFrameBorderSize\":1,\"fFrameBorderMode\":0,\"fX1\":-23.4375005820766,\"fY1\":-14.7368423529279,\"fX2\":132.8125,\"fY2\":11.578947352942,\"fXtoAbsPixelk\":104.400052203882,\"fXtoPixelk\":104.400052203882,\"fXtoPixel\":4.45439998340607,\"fYtoAbsPixelk\":207.680047889996,\"fYtoPixelk\":207.680047889996,\"fYtoPixel\":-17.9359998417497,\"fUtoAbsPixelk\":5e-5,\"fUtoPixelk\":5e-5,\"fUtoPixel\":696,\"fVtoAbsPixelk\":472.00005,\"fVtoPixelk\":472,\"fVtoPixel\":-472,\"fAbsPixeltoXk\":-23.4375005820766,\"fPixeltoXk\":-23.4375005820766,\"fPixeltoX\":0.224497127273099,\"fAbsPixeltoYk\":11.578947352942,\"fPixeltoYk\":-14.7368423529279,\"fPixeltoY\":-0.0557537917497244,\"fXlowNDC\":0,\"fYlowNDC\":0,\"fXUpNDC\":1,\"fYUpNDC\":1,\"fWNDC\":1,\"fHNDC\":1,\"fAbsXlowNDC\":0,\"fAbsYlowNDC\":0,\"fAbsWNDC\":1,\"fAbsHNDC\":1,\"fUxmin\":0,\"fUymin\":-10,\"fUxmax\":125,\"fUymax\":10,\"fTheta\":30,\"fPhi\":30,\"fAspectRatio\":0,\"fNumber\":0,\"fTickx\":1,\"fTicky\":1,\"fLogx\":0,\"fLogy\":0,\"fLogz\":0,\"fPadPaint\":0,\"fCrosshair\":0,\"fCrosshairPos\":0,\"fBorderSize\":2,\"fBorderMode\":0,\"fModified\":false,\"fGridx\":false,\"fGridy\":false,\"fAbsCoord\":false,\"fEditable\":true,\"fFixedAspectRatio\":false,\"fPrimitives\":{\"_typename\":\"TList\",\"name\":\"TList\",\"arr\":[{\"_typename\":\"TFrame\",\"fUniqueID\":0,\"fBits\":8,\"fLineColor\":1,\"fLineStyle\":1,\"fLineWidth\":2,\"fFillColor\":10,\"fFillStyle\":1001,\"fX1\":0,\"fY1\":-10,\"fX2\":125,\"fY2\":10,\"fBorderSize\":1,\"fBorderMode\":0},{\"_typename\":\"TH2D\",\"fUniqueID\":0,\"fBits\":8,\"fName\":\"h_omega_2d\",\"fTitle\":\"\",\"fLineColor\":1,\"fLineStyle\":1,\"fLineWidth\":2,\"fFillColor\":0,\"fFillStyle\":1001,\"fMarkerColor\":1,\"fMarkerStyle\":20,\"fMarkerSize\":0.7,\"fNcells\":624,\"fXaxis\":{\"_typename\":\"TAxis\",\"fUniqueID\":0,\"fBits\":0,\"fName\":\"xaxis\",\"fTitle\":\" E [GeV]\",\"fNdivisions\":506,\"fAxisColor\":1,\"fLabelColor\":1,\"fLabelFont\":42,\"fLabelOffset\":0.015,\"fLabelSize\":0.06,\"fTickLength\":0.03,\"fTitleOffset\":1,\"fTitleSize\":0.07,\"fTitleColor\":1,\"fTitleFont\":42,\"fNbins\":10,\"fXmin\":0,\"fXmax\":125,\"fXbins\":[],\"fFirst\":0,\"fLast\":0,\"fBits2\":0,\"fTimeDisplay\":false,\"fTimeFormat\":\"\",\"fLabels\":null,\"fModLabs\":null},\"fYaxis\":{\"_typename\":\"TAxis\",\"fUniqueID\":0,\"fBits\":0,\"fName\":\"yaxis\",\"fTitle\":\" pull #Omega\",\"fNdivisions\":506,\"fAxisColor\":1,\"fLabelColor\":1,\"fLabelFont\":42,\"fLabelOffset\":0.015,\"fLabelSize\":0.06,\"fTickLength\":0.03,\"fTitleOffset\":1.1,\"fTitleSize\":0.07,\"fTitleColor\":1,\"fTitleFont\":42,\"fNbins\":50,\"fXmin\":-10,\"fXmax\":10,\"fXbins\":[],\"fFirst\":0,\"fLast\":0,\"fBits2\":0,\"fTimeDisplay\":false,\"fTimeFormat\":\"\",\"fLabels\":null,\"fModLabs\":null},\"fZaxis\":{\"_typename\":\"TAxis\",\"fUniqueID\":0,\"fBits\":0,\"fName\":\"zaxis\",\"fTitle\":\"\",\"fNdivisions\":510,\"fAxisColor\":1,\"fLabelColor\":1,\"fLabelFont\":42,\"fLabelOffset\":0.015,\"fLabelSize\":0.06,\"fTickLength\":0.03,\"fTitleOffset\":1.1,\"fTitleSize\":0.07,\"fTitleColor\":1,\"fTitleFont\":42,\"fNbins\":1,\"fXmin\":0,\"fXmax\":1,\"fXbins\":[],\"fFirst\":0,\"fLast\":0,\"fBits2\":0,\"fTimeDisplay\":false,\"fTimeFormat\":\"\",\"fLabels\":null,\"fModLabs\":null},\"fBarOffset\":0,\"fBarWidth\":1000,\"fEntries\":1046,\"fTsumw\":747,\"fTsumw2\":747,\"fTsumwx\":48733.270513212,\"fTsumwx2\":3839630.95525914,\"fMaximum\":-1111,\"fMinimum\":-1111,\"fNormFactor\":0,\"fContour\":{\"$arr\":\"Float64\",\"len\":20,\"p\":1,\"v\":[0.8,1.6,2.4,3.2,4,4.8,5.6,6.4,7.2,8,8.8,9.6,10.4,11.2,12,12.8,13.6,14.4,15.2]},\"fSumw2\":[],\"fOption\":\"\",\"fFunctions\":{\"_typename\":\"TList\",\"name\":\"TList\",\"arr\":[{\"_typename\":\"TPaletteAxis\",\"fUniqueID\":0,\"fBits\":0,\"fLineColor\":1,\"fLineStyle\":1,\"fLineWidth\":2,\"fFillColor\":632,\"fFillStyle\":1001,\"fX1\":125.78125000291,\"fY1\":-10,\"fX2\":132.734374999709,\"fY2\":10,\"fX1NDC\":0.955000000186265,\"fY1NDC\":0.18000000782311,\"fX2NDC\":0.9995,\"fY2NDC\":0.940000001117587,\"fBorderSize\":4,\"fInit\":1,\"fShadowColor\":1,\"fCornerRadius\":0,\"fOption\":\"br\",\"fName\":\"palette\",\"fAxis\":{\"_typename\":\"TGaxis\",\"fUniqueID\":0,\"fBits\":0,\"fLineColor\":1,\"fLineStyle\":1,\"fLineWidth\":2,\"fX1\":0,\"fY1\":0,\"fX2\":0,\"fY2\":0,\"fTextAngle\":0,\"fTextSize\":0.04,\"fTextAlign\":11,\"fTextColor\":1,\"fTextFont\":42,\"fWmin\":0,\"fWmax\":0,\"fGridLength\":0,\"fTickSize\":0.03,\"fLabelOffset\":0.015,\"fLabelSize\":0.06,\"fTitleOffset\":1.1,\"fTitleSize\":0.07,\"fNdiv\":0,\"fLabelColor\":1,\"fLabelFont\":42,\"fNModLabs\":0,\"fChopt\":\"\",\"fName\":\"\",\"fTitle\":\"\",\"fTimeFormat\":\"\",\"fFunctionName\":\"\",\"fModLabs\":null}},{\"_typename\":\"TPaveStats\",\"fUniqueID\":0,\"fBits\":9,\"fLineColor\":1,\"fLineStyle\":1,\"fLineWidth\":2,\"fFillColor\":10,\"fFillStyle\":1001,\"fX1\":98.4375023865141,\"fY1\":0.394736414238642,\"fX2\":129.687502968591,\"fY2\":11.4473685298961,\"fX1NDC\":0.780000016093254,\"fY1NDC\":0.574999988079071,\"fX2NDC\":0.980000019073486,\"fY2NDC\":0.995000004768372,\"fBorderSize\":0,\"fInit\":1,\"fShadowColor\":1,\"fCornerRadius\":0,\"fOption\":\"brNDC\",\"fName\":\"stats\",\"fTextAngle\":0,\"fTextSize\":0,\"fTextAlign\":12,\"fTextColor\":1,\"fTextFont\":42,\"fLabel\":\"\",\"fLongest\":18,\"fMargin\":0.05,\"fLines\":{\"_typename\":\"TList\",\"name\":\"TList\",\"arr\":[{\"_typename\":\"TLatex\",\"fUniqueID\":0,\"fBits\":0,\"fName\":\"\",\"fTitle\":\"h_omega_2d\",\"fTextAngle\":0,\"fTextSize\":0.0644,\"fTextAlign\":0,\"fTextColor\":0,\"fTextFont\":0,\"fX\":0,\"fY\":0,\"fLineColor\":1,\"fLineStyle\":1,\"fLineWidth\":2,\"fLimitFactorSize\":3,\"fOriginSize\":0.0644000023603439},{\"_typename\":\"TLatex\",\"fUniqueID\":0,\"fBits\":0,\"fName\":\"\",\"fTitle\":\"Entries = 1046   \",\"fTextAngle\":0,\"fTextSize\":0,\"fTextAlign\":0,\"fTextColor\":0,\"fTextFont\":0,\"fX\":0,\"fY\":0,\"fLineColor\":1,\"fLineStyle\":1,\"fLineWidth\":2,\"fLimitFactorSize\":3,\"fOriginSize\":0.04},{\"_typename\":\"TLatex\",\"fUniqueID\":0,\"fBits\":0,\"fName\":\"\",\"fTitle\":\"Mean x =  65.24\",\"fTextAngle\":0,\"fTextSize\":0,\"fTextAlign\":0,\"fTextColor\":0,\"fTextFont\":0,\"fX\":0,\"fY\":0,\"fLineColor\":1,\"fLineStyle\":1,\"fLineWidth\":2,\"fLimitFactorSize\":3,\"fOriginSize\":0.04},{\"_typename\":\"TLatex\",\"fUniqueID\":0,\"fBits\":0,\"fName\":\"\",\"fTitle\":\"Mean y = 0.04048\",\"fTextAngle\":0,\"fTextSize\":0,\"fTextAlign\":0,\"fTextColor\":0,\"fTextFont\":0,\"fX\":0,\"fY\":0,\"fLineColor\":1,\"fLineStyle\":1,\"fLineWidth\":2,\"fLimitFactorSize\":3,\"fOriginSize\":0.04},{\"_typename\":\"TLatex\",\"fUniqueID\":0,\"fBits\":0,\"fName\":\"\",\"fTitle\":\"Std Dev x =  29.73\",\"fTextAngle\":0,\"fTextSize\":0,\"fTextAlign\":0,\"fTextColor\":0,\"fTextFont\":0,\"fX\":0,\"fY\":0,\"fLineColor\":1,\"fLineStyle\":1,\"fLineWidth\":2,\"fLimitFactorSize\":3,\"fOriginSize\":0.04},{\"_typename\":\"TLatex\",\"fUniqueID\":0,\"fBits\":0,\"fName\":\"\",\"fTitle\":\"Std Dev y =   3.55\",\"fTextAngle\":0,\"fTextSize\":0,\"fTextAlign\":0,\"fTextColor\":0,\"fTextFont\":0,\"fX\":0,\"fY\":0,\"fLineColor\":1,\"fLineStyle\":1,\"fLineWidth\":2,\"fLimitFactorSize\":3,\"fOriginSize\":0.04}],\"opt\":[\"\",\"\",\"\",\"\",\"\",\"\"]},\"fOptFit\":0,\"fOptStat\":1111,\"fFitFormat\":\"5.4g\",\"fStatFormat\":\"6.4g\",\"fParent\":{\"$ref\":3}}],\"opt\":[\"br\",\"brNDC\"]},\"fBufferSize\":0,\"fBuffer\":[],\"fBinStatErrOpt\":0,\"fStatOverflows\":2,\"fScalefactor\":1,\"fTsumwy\":30.2384725771026,\"fTsumwy2\":9415.69932533873,\"fTsumwxy\":7853.90114075404,\"fArray\":{\"$arr\":\"Float64\",\"len\":624,\"p\":1,\"v\":[18,7,5,15,18,23,23,28,16,0,0,0,0,0,2,0,2,0,1,1,2,0,0,0,1,0,1,0,0,0,0,0,1,0,0,0,0,0,0,1,0,1,0,0,0,0,0,0,0,0,0,1,0,0,2,0,1,0,0,0,0,0,0,0,0,1,0,0,1,0,0,0,1,1,1,2,1,0,0,1,0,0,0,0,0,0,2,0,1,0,0,0,0,0,0,0,1,1,0,0,0,2,0,0,0,0,0,0,1,0,0,2,2,0,0,0,0,0,0,0,1,0,0,1,0,1,1,2,0,0,0,0,0,0,0,0,0,1,3,0,2,0,0,0,0,0,0,1,0,2,1,1,1,0,0,0,0,0,0,0,1,0,2,0,1,0,0,0,0,0,2,0,2,1,1,1,1,0,0,0,1,0,1,0,2,0,0,1,0,0,0,0,1,1,0,1,0,2,2,3,0,0,0,0,2,1,0,1,2,3,3,2,3,0,0,0,1,1,3,1,1,1,4,2,3,0,0,0,2,1,3,3,3,2,1,3,0,0,0,0,1,0,0,2,3,3,2,4,2,0,0,0,1,1,3,4,5,5,2,7,4,0,0,0,7,4,5,6,4,5,10,5,2,0,0,0,1,1,5,2,5,4,5,4,5,0,0,0,5,2,1,2,6,9,4,10,3,0,0,0,4,1,3,4,9,11,9,2,7,0,0,0,12,2,2,5,10,8,10,16,3,0,0,0,5,3,4,2,3,8,8,16,7,0,0,0,4,1,3,2,11,8,15,6,4,0,0,0,1,3,1,2,5,8,11,6,4,0,0,0,2,0,2,3,3,3,5,5,6,1,0,0,1,1,4,0,1,5,5,0,2,0,0,0,0,1,1,3,1,0,4,2,5,0,0,0,1,1,1,0,1,0,0,2,0,0,0,0,1,1,0,0,2,0,2,1,3,0,0,0,2,0,1,0,1,1,1,3,1,0,0,0,0,1,0,1,2,1,0,0,2,0,0,0,0,0,0,0,2,2,0,1,1,0,0,0,0,0,0,2,0,2,0,0,1,0,0,0,0,0,1,1,0,3,2,1,1],\"p1\":488,\"v1\":[1,0,0,0,0,0,0,0,1,2,0,2,0,0,0,0,0,1,0,1,0,0,0,2,2,1,0,0,0,0,0,0,0,0,1,0,1,0,0,0,0,0,0,1,1,1,1,1,0,0,0,0,0,0,0,2,1,0,1,0,1,0,0,0,0,0,0,1,0,1,0,1,2,1,0,0,0,0,0,0,0,1,1,2,0,1,0,0,0,0,1,0,0,0,0,1,4,0,0,0,0,0,2,0,0,0,2,1,2,0,0,0,0,0,0,1,1,1,0,0,1,0,0,0,0,16,7,7,10,14,21,26,27,18]}},{\"_typename\":\"TStyle\",\"fUniqueID\":0,\"fBits\":0,\"fName\":\"ildStyle\",\"fTitle\":\"ILD Style\",\"fLineColor\":1,\"fLineStyle\":1,\"fLineWidth\":2,\"fFillColor\":10,\"fFillStyle\":1001,\"fMarkerColor\":1,\"fMarkerStyle\":20,\"fMarkerSize\":0.7,\"fTextAngle\":0,\"fTextSize\":0.05,\"fTextAlign\":11,\"fTextColor\":1,\"fTextFont\":42,\"fXaxis\":{\"_typename\":\"TAttAxis\",\"fNdivisions\":506,\"fAxisColor\":1,\"fLabelColor\":1,\"fLabelFont\":42,\"fLabelOffset\":0.015,\"fLabelSize\":0.06,\"fTickLength\":0.03,\"fTitleOffset\":1,\"fTitleSize\":0.07,\"fTitleColor\":1,\"fTitleFont\":42},\"fYaxis\":{\"_typename\":\"TAttAxis\",\"fNdivisions\":506,\"fAxisColor\":1,\"fLabelColor\":1,\"fLabelFont\":42,\"fLabelOffset\":0.015,\"fLabelSize\":0.06,\"fTickLength\":0.03,\"fTitleOffset\":1.1,\"fTitleSize\":0.07,\"fTitleColor\":1,\"fTitleFont\":42},\"fZaxis\":{\"_typename\":\"TAttAxis\",\"fNdivisions\":510,\"fAxisColor\":1,\"fLabelColor\":1,\"fLabelFont\":42,\"fLabelOffset\":0.015,\"fLabelSize\":0.06,\"fTickLength\":0.03,\"fTitleOffset\":1.1,\"fTitleSize\":0.07,\"fTitleColor\":1,\"fTitleFont\":42},\"fBarWidth\":1,\"fBarOffset\":0,\"fColorModelPS\":0,\"fDrawBorder\":0,\"fOptLogx\":0,\"fOptLogy\":0,\"fOptLogz\":0,\"fOptDate\":0,\"fOptStat\":1,\"fOptTitle\":1,\"fOptFile\":0,\"fOptFit\":0,\"fShowEventStatus\":0,\"fShowEditor\":0,\"fShowToolBar\":0,\"fNumberContours\":20,\"fAttDate\":{\"_typename\":\"TAttText\",\"fTextAngle\":0,\"fTextSize\":0.025,\"fTextAlign\":11,\"fTextColor\":1,\"fTextFont\":62},\"fDateX\":0.01,\"fDateY\":0.01,\"fEndErrorSize\":2,\"fErrorX\":0.5,\"fFuncColor\":632,\"fFuncStyle\":1,\"fFuncWidth\":2,\"fGridColor\":0,\"fGridStyle\":3,\"fGridWidth\":1,\"fLegendBorderSize\":0,\"fLegendFillColor\":0,\"fLegendFont\":62,\"fLegendTextSize\":0,\"fHatchesLineWidth\":1,\"fHatchesSpacing\":1,\"fFrameFillColor\":10,\"fFrameLineColor\":1,\"fFrameFillStyle\":1001,\"fFrameLineStyle\":1,\"fFrameLineWidth\":2,\"fFrameBorderSize\":1,\"fFrameBorderMode\":0,\"fHistFillColor\":0,\"fHistLineColor\":1,\"fHistFillStyle\":1001,\"fHistLineStyle\":1,\"fHistLineWidth\":2,\"fHistMinimumZero\":false,\"fHistTopMargin\":0.05,\"fCanvasPreferGL\":false,\"fCanvasColor\":10,\"fCanvasBorderSize\":2,\"fCanvasBorderMode\":0,\"fCanvasDefH\":500,\"fCanvasDefW\":700,\"fCanvasDefX\":10,\"fCanvasDefY\":10,\"fPadColor\":10,\"fPadBorderSize\":2,\"fPadBorderMode\":0,\"fPadBottomMargin\":0.18,\"fPadTopMargin\":0.06,\"fPadLeftMargin\":0.15,\"fPadRightMargin\":0.05,\"fPadGridX\":false,\"fPadGridY\":false,\"fPadTickX\":1,\"fPadTickY\":1,\"fPaperSizeX\":20,\"fPaperSizeY\":26,\"fScreenFactor\":1,\"fStatColor\":10,\"fStatTextColor\":1,\"fStatBorderSize\":0,\"fStatFont\":42,\"fStatFontSize\":0.07,\"fStatStyle\":1001,\"fStatFormat\":\"6.4g\",\"fStatX\":0.98,\"fStatY\":0.995,\"fStatW\":0.2,\"fStatH\":0.16,\"fStripDecimals\":true,\"fTitleAlign\":13,\"fTitleColor\":0,\"fTitleTextColor\":1,\"fTitleBorderSize\":0,\"fTitleFont\":62,\"fTitleFontSize\":0,\"fTitleStyle\":1001,\"fTitleX\":0.01,\"fTitleY\":0.995,\"fTitleW\":0,\"fTitleH\":0,\"fLegoInnerR\":0.5,\"fLineStyles\":[\"\",\"  \",\" 12 12\",\" 4 8\",\" 12 16 4 16\",\" 20 12 4 12\",\" 20 12 4 12 4 12 4 12\",\" 20 20\",\" 20 12 4 12 4 12\",\" 80 20\",\" 80 40 4 40\",\"  \",\"  \",\"  \",\"  \",\"  \",\"  \",\"  \",\"  \",\"  \",\"  \",\"  \",\"  \",\"  \",\"  \",\"  \",\"  \",\"  \",\"  \",\"  \"],\"fHeaderPS\":\"\",\"fTitlePS\":\"\",\"fFitFormat\":\"5.4g\",\"fPaintTextFormat\":\"g\",\"fLineScalePS\":3,\"fJoinLinePS\":0,\"fCapLinePS\":0,\"fTimeOffset\":788918400,\"fImageScaling\":1}],\"opt\":[\"\",\"colz\",\"\"]},\"fExecs\":null,\"fName\":\"c1_n4\",\"fTitle\":\"c1_n4\",\"fNumPaletteColor\":0,\"fNextPaletteColor\":0,\"fDISPLAY\":\"$DISPLAY\",\"fDoubleBuffer\":0,\"fRetained\":true,\"fXsizeUser\":0,\"fYsizeUser\":0,\"fXsizeReal\":20,\"fYsizeReal\":14.28571,\"fWindowTopX\":0,\"fWindowTopY\":0,\"fWindowWidth\":0,\"fWindowHeight\":0,\"fCw\":696,\"fCh\":472,\"fCatt\":{\"_typename\":\"TAttCanvas\",\"fXBetween\":2,\"fYBetween\":2,\"fTitleFromTop\":1.2,\"fXdate\":0.2,\"fYdate\":0.3,\"fAdate\":1},\"kMoveOpaque\":true,\"kResizeOpaque\":true,\"fHighLightColor\":2,\"fBatch\":true,\"kShowEventStatus\":false,\"kAutoExec\":true,\"kMenuBar\":true});\n",
       "   Core.settings.HandleKeys = false;\n",
       "   Core.draw(\"root_plot_1707491164215\", obj, \"\");\n",
       "}\n",
       "\n",
       "function script_load_root_plot_1707491164215(src, on_error) {\n",
       "    let script = document.createElement('script');\n",
       "    script.src = src;\n",
       "    script.onload = function() { display_root_plot_1707491164215(JSROOT); };\n",
       "    script.onerror = function() { script.remove(); on_error(); };\n",
       "    document.head.appendChild(script);\n",
       "}\n",
       "\n",
       "if (typeof requirejs !== 'undefined') {\n",
       "\n",
       "    // We are in jupyter notebooks, use require.js which should be configured already\n",
       "    requirejs.config({\n",
       "       paths: { 'JSRootCore' : [ 'build/jsroot', 'https://root.cern/js/7.3.4/build/jsroot', 'https://jsroot.gsi.de/7.3.4/build/jsroot' ] }\n",
       "    })(['JSRootCore'],  function(Core) {\n",
       "       display_root_plot_1707491164215(Core);\n",
       "    });\n",
       "\n",
       "} else if (typeof JSROOT !== 'undefined') {\n",
       "\n",
       "   // JSROOT already loaded, just use it\n",
       "   display_root_plot_1707491164215(JSROOT);\n",
       "\n",
       "} else {\n",
       "\n",
       "    // We are in jupyterlab without require.js, directly loading jsroot\n",
       "    // Jupyterlab might be installed in a different base_url so we need to know it.\n",
       "    try {\n",
       "        var base_url = JSON.parse(document.getElementById('jupyter-config-data').innerHTML).baseUrl;\n",
       "    } catch(_) {\n",
       "        var base_url = '/';\n",
       "    }\n",
       "\n",
       "    // Try loading a local version of requirejs and fallback to cdn if not possible.\n",
       "    script_load_root_plot_1707491164215(base_url + 'static/build/jsroot.js', function(){\n",
       "        console.error('Fail to load JSROOT locally, please check your jupyter_notebook_config.py file');\n",
       "        script_load_root_plot_1707491164215('https://root.cern/js/7.3.4/build/jsroot.js', function(){\n",
       "            document.getElementById(\"root_plot_1707491164215\").innerHTML = \"Failed to load JSROOT\";\n",
       "        });\n",
       "    });\n",
       "}\n",
       "\n",
       "</script>\n"
      ],
      "text/plain": [
       "<IPython.core.display.HTML object>"
      ]
     },
     "metadata": {},
     "output_type": "display_data"
    }
   ],
   "source": [
    "c_2d = ROOT.TCanvas()\n",
    "h_omega_2d.Draw(\"colz\")\n",
    "c_2d.Draw()"
   ]
  },
  {
   "cell_type": "code",
   "execution_count": null,
   "metadata": {},
   "outputs": [],
   "source": []
  }
 ],
 "metadata": {
  "kernelspec": {
   "display_name": "Python 3",
   "language": "python",
   "name": "python3"
  },
  "language_info": {
   "codemirror_mode": {
    "name": "ipython",
    "version": 3
   },
   "file_extension": ".py",
   "mimetype": "text/x-python",
   "name": "python",
   "nbconvert_exporter": "python",
   "pygments_lexer": "ipython3",
   "version": "3.10.8"
  }
 },
 "nbformat": 4,
 "nbformat_minor": 2
}

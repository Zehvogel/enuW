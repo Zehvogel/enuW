{
 "cells": [
  {
   "cell_type": "code",
   "execution_count": null,
   "metadata": {},
   "outputs": [],
   "source": [
    "import ROOT"
   ]
  },
  {
   "cell_type": "code",
   "execution_count": null,
   "metadata": {},
   "outputs": [],
   "source": [
    "%jsroot on"
   ]
  },
  {
   "cell_type": "code",
   "execution_count": null,
   "metadata": {},
   "outputs": [],
   "source": [
    "# ROOT.EnableImplicitMT(6)\n",
    "ROOT.TH1.SetDefaultSumw2()"
   ]
  },
  {
   "cell_type": "code",
   "execution_count": null,
   "metadata": {},
   "outputs": [],
   "source": [
    "# wasn't necessary in the file that I copied all of this from to make a reproducer :shrugs:\n",
    "ROOT.gInterpreter.Declare(\"#include <edm4hep/ReconstructedParticleData.h>\")"
   ]
  },
  {
   "cell_type": "code",
   "execution_count": null,
   "metadata": {},
   "outputs": [],
   "source": [
    "ROOT.gInterpreter.ProcessLine(\"using namespace ROOT::VecOps;\")"
   ]
  },
  {
   "cell_type": "code",
   "execution_count": null,
   "metadata": {},
   "outputs": [],
   "source": [
    "plots = False\n",
    "# plots = True\n",
    "all = False\n",
    "# all = True\n",
    "df = None\n",
    "if all:\n",
    "    df = ROOT.RDataFrame(\"events\", \"root://eosuser.cern.ch//eos/user/l/lreichen/paris/*.edm4hep.root\")\n",
    "else:\n",
    "    df = ROOT.RDataFrame(\"events\", \"root://eosuser.cern.ch//eos/user/l/lreichen/paris/rv02-02.sv02-02.mILD_l5_o1_v02.E250-SetA.I500105.P4f_sw_sl.eL.pL.n000.d_dstm_15064_0.miniDST.edm4hep.root\")"
   ]
  },
  {
   "cell_type": "code",
   "execution_count": null,
   "metadata": {},
   "outputs": [],
   "source": [
    "ROOT.gInterpreter.ProcessLine(\"\"\"\n",
    "template <typename coll_t>\n",
    "ROOT::VecOps::RVec<coll_t> index2entry(RVec<coll_t> collection, RVec<int> indices)\n",
    "{\n",
    "   RVec<coll_t> res;\n",
    "   res.reserve(indices.size());\n",
    "\n",
    "   for (auto i : indices)\n",
    "   {\n",
    "      res.push_back(collection[i]);\n",
    "   }\n",
    "\n",
    "   return res;\n",
    "}\n",
    "\"\"\")"
   ]
  },
  {
   "cell_type": "code",
   "execution_count": null,
   "metadata": {},
   "outputs": [],
   "source": [
    "simple_tjs = [\"e\", \"nu\", \"isr1\", \"isr2\", \"ovl\"]\n",
    "\n",
    "# ugly [0] at the right place is needed to obtain index... as the mask returns an RVec with one element\n",
    "df = df.Define(\"e_idx\", \"_TrueJets_PID_TrueJetPID_particle.index[abs(TrueJets_PID_TrueJetPID.PDG) == 11 && abs(TrueJets_PID_TrueJetPID.type) == 2][0]\")\n",
    "df = df.Define(\"e\", \"TrueJets[_TrueJets_PID_TrueJetPID_particle.index[abs(TrueJets_PID_TrueJetPID.PDG) == 11 && abs(TrueJets_PID_TrueJetPID.type) == 2][0]]\")\n",
    "df = df.Define(\"nu_idx\", \"_TrueJets_PID_TrueJetPID_particle.index[abs(TrueJets_PID_TrueJetPID.PDG) == 12 && abs(TrueJets_PID_TrueJetPID.type) == 2][0]\")\n",
    "df = df.Define(\"nu\", \"TrueJets[_TrueJets_PID_TrueJetPID_particle.index[abs(TrueJets_PID_TrueJetPID.PDG) == 12 && abs(TrueJets_PID_TrueJetPID.type) == 2][0]]\")\n",
    "df = df.Define(\"isr\", \"index2entry(TrueJets, _TrueJets_PID_TrueJetPID_particle.index[abs(TrueJets_PID_TrueJetPID.PDG) == 12 && abs(TrueJets_PID_TrueJetPID.type) == 2])\")\n",
    "df = df.Define(\"isr1\", \"isr[0]\")\n",
    "df = df.Define(\"isr2\", \"isr[1]\")\n",
    "df = df.Define(\"ovl\", \"TrueJets[_TrueJets_PID_TrueJetPID_particle.index[abs(TrueJets_PID_TrueJetPID.PDG) == 0 && abs(TrueJets_PID_TrueJetPID.type) == 5][0]]\")\n",
    "\n",
    "# quarks:\n",
    "df = df.Define(\"quark_icn_pid_mask\", \"InitialColourNeutrals_PID_TrueJet_fafpi.type == 1 || InitialColourNeutrals_PID_TrueJet_fafpi.type == 3\")\n",
    "df = df.Define(\"quark_icn_idx\", \"_InitialColourNeutrals_PID_TrueJet_fafpi_particle.index[quark_icn_pid_mask][0]\")\n",
    "df = df.Define(\"tj_quarks\", \"index2entry(TrueJets, Range(InitialColourNeutrals.particles_begin[quark_icn_idx], InitialColourNeutrals.particles_end[quark_icn_idx]))\")\n",
    "df = df.Define(\"tj_quarks_px\", \"index2entry(TrueJets.momentum.x, Range(InitialColourNeutrals.particles_begin[quark_icn_idx], InitialColourNeutrals.particles_end[quark_icn_idx]))\")\n",
    "df = df.Define(\"tj_quarks_py\", \"index2entry(TrueJets.momentum.y, Range(InitialColourNeutrals.particles_begin[quark_icn_idx], InitialColourNeutrals.particles_end[quark_icn_idx]))\")\n",
    "df = df.Define(\"tj_quarks_pz\", \"index2entry(TrueJets.momentum.z, Range(InitialColourNeutrals.particles_begin[quark_icn_idx], InitialColourNeutrals.particles_end[quark_icn_idx]))\")\n",
    "df = df.Define(\"tj_quarks_e\", \"index2entry(TrueJets.energy, Range(InitialColourNeutrals.particles_begin[quark_icn_idx], InitialColourNeutrals.particles_end[quark_icn_idx]))\")\n",
    "df = df.Define(\"had_lvecs\", \"Construct<ROOT::Math::PxPyPzEVector>(tj_quarks_px, tj_quarks_py, tj_quarks_pz, tj_quarks_e)\")\n",
    "df = df.Define(\"had_sum_lvec\", \"Sum(had_lvecs, ROOT::Math::PxPyPzEVector())\")\n",
    "\n",
    "for tj in simple_tjs:\n",
    "    df = df.Define(f\"{tj}_lvec\", f\"ROOT::Math::PxPyPzEVector({tj}.momentum.x, {tj}.momentum.y, {tj}.momentum.z, {tj}.energy)\")\n",
    "\n",
    "df = df.Alias(\"had_lvecs_px\", \"tj_quarks_px\")\n",
    "df = df.Alias(\"had_lvecs_py\", \"tj_quarks_py\")\n",
    "df = df.Alias(\"had_lvecs_pz\", \"tj_quarks_pz\")\n",
    "df = df.Alias(\"had_lvecs_e\", \"tj_quarks_e\")\n",
    "\n",
    "df = df.Define(\"e_charge\", \"e.charge\")"
   ]
  },
  {
   "cell_type": "code",
   "execution_count": null,
   "metadata": {},
   "outputs": [],
   "source": [
    "df = df.Define(\"e_energy\", \"e_lvec.energy()\")\n",
    "df = df.Define(\"nu_energy\", \"nu_lvec.energy()\")\n",
    "df = df.Define(\"isr1_energy\", \"isr1_lvec.energy()\")\n",
    "df = df.Define(\"isr2_energy\", \"isr2_lvec.energy()\")\n",
    "df = df.Define(\"ovl_energy\", \"ovl_lvec.energy()\")\n",
    "df = df.Define(\"had_energy\", \"had_sum_lvec.energy()\")"
   ]
  },
  {
   "cell_type": "code",
   "execution_count": null,
   "metadata": {},
   "outputs": [],
   "source": [
    "h_e = df.Histo1D((\"\", \"; reco energy\", 150, 0., 150.), \"e_energy\")\n",
    "h_nu = df.Histo1D((\"\", \"; reco energy\", 150, 0., 150.), \"nu_energy\")\n",
    "h_isr1 = df.Histo1D((\"\", \"; reco energy\", 150, 0., 150.), \"isr1_energy\")\n",
    "h_isr2 = df.Histo1D((\"\", \"; reco energy\", 150, 0., 150.), \"isr2_energy\")\n",
    "h_ovl = df.Histo1D((\"\", \"; reco energy\", 150, 0., 150.), \"ovl_energy\")\n",
    "h_had = df.Histo1D((\"\", \"; reco energy\", 150, 0., 150.), \"had_energy\")"
   ]
  },
  {
   "cell_type": "code",
   "execution_count": null,
   "metadata": {},
   "outputs": [],
   "source": [
    "if plots:\n",
    "    c_e = ROOT.TCanvas()\n",
    "    h_e.Draw()\n",
    "    c_e.Draw()\n",
    "\n",
    "    c_nu = ROOT.TCanvas()\n",
    "    h_nu.Draw()\n",
    "    c_nu.Draw()\n",
    "\n",
    "    c_isr1 = ROOT.TCanvas()\n",
    "    h_isr1.Draw()\n",
    "    c_isr1.Draw()\n",
    "\n",
    "    c_isr2 = ROOT.TCanvas()\n",
    "    h_isr2.Draw()\n",
    "    c_isr2.Draw()\n",
    "\n",
    "    c_ovl = ROOT.TCanvas()\n",
    "    h_ovl.Draw()\n",
    "    c_ovl.Draw()\n",
    "\n",
    "    c_had = ROOT.TCanvas()\n",
    "    h_had.Draw()\n",
    "    c_had.Draw()"
   ]
  },
  {
   "cell_type": "code",
   "execution_count": null,
   "metadata": {},
   "outputs": [],
   "source": [
    "comps = [\"px\", \"py\", \"pz\", \"e\"]\n",
    "branches = [f\"{tj}_lvec\" for tj in simple_tjs] + [f\"had_lvecs_{c}\" for c in comps] + [\"e_charge\"]\n",
    "if all:\n",
    "    df.Snapshot(\"events\", \"ttree_all.nano.root\", branches)\n",
    "else:\n",
    "    df.Snapshot(\"events\", \"ttree_test.nano.root\", branches)"
   ]
  },
  {
   "cell_type": "code",
   "execution_count": null,
   "metadata": {},
   "outputs": [],
   "source": []
  }
 ],
 "metadata": {
  "kernelspec": {
   "display_name": "Python 3",
   "language": "python",
   "name": "python3"
  },
  "language_info": {
   "codemirror_mode": {
    "name": "ipython",
    "version": 3
   },
   "file_extension": ".py",
   "mimetype": "text/x-python",
   "name": "python",
   "nbconvert_exporter": "python",
   "pygments_lexer": "ipython3",
   "version": "3.11.9"
  }
 },
 "nbformat": 4,
 "nbformat_minor": 2
}

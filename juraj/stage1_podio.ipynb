{
 "cells": [
  {
   "cell_type": "code",
   "execution_count": null,
   "metadata": {},
   "outputs": [],
   "source": [
    "import ROOT\n",
    "import glob"
   ]
  },
  {
   "cell_type": "code",
   "execution_count": null,
   "metadata": {},
   "outputs": [],
   "source": [
    "%jsroot on"
   ]
  },
  {
   "cell_type": "code",
   "execution_count": null,
   "metadata": {},
   "outputs": [],
   "source": [
    "# ROOT.EnableImplicitMT(6)\n",
    "ROOT.TH1.SetDefaultSumw2()"
   ]
  },
  {
   "cell_type": "code",
   "execution_count": null,
   "metadata": {},
   "outputs": [],
   "source": [
    "ROOT.gInterpreter.ProcessLine(\"using namespace ROOT::VecOps;\")"
   ]
  },
  {
   "cell_type": "code",
   "execution_count": null,
   "metadata": {},
   "outputs": [],
   "source": [
    "ROOT.gInterpreter.Declare(\"#include <podio/DataSource.h>\")\n",
    "ROOT.gInterpreter.Declare(\"#include <edm4hep/utils/kinematics.h>\")\n",
    "ROOT.gSystem.Load(\"libedm4hep\")\n",
    "_edm  = ROOT.edm4hep.ReconstructedParticleData()"
   ]
  },
  {
   "cell_type": "code",
   "execution_count": null,
   "metadata": {},
   "outputs": [],
   "source": [
    "plots = False\n",
    "# plots = True\n",
    "all = False\n",
    "# all = True\n",
    "df = None\n",
    "if all:\n",
    "    paths = glob.glob(\"/eos/user/l/lreichen/paris/*.edm4hep.root\")\n",
    "    files = [f\"root://eosuser.cern.ch/{path}\" for path in paths]\n",
    "    df = ROOT.podio.CreateDataFrame(files)\n",
    "else:\n",
    "    df = ROOT.podio.CreateDataFrame(\"root://eosuser.cern.ch//eos/user/l/lreichen/paris/rv02-02.sv02-02.mILD_l5_o1_v02.E250-SetA.I500105.P4f_sw_sl.eL.pL.n000.d_dstm_15064_0.miniDST.edm4hep.root\")"
   ]
  },
  {
   "cell_type": "code",
   "execution_count": null,
   "metadata": {},
   "outputs": [],
   "source": [
    "ROOT.gInterpreter.ProcessLine(\"\"\"\n",
    "// returns the first particle whose absolute type and pdg values are fulfilling type and pdg\n",
    "edm4hep::ReconstructedParticle getParticleWithPID(const edm4hep::ParticleIDCollection& pid_col, std::int32_t type, std::int32_t pdg)\n",
    "{\n",
    "    for (const edm4hep::ParticleID& pid : pid_col) {\n",
    "        if (abs(pid.getType()) == type && abs(pid.getPDG()) == pdg) {\n",
    "            return pid.getParticle();\n",
    "        }\n",
    "    }\n",
    "    return edm4hep::ReconstructedParticle();\n",
    "}\n",
    "\"\"\")"
   ]
  },
  {
   "cell_type": "code",
   "execution_count": null,
   "metadata": {},
   "outputs": [],
   "source": [
    "ROOT.gInterpreter.ProcessLine(\"\"\"\n",
    "std::array<edm4hep::ReconstructedParticle, 5> getTrueJets(const edm4hep::ParticleIDCollection& tj_pid_col)\n",
    "{\n",
    "    edm4hep::ReconstructedParticle e = getParticleWithPID(tj_pid_col, 2, 11);\n",
    "    edm4hep::ReconstructedParticle nu = getParticleWithPID(tj_pid_col, 2, 12);\n",
    "\n",
    "    std::vector<edm4hep::ReconstructedParticle> isr;\n",
    "    for (const auto& pid : tj_pid_col) {\n",
    "        if (abs(pid.getType()) == 4) {\n",
    "            isr.push_back(pid.getParticle());\n",
    "        }\n",
    "    }\n",
    "\n",
    "    edm4hep::ReconstructedParticle isr1 = isr[0];\n",
    "    edm4hep::ReconstructedParticle isr2 = isr[1];\n",
    "\n",
    "    edm4hep::ReconstructedParticle overlay = getParticleWithPID(tj_pid_col, 5, 0);\n",
    "\n",
    "    return std::array<edm4hep::ReconstructedParticle, 5>{e, nu, isr1, isr2, overlay};\n",
    "}\n",
    "\"\"\")"
   ]
  },
  {
   "cell_type": "code",
   "execution_count": null,
   "metadata": {},
   "outputs": [],
   "source": [
    "ROOT.gInterpreter.ProcessLine(\"\"\"\n",
    "ROOT::VecOps::RVec<edm4hep::ReconstructedParticle> getQuarkTrueJets(const edm4hep::ParticleIDCollection& icn_pid_col)\n",
    "{\n",
    "    RVec<edm4hep::ReconstructedParticle> res;\n",
    "    for (const auto& pid : icn_pid_col) {\n",
    "        if (pid.getType() == 1 || pid.getType() == 3) {\n",
    "            // should only happen once anyway\n",
    "            // fingers crossed\n",
    "            auto particles = pid.getParticle().getParticles();\n",
    "            return RVec<edm4hep::ReconstructedParticle>(particles.begin(), particles.end());\n",
    "        }\n",
    "    }\n",
    "    return res;\n",
    "}\n",
    "\"\"\")"
   ]
  },
  {
   "cell_type": "code",
   "execution_count": null,
   "metadata": {},
   "outputs": [],
   "source": [
    "ROOT.gInterpreter.ProcessLine(\"\"\"\n",
    "ROOT::VecOps::RVec<edm4hep::MCParticle> getEnergySafeMCParticles(const edm4hep::RecoMCParticleLinkCollection& links,const edm4hep::ReconstructedParticle& reco)\n",
    "{\n",
    "    RVec<edm4hep::MCParticle> res;\n",
    "    for (const auto& link : links) {\n",
    "        if (link.getFrom() == reco && link.getWeight() == 1) {\n",
    "            res.push_back(link.getTo());\n",
    "        }\n",
    "    }\n",
    "    return res;\n",
    "}\n",
    "\"\"\")"
   ]
  },
  {
   "cell_type": "code",
   "execution_count": null,
   "metadata": {},
   "outputs": [],
   "source": [
    "df = df.Define(\"tj_pfos\", \"getTrueJets(TrueJets_PID_TrueJetPID)\")\n",
    "df = df.Define(\"tj_quarks\", \"getQuarkTrueJets(InitialColourNeutrals_PID_TrueJet_fafpi)\")\n",
    "\n",
    "simple_tjs = [\"e\", \"nu\", \"isr1\", \"isr2\", \"ovl\"]\n",
    "\n",
    "for i, tj in enumerate(simple_tjs):\n",
    "    df = df.Define(tj, f\"tj_pfos[{i}]\")\n",
    "    df = df.Define(f\"{tj}_lvec\", f\"edm4hep::utils::p4({tj}, edm4hep::utils::UseEnergy)\")\n",
    "\n",
    "# for the quark truejets everything needs one more loop because their number can vary\n",
    "df = df.Define(\"had_lvecs\", \"return Map(tj_quarks, [] (const auto& el) {return edm4hep::utils::p4(el, edm4hep::utils::UseEnergy);});\")\n",
    "df = df.Define(\"had_sum_lvec\", \"Sum(had_lvecs, ROOT::Math::PxPyPzEVector())\")\n",
    "\n",
    "df = df.Define(\"had_lvecs_px\", \"return Map(had_lvecs, [] (const auto& el) {return el.Px();})\")\n",
    "df = df.Define(\"had_lvecs_py\", \"return Map(had_lvecs, [] (const auto& el) {return el.Py();})\")\n",
    "df = df.Define(\"had_lvecs_pz\", \"return Map(had_lvecs, [] (const auto& el) {return el.Pz();})\")\n",
    "df = df.Define(\"had_lvecs_e\",  \"return Map(had_lvecs, [] (const auto& el) {return el.E();})\")\n",
    "\n",
    "df = df.Define(\"e_charge\", \"e.getCharge()\")"
   ]
  },
  {
   "cell_type": "code",
   "execution_count": null,
   "metadata": {},
   "outputs": [],
   "source": [
    "df = df.Define(\"e_energy\", \"e_lvec.energy()\")\n",
    "df = df.Define(\"nu_energy\", \"nu_lvec.energy()\")\n",
    "df = df.Define(\"isr1_energy\", \"isr1_lvec.energy()\")\n",
    "df = df.Define(\"isr2_energy\", \"isr2_lvec.energy()\")\n",
    "df = df.Define(\"ovl_energy\", \"ovl_lvec.energy()\")\n",
    "df = df.Define(\"had_energy\", \"had_sum_lvec.energy()\")"
   ]
  },
  {
   "cell_type": "code",
   "execution_count": null,
   "metadata": {},
   "outputs": [],
   "source": [
    "h_e = df.Histo1D((\"\", \"; reco energy\", 150, 0., 150.), \"e_energy\")\n",
    "h_nu = df.Histo1D((\"\", \"; reco energy\", 150, 0., 150.), \"nu_energy\")\n",
    "h_isr1 = df.Histo1D((\"\", \"; reco energy\", 150, 0., 150.), \"isr1_energy\")\n",
    "h_isr2 = df.Histo1D((\"\", \"; reco energy\", 150, 0., 150.), \"isr2_energy\")\n",
    "h_ovl = df.Histo1D((\"\", \"; reco energy\", 150, 0., 150.), \"ovl_energy\")\n",
    "h_had = df.Histo1D((\"\", \"; reco energy\", 150, 0., 150.), \"had_energy\")"
   ]
  },
  {
   "cell_type": "code",
   "execution_count": null,
   "metadata": {},
   "outputs": [],
   "source": [
    "if plots:\n",
    "    c_e = ROOT.TCanvas()\n",
    "    h_e.Draw()\n",
    "    c_e.Draw()\n",
    "\n",
    "    c_nu = ROOT.TCanvas()\n",
    "    h_nu.Draw()\n",
    "    c_nu.Draw()\n",
    "\n",
    "    c_isr1 = ROOT.TCanvas()\n",
    "    h_isr1.Draw()\n",
    "    c_isr1.Draw()\n",
    "\n",
    "    c_isr2 = ROOT.TCanvas()\n",
    "    h_isr2.Draw()\n",
    "    c_isr2.Draw()\n",
    "\n",
    "    c_ovl = ROOT.TCanvas()\n",
    "    h_ovl.Draw()\n",
    "    c_ovl.Draw()\n",
    "\n",
    "    c_had = ROOT.TCanvas()\n",
    "    h_had.Draw()\n",
    "    c_had.Draw()"
   ]
  },
  {
   "cell_type": "code",
   "execution_count": null,
   "metadata": {},
   "outputs": [],
   "source": [
    "comps = [\"px\", \"py\", \"pz\", \"e\"]\n",
    "branches = [f\"{tj}_lvec\" for tj in simple_tjs] + [f\"had_lvecs_{c}\" for c in comps] + [\"e_charge\"]\n",
    "if all:\n",
    "    df.Snapshot(\"events\", \"podio_all.nano.root\", branches)\n",
    "else:\n",
    "    df.Snapshot(\"events\", \"podio_test.nano.root\", branches)"
   ]
  },
  {
   "cell_type": "code",
   "execution_count": null,
   "metadata": {},
   "outputs": [],
   "source": []
  }
 ],
 "metadata": {
  "kernelspec": {
   "display_name": "Python 3",
   "language": "python",
   "name": "python3"
  },
  "language_info": {
   "codemirror_mode": {
    "name": "ipython",
    "version": 3
   },
   "file_extension": ".py",
   "mimetype": "text/x-python",
   "name": "python",
   "nbconvert_exporter": "python",
   "pygments_lexer": "ipython3",
   "version": "3.11.9"
  }
 },
 "nbformat": 4,
 "nbformat_minor": 2
}

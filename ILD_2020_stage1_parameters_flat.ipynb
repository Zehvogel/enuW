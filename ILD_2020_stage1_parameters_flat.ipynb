{
 "cells": [
  {
   "cell_type": "code",
   "execution_count": 1,
   "metadata": {},
   "outputs": [
    {
     "name": "stdout",
     "output_type": "stream",
     "text": [
      "OBJ: TStyle\tildStyle\tILD Style : 0 at: 0x493d0a0\n"
     ]
    }
   ],
   "source": [
    "import ROOT\n",
    "import glob"
   ]
  },
  {
   "cell_type": "code",
   "execution_count": 2,
   "metadata": {},
   "outputs": [],
   "source": [
    "%jsroot on"
   ]
  },
  {
   "cell_type": "code",
   "execution_count": 3,
   "metadata": {},
   "outputs": [],
   "source": [
    "# ROOT.EnableImplicitMT(6)\n",
    "ROOT.TH1.SetDefaultSumw2()"
   ]
  },
  {
   "cell_type": "code",
   "execution_count": 4,
   "metadata": {},
   "outputs": [],
   "source": [
    "%%cpp\n",
    "using namespace ROOT::VecOps;"
   ]
  },
  {
   "cell_type": "code",
   "execution_count": 5,
   "metadata": {},
   "outputs": [
    {
     "data": {
      "text/plain": [
       "True"
      ]
     },
     "execution_count": 5,
     "metadata": {},
     "output_type": "execute_result"
    }
   ],
   "source": [
    "ROOT.gInterpreter.Declare(\"#include <podio/GenericParameters.h>\")"
   ]
  },
  {
   "cell_type": "code",
   "execution_count": 6,
   "metadata": {},
   "outputs": [],
   "source": [
    "df = ROOT.RDataFrame(\"events\", \"data/gen/simple_whizard_rescan/enuqq_rescan.edm4hep.root\")\n",
    "paths = glob.glob(\"/eos/user/l/lreichen/paris/*.edm4hep.root\")\n",
    "files = [f\"root://eosuser.cern.ch/{path}\" for path in paths]\n",
    "df = ROOT.RDataFrame(\"events\", files)\n",
    "# df = ROOT.RDataFrame(\"events\", \"root://eosuser.cern.ch//eos/user/l/lreichen/paris/rv02-02.sv02-02.mILD_l5_o1_v02.E250-SetA.I500105.P4f_sw_sl.eL.pL.n000.d_dstm_15064_0.miniDST.edm4hep.root\")"
   ]
  },
  {
   "cell_type": "code",
   "execution_count": 7,
   "metadata": {},
   "outputs": [],
   "source": [
    "df = df.Define(\"Parameters\", \"podio::GenericParameters par; par.loadFrom(GPDoubleKeys, GPDoubleValues); par.loadFrom(GPFloatKeys, GPFloatValues); par.loadFrom(GPIntKeys, GPIntValues); par.loadFrom(GPStringKeys, GPStringValues); return par;\")"
   ]
  },
  {
   "cell_type": "code",
   "execution_count": 8,
   "metadata": {},
   "outputs": [],
   "source": [
    "float_params = [\"Energy\", \"WWCategorisation.mInv\", \"WWCategorisation.missE\", \"WWCategorisation.misspT\", \"beamPol1\", \"beamPol2\", \"crossSection\", \"crossSectionError\"]\n",
    "int_params = [\"WWCategorisation.RecoCatAdvanced\", \"WWCategorisation.RecoCatBasic\", \"WWCategorisation.TrueCat\", \"WWCategorisation.nPFO\", \"beamPDG1\", \"beamPDG2\"]"
   ]
  },
  {
   "cell_type": "code",
   "execution_count": 9,
   "metadata": {},
   "outputs": [],
   "source": [
    "def parse_par(par):\n",
    "    return par.replace(\".\", \"_\")"
   ]
  },
  {
   "cell_type": "code",
   "execution_count": 10,
   "metadata": {},
   "outputs": [],
   "source": [
    "for fp in float_params:\n",
    "    df = df.Define(f\"params_{parse_par(fp)}\", f\"Parameters.get<float>(\\\"{fp}\\\").value()\")\n",
    "for ip in int_params:\n",
    "    df = df.Define(f\"params_{parse_par(ip)}\", f\"Parameters.get<int>(\\\"{ip}\\\").value()\")"
   ]
  },
  {
   "cell_type": "code",
   "execution_count": 11,
   "metadata": {},
   "outputs": [
    {
     "data": {
      "text/plain": [
       "<cppyy.gbl.ROOT.RDF.RResultPtr<ROOT::RDF::RInterface<ROOT::Detail::RDF::RLoopManager,void> > object at 0xdd95ee0>"
      ]
     },
     "execution_count": 11,
     "metadata": {},
     "output_type": "execute_result"
    }
   ],
   "source": [
    "df.Snapshot(\"events\", \"data/paris/nano/all_params_flat.root\", [f\"params_{parse_par(p)}\" for p in float_params + int_params])"
   ]
  },
  {
   "cell_type": "code",
   "execution_count": null,
   "metadata": {},
   "outputs": [],
   "source": []
  }
 ],
 "metadata": {
  "kernelspec": {
   "display_name": "Python 3",
   "language": "python",
   "name": "python3"
  },
  "language_info": {
   "codemirror_mode": {
    "name": "ipython",
    "version": 3
   },
   "file_extension": ".py",
   "mimetype": "text/x-python",
   "name": "python",
   "nbconvert_exporter": "python",
   "pygments_lexer": "ipython3",
   "version": "3.11.9"
  }
 },
 "nbformat": 4,
 "nbformat_minor": 2
}
